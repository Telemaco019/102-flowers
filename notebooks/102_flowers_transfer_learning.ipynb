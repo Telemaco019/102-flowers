{
  "nbformat": 4,
  "nbformat_minor": 0,
  "metadata": {
    "colab": {
      "name": "102_flowers_transfer_learning.ipynb",
      "provenance": [],
      "collapsed_sections": [
        "j3QarR3-Ca6F",
        "f1iSFIQmCePy",
        "HzjoVdX9FqZe",
        "VepB6ZObhXpe",
        "ERccJNi1WW3R",
        "I4tiUkBsbLS_",
        "1BxhL4LcbLWn",
        "mJzt9bkCbLXM"
      ]
    },
    "kernelspec": {
      "name": "python3",
      "display_name": "Python 3"
    },
    "accelerator": "GPU"
  },
  "cells": [
    {
      "cell_type": "markdown",
      "metadata": {
        "id": "sC0XBqQKTnOh",
        "colab_type": "text"
      },
      "source": [
        "# 102 Flowers Classification\n",
        "\n",
        "## Goal\n",
        "This main goal of this notebook is to experimentally evaluate the effectiveness of Transfer Learning according to the amount of available training data and compare it with a train-from-scratch approach in order to assess how much Transfer Learning can actually be useful when very few training examples are available.\n",
        "\n",
        "## Case study\n",
        "The experimental case study consists in the classification of flowers images (taken from the [102 Flower Dataset](http://www.robots.ox.ac.uk/~vgg/data/flowers/102/index.html)) into 102 possible categories. \n",
        "\n",
        "## Experiments\n",
        "The flower classification problem is addressed adopting two Transfer Learning techniques: Feature Extraction and Fine-Tuning. The convolutional base used for performing the experiments is a ResNet-50 pre-trained on the ImageNet dataset.\n",
        "\n",
        "The two approaches are adopted several times varying the size of the training dataset. In particular, the following training set sizes are used: _large_ (6551 examples), _medium_(3275 examples) and _small_(818 examples).\n"
      ]
    },
    {
      "cell_type": "code",
      "metadata": {
        "id": "mZB2JNJi8ejp",
        "colab_type": "code",
        "colab": {}
      },
      "source": [
        "# (For Colab only)\n",
        "%tensorflow_version 2.x \n",
        "%matplotlib inline"
      ],
      "execution_count": null,
      "outputs": []
    },
    {
      "cell_type": "code",
      "metadata": {
        "id": "5OK0T_HwzIr6",
        "colab_type": "code",
        "colab": {
          "base_uri": "https://localhost:8080/",
          "height": 52
        },
        "outputId": "50af2da8-8b11-49ae-f7c9-a25a9c553e01"
      },
      "source": [
        "import numpy as np\n",
        "import os\n",
        "import time\n",
        "import scipy.io as sio\n",
        "import tensorflow as tf\n",
        "import cv2\n",
        "import matplotlib.pyplot as plt\n",
        "\n",
        "from sklearn.model_selection import StratifiedKFold\n",
        "from sklearn.model_selection import train_test_split\n",
        "from sklearn.preprocessing import LabelEncoder\n",
        "from sklearn import metrics\n",
        "\n",
        "import seaborn\n",
        "import pandas as pd\n",
        "\n",
        "from tensorflow.keras.layers import Dense\n",
        "from tensorflow.keras.models import Sequential\n",
        "from tensorflow.keras.optimizers import Adam\n",
        "from tensorflow.keras.layers import Conv2D, MaxPooling2D, Flatten, Dense, BatchNormalization, Activation, Dropout, GlobalMaxPool2D"
      ],
      "execution_count": null,
      "outputs": [
        {
          "output_type": "stream",
          "text": [
            "/usr/local/lib/python3.6/dist-packages/statsmodels/tools/_testing.py:19: FutureWarning: pandas.util.testing is deprecated. Use the functions in the public API at pandas.testing instead.\n",
            "  import pandas.util.testing as tm\n"
          ],
          "name": "stderr"
        }
      ]
    },
    {
      "cell_type": "markdown",
      "metadata": {
        "id": "06s1eFjN5kaa",
        "colab_type": "text"
      },
      "source": [
        "# Constants"
      ]
    },
    {
      "cell_type": "code",
      "metadata": {
        "id": "6sogj-vZoKjm",
        "colab_type": "code",
        "colab": {}
      },
      "source": [
        "SEED = 42\n",
        "IMAGES_SIZE = 224\n",
        "IMAGES_DIR = 'jpg/'\n",
        "ANNOTATIONS_FILE_PATH = 'imagelabels.mat'\n",
        "SAVED_MODELS_DIR = 'models/'\n",
        "\n",
        "BATCH_SIZE = 16\n",
        "AUTOTUNE = tf.data.experimental.AUTOTUNE"
      ],
      "execution_count": null,
      "outputs": []
    },
    {
      "cell_type": "markdown",
      "metadata": {
        "id": "L6g7YOdX5l3_",
        "colab_type": "text"
      },
      "source": [
        "# Fetch and parse data"
      ]
    },
    {
      "cell_type": "code",
      "metadata": {
        "id": "bL6O9iJDzQQv",
        "colab_type": "code",
        "colab": {
          "base_uri": "https://localhost:8080/",
          "height": 208
        },
        "outputId": "35b1d601-532f-4dc1-9ade-6ba5e6729ff6"
      },
      "source": [
        "!wget \"http://www.robots.ox.ac.uk/~vgg/data/flowers/102/102flowers.tgz\""
      ],
      "execution_count": null,
      "outputs": [
        {
          "output_type": "stream",
          "text": [
            "--2020-06-22 17:56:08--  http://www.robots.ox.ac.uk/~vgg/data/flowers/102/102flowers.tgz\n",
            "Resolving www.robots.ox.ac.uk (www.robots.ox.ac.uk)... 129.67.94.2\n",
            "Connecting to www.robots.ox.ac.uk (www.robots.ox.ac.uk)|129.67.94.2|:80... connected.\n",
            "HTTP request sent, awaiting response... 200 OK\n",
            "Length: 344862509 (329M) [application/x-gzip]\n",
            "Saving to: ‘102flowers.tgz’\n",
            "\n",
            "102flowers.tgz      100%[===================>] 328.89M  22.2MB/s    in 16s     \n",
            "\n",
            "2020-06-22 17:56:24 (20.9 MB/s) - ‘102flowers.tgz’ saved [344862509/344862509]\n",
            "\n"
          ],
          "name": "stdout"
        }
      ]
    },
    {
      "cell_type": "code",
      "metadata": {
        "id": "qpJVohga0Eg0",
        "colab_type": "code",
        "colab": {
          "base_uri": "https://localhost:8080/",
          "height": 208
        },
        "outputId": "0d3cfa67-6ef2-4d1a-d0db-c9a9bb52ca39"
      },
      "source": [
        "!wget 'http://www.robots.ox.ac.uk/~vgg/data/flowers/102/imagelabels.mat'"
      ],
      "execution_count": null,
      "outputs": [
        {
          "output_type": "stream",
          "text": [
            "--2020-06-22 17:56:26--  http://www.robots.ox.ac.uk/~vgg/data/flowers/102/imagelabels.mat\n",
            "Resolving www.robots.ox.ac.uk (www.robots.ox.ac.uk)... 129.67.94.2\n",
            "Connecting to www.robots.ox.ac.uk (www.robots.ox.ac.uk)|129.67.94.2|:80... connected.\n",
            "HTTP request sent, awaiting response... 200 OK\n",
            "Length: 502\n",
            "Saving to: ‘imagelabels.mat’\n",
            "\n",
            "\rimagelabels.mat       0%[                    ]       0  --.-KB/s               \rimagelabels.mat     100%[===================>]     502  --.-KB/s    in 0s      \n",
            "\n",
            "2020-06-22 17:56:27 (47.8 MB/s) - ‘imagelabels.mat’ saved [502/502]\n",
            "\n"
          ],
          "name": "stdout"
        }
      ]
    },
    {
      "cell_type": "code",
      "metadata": {
        "id": "dzfeP2qKz7et",
        "colab_type": "code",
        "colab": {}
      },
      "source": [
        "!tar xzf '102flowers.tgz'"
      ],
      "execution_count": null,
      "outputs": []
    },
    {
      "cell_type": "markdown",
      "metadata": {
        "id": "SKDXZgL654Ty",
        "colab_type": "text"
      },
      "source": [
        "# Utility classes"
      ]
    },
    {
      "cell_type": "code",
      "metadata": {
        "id": "n28MwZsO0Koz",
        "colab_type": "code",
        "colab": {}
      },
      "source": [
        "class DataParser: \n",
        "    IMAGE_FILES_NAME_PREFIX = 'image_'\n",
        "    IMAGE_FILES_EXTENSION = '.jpg'\n",
        "\n",
        "    def __init__(self, annotations_mat_file):\n",
        "        self.annotations = self._load_annotations(annotations_mat_file)\n",
        "\n",
        "    def get_image_label(self, image_file_name):\n",
        "        image_number = self._get_image_number(image_file_name)\n",
        "        return self.annotations[image_number]\n",
        "\n",
        "    def _load_annotations(self, annotations_mat_file):\n",
        "        annotations_mat = sio.loadmat(annotations_mat_file)\n",
        "        return np.reshape(annotations_mat['labels'], -1)\n",
        "\n",
        "    def _get_image_number(self, image_file_name):\n",
        "        image_numer_str = image_file_name.replace(DataParser.IMAGE_FILES_NAME_PREFIX, '').replace(DataParser.IMAGE_FILES_EXTENSION, '')\n",
        "        return int(image_numer_str.lstrip('0')) - 1"
      ],
      "execution_count": null,
      "outputs": []
    },
    {
      "cell_type": "code",
      "metadata": {
        "id": "uY42Ldo7Bwus",
        "colab_type": "code",
        "colab": {}
      },
      "source": [
        "class ModelTrainer:\n",
        "  def __init__(self, n_train_examples, n_val_examples, batch_size):\n",
        "    self.n_train_examples = n_train_examples\n",
        "    self.n_val_examples = n_val_examples\n",
        "    self.batch_size = batch_size\n",
        "    self.train_steps_per_epoch = n_train_examples // batch_size\n",
        "    self.val_steps_per_epoch = n_val_examples // batch_size\n",
        "\n",
        "  def train_model(self, model, train_ds, val_ds, epochs, checkpoint_file_path=None, patience=10):\n",
        "    print(\"Batch size: {}\".format(BATCH_SIZE))\n",
        "    print(\"Training dataset size: {} - Training steps per epoch: {}\".format(self.n_train_examples, self.train_steps_per_epoch))\n",
        "    print(\"Validation dataset size: {} - Validation steps per epoch: {}\".format(self.n_val_examples, self.val_steps_per_epoch))\n",
        "\n",
        "    callbacks = self._get_early_stopping_callbacks(patience, checkpoint_file_path)\n",
        "\n",
        "    history = model.fit(train_ds,\n",
        "                        steps_per_epoch=self.train_steps_per_epoch,\n",
        "                        validation_data=val_ds,\n",
        "                        validation_steps=self.val_steps_per_epoch,\n",
        "                        epochs=epochs,\n",
        "                        callbacks = callbacks)\n",
        "    \n",
        "    return history\n",
        "\n",
        "  def _get_early_stopping_callbacks(self, patience, checkpoint_file_path=None):\n",
        "    callbacks = []\n",
        "\n",
        "    if checkpoint_file_path is not None: \n",
        "      checkpoint_cb = tf.keras.callbacks.ModelCheckpoint(checkpoint_file_path, save_best_only=True)\n",
        "      callbacks.append(checkpoint_cb)\n",
        "\n",
        "    early_stopping_cb = tf.keras.callbacks.EarlyStopping(patience=patience, restore_best_weights=True)\n",
        "    callbacks.append(early_stopping_cb)\n",
        "    \n",
        "    return callbacks\n"
      ],
      "execution_count": null,
      "outputs": []
    },
    {
      "cell_type": "code",
      "metadata": {
        "id": "_yK5vM2jw8VS",
        "colab_type": "code",
        "colab": {}
      },
      "source": [
        "class MyLabelEncoder:\n",
        "  def __init__(self, labels):\n",
        "    self.encoder = LabelEncoder()\n",
        "    self.encoder.fit(labels)\n",
        "\n",
        "  def encode(self, labels):\n",
        "    return self.encoder.transform(labels)\n",
        "  \n",
        "  def decode(self, labels):\n",
        "    return self.encoder.inverse_transform(labels)\n",
        "\n",
        "  def get_labels(self):\n",
        "    return self.encoder.classes_"
      ],
      "execution_count": null,
      "outputs": []
    },
    {
      "cell_type": "markdown",
      "metadata": {
        "id": "w7t3vV5_6DP6",
        "colab_type": "text"
      },
      "source": [
        "# Utility functions for loading and parsing data"
      ]
    },
    {
      "cell_type": "code",
      "metadata": {
        "id": "F6Tf-23a4fN5",
        "colab_type": "code",
        "colab": {}
      },
      "source": [
        "def load_images(images_paths, img_size):\n",
        "  imgs = []\n",
        "  \n",
        "  for path in images_paths:\n",
        "    img = cv2.imread(path,cv2.IMREAD_COLOR)\n",
        "    if not img is None: \n",
        "      img = cv2.cvtColor(img, cv2.COLOR_BGR2RGB) # change color channels order to RGB\n",
        "      img = cv2.resize(img, (img_size, img_size))\n",
        "    imgs.append(img)\n",
        "  \n",
        "  return np.array(imgs)"
      ],
      "execution_count": null,
      "outputs": []
    },
    {
      "cell_type": "code",
      "metadata": {
        "id": "krIawK-U260v",
        "colab_type": "code",
        "colab": {}
      },
      "source": [
        "def show_images(images, labels, rows = 1):\n",
        "    \"\"\"\n",
        "    Display a list of images in a single figure with matplotlib.\n",
        "    \n",
        "    Parameters\n",
        "    ---------\n",
        "    images: List of np.arrays compatible with plt.imshow.\n",
        "    \n",
        "    rows (Default = 1): Number of rows in figure (number of cols is \n",
        "                        set to np.ceil(n_images/float(rows))).\n",
        "    \n",
        "    labels: List of labels corresponding to each image.\n",
        "    \"\"\"\n",
        "    assert(len(images) == len(labels))\n",
        "    n_images = len(images)\n",
        "    fig = plt.figure()\n",
        "    for n, (image, label) in enumerate(zip(images, labels)):\n",
        "        a = fig.add_subplot(rows, np.ceil(n_images/float(rows)), n + 1)\n",
        "        if image.ndim == 2:\n",
        "            plt.gray()\n",
        "        plt.imshow(image)\n",
        "        a.set_title(label)\n",
        "    fig.set_size_inches(np.array(fig.get_size_inches()) * n_images)\n",
        "    plt.show()  "
      ],
      "execution_count": null,
      "outputs": []
    },
    {
      "cell_type": "markdown",
      "metadata": {
        "id": "anJa72ix6QC2",
        "colab_type": "text"
      },
      "source": [
        "# Tensorflow Dataset preparation functions"
      ]
    },
    {
      "cell_type": "code",
      "metadata": {
        "id": "jWVTk2h41NeC",
        "colab_type": "code",
        "colab": {}
      },
      "source": [
        "def np_to_dataset(np_data, np_labels, training=False, standardization=False, augmentation=False, cache=True, batch_size=32):\n",
        "  \"\"\"\n",
        "  Create a tf dataset from the two numpy arrays provided as argument\n",
        "\n",
        "  Input params:\n",
        "  -------------\n",
        "  np_data: \n",
        "    numpy array containing the data (features) records\n",
        "  np_labels:\n",
        "    numpy array containing the labels associated to each record of \n",
        "    the data dataframe provided as first argument\n",
        "  training: \n",
        "    boolean that indicates if the tf dataset has to be created\n",
        "    for training purposes (True) or inference purposes (False)\n",
        "  \"\"\"\n",
        "  np_data = np_data.copy()\n",
        "  ds = tf.data.Dataset.from_tensor_slices((np_data, np_labels))\n",
        "  ds = ds.map(from_path_to_img, num_parallel_calls=AUTOTUNE)\n",
        "\n",
        "  if cache:\n",
        "    ds = ds.cache()\n",
        "  if training:\n",
        "    ds = ds.shuffle(buffer_size=len(np_data)).repeat()\n",
        "  if augmentation:\n",
        "    ds = ds.map(augment, num_parallel_calls=AUTOTUNE)\n",
        "  if standardization:\n",
        "    ds = ds.map(lambda img, label: (tf.image.per_image_standardization(img), label), num_parallel_calls=AUTOTUNE)\n",
        "\n",
        "  return ds.batch(batch_size).prefetch(AUTOTUNE)"
      ],
      "execution_count": null,
      "outputs": []
    },
    {
      "cell_type": "code",
      "metadata": {
        "id": "bejvmB8UqmP1",
        "colab_type": "code",
        "colab": {}
      },
      "source": [
        "def from_path_to_img(file_path_tf, label):\n",
        "  img = tf.io.read_file(file_path_tf)\n",
        "  img = decode_img(img)\n",
        "  return (img, label)"
      ],
      "execution_count": null,
      "outputs": []
    },
    {
      "cell_type": "code",
      "metadata": {
        "id": "yvJSRCZX1OPk",
        "colab_type": "code",
        "colab": {}
      },
      "source": [
        "def decode_img(img_tf):\n",
        "  # convert the compressed string to a 3D uint8 tensor\n",
        "  img = tf.image.decode_jpeg(img_tf, channels=3)\n",
        "  # Use `convert_image_dtype` to convert to floats in the [0,1] range.\n",
        "  img = tf.image.convert_image_dtype(img, tf.float32)\n",
        "  # resize the image to the desired size.\n",
        "  img = tf.image.resize(img, [IMAGES_SIZE, IMAGES_SIZE])\n",
        "  return img"
      ],
      "execution_count": null,
      "outputs": []
    },
    {
      "cell_type": "code",
      "metadata": {
        "id": "0zN2s68Z5Qzp",
        "colab_type": "code",
        "colab": {}
      },
      "source": [
        "def random_crop(image):\n",
        "    shape = tf.shape(image)\n",
        "    min_dim = tf.reduce_min([shape[0], shape[1]]) * 90 // 100\n",
        "    return tf.image.random_crop(image, [min_dim, min_dim, 3])"
      ],
      "execution_count": null,
      "outputs": []
    },
    {
      "cell_type": "code",
      "metadata": {
        "id": "0-dT61wU5R1M",
        "colab_type": "code",
        "colab": {}
      },
      "source": [
        "def augment(image, label):\n",
        "  augmented_image = random_crop(image)\n",
        "  augmented_image = tf.image.random_flip_left_right(image)\n",
        "  augmented_image = tf.image.random_flip_up_down(augmented_image)\n",
        "  augmented_image = tf.image.random_brightness(augmented_image, max_delta=0.2)\n",
        "  return (augmented_image, label)"
      ],
      "execution_count": null,
      "outputs": []
    },
    {
      "cell_type": "markdown",
      "metadata": {
        "id": "WUJT-Ky7Hig0",
        "colab_type": "text"
      },
      "source": [
        "# Tensorflow utility functions"
      ]
    },
    {
      "cell_type": "code",
      "metadata": {
        "id": "z-EDUJ1SHpD4",
        "colab_type": "code",
        "colab": {}
      },
      "source": [
        "def save_model_weights(model, model_name):\n",
        "  model_dir = os.path.join(SAVED_MODELS_DIR, model_name)\n",
        "  checkpoint_path = os.path.join(model_dir, model_name)\n",
        "  model.save_weights(checkpoint_path)"
      ],
      "execution_count": null,
      "outputs": []
    },
    {
      "cell_type": "code",
      "metadata": {
        "id": "3BJBhgY7Hzbl",
        "colab_type": "code",
        "colab": {}
      },
      "source": [
        "def load_model_weights(model, model_name):\n",
        "  model_dir = os.path.join(SAVED_MODELS_DIR, model_name)\n",
        "  checkpoint_path = os.path.join(model_dir, model_name)\n",
        "  model.load_weights(checkpoint_path)"
      ],
      "execution_count": null,
      "outputs": []
    },
    {
      "cell_type": "code",
      "metadata": {
        "id": "_YBJy0eYJhuV",
        "colab_type": "code",
        "colab": {}
      },
      "source": [
        "def freeze_model(model):\n",
        "  for layer in model.layers:\n",
        "    layer.trainable = False"
      ],
      "execution_count": null,
      "outputs": []
    },
    {
      "cell_type": "markdown",
      "metadata": {
        "id": "z6QaDGOX89ZI",
        "colab_type": "text"
      },
      "source": [
        "# Model performance assessment functions"
      ]
    },
    {
      "cell_type": "code",
      "metadata": {
        "id": "Te2kjK0p9C4o",
        "colab_type": "code",
        "colab": {}
      },
      "source": [
        "def show_scores(model, test_ds, plot_cf_matrix=False):\n",
        "  y_true = [encoded_label for (_, encoded_label) in test_ds]\n",
        "  start = time.time()\n",
        "  Y_pred_prob = model.predict(test_ds, steps=len(y_true))\n",
        "  Y_pred = np.argmax(Y_pred_prob, axis=1).tolist()\n",
        "  end = time.time()\n",
        "\n",
        "  precision_micro = metrics.precision_score(y_pred=Y_pred, y_true=y_true, average='micro')\n",
        "  precision_macro = metrics.precision_score(y_pred=Y_pred, y_true=y_true, average='macro')\n",
        "  recall_micro = metrics.recall_score(y_pred=Y_pred, y_true=y_true, average='micro')\n",
        "  recall_macro = metrics.recall_score(y_pred=Y_pred, y_true=y_true, average='macro')\n",
        "  f1_micro = metrics.f1_score(y_pred=Y_pred, y_true=y_true, average='micro')\n",
        "  f1_macro = metrics.f1_score(y_pred=Y_pred, y_true=y_true, average='macro')\n",
        "\n",
        "  if plot_cf_matrix:\n",
        "    plt.figure(figsize = (10,7))\n",
        "    norm_cm = metrics.confusion_matrix(y_true=y_true, y_pred=Y_pred, labels=encoder.get_labels(), normalize='true')\n",
        "    norm_cm_df = pd.DataFrame(norm_cm, index=encoder.get_labels(), columns=encoder.get_labels())\n",
        "    seaborn.heatmap(norm_cm_df, annot=True)\n",
        "\n",
        "  print('|Average prediction time: {:.2f} ms'.format((end-start)/len(y_true)*1000))\n",
        "  print('|Average Type |Prec |Rec |F1')\n",
        "  print('|--- |--- |--- |---') \n",
        "  print(\"|{}|{:.2f}|{:.2f}|{:.2f}\".format('Micro', precision_micro, recall_micro, f1_micro)) \n",
        "  print(\"|{}|{:.2f}|{:.2f}|{:.2f}\".format('Macro', precision_macro, recall_macro, f1_macro))"
      ],
      "execution_count": null,
      "outputs": []
    },
    {
      "cell_type": "code",
      "metadata": {
        "id": "a_beLgUf_HXP",
        "colab_type": "code",
        "colab": {}
      },
      "source": [
        "def plot_curves(history): \n",
        "  plt.figure(figsize=(18,6))\n",
        "  plt.subplot(1,2,1)\n",
        "  plot_accuracy_curves(history)\n",
        "  plt.subplot(1,2,2)\n",
        "  plot_loss_curves(history)"
      ],
      "execution_count": null,
      "outputs": []
    },
    {
      "cell_type": "code",
      "metadata": {
        "id": "evvQ-qoF_J9V",
        "colab_type": "code",
        "colab": {}
      },
      "source": [
        "import matplotlib.pyplot as plt\n",
        "\n",
        "def plot_accuracy_curves(history):  \n",
        "  acc = history.history['accuracy']\n",
        "  val_acc = history.history['val_accuracy']\n",
        " \n",
        "  epochs = range(1, len(acc) + 1)\n",
        " \n",
        "  plt.plot(epochs, acc, 'bo', label='Training acc')\n",
        "  plt.plot(epochs, val_acc, 'b', label='Validation acc')\n",
        "  plt.title('Training and validation accuracy')\n",
        "  plt.legend()\n",
        "\n",
        "def plot_loss_curves(history): \n",
        "\n",
        "  loss = history.history['loss']\n",
        "  val_loss = history.history['val_loss']\n",
        "\n",
        "  epochs = range(1, len(loss) + 1)\n",
        "\n",
        "  plt.plot(epochs, loss, 'bo', label='Training loss')\n",
        "  plt.plot(epochs, val_loss, 'b', label='Validation loss')\n",
        "  plt.title('Training and validation loss')\n",
        "  plt.legend()\n",
        "\n",
        "  plt.show()"
      ],
      "execution_count": null,
      "outputs": []
    },
    {
      "cell_type": "markdown",
      "metadata": {
        "id": "07bZQMhi6g4u",
        "colab_type": "text"
      },
      "source": [
        "# Data loading"
      ]
    },
    {
      "cell_type": "markdown",
      "metadata": {
        "id": "ehIIuhxM7RgR",
        "colab_type": "text"
      },
      "source": [
        "Load the images paths and the respective labels"
      ]
    },
    {
      "cell_type": "code",
      "metadata": {
        "id": "kNS5p48PmHMa",
        "colab_type": "code",
        "colab": {}
      },
      "source": [
        "import glob\n",
        "\n",
        "dataparser = DataParser('imagelabels.mat')\n",
        "\n",
        "images = np.asarray(glob.glob('jpg/*.jpg'))\n",
        "labels = np.asarray([dataparser.get_image_label(os.path.basename(image)) for image in images])"
      ],
      "execution_count": null,
      "outputs": []
    },
    {
      "cell_type": "markdown",
      "metadata": {
        "id": "YODM3pwB7V20",
        "colab_type": "text"
      },
      "source": [
        "Split the loaded images paths and labels into training, validation and test sets. Stratified sampling is used."
      ]
    },
    {
      "cell_type": "code",
      "metadata": {
        "id": "WVT1Oqrn2Pq-",
        "colab_type": "code",
        "colab": {}
      },
      "source": [
        "X_train, X_test, labels_train, labels_test = train_test_split(images, labels, train_size=0.80, random_state=SEED)\n",
        "X_val, X_test, labels_val, labels_test = train_test_split(X_test, labels_test, train_size=0.75, random_state=SEED)"
      ],
      "execution_count": null,
      "outputs": []
    },
    {
      "cell_type": "code",
      "metadata": {
        "id": "oeQsBe_Doc8K",
        "colab_type": "code",
        "colab": {
          "base_uri": "https://localhost:8080/",
          "height": 69
        },
        "outputId": "07a586fa-586a-4adf-8b22-0a29a0ba458e"
      },
      "source": [
        "print(f'Train size: {X_train.shape}')\n",
        "print(f'Val size: {X_val.shape}')\n",
        "print(f'Test size: {X_test.shape}')"
      ],
      "execution_count": null,
      "outputs": [
        {
          "output_type": "stream",
          "text": [
            "Train size: (6551,)\n",
            "Val size: (1228,)\n",
            "Test size: (410,)\n"
          ],
          "name": "stdout"
        }
      ]
    },
    {
      "cell_type": "markdown",
      "metadata": {
        "id": "BXRG0ajf79-c",
        "colab_type": "text"
      },
      "source": [
        "Plot some of the loaded images and the respective labels"
      ]
    },
    {
      "cell_type": "code",
      "metadata": {
        "id": "WxWbGIQn8EEW",
        "colab_type": "code",
        "colab": {}
      },
      "source": [
        "imgs = load_images(X_train[:10], img_size=IMAGES_SIZE)\n",
        "show_images(imgs, labels_train[:10], rows=2)"
      ],
      "execution_count": null,
      "outputs": []
    },
    {
      "cell_type": "markdown",
      "metadata": {
        "id": "WG2mjpI0xjvD",
        "colab_type": "text"
      },
      "source": [
        "Encoder for fitting labels to the models (using one-hot encoding)"
      ]
    },
    {
      "cell_type": "code",
      "metadata": {
        "id": "JjM6picixs3w",
        "colab_type": "code",
        "colab": {}
      },
      "source": [
        "encoder = MyLabelEncoder(labels)"
      ],
      "execution_count": null,
      "outputs": []
    },
    {
      "cell_type": "markdown",
      "metadata": {
        "id": "bIRr3-EvE-P_",
        "colab_type": "text"
      },
      "source": [
        "# Pre-trained Resnet50-v2"
      ]
    },
    {
      "cell_type": "code",
      "metadata": {
        "id": "QoOsW-4LI-Lv",
        "colab_type": "code",
        "colab": {}
      },
      "source": [
        "def create_resnet50v2_model():\n",
        "  conv_base = tf.keras.applications.ResNet50V2(\n",
        "    include_top=False, \n",
        "    weights='imagenet', \n",
        "    input_shape=(IMAGES_SIZE, IMAGES_SIZE, 3),\n",
        "    pooling='avg'\n",
        "  )\n",
        "  \n",
        "  model = Sequential()\n",
        "  model.add(conv_base)\n",
        "  model.add(Dense(len(np.unique(labels)), activation='softmax'))\n",
        "\n",
        "  return model"
      ],
      "execution_count": null,
      "outputs": []
    },
    {
      "cell_type": "markdown",
      "metadata": {
        "id": "TrQotglmqfny",
        "colab_type": "text"
      },
      "source": [
        "## Large Training Dataset"
      ]
    },
    {
      "cell_type": "code",
      "metadata": {
        "colab_type": "code",
        "id": "AlLrY8OkVmrw",
        "colab": {}
      },
      "source": [
        "X_train, X_test, labels_train, labels_test = train_test_split(images, labels, train_size=0.80, stratify=labels, random_state=SEED)\n",
        "X_val, X_test, labels_val, labels_test = train_test_split(X_test, labels_test, train_size=0.75, stratify=labels_test, random_state=SEED)"
      ],
      "execution_count": null,
      "outputs": []
    },
    {
      "cell_type": "code",
      "metadata": {
        "id": "NDEcEiGfXi1-",
        "colab_type": "code",
        "colab": {}
      },
      "source": [
        "y_train = encoder.encode(labels_train)\n",
        "y_val = encoder.encode(labels_val)\n",
        "y_test = encoder.encode(labels_test)"
      ],
      "execution_count": null,
      "outputs": []
    },
    {
      "cell_type": "code",
      "metadata": {
        "colab_type": "code",
        "id": "Wa1FvDf2VmsP",
        "colab": {
          "base_uri": "https://localhost:8080/",
          "height": 69
        },
        "outputId": "68f2a267-1294-4e86-d527-b4a94b9db0f2"
      },
      "source": [
        "print(f'Train size: {X_train.shape} - {round((len(X_train) * 100)/len(images), 2)}%')\n",
        "print(f'Val size: {X_val.shape} - {round((len(X_val) * 100)/len(images), 2)}%')\n",
        "print(f'Test size: {X_test.shape} - {round((len(X_test) * 100)/len(images), 2)}%')"
      ],
      "execution_count": null,
      "outputs": [
        {
          "output_type": "stream",
          "text": [
            "Train size: (6551,) - 80.0%\n",
            "Val size: (1228,) - 15.0%\n",
            "Test size: (410,) - 5.01%\n"
          ],
          "name": "stdout"
        }
      ]
    },
    {
      "cell_type": "code",
      "metadata": {
        "id": "obGA324P5VCy",
        "colab_type": "code",
        "colab": {}
      },
      "source": [
        "model_trainer = ModelTrainer(len(X_train), len(X_val), BATCH_SIZE)"
      ],
      "execution_count": null,
      "outputs": []
    },
    {
      "cell_type": "markdown",
      "metadata": {
        "id": "j3QarR3-Ca6F",
        "colab_type": "text"
      },
      "source": [
        "### Feature extraction **without** data augmentation"
      ]
    },
    {
      "cell_type": "code",
      "metadata": {
        "id": "no5dkv08sPpM",
        "colab_type": "code",
        "colab": {}
      },
      "source": [
        "train_ds = np_to_dataset(X_train, y_train, training=True, augmentation=False, batch_size=BATCH_SIZE)\n",
        "val_ds = np_to_dataset(X_val, y_val, training=False, batch_size=BATCH_SIZE)\n",
        "test_ds = np_to_dataset(X_test, y_test, training=False, batch_size=1)"
      ],
      "execution_count": null,
      "outputs": []
    },
    {
      "cell_type": "code",
      "metadata": {
        "id": "Jz8DIccxqmWr",
        "colab_type": "code",
        "colab": {
          "base_uri": "https://localhost:8080/",
          "height": 52
        },
        "outputId": "f2367dbc-960c-47ac-f068-98d4046005f9"
      },
      "source": [
        "model = create_resnet50v2_model()"
      ],
      "execution_count": null,
      "outputs": [
        {
          "output_type": "stream",
          "text": [
            "Downloading data from https://storage.googleapis.com/tensorflow/keras-applications/resnet/resnet50v2_weights_tf_dim_ordering_tf_kernels_notop.h5\n",
            "94674944/94668760 [==============================] - 1s 0us/step\n"
          ],
          "name": "stdout"
        }
      ]
    },
    {
      "cell_type": "code",
      "metadata": {
        "id": "NRCRrRRQFhER",
        "colab_type": "code",
        "colab": {
          "base_uri": "https://localhost:8080/",
          "height": 1000
        },
        "outputId": "6d80ce7d-01cc-4cc1-91a1-248446ce3b4e"
      },
      "source": [
        "conv_base = model.get_layer('resnet50v2')\n",
        "freeze_model(conv_base)\n",
        "\n",
        "conv_base.summary()"
      ],
      "execution_count": null,
      "outputs": [
        {
          "output_type": "stream",
          "text": [
            "Model: \"resnet50v2\"\n",
            "__________________________________________________________________________________________________\n",
            "Layer (type)                    Output Shape         Param #     Connected to                     \n",
            "==================================================================================================\n",
            "input_1 (InputLayer)            [(None, 224, 224, 3) 0                                            \n",
            "__________________________________________________________________________________________________\n",
            "conv1_pad (ZeroPadding2D)       (None, 230, 230, 3)  0           input_1[0][0]                    \n",
            "__________________________________________________________________________________________________\n",
            "conv1_conv (Conv2D)             (None, 112, 112, 64) 9472        conv1_pad[0][0]                  \n",
            "__________________________________________________________________________________________________\n",
            "pool1_pad (ZeroPadding2D)       (None, 114, 114, 64) 0           conv1_conv[0][0]                 \n",
            "__________________________________________________________________________________________________\n",
            "pool1_pool (MaxPooling2D)       (None, 56, 56, 64)   0           pool1_pad[0][0]                  \n",
            "__________________________________________________________________________________________________\n",
            "conv2_block1_preact_bn (BatchNo (None, 56, 56, 64)   256         pool1_pool[0][0]                 \n",
            "__________________________________________________________________________________________________\n",
            "conv2_block1_preact_relu (Activ (None, 56, 56, 64)   0           conv2_block1_preact_bn[0][0]     \n",
            "__________________________________________________________________________________________________\n",
            "conv2_block1_1_conv (Conv2D)    (None, 56, 56, 64)   4096        conv2_block1_preact_relu[0][0]   \n",
            "__________________________________________________________________________________________________\n",
            "conv2_block1_1_bn (BatchNormali (None, 56, 56, 64)   256         conv2_block1_1_conv[0][0]        \n",
            "__________________________________________________________________________________________________\n",
            "conv2_block1_1_relu (Activation (None, 56, 56, 64)   0           conv2_block1_1_bn[0][0]          \n",
            "__________________________________________________________________________________________________\n",
            "conv2_block1_2_pad (ZeroPadding (None, 58, 58, 64)   0           conv2_block1_1_relu[0][0]        \n",
            "__________________________________________________________________________________________________\n",
            "conv2_block1_2_conv (Conv2D)    (None, 56, 56, 64)   36864       conv2_block1_2_pad[0][0]         \n",
            "__________________________________________________________________________________________________\n",
            "conv2_block1_2_bn (BatchNormali (None, 56, 56, 64)   256         conv2_block1_2_conv[0][0]        \n",
            "__________________________________________________________________________________________________\n",
            "conv2_block1_2_relu (Activation (None, 56, 56, 64)   0           conv2_block1_2_bn[0][0]          \n",
            "__________________________________________________________________________________________________\n",
            "conv2_block1_0_conv (Conv2D)    (None, 56, 56, 256)  16640       conv2_block1_preact_relu[0][0]   \n",
            "__________________________________________________________________________________________________\n",
            "conv2_block1_3_conv (Conv2D)    (None, 56, 56, 256)  16640       conv2_block1_2_relu[0][0]        \n",
            "__________________________________________________________________________________________________\n",
            "conv2_block1_out (Add)          (None, 56, 56, 256)  0           conv2_block1_0_conv[0][0]        \n",
            "                                                                 conv2_block1_3_conv[0][0]        \n",
            "__________________________________________________________________________________________________\n",
            "conv2_block2_preact_bn (BatchNo (None, 56, 56, 256)  1024        conv2_block1_out[0][0]           \n",
            "__________________________________________________________________________________________________\n",
            "conv2_block2_preact_relu (Activ (None, 56, 56, 256)  0           conv2_block2_preact_bn[0][0]     \n",
            "__________________________________________________________________________________________________\n",
            "conv2_block2_1_conv (Conv2D)    (None, 56, 56, 64)   16384       conv2_block2_preact_relu[0][0]   \n",
            "__________________________________________________________________________________________________\n",
            "conv2_block2_1_bn (BatchNormali (None, 56, 56, 64)   256         conv2_block2_1_conv[0][0]        \n",
            "__________________________________________________________________________________________________\n",
            "conv2_block2_1_relu (Activation (None, 56, 56, 64)   0           conv2_block2_1_bn[0][0]          \n",
            "__________________________________________________________________________________________________\n",
            "conv2_block2_2_pad (ZeroPadding (None, 58, 58, 64)   0           conv2_block2_1_relu[0][0]        \n",
            "__________________________________________________________________________________________________\n",
            "conv2_block2_2_conv (Conv2D)    (None, 56, 56, 64)   36864       conv2_block2_2_pad[0][0]         \n",
            "__________________________________________________________________________________________________\n",
            "conv2_block2_2_bn (BatchNormali (None, 56, 56, 64)   256         conv2_block2_2_conv[0][0]        \n",
            "__________________________________________________________________________________________________\n",
            "conv2_block2_2_relu (Activation (None, 56, 56, 64)   0           conv2_block2_2_bn[0][0]          \n",
            "__________________________________________________________________________________________________\n",
            "conv2_block2_3_conv (Conv2D)    (None, 56, 56, 256)  16640       conv2_block2_2_relu[0][0]        \n",
            "__________________________________________________________________________________________________\n",
            "conv2_block2_out (Add)          (None, 56, 56, 256)  0           conv2_block1_out[0][0]           \n",
            "                                                                 conv2_block2_3_conv[0][0]        \n",
            "__________________________________________________________________________________________________\n",
            "conv2_block3_preact_bn (BatchNo (None, 56, 56, 256)  1024        conv2_block2_out[0][0]           \n",
            "__________________________________________________________________________________________________\n",
            "conv2_block3_preact_relu (Activ (None, 56, 56, 256)  0           conv2_block3_preact_bn[0][0]     \n",
            "__________________________________________________________________________________________________\n",
            "conv2_block3_1_conv (Conv2D)    (None, 56, 56, 64)   16384       conv2_block3_preact_relu[0][0]   \n",
            "__________________________________________________________________________________________________\n",
            "conv2_block3_1_bn (BatchNormali (None, 56, 56, 64)   256         conv2_block3_1_conv[0][0]        \n",
            "__________________________________________________________________________________________________\n",
            "conv2_block3_1_relu (Activation (None, 56, 56, 64)   0           conv2_block3_1_bn[0][0]          \n",
            "__________________________________________________________________________________________________\n",
            "conv2_block3_2_pad (ZeroPadding (None, 58, 58, 64)   0           conv2_block3_1_relu[0][0]        \n",
            "__________________________________________________________________________________________________\n",
            "conv2_block3_2_conv (Conv2D)    (None, 28, 28, 64)   36864       conv2_block3_2_pad[0][0]         \n",
            "__________________________________________________________________________________________________\n",
            "conv2_block3_2_bn (BatchNormali (None, 28, 28, 64)   256         conv2_block3_2_conv[0][0]        \n",
            "__________________________________________________________________________________________________\n",
            "conv2_block3_2_relu (Activation (None, 28, 28, 64)   0           conv2_block3_2_bn[0][0]          \n",
            "__________________________________________________________________________________________________\n",
            "max_pooling2d (MaxPooling2D)    (None, 28, 28, 256)  0           conv2_block2_out[0][0]           \n",
            "__________________________________________________________________________________________________\n",
            "conv2_block3_3_conv (Conv2D)    (None, 28, 28, 256)  16640       conv2_block3_2_relu[0][0]        \n",
            "__________________________________________________________________________________________________\n",
            "conv2_block3_out (Add)          (None, 28, 28, 256)  0           max_pooling2d[0][0]              \n",
            "                                                                 conv2_block3_3_conv[0][0]        \n",
            "__________________________________________________________________________________________________\n",
            "conv3_block1_preact_bn (BatchNo (None, 28, 28, 256)  1024        conv2_block3_out[0][0]           \n",
            "__________________________________________________________________________________________________\n",
            "conv3_block1_preact_relu (Activ (None, 28, 28, 256)  0           conv3_block1_preact_bn[0][0]     \n",
            "__________________________________________________________________________________________________\n",
            "conv3_block1_1_conv (Conv2D)    (None, 28, 28, 128)  32768       conv3_block1_preact_relu[0][0]   \n",
            "__________________________________________________________________________________________________\n",
            "conv3_block1_1_bn (BatchNormali (None, 28, 28, 128)  512         conv3_block1_1_conv[0][0]        \n",
            "__________________________________________________________________________________________________\n",
            "conv3_block1_1_relu (Activation (None, 28, 28, 128)  0           conv3_block1_1_bn[0][0]          \n",
            "__________________________________________________________________________________________________\n",
            "conv3_block1_2_pad (ZeroPadding (None, 30, 30, 128)  0           conv3_block1_1_relu[0][0]        \n",
            "__________________________________________________________________________________________________\n",
            "conv3_block1_2_conv (Conv2D)    (None, 28, 28, 128)  147456      conv3_block1_2_pad[0][0]         \n",
            "__________________________________________________________________________________________________\n",
            "conv3_block1_2_bn (BatchNormali (None, 28, 28, 128)  512         conv3_block1_2_conv[0][0]        \n",
            "__________________________________________________________________________________________________\n",
            "conv3_block1_2_relu (Activation (None, 28, 28, 128)  0           conv3_block1_2_bn[0][0]          \n",
            "__________________________________________________________________________________________________\n",
            "conv3_block1_0_conv (Conv2D)    (None, 28, 28, 512)  131584      conv3_block1_preact_relu[0][0]   \n",
            "__________________________________________________________________________________________________\n",
            "conv3_block1_3_conv (Conv2D)    (None, 28, 28, 512)  66048       conv3_block1_2_relu[0][0]        \n",
            "__________________________________________________________________________________________________\n",
            "conv3_block1_out (Add)          (None, 28, 28, 512)  0           conv3_block1_0_conv[0][0]        \n",
            "                                                                 conv3_block1_3_conv[0][0]        \n",
            "__________________________________________________________________________________________________\n",
            "conv3_block2_preact_bn (BatchNo (None, 28, 28, 512)  2048        conv3_block1_out[0][0]           \n",
            "__________________________________________________________________________________________________\n",
            "conv3_block2_preact_relu (Activ (None, 28, 28, 512)  0           conv3_block2_preact_bn[0][0]     \n",
            "__________________________________________________________________________________________________\n",
            "conv3_block2_1_conv (Conv2D)    (None, 28, 28, 128)  65536       conv3_block2_preact_relu[0][0]   \n",
            "__________________________________________________________________________________________________\n",
            "conv3_block2_1_bn (BatchNormali (None, 28, 28, 128)  512         conv3_block2_1_conv[0][0]        \n",
            "__________________________________________________________________________________________________\n",
            "conv3_block2_1_relu (Activation (None, 28, 28, 128)  0           conv3_block2_1_bn[0][0]          \n",
            "__________________________________________________________________________________________________\n",
            "conv3_block2_2_pad (ZeroPadding (None, 30, 30, 128)  0           conv3_block2_1_relu[0][0]        \n",
            "__________________________________________________________________________________________________\n",
            "conv3_block2_2_conv (Conv2D)    (None, 28, 28, 128)  147456      conv3_block2_2_pad[0][0]         \n",
            "__________________________________________________________________________________________________\n",
            "conv3_block2_2_bn (BatchNormali (None, 28, 28, 128)  512         conv3_block2_2_conv[0][0]        \n",
            "__________________________________________________________________________________________________\n",
            "conv3_block2_2_relu (Activation (None, 28, 28, 128)  0           conv3_block2_2_bn[0][0]          \n",
            "__________________________________________________________________________________________________\n",
            "conv3_block2_3_conv (Conv2D)    (None, 28, 28, 512)  66048       conv3_block2_2_relu[0][0]        \n",
            "__________________________________________________________________________________________________\n",
            "conv3_block2_out (Add)          (None, 28, 28, 512)  0           conv3_block1_out[0][0]           \n",
            "                                                                 conv3_block2_3_conv[0][0]        \n",
            "__________________________________________________________________________________________________\n",
            "conv3_block3_preact_bn (BatchNo (None, 28, 28, 512)  2048        conv3_block2_out[0][0]           \n",
            "__________________________________________________________________________________________________\n",
            "conv3_block3_preact_relu (Activ (None, 28, 28, 512)  0           conv3_block3_preact_bn[0][0]     \n",
            "__________________________________________________________________________________________________\n",
            "conv3_block3_1_conv (Conv2D)    (None, 28, 28, 128)  65536       conv3_block3_preact_relu[0][0]   \n",
            "__________________________________________________________________________________________________\n",
            "conv3_block3_1_bn (BatchNormali (None, 28, 28, 128)  512         conv3_block3_1_conv[0][0]        \n",
            "__________________________________________________________________________________________________\n",
            "conv3_block3_1_relu (Activation (None, 28, 28, 128)  0           conv3_block3_1_bn[0][0]          \n",
            "__________________________________________________________________________________________________\n",
            "conv3_block3_2_pad (ZeroPadding (None, 30, 30, 128)  0           conv3_block3_1_relu[0][0]        \n",
            "__________________________________________________________________________________________________\n",
            "conv3_block3_2_conv (Conv2D)    (None, 28, 28, 128)  147456      conv3_block3_2_pad[0][0]         \n",
            "__________________________________________________________________________________________________\n",
            "conv3_block3_2_bn (BatchNormali (None, 28, 28, 128)  512         conv3_block3_2_conv[0][0]        \n",
            "__________________________________________________________________________________________________\n",
            "conv3_block3_2_relu (Activation (None, 28, 28, 128)  0           conv3_block3_2_bn[0][0]          \n",
            "__________________________________________________________________________________________________\n",
            "conv3_block3_3_conv (Conv2D)    (None, 28, 28, 512)  66048       conv3_block3_2_relu[0][0]        \n",
            "__________________________________________________________________________________________________\n",
            "conv3_block3_out (Add)          (None, 28, 28, 512)  0           conv3_block2_out[0][0]           \n",
            "                                                                 conv3_block3_3_conv[0][0]        \n",
            "__________________________________________________________________________________________________\n",
            "conv3_block4_preact_bn (BatchNo (None, 28, 28, 512)  2048        conv3_block3_out[0][0]           \n",
            "__________________________________________________________________________________________________\n",
            "conv3_block4_preact_relu (Activ (None, 28, 28, 512)  0           conv3_block4_preact_bn[0][0]     \n",
            "__________________________________________________________________________________________________\n",
            "conv3_block4_1_conv (Conv2D)    (None, 28, 28, 128)  65536       conv3_block4_preact_relu[0][0]   \n",
            "__________________________________________________________________________________________________\n",
            "conv3_block4_1_bn (BatchNormali (None, 28, 28, 128)  512         conv3_block4_1_conv[0][0]        \n",
            "__________________________________________________________________________________________________\n",
            "conv3_block4_1_relu (Activation (None, 28, 28, 128)  0           conv3_block4_1_bn[0][0]          \n",
            "__________________________________________________________________________________________________\n",
            "conv3_block4_2_pad (ZeroPadding (None, 30, 30, 128)  0           conv3_block4_1_relu[0][0]        \n",
            "__________________________________________________________________________________________________\n",
            "conv3_block4_2_conv (Conv2D)    (None, 14, 14, 128)  147456      conv3_block4_2_pad[0][0]         \n",
            "__________________________________________________________________________________________________\n",
            "conv3_block4_2_bn (BatchNormali (None, 14, 14, 128)  512         conv3_block4_2_conv[0][0]        \n",
            "__________________________________________________________________________________________________\n",
            "conv3_block4_2_relu (Activation (None, 14, 14, 128)  0           conv3_block4_2_bn[0][0]          \n",
            "__________________________________________________________________________________________________\n",
            "max_pooling2d_1 (MaxPooling2D)  (None, 14, 14, 512)  0           conv3_block3_out[0][0]           \n",
            "__________________________________________________________________________________________________\n",
            "conv3_block4_3_conv (Conv2D)    (None, 14, 14, 512)  66048       conv3_block4_2_relu[0][0]        \n",
            "__________________________________________________________________________________________________\n",
            "conv3_block4_out (Add)          (None, 14, 14, 512)  0           max_pooling2d_1[0][0]            \n",
            "                                                                 conv3_block4_3_conv[0][0]        \n",
            "__________________________________________________________________________________________________\n",
            "conv4_block1_preact_bn (BatchNo (None, 14, 14, 512)  2048        conv3_block4_out[0][0]           \n",
            "__________________________________________________________________________________________________\n",
            "conv4_block1_preact_relu (Activ (None, 14, 14, 512)  0           conv4_block1_preact_bn[0][0]     \n",
            "__________________________________________________________________________________________________\n",
            "conv4_block1_1_conv (Conv2D)    (None, 14, 14, 256)  131072      conv4_block1_preact_relu[0][0]   \n",
            "__________________________________________________________________________________________________\n",
            "conv4_block1_1_bn (BatchNormali (None, 14, 14, 256)  1024        conv4_block1_1_conv[0][0]        \n",
            "__________________________________________________________________________________________________\n",
            "conv4_block1_1_relu (Activation (None, 14, 14, 256)  0           conv4_block1_1_bn[0][0]          \n",
            "__________________________________________________________________________________________________\n",
            "conv4_block1_2_pad (ZeroPadding (None, 16, 16, 256)  0           conv4_block1_1_relu[0][0]        \n",
            "__________________________________________________________________________________________________\n",
            "conv4_block1_2_conv (Conv2D)    (None, 14, 14, 256)  589824      conv4_block1_2_pad[0][0]         \n",
            "__________________________________________________________________________________________________\n",
            "conv4_block1_2_bn (BatchNormali (None, 14, 14, 256)  1024        conv4_block1_2_conv[0][0]        \n",
            "__________________________________________________________________________________________________\n",
            "conv4_block1_2_relu (Activation (None, 14, 14, 256)  0           conv4_block1_2_bn[0][0]          \n",
            "__________________________________________________________________________________________________\n",
            "conv4_block1_0_conv (Conv2D)    (None, 14, 14, 1024) 525312      conv4_block1_preact_relu[0][0]   \n",
            "__________________________________________________________________________________________________\n",
            "conv4_block1_3_conv (Conv2D)    (None, 14, 14, 1024) 263168      conv4_block1_2_relu[0][0]        \n",
            "__________________________________________________________________________________________________\n",
            "conv4_block1_out (Add)          (None, 14, 14, 1024) 0           conv4_block1_0_conv[0][0]        \n",
            "                                                                 conv4_block1_3_conv[0][0]        \n",
            "__________________________________________________________________________________________________\n",
            "conv4_block2_preact_bn (BatchNo (None, 14, 14, 1024) 4096        conv4_block1_out[0][0]           \n",
            "__________________________________________________________________________________________________\n",
            "conv4_block2_preact_relu (Activ (None, 14, 14, 1024) 0           conv4_block2_preact_bn[0][0]     \n",
            "__________________________________________________________________________________________________\n",
            "conv4_block2_1_conv (Conv2D)    (None, 14, 14, 256)  262144      conv4_block2_preact_relu[0][0]   \n",
            "__________________________________________________________________________________________________\n",
            "conv4_block2_1_bn (BatchNormali (None, 14, 14, 256)  1024        conv4_block2_1_conv[0][0]        \n",
            "__________________________________________________________________________________________________\n",
            "conv4_block2_1_relu (Activation (None, 14, 14, 256)  0           conv4_block2_1_bn[0][0]          \n",
            "__________________________________________________________________________________________________\n",
            "conv4_block2_2_pad (ZeroPadding (None, 16, 16, 256)  0           conv4_block2_1_relu[0][0]        \n",
            "__________________________________________________________________________________________________\n",
            "conv4_block2_2_conv (Conv2D)    (None, 14, 14, 256)  589824      conv4_block2_2_pad[0][0]         \n",
            "__________________________________________________________________________________________________\n",
            "conv4_block2_2_bn (BatchNormali (None, 14, 14, 256)  1024        conv4_block2_2_conv[0][0]        \n",
            "__________________________________________________________________________________________________\n",
            "conv4_block2_2_relu (Activation (None, 14, 14, 256)  0           conv4_block2_2_bn[0][0]          \n",
            "__________________________________________________________________________________________________\n",
            "conv4_block2_3_conv (Conv2D)    (None, 14, 14, 1024) 263168      conv4_block2_2_relu[0][0]        \n",
            "__________________________________________________________________________________________________\n",
            "conv4_block2_out (Add)          (None, 14, 14, 1024) 0           conv4_block1_out[0][0]           \n",
            "                                                                 conv4_block2_3_conv[0][0]        \n",
            "__________________________________________________________________________________________________\n",
            "conv4_block3_preact_bn (BatchNo (None, 14, 14, 1024) 4096        conv4_block2_out[0][0]           \n",
            "__________________________________________________________________________________________________\n",
            "conv4_block3_preact_relu (Activ (None, 14, 14, 1024) 0           conv4_block3_preact_bn[0][0]     \n",
            "__________________________________________________________________________________________________\n",
            "conv4_block3_1_conv (Conv2D)    (None, 14, 14, 256)  262144      conv4_block3_preact_relu[0][0]   \n",
            "__________________________________________________________________________________________________\n",
            "conv4_block3_1_bn (BatchNormali (None, 14, 14, 256)  1024        conv4_block3_1_conv[0][0]        \n",
            "__________________________________________________________________________________________________\n",
            "conv4_block3_1_relu (Activation (None, 14, 14, 256)  0           conv4_block3_1_bn[0][0]          \n",
            "__________________________________________________________________________________________________\n",
            "conv4_block3_2_pad (ZeroPadding (None, 16, 16, 256)  0           conv4_block3_1_relu[0][0]        \n",
            "__________________________________________________________________________________________________\n",
            "conv4_block3_2_conv (Conv2D)    (None, 14, 14, 256)  589824      conv4_block3_2_pad[0][0]         \n",
            "__________________________________________________________________________________________________\n",
            "conv4_block3_2_bn (BatchNormali (None, 14, 14, 256)  1024        conv4_block3_2_conv[0][0]        \n",
            "__________________________________________________________________________________________________\n",
            "conv4_block3_2_relu (Activation (None, 14, 14, 256)  0           conv4_block3_2_bn[0][0]          \n",
            "__________________________________________________________________________________________________\n",
            "conv4_block3_3_conv (Conv2D)    (None, 14, 14, 1024) 263168      conv4_block3_2_relu[0][0]        \n",
            "__________________________________________________________________________________________________\n",
            "conv4_block3_out (Add)          (None, 14, 14, 1024) 0           conv4_block2_out[0][0]           \n",
            "                                                                 conv4_block3_3_conv[0][0]        \n",
            "__________________________________________________________________________________________________\n",
            "conv4_block4_preact_bn (BatchNo (None, 14, 14, 1024) 4096        conv4_block3_out[0][0]           \n",
            "__________________________________________________________________________________________________\n",
            "conv4_block4_preact_relu (Activ (None, 14, 14, 1024) 0           conv4_block4_preact_bn[0][0]     \n",
            "__________________________________________________________________________________________________\n",
            "conv4_block4_1_conv (Conv2D)    (None, 14, 14, 256)  262144      conv4_block4_preact_relu[0][0]   \n",
            "__________________________________________________________________________________________________\n",
            "conv4_block4_1_bn (BatchNormali (None, 14, 14, 256)  1024        conv4_block4_1_conv[0][0]        \n",
            "__________________________________________________________________________________________________\n",
            "conv4_block4_1_relu (Activation (None, 14, 14, 256)  0           conv4_block4_1_bn[0][0]          \n",
            "__________________________________________________________________________________________________\n",
            "conv4_block4_2_pad (ZeroPadding (None, 16, 16, 256)  0           conv4_block4_1_relu[0][0]        \n",
            "__________________________________________________________________________________________________\n",
            "conv4_block4_2_conv (Conv2D)    (None, 14, 14, 256)  589824      conv4_block4_2_pad[0][0]         \n",
            "__________________________________________________________________________________________________\n",
            "conv4_block4_2_bn (BatchNormali (None, 14, 14, 256)  1024        conv4_block4_2_conv[0][0]        \n",
            "__________________________________________________________________________________________________\n",
            "conv4_block4_2_relu (Activation (None, 14, 14, 256)  0           conv4_block4_2_bn[0][0]          \n",
            "__________________________________________________________________________________________________\n",
            "conv4_block4_3_conv (Conv2D)    (None, 14, 14, 1024) 263168      conv4_block4_2_relu[0][0]        \n",
            "__________________________________________________________________________________________________\n",
            "conv4_block4_out (Add)          (None, 14, 14, 1024) 0           conv4_block3_out[0][0]           \n",
            "                                                                 conv4_block4_3_conv[0][0]        \n",
            "__________________________________________________________________________________________________\n",
            "conv4_block5_preact_bn (BatchNo (None, 14, 14, 1024) 4096        conv4_block4_out[0][0]           \n",
            "__________________________________________________________________________________________________\n",
            "conv4_block5_preact_relu (Activ (None, 14, 14, 1024) 0           conv4_block5_preact_bn[0][0]     \n",
            "__________________________________________________________________________________________________\n",
            "conv4_block5_1_conv (Conv2D)    (None, 14, 14, 256)  262144      conv4_block5_preact_relu[0][0]   \n",
            "__________________________________________________________________________________________________\n",
            "conv4_block5_1_bn (BatchNormali (None, 14, 14, 256)  1024        conv4_block5_1_conv[0][0]        \n",
            "__________________________________________________________________________________________________\n",
            "conv4_block5_1_relu (Activation (None, 14, 14, 256)  0           conv4_block5_1_bn[0][0]          \n",
            "__________________________________________________________________________________________________\n",
            "conv4_block5_2_pad (ZeroPadding (None, 16, 16, 256)  0           conv4_block5_1_relu[0][0]        \n",
            "__________________________________________________________________________________________________\n",
            "conv4_block5_2_conv (Conv2D)    (None, 14, 14, 256)  589824      conv4_block5_2_pad[0][0]         \n",
            "__________________________________________________________________________________________________\n",
            "conv4_block5_2_bn (BatchNormali (None, 14, 14, 256)  1024        conv4_block5_2_conv[0][0]        \n",
            "__________________________________________________________________________________________________\n",
            "conv4_block5_2_relu (Activation (None, 14, 14, 256)  0           conv4_block5_2_bn[0][0]          \n",
            "__________________________________________________________________________________________________\n",
            "conv4_block5_3_conv (Conv2D)    (None, 14, 14, 1024) 263168      conv4_block5_2_relu[0][0]        \n",
            "__________________________________________________________________________________________________\n",
            "conv4_block5_out (Add)          (None, 14, 14, 1024) 0           conv4_block4_out[0][0]           \n",
            "                                                                 conv4_block5_3_conv[0][0]        \n",
            "__________________________________________________________________________________________________\n",
            "conv4_block6_preact_bn (BatchNo (None, 14, 14, 1024) 4096        conv4_block5_out[0][0]           \n",
            "__________________________________________________________________________________________________\n",
            "conv4_block6_preact_relu (Activ (None, 14, 14, 1024) 0           conv4_block6_preact_bn[0][0]     \n",
            "__________________________________________________________________________________________________\n",
            "conv4_block6_1_conv (Conv2D)    (None, 14, 14, 256)  262144      conv4_block6_preact_relu[0][0]   \n",
            "__________________________________________________________________________________________________\n",
            "conv4_block6_1_bn (BatchNormali (None, 14, 14, 256)  1024        conv4_block6_1_conv[0][0]        \n",
            "__________________________________________________________________________________________________\n",
            "conv4_block6_1_relu (Activation (None, 14, 14, 256)  0           conv4_block6_1_bn[0][0]          \n",
            "__________________________________________________________________________________________________\n",
            "conv4_block6_2_pad (ZeroPadding (None, 16, 16, 256)  0           conv4_block6_1_relu[0][0]        \n",
            "__________________________________________________________________________________________________\n",
            "conv4_block6_2_conv (Conv2D)    (None, 7, 7, 256)    589824      conv4_block6_2_pad[0][0]         \n",
            "__________________________________________________________________________________________________\n",
            "conv4_block6_2_bn (BatchNormali (None, 7, 7, 256)    1024        conv4_block6_2_conv[0][0]        \n",
            "__________________________________________________________________________________________________\n",
            "conv4_block6_2_relu (Activation (None, 7, 7, 256)    0           conv4_block6_2_bn[0][0]          \n",
            "__________________________________________________________________________________________________\n",
            "max_pooling2d_2 (MaxPooling2D)  (None, 7, 7, 1024)   0           conv4_block5_out[0][0]           \n",
            "__________________________________________________________________________________________________\n",
            "conv4_block6_3_conv (Conv2D)    (None, 7, 7, 1024)   263168      conv4_block6_2_relu[0][0]        \n",
            "__________________________________________________________________________________________________\n",
            "conv4_block6_out (Add)          (None, 7, 7, 1024)   0           max_pooling2d_2[0][0]            \n",
            "                                                                 conv4_block6_3_conv[0][0]        \n",
            "__________________________________________________________________________________________________\n",
            "conv5_block1_preact_bn (BatchNo (None, 7, 7, 1024)   4096        conv4_block6_out[0][0]           \n",
            "__________________________________________________________________________________________________\n",
            "conv5_block1_preact_relu (Activ (None, 7, 7, 1024)   0           conv5_block1_preact_bn[0][0]     \n",
            "__________________________________________________________________________________________________\n",
            "conv5_block1_1_conv (Conv2D)    (None, 7, 7, 512)    524288      conv5_block1_preact_relu[0][0]   \n",
            "__________________________________________________________________________________________________\n",
            "conv5_block1_1_bn (BatchNormali (None, 7, 7, 512)    2048        conv5_block1_1_conv[0][0]        \n",
            "__________________________________________________________________________________________________\n",
            "conv5_block1_1_relu (Activation (None, 7, 7, 512)    0           conv5_block1_1_bn[0][0]          \n",
            "__________________________________________________________________________________________________\n",
            "conv5_block1_2_pad (ZeroPadding (None, 9, 9, 512)    0           conv5_block1_1_relu[0][0]        \n",
            "__________________________________________________________________________________________________\n",
            "conv5_block1_2_conv (Conv2D)    (None, 7, 7, 512)    2359296     conv5_block1_2_pad[0][0]         \n",
            "__________________________________________________________________________________________________\n",
            "conv5_block1_2_bn (BatchNormali (None, 7, 7, 512)    2048        conv5_block1_2_conv[0][0]        \n",
            "__________________________________________________________________________________________________\n",
            "conv5_block1_2_relu (Activation (None, 7, 7, 512)    0           conv5_block1_2_bn[0][0]          \n",
            "__________________________________________________________________________________________________\n",
            "conv5_block1_0_conv (Conv2D)    (None, 7, 7, 2048)   2099200     conv5_block1_preact_relu[0][0]   \n",
            "__________________________________________________________________________________________________\n",
            "conv5_block1_3_conv (Conv2D)    (None, 7, 7, 2048)   1050624     conv5_block1_2_relu[0][0]        \n",
            "__________________________________________________________________________________________________\n",
            "conv5_block1_out (Add)          (None, 7, 7, 2048)   0           conv5_block1_0_conv[0][0]        \n",
            "                                                                 conv5_block1_3_conv[0][0]        \n",
            "__________________________________________________________________________________________________\n",
            "conv5_block2_preact_bn (BatchNo (None, 7, 7, 2048)   8192        conv5_block1_out[0][0]           \n",
            "__________________________________________________________________________________________________\n",
            "conv5_block2_preact_relu (Activ (None, 7, 7, 2048)   0           conv5_block2_preact_bn[0][0]     \n",
            "__________________________________________________________________________________________________\n",
            "conv5_block2_1_conv (Conv2D)    (None, 7, 7, 512)    1048576     conv5_block2_preact_relu[0][0]   \n",
            "__________________________________________________________________________________________________\n",
            "conv5_block2_1_bn (BatchNormali (None, 7, 7, 512)    2048        conv5_block2_1_conv[0][0]        \n",
            "__________________________________________________________________________________________________\n",
            "conv5_block2_1_relu (Activation (None, 7, 7, 512)    0           conv5_block2_1_bn[0][0]          \n",
            "__________________________________________________________________________________________________\n",
            "conv5_block2_2_pad (ZeroPadding (None, 9, 9, 512)    0           conv5_block2_1_relu[0][0]        \n",
            "__________________________________________________________________________________________________\n",
            "conv5_block2_2_conv (Conv2D)    (None, 7, 7, 512)    2359296     conv5_block2_2_pad[0][0]         \n",
            "__________________________________________________________________________________________________\n",
            "conv5_block2_2_bn (BatchNormali (None, 7, 7, 512)    2048        conv5_block2_2_conv[0][0]        \n",
            "__________________________________________________________________________________________________\n",
            "conv5_block2_2_relu (Activation (None, 7, 7, 512)    0           conv5_block2_2_bn[0][0]          \n",
            "__________________________________________________________________________________________________\n",
            "conv5_block2_3_conv (Conv2D)    (None, 7, 7, 2048)   1050624     conv5_block2_2_relu[0][0]        \n",
            "__________________________________________________________________________________________________\n",
            "conv5_block2_out (Add)          (None, 7, 7, 2048)   0           conv5_block1_out[0][0]           \n",
            "                                                                 conv5_block2_3_conv[0][0]        \n",
            "__________________________________________________________________________________________________\n",
            "conv5_block3_preact_bn (BatchNo (None, 7, 7, 2048)   8192        conv5_block2_out[0][0]           \n",
            "__________________________________________________________________________________________________\n",
            "conv5_block3_preact_relu (Activ (None, 7, 7, 2048)   0           conv5_block3_preact_bn[0][0]     \n",
            "__________________________________________________________________________________________________\n",
            "conv5_block3_1_conv (Conv2D)    (None, 7, 7, 512)    1048576     conv5_block3_preact_relu[0][0]   \n",
            "__________________________________________________________________________________________________\n",
            "conv5_block3_1_bn (BatchNormali (None, 7, 7, 512)    2048        conv5_block3_1_conv[0][0]        \n",
            "__________________________________________________________________________________________________\n",
            "conv5_block3_1_relu (Activation (None, 7, 7, 512)    0           conv5_block3_1_bn[0][0]          \n",
            "__________________________________________________________________________________________________\n",
            "conv5_block3_2_pad (ZeroPadding (None, 9, 9, 512)    0           conv5_block3_1_relu[0][0]        \n",
            "__________________________________________________________________________________________________\n",
            "conv5_block3_2_conv (Conv2D)    (None, 7, 7, 512)    2359296     conv5_block3_2_pad[0][0]         \n",
            "__________________________________________________________________________________________________\n",
            "conv5_block3_2_bn (BatchNormali (None, 7, 7, 512)    2048        conv5_block3_2_conv[0][0]        \n",
            "__________________________________________________________________________________________________\n",
            "conv5_block3_2_relu (Activation (None, 7, 7, 512)    0           conv5_block3_2_bn[0][0]          \n",
            "__________________________________________________________________________________________________\n",
            "conv5_block3_3_conv (Conv2D)    (None, 7, 7, 2048)   1050624     conv5_block3_2_relu[0][0]        \n",
            "__________________________________________________________________________________________________\n",
            "conv5_block3_out (Add)          (None, 7, 7, 2048)   0           conv5_block2_out[0][0]           \n",
            "                                                                 conv5_block3_3_conv[0][0]        \n",
            "__________________________________________________________________________________________________\n",
            "post_bn (BatchNormalization)    (None, 7, 7, 2048)   8192        conv5_block3_out[0][0]           \n",
            "__________________________________________________________________________________________________\n",
            "post_relu (Activation)          (None, 7, 7, 2048)   0           post_bn[0][0]                    \n",
            "__________________________________________________________________________________________________\n",
            "avg_pool (GlobalAveragePooling2 (None, 2048)         0           post_relu[0][0]                  \n",
            "==================================================================================================\n",
            "Total params: 23,564,800\n",
            "Trainable params: 0\n",
            "Non-trainable params: 23,564,800\n",
            "__________________________________________________________________________________________________\n"
          ],
          "name": "stdout"
        }
      ]
    },
    {
      "cell_type": "code",
      "metadata": {
        "colab_type": "code",
        "id": "urRKm0eCsISb",
        "colab": {
          "base_uri": "https://localhost:8080/",
          "height": 225
        },
        "outputId": "cba38360-405b-4762-8fa0-b525a8ca2ecd"
      },
      "source": [
        "optimizer = Adam(lr=1e-4)\n",
        "model.compile(optimizer=optimizer,loss='sparse_categorical_crossentropy', metrics=['accuracy'])\n",
        "model.summary()"
      ],
      "execution_count": null,
      "outputs": [
        {
          "output_type": "stream",
          "text": [
            "Model: \"sequential\"\n",
            "_________________________________________________________________\n",
            "Layer (type)                 Output Shape              Param #   \n",
            "=================================================================\n",
            "resnet50v2 (Model)           (None, 2048)              23564800  \n",
            "_________________________________________________________________\n",
            "dense (Dense)                (None, 102)               208998    \n",
            "=================================================================\n",
            "Total params: 23,773,798\n",
            "Trainable params: 208,998\n",
            "Non-trainable params: 23,564,800\n",
            "_________________________________________________________________\n"
          ],
          "name": "stdout"
        }
      ]
    },
    {
      "cell_type": "code",
      "metadata": {
        "colab_type": "code",
        "id": "UTQNRYtgsISt",
        "colab": {
          "base_uri": "https://localhost:8080/",
          "height": 1000
        },
        "outputId": "dd9b89e7-57c8-4ccb-d744-a6ba925a6b41"
      },
      "source": [
        "history = model_trainer.train_model(model, train_ds, val_ds, epochs=30)"
      ],
      "execution_count": null,
      "outputs": [
        {
          "output_type": "stream",
          "text": [
            "Batch size: 16\n",
            "Training dataset size: 6551 - Training steps per epoch: 409\n",
            "Validation dataset size: 1228 - Validation steps per epoch: 76\n",
            "Epoch 1/30\n",
            "409/409 [==============================] - 23s 57ms/step - loss: 3.6673 - accuracy: 0.1985 - val_loss: 2.8176 - val_accuracy: 0.3980\n",
            "Epoch 2/30\n",
            "409/409 [==============================] - 21s 51ms/step - loss: 2.1475 - accuracy: 0.5711 - val_loss: 1.9281 - val_accuracy: 0.6201\n",
            "Epoch 3/30\n",
            "409/409 [==============================] - 21s 52ms/step - loss: 1.4648 - accuracy: 0.7421 - val_loss: 1.4950 - val_accuracy: 0.7007\n",
            "Epoch 4/30\n",
            "409/409 [==============================] - 35s 87ms/step - loss: 1.1000 - accuracy: 0.8238 - val_loss: 1.2424 - val_accuracy: 0.7549\n",
            "Epoch 5/30\n",
            "409/409 [==============================] - 35s 86ms/step - loss: 0.8716 - accuracy: 0.8661 - val_loss: 1.0813 - val_accuracy: 0.7895\n",
            "Epoch 6/30\n",
            "409/409 [==============================] - 35s 87ms/step - loss: 0.7188 - accuracy: 0.8964 - val_loss: 0.9604 - val_accuracy: 0.8084\n",
            "Epoch 7/30\n",
            "409/409 [==============================] - 36s 87ms/step - loss: 0.6072 - accuracy: 0.9169 - val_loss: 0.8743 - val_accuracy: 0.8240\n",
            "Epoch 8/30\n",
            "409/409 [==============================] - 36s 87ms/step - loss: 0.5189 - accuracy: 0.9299 - val_loss: 0.8041 - val_accuracy: 0.8306\n",
            "Epoch 9/30\n",
            "409/409 [==============================] - 37s 90ms/step - loss: 0.4522 - accuracy: 0.9406 - val_loss: 0.7517 - val_accuracy: 0.8429\n",
            "Epoch 10/30\n",
            "409/409 [==============================] - 34s 84ms/step - loss: 0.3953 - accuracy: 0.9497 - val_loss: 0.7121 - val_accuracy: 0.8462\n",
            "Epoch 11/30\n",
            "409/409 [==============================] - 32s 78ms/step - loss: 0.3488 - accuracy: 0.9571 - val_loss: 0.6751 - val_accuracy: 0.8487\n",
            "Epoch 12/30\n",
            "409/409 [==============================] - 31s 77ms/step - loss: 0.3086 - accuracy: 0.9641 - val_loss: 0.6457 - val_accuracy: 0.8553\n",
            "Epoch 13/30\n",
            "409/409 [==============================] - 32s 79ms/step - loss: 0.2742 - accuracy: 0.9710 - val_loss: 0.6202 - val_accuracy: 0.8594\n",
            "Epoch 14/30\n",
            "409/409 [==============================] - 32s 78ms/step - loss: 0.2467 - accuracy: 0.9736 - val_loss: 0.5944 - val_accuracy: 0.8635\n",
            "Epoch 15/30\n",
            "409/409 [==============================] - 32s 78ms/step - loss: 0.2211 - accuracy: 0.9791 - val_loss: 0.5771 - val_accuracy: 0.8643\n",
            "Epoch 16/30\n",
            "409/409 [==============================] - 33s 80ms/step - loss: 0.1971 - accuracy: 0.9814 - val_loss: 0.5593 - val_accuracy: 0.8692\n",
            "Epoch 17/30\n",
            "409/409 [==============================] - 32s 79ms/step - loss: 0.1778 - accuracy: 0.9864 - val_loss: 0.5441 - val_accuracy: 0.8766\n",
            "Epoch 18/30\n",
            "409/409 [==============================] - 32s 78ms/step - loss: 0.1601 - accuracy: 0.9873 - val_loss: 0.5321 - val_accuracy: 0.8750\n",
            "Epoch 19/30\n",
            "409/409 [==============================] - 33s 80ms/step - loss: 0.1447 - accuracy: 0.9896 - val_loss: 0.5213 - val_accuracy: 0.8758\n",
            "Epoch 20/30\n",
            "409/409 [==============================] - 32s 78ms/step - loss: 0.1310 - accuracy: 0.9911 - val_loss: 0.5113 - val_accuracy: 0.8775\n",
            "Epoch 21/30\n",
            "409/409 [==============================] - 32s 78ms/step - loss: 0.1178 - accuracy: 0.9936 - val_loss: 0.4990 - val_accuracy: 0.8791\n",
            "Epoch 22/30\n",
            "409/409 [==============================] - 33s 80ms/step - loss: 0.1062 - accuracy: 0.9950 - val_loss: 0.4951 - val_accuracy: 0.8824\n",
            "Epoch 23/30\n",
            "409/409 [==============================] - 32s 79ms/step - loss: 0.0978 - accuracy: 0.9956 - val_loss: 0.4821 - val_accuracy: 0.8832\n",
            "Epoch 24/30\n",
            "409/409 [==============================] - 32s 78ms/step - loss: 0.0887 - accuracy: 0.9968 - val_loss: 0.4790 - val_accuracy: 0.8832\n",
            "Epoch 25/30\n",
            "409/409 [==============================] - 32s 79ms/step - loss: 0.0793 - accuracy: 0.9976 - val_loss: 0.4744 - val_accuracy: 0.8840\n",
            "Epoch 26/30\n",
            "409/409 [==============================] - 33s 80ms/step - loss: 0.0729 - accuracy: 0.9976 - val_loss: 0.4653 - val_accuracy: 0.8816\n",
            "Epoch 27/30\n",
            "409/409 [==============================] - 32s 77ms/step - loss: 0.0657 - accuracy: 0.9985 - val_loss: 0.4646 - val_accuracy: 0.8890\n",
            "Epoch 28/30\n",
            "409/409 [==============================] - 33s 80ms/step - loss: 0.0605 - accuracy: 0.9989 - val_loss: 0.4605 - val_accuracy: 0.8873\n",
            "Epoch 29/30\n",
            "409/409 [==============================] - 32s 79ms/step - loss: 0.0550 - accuracy: 0.9989 - val_loss: 0.4561 - val_accuracy: 0.8873\n",
            "Epoch 30/30\n",
            "409/409 [==============================] - 31s 77ms/step - loss: 0.0497 - accuracy: 0.9991 - val_loss: 0.4507 - val_accuracy: 0.8865\n"
          ],
          "name": "stdout"
        }
      ]
    },
    {
      "cell_type": "code",
      "metadata": {
        "id": "WSrgMcIov1KQ",
        "colab_type": "code",
        "colab": {
          "base_uri": "https://localhost:8080/",
          "height": 106
        },
        "outputId": "62716d27-b52d-47c3-a90a-77b3373eb59c"
      },
      "source": [
        "save_model(model, 'resnet50v2_fe')"
      ],
      "execution_count": null,
      "outputs": [
        {
          "output_type": "stream",
          "text": [
            "WARNING:tensorflow:From /usr/local/lib/python3.6/dist-packages/tensorflow/python/ops/resource_variable_ops.py:1817: calling BaseResourceVariable.__init__ (from tensorflow.python.ops.resource_variable_ops) with constraint is deprecated and will be removed in a future version.\n",
            "Instructions for updating:\n",
            "If using Keras pass *_constraint arguments to layers.\n",
            "INFO:tensorflow:Assets written to: models/resnet50v2_fe/assets\n"
          ],
          "name": "stdout"
        }
      ]
    },
    {
      "cell_type": "code",
      "metadata": {
        "colab_type": "code",
        "id": "awf5Bpvkv8Tv",
        "colab": {
          "base_uri": "https://localhost:8080/",
          "height": 390
        },
        "outputId": "8ef18e66-9055-486a-b5d8-aa14352037ee"
      },
      "source": [
        "plot_curves(history)"
      ],
      "execution_count": null,
      "outputs": [
        {
          "output_type": "display_data",
          "data": {
            "image/png": "[encoded data removed]",
            "text/plain": [
              "<Figure size 1296x432 with 2 Axes>"
            ]
          },
          "metadata": {
            "tags": [],
            "needs_background": "light"
          }
        }
      ]
    },
    {
      "cell_type": "code",
      "metadata": {
        "colab_type": "code",
        "id": "Vxbavvjhv8UN",
        "colab": {
          "base_uri": "https://localhost:8080/",
          "height": 159
        },
        "outputId": "bd35fd7c-d380-4547-a407-cfd745194f36"
      },
      "source": [
        "show_scores(model, test_ds)"
      ],
      "execution_count": null,
      "outputs": [
        {
          "output_type": "stream",
          "text": [
            "/usr/local/lib/python3.6/dist-packages/sklearn/metrics/_classification.py:1272: UndefinedMetricWarning: Precision is ill-defined and being set to 0.0 in labels with no predicted samples. Use `zero_division` parameter to control this behavior.\n",
            "  _warn_prf(average, modifier, msg_start, len(result))\n"
          ],
          "name": "stderr"
        },
        {
          "output_type": "stream",
          "text": [
            "|Average prediction time: 9.71 ms\n",
            "|Average Type |Prec |Rec |F1\n",
            "|--- |--- |--- |---\n",
            "|Micro|0.89|0.89|0.89\n",
            "|Macro|0.87|0.88|0.86\n"
          ],
          "name": "stdout"
        }
      ]
    },
    {
      "cell_type": "markdown",
      "metadata": {
        "id": "f1iSFIQmCePy",
        "colab_type": "text"
      },
      "source": [
        "### Fine-tuning **without** data augmentation"
      ]
    },
    {
      "cell_type": "code",
      "metadata": {
        "id": "3V7ZpQBC_STu",
        "colab_type": "code",
        "colab": {}
      },
      "source": [
        "train_ds = np_to_dataset(X_train, y_train, training=True, augmentation=False, batch_size=BATCH_SIZE)\n",
        "val_ds = np_to_dataset(X_val, y_val, training=False, batch_size=BATCH_SIZE)\n",
        "test_ds = np_to_dataset(X_test, y_test, training=False, batch_size=1)"
      ],
      "execution_count": null,
      "outputs": []
    },
    {
      "cell_type": "code",
      "metadata": {
        "id": "kQak0fOCGyso",
        "colab_type": "code",
        "colab": {}
      },
      "source": [
        "model = create_resnet50v2_model()\n",
        "load_model_weights(model, 'resnet50v2_fe')"
      ],
      "execution_count": null,
      "outputs": []
    },
    {
      "cell_type": "code",
      "metadata": {
        "id": "3Ix9H3y9G22Y",
        "colab_type": "code",
        "colab": {
          "base_uri": "https://localhost:8080/",
          "height": 225
        },
        "outputId": "88e3c039-9b10-426b-a40c-0302a5a5322b"
      },
      "source": [
        "model.summary()"
      ],
      "execution_count": null,
      "outputs": [
        {
          "output_type": "stream",
          "text": [
            "Model: \"sequential_2\"\n",
            "_________________________________________________________________\n",
            "Layer (type)                 Output Shape              Param #   \n",
            "=================================================================\n",
            "resnet50v2 (Model)           (None, 2048)              23564800  \n",
            "_________________________________________________________________\n",
            "dense_2 (Dense)              (None, 102)               208998    \n",
            "=================================================================\n",
            "Total params: 23,773,798\n",
            "Trainable params: 23,728,358\n",
            "Non-trainable params: 45,440\n",
            "_________________________________________________________________\n"
          ],
          "name": "stdout"
        }
      ]
    },
    {
      "cell_type": "markdown",
      "metadata": {
        "id": "KnMJ3AsQDJ2o",
        "colab_type": "text"
      },
      "source": [
        "Unfreeze block conv_5 and post_bn layer of the convolutional base, as well as the classifier"
      ]
    },
    {
      "cell_type": "code",
      "metadata": {
        "id": "NpDW8o1CDaU9",
        "colab_type": "code",
        "colab": {}
      },
      "source": [
        "conv_base = model.get_layer('resnet50v2')\n",
        "classifier = model.get_layer('dense_2')\n",
        "\n",
        "# Freeze convolutional base\n",
        "freeze_model(conv_base)\n",
        "\n",
        "# Unfreeze the last few layers of the convolutional base\n",
        "for layer in conv_base.layers:\n",
        "  if layer.name.startswith('conv5_block3') or layer.name.startswith('post'):\n",
        "    layer.trainable = True"
      ],
      "execution_count": null,
      "outputs": []
    },
    {
      "cell_type": "code",
      "metadata": {
        "id": "D5Y0AebBJAM1",
        "colab_type": "code",
        "colab": {
          "base_uri": "https://localhost:8080/",
          "height": 225
        },
        "outputId": "9619cc84-1952-4f38-bcd8-2f8e09d36893"
      },
      "source": [
        "# Compile with lower learning rate\n",
        "optimizer = Adam(lr=1e-5)\n",
        "model.compile(optimizer=optimizer,loss='sparse_categorical_crossentropy', metrics=['accuracy'])\n",
        "model.summary()"
      ],
      "execution_count": null,
      "outputs": [
        {
          "output_type": "stream",
          "text": [
            "Model: \"sequential_2\"\n",
            "_________________________________________________________________\n",
            "Layer (type)                 Output Shape              Param #   \n",
            "=================================================================\n",
            "resnet50v2 (Model)           (None, 2048)              23564800  \n",
            "_________________________________________________________________\n",
            "dense_2 (Dense)              (None, 102)               208998    \n",
            "=================================================================\n",
            "Total params: 23,773,798\n",
            "Trainable params: 4,677,734\n",
            "Non-trainable params: 19,096,064\n",
            "_________________________________________________________________\n"
          ],
          "name": "stdout"
        }
      ]
    },
    {
      "cell_type": "code",
      "metadata": {
        "id": "MhAf89lUJGxJ",
        "colab_type": "code",
        "colab": {
          "base_uri": "https://localhost:8080/",
          "height": 1000
        },
        "outputId": "2e57b2dc-33cd-4692-e49f-248a39535f75"
      },
      "source": [
        "history = model_trainer.train_model(model, train_ds, val_ds, epochs=100)"
      ],
      "execution_count": null,
      "outputs": [
        {
          "output_type": "stream",
          "text": [
            "Batch size: 16\n",
            "Training dataset size: 6551 - Training steps per epoch: 409\n",
            "Validation dataset size: 1228 - Validation steps per epoch: 76\n",
            "Epoch 1/100\n",
            "409/409 [==============================] - 62s 151ms/step - loss: 0.3575 - accuracy: 0.9218 - val_loss: 0.5872 - val_accuracy: 0.8660\n",
            "Epoch 2/100\n",
            "409/409 [==============================] - 59s 144ms/step - loss: 0.1488 - accuracy: 0.9852 - val_loss: 0.5259 - val_accuracy: 0.8775\n",
            "Epoch 3/100\n",
            "409/409 [==============================] - 59s 144ms/step - loss: 0.0983 - accuracy: 0.9931 - val_loss: 0.4901 - val_accuracy: 0.8857\n",
            "Epoch 4/100\n",
            "409/409 [==============================] - 77s 189ms/step - loss: 0.0694 - accuracy: 0.9959 - val_loss: 0.4732 - val_accuracy: 0.8840\n",
            "Epoch 5/100\n",
            "409/409 [==============================] - 77s 189ms/step - loss: 0.0530 - accuracy: 0.9982 - val_loss: 0.4519 - val_accuracy: 0.8914\n",
            "Epoch 6/100\n",
            "409/409 [==============================] - 77s 187ms/step - loss: 0.0403 - accuracy: 0.9988 - val_loss: 0.4415 - val_accuracy: 0.8914\n",
            "Epoch 7/100\n",
            "409/409 [==============================] - 76s 186ms/step - loss: 0.0326 - accuracy: 0.9988 - val_loss: 0.4330 - val_accuracy: 0.8914\n",
            "Epoch 8/100\n",
            "409/409 [==============================] - 74s 181ms/step - loss: 0.0275 - accuracy: 0.9991 - val_loss: 0.4285 - val_accuracy: 0.8947\n",
            "Epoch 9/100\n",
            "409/409 [==============================] - 68s 167ms/step - loss: 0.0225 - accuracy: 0.9994 - val_loss: 0.4225 - val_accuracy: 0.8931\n",
            "Epoch 10/100\n",
            "409/409 [==============================] - 62s 151ms/step - loss: 0.0182 - accuracy: 0.9998 - val_loss: 0.4178 - val_accuracy: 0.8914\n",
            "Epoch 11/100\n",
            "409/409 [==============================] - 61s 150ms/step - loss: 0.0161 - accuracy: 0.9997 - val_loss: 0.4098 - val_accuracy: 0.8972\n",
            "Epoch 12/100\n",
            "409/409 [==============================] - 62s 151ms/step - loss: 0.0127 - accuracy: 0.9997 - val_loss: 0.4064 - val_accuracy: 0.8988\n",
            "Epoch 13/100\n",
            "409/409 [==============================] - 61s 150ms/step - loss: 0.0116 - accuracy: 0.9998 - val_loss: 0.4010 - val_accuracy: 0.9005\n",
            "Epoch 14/100\n",
            "409/409 [==============================] - 61s 150ms/step - loss: 0.0101 - accuracy: 0.9998 - val_loss: 0.3948 - val_accuracy: 0.9013\n",
            "Epoch 15/100\n",
            "409/409 [==============================] - 62s 151ms/step - loss: 0.0087 - accuracy: 0.9995 - val_loss: 0.3888 - val_accuracy: 0.9005\n",
            "Epoch 16/100\n",
            "409/409 [==============================] - 61s 150ms/step - loss: 0.0086 - accuracy: 0.9997 - val_loss: 0.3862 - val_accuracy: 0.9013\n",
            "Epoch 17/100\n",
            "409/409 [==============================] - 61s 150ms/step - loss: 0.0068 - accuracy: 0.9995 - val_loss: 0.3871 - val_accuracy: 0.9021\n",
            "Epoch 18/100\n",
            "409/409 [==============================] - 61s 150ms/step - loss: 0.0060 - accuracy: 0.9998 - val_loss: 0.3870 - val_accuracy: 0.9046\n",
            "Epoch 19/100\n",
            "409/409 [==============================] - 61s 150ms/step - loss: 0.0056 - accuracy: 0.9998 - val_loss: 0.3881 - val_accuracy: 0.9021\n",
            "Epoch 20/100\n",
            "409/409 [==============================] - 62s 150ms/step - loss: 0.0045 - accuracy: 1.0000 - val_loss: 0.3849 - val_accuracy: 0.9038\n",
            "Epoch 21/100\n",
            "409/409 [==============================] - 61s 150ms/step - loss: 0.0044 - accuracy: 0.9997 - val_loss: 0.3804 - val_accuracy: 0.9054\n",
            "Epoch 22/100\n",
            "409/409 [==============================] - 61s 150ms/step - loss: 0.0042 - accuracy: 0.9995 - val_loss: 0.3771 - val_accuracy: 0.9071\n",
            "Epoch 23/100\n",
            "409/409 [==============================] - 61s 150ms/step - loss: 0.0038 - accuracy: 0.9998 - val_loss: 0.3797 - val_accuracy: 0.9071\n",
            "Epoch 24/100\n",
            "409/409 [==============================] - 62s 151ms/step - loss: 0.0030 - accuracy: 1.0000 - val_loss: 0.3770 - val_accuracy: 0.9079\n",
            "Epoch 25/100\n",
            "409/409 [==============================] - 62s 152ms/step - loss: 0.0029 - accuracy: 0.9997 - val_loss: 0.3765 - val_accuracy: 0.9079\n",
            "Epoch 26/100\n",
            "409/409 [==============================] - 62s 151ms/step - loss: 0.0026 - accuracy: 0.9997 - val_loss: 0.3769 - val_accuracy: 0.9087\n",
            "Epoch 27/100\n",
            "409/409 [==============================] - 62s 151ms/step - loss: 0.0026 - accuracy: 0.9997 - val_loss: 0.3729 - val_accuracy: 0.9087\n",
            "Epoch 28/100\n",
            "409/409 [==============================] - 62s 151ms/step - loss: 0.0022 - accuracy: 0.9997 - val_loss: 0.3756 - val_accuracy: 0.9079\n",
            "Epoch 29/100\n",
            "409/409 [==============================] - 62s 151ms/step - loss: 0.0018 - accuracy: 0.9998 - val_loss: 0.3715 - val_accuracy: 0.9104\n",
            "Epoch 30/100\n",
            "409/409 [==============================] - 61s 150ms/step - loss: 0.0019 - accuracy: 0.9998 - val_loss: 0.3704 - val_accuracy: 0.9095\n",
            "Epoch 31/100\n",
            "409/409 [==============================] - 61s 150ms/step - loss: 0.0014 - accuracy: 0.9998 - val_loss: 0.3703 - val_accuracy: 0.9112\n",
            "Epoch 32/100\n",
            "409/409 [==============================] - 61s 149ms/step - loss: 0.0015 - accuracy: 0.9997 - val_loss: 0.3823 - val_accuracy: 0.9087\n",
            "Epoch 33/100\n",
            "409/409 [==============================] - 61s 150ms/step - loss: 0.0017 - accuracy: 0.9997 - val_loss: 0.3748 - val_accuracy: 0.9128\n",
            "Epoch 34/100\n",
            "409/409 [==============================] - 61s 149ms/step - loss: 0.0014 - accuracy: 0.9997 - val_loss: 0.3792 - val_accuracy: 0.9128\n",
            "Epoch 35/100\n",
            "409/409 [==============================] - 61s 150ms/step - loss: 0.0014 - accuracy: 0.9997 - val_loss: 0.3723 - val_accuracy: 0.9104\n",
            "Epoch 36/100\n",
            "409/409 [==============================] - 61s 150ms/step - loss: 0.0011 - accuracy: 0.9998 - val_loss: 0.3675 - val_accuracy: 0.9128\n",
            "Epoch 37/100\n",
            "409/409 [==============================] - 61s 150ms/step - loss: 8.9629e-04 - accuracy: 1.0000 - val_loss: 0.3671 - val_accuracy: 0.9169\n",
            "Epoch 38/100\n",
            "409/409 [==============================] - 62s 151ms/step - loss: 8.5633e-04 - accuracy: 0.9998 - val_loss: 0.3657 - val_accuracy: 0.9112\n",
            "Epoch 39/100\n",
            "409/409 [==============================] - 61s 150ms/step - loss: 8.2674e-04 - accuracy: 0.9998 - val_loss: 0.3690 - val_accuracy: 0.9137\n",
            "Epoch 40/100\n",
            "409/409 [==============================] - 62s 151ms/step - loss: 9.2070e-04 - accuracy: 0.9998 - val_loss: 0.3662 - val_accuracy: 0.9112\n",
            "Epoch 41/100\n",
            "409/409 [==============================] - 62s 150ms/step - loss: 9.2374e-04 - accuracy: 0.9998 - val_loss: 0.3666 - val_accuracy: 0.9095\n",
            "Epoch 42/100\n",
            "409/409 [==============================] - 61s 150ms/step - loss: 8.5695e-04 - accuracy: 0.9998 - val_loss: 0.3701 - val_accuracy: 0.9112\n",
            "Epoch 43/100\n",
            "409/409 [==============================] - 62s 151ms/step - loss: 7.9339e-04 - accuracy: 0.9998 - val_loss: 0.3603 - val_accuracy: 0.9145\n",
            "Epoch 44/100\n",
            "409/409 [==============================] - 62s 150ms/step - loss: 6.2493e-04 - accuracy: 1.0000 - val_loss: 0.3662 - val_accuracy: 0.9153\n",
            "Epoch 45/100\n",
            "409/409 [==============================] - 61s 149ms/step - loss: 8.1366e-04 - accuracy: 0.9997 - val_loss: 0.3674 - val_accuracy: 0.9120\n",
            "Epoch 46/100\n",
            "409/409 [==============================] - 61s 150ms/step - loss: 5.5942e-04 - accuracy: 0.9998 - val_loss: 0.3677 - val_accuracy: 0.9120\n",
            "Epoch 47/100\n",
            "409/409 [==============================] - 61s 150ms/step - loss: 5.0020e-04 - accuracy: 1.0000 - val_loss: 0.3676 - val_accuracy: 0.9120\n",
            "Epoch 48/100\n",
            "409/409 [==============================] - 61s 150ms/step - loss: 4.0495e-04 - accuracy: 1.0000 - val_loss: 0.3713 - val_accuracy: 0.9120\n",
            "Epoch 49/100\n",
            "409/409 [==============================] - 61s 150ms/step - loss: 3.2805e-04 - accuracy: 1.0000 - val_loss: 0.3695 - val_accuracy: 0.9120\n",
            "Epoch 50/100\n",
            "409/409 [==============================] - 61s 150ms/step - loss: 6.8438e-04 - accuracy: 0.9998 - val_loss: 0.3716 - val_accuracy: 0.9120\n",
            "Epoch 51/100\n",
            "409/409 [==============================] - 61s 150ms/step - loss: 4.6787e-04 - accuracy: 0.9998 - val_loss: 0.3691 - val_accuracy: 0.9137\n",
            "Epoch 52/100\n",
            "409/409 [==============================] - 61s 150ms/step - loss: 4.7439e-04 - accuracy: 0.9998 - val_loss: 0.3710 - val_accuracy: 0.9161\n",
            "Epoch 53/100\n",
            "409/409 [==============================] - 62s 150ms/step - loss: 7.9568e-04 - accuracy: 0.9998 - val_loss: 0.3752 - val_accuracy: 0.9128\n"
          ],
          "name": "stdout"
        }
      ]
    },
    {
      "cell_type": "code",
      "metadata": {
        "id": "rh2Hesk3LNHO",
        "colab_type": "code",
        "colab": {}
      },
      "source": [
        "save_model_weights(model, 'resnet50v2_ft')"
      ],
      "execution_count": null,
      "outputs": []
    },
    {
      "cell_type": "code",
      "metadata": {
        "id": "vrtruTlCLZVN",
        "colab_type": "code",
        "colab": {
          "base_uri": "https://localhost:8080/",
          "height": 390
        },
        "outputId": "e2df6d67-fe0d-4dd2-e078-daaa70c5d477"
      },
      "source": [
        "plot_curves(history)"
      ],
      "execution_count": null,
      "outputs": [
        {
          "output_type": "display_data",
          "data": {
            "image/png": "[encoded data removed]",
            "text/plain": [
              "<Figure size 1296x432 with 2 Axes>"
            ]
          },
          "metadata": {
            "tags": [],
            "needs_background": "light"
          }
        }
      ]
    },
    {
      "cell_type": "code",
      "metadata": {
        "id": "vCY3wjbWUvzQ",
        "colab_type": "code",
        "colab": {
          "base_uri": "https://localhost:8080/",
          "height": 159
        },
        "outputId": "7e0f2bd2-3822-44a2-badb-2a02e614c253"
      },
      "source": [
        "show_scores(model, test_ds)"
      ],
      "execution_count": null,
      "outputs": [
        {
          "output_type": "stream",
          "text": [
            "/usr/local/lib/python3.6/dist-packages/sklearn/metrics/_classification.py:1272: UndefinedMetricWarning: Precision is ill-defined and being set to 0.0 in labels with no predicted samples. Use `zero_division` parameter to control this behavior.\n",
            "  _warn_prf(average, modifier, msg_start, len(result))\n"
          ],
          "name": "stderr"
        },
        {
          "output_type": "stream",
          "text": [
            "|Average prediction time: 20.94 ms\n",
            "|Average Type |Prec |Rec |F1\n",
            "|--- |--- |--- |---\n",
            "|Micro|0.94|0.94|0.94\n",
            "|Macro|0.94|0.93|0.92\n"
          ],
          "name": "stdout"
        }
      ]
    },
    {
      "cell_type": "markdown",
      "metadata": {
        "id": "HzjoVdX9FqZe",
        "colab_type": "text"
      },
      "source": [
        "### Feature extraction **with** Data Augmentation"
      ]
    },
    {
      "cell_type": "code",
      "metadata": {
        "colab_type": "code",
        "id": "4X55DzPSFu0Y",
        "colab": {}
      },
      "source": [
        "train_ds = np_to_dataset(X_train, y_train, training=True, augmentation=True, batch_size=BATCH_SIZE)\n",
        "val_ds = np_to_dataset(X_val, y_val, training=False, batch_size=BATCH_SIZE)\n",
        "test_ds = np_to_dataset(X_test, y_test, training=False, batch_size=1)"
      ],
      "execution_count": null,
      "outputs": []
    },
    {
      "cell_type": "code",
      "metadata": {
        "colab_type": "code",
        "id": "IzZxFd_YFu0j",
        "colab": {}
      },
      "source": [
        "model = create_resnet50v2_model()"
      ],
      "execution_count": null,
      "outputs": []
    },
    {
      "cell_type": "code",
      "metadata": {
        "colab_type": "code",
        "id": "_AFkYO8bFu0r",
        "colab": {
          "base_uri": "https://localhost:8080/",
          "height": 1000
        },
        "outputId": "f10617b7-068f-4514-ede6-e35d21e2794e"
      },
      "source": [
        "conv_base = model.get_layer('resnet50v2')\n",
        "freeze_model(conv_base)\n",
        "\n",
        "conv_base.summary()"
      ],
      "execution_count": null,
      "outputs": [
        {
          "output_type": "stream",
          "text": [
            "Model: \"resnet50v2\"\n",
            "__________________________________________________________________________________________________\n",
            "Layer (type)                    Output Shape         Param #     Connected to                     \n",
            "==================================================================================================\n",
            "input_7 (InputLayer)            [(None, 224, 224, 3) 0                                            \n",
            "__________________________________________________________________________________________________\n",
            "conv1_pad (ZeroPadding2D)       (None, 230, 230, 3)  0           input_7[0][0]                    \n",
            "__________________________________________________________________________________________________\n",
            "conv1_conv (Conv2D)             (None, 112, 112, 64) 9472        conv1_pad[0][0]                  \n",
            "__________________________________________________________________________________________________\n",
            "pool1_pad (ZeroPadding2D)       (None, 114, 114, 64) 0           conv1_conv[0][0]                 \n",
            "__________________________________________________________________________________________________\n",
            "pool1_pool (MaxPooling2D)       (None, 56, 56, 64)   0           pool1_pad[0][0]                  \n",
            "__________________________________________________________________________________________________\n",
            "conv2_block1_preact_bn (BatchNo (None, 56, 56, 64)   256         pool1_pool[0][0]                 \n",
            "__________________________________________________________________________________________________\n",
            "conv2_block1_preact_relu (Activ (None, 56, 56, 64)   0           conv2_block1_preact_bn[0][0]     \n",
            "__________________________________________________________________________________________________\n",
            "conv2_block1_1_conv (Conv2D)    (None, 56, 56, 64)   4096        conv2_block1_preact_relu[0][0]   \n",
            "__________________________________________________________________________________________________\n",
            "conv2_block1_1_bn (BatchNormali (None, 56, 56, 64)   256         conv2_block1_1_conv[0][0]        \n",
            "__________________________________________________________________________________________________\n",
            "conv2_block1_1_relu (Activation (None, 56, 56, 64)   0           conv2_block1_1_bn[0][0]          \n",
            "__________________________________________________________________________________________________\n",
            "conv2_block1_2_pad (ZeroPadding (None, 58, 58, 64)   0           conv2_block1_1_relu[0][0]        \n",
            "__________________________________________________________________________________________________\n",
            "conv2_block1_2_conv (Conv2D)    (None, 56, 56, 64)   36864       conv2_block1_2_pad[0][0]         \n",
            "__________________________________________________________________________________________________\n",
            "conv2_block1_2_bn (BatchNormali (None, 56, 56, 64)   256         conv2_block1_2_conv[0][0]        \n",
            "__________________________________________________________________________________________________\n",
            "conv2_block1_2_relu (Activation (None, 56, 56, 64)   0           conv2_block1_2_bn[0][0]          \n",
            "__________________________________________________________________________________________________\n",
            "conv2_block1_0_conv (Conv2D)    (None, 56, 56, 256)  16640       conv2_block1_preact_relu[0][0]   \n",
            "__________________________________________________________________________________________________\n",
            "conv2_block1_3_conv (Conv2D)    (None, 56, 56, 256)  16640       conv2_block1_2_relu[0][0]        \n",
            "__________________________________________________________________________________________________\n",
            "conv2_block1_out (Add)          (None, 56, 56, 256)  0           conv2_block1_0_conv[0][0]        \n",
            "                                                                 conv2_block1_3_conv[0][0]        \n",
            "__________________________________________________________________________________________________\n",
            "conv2_block2_preact_bn (BatchNo (None, 56, 56, 256)  1024        conv2_block1_out[0][0]           \n",
            "__________________________________________________________________________________________________\n",
            "conv2_block2_preact_relu (Activ (None, 56, 56, 256)  0           conv2_block2_preact_bn[0][0]     \n",
            "__________________________________________________________________________________________________\n",
            "conv2_block2_1_conv (Conv2D)    (None, 56, 56, 64)   16384       conv2_block2_preact_relu[0][0]   \n",
            "__________________________________________________________________________________________________\n",
            "conv2_block2_1_bn (BatchNormali (None, 56, 56, 64)   256         conv2_block2_1_conv[0][0]        \n",
            "__________________________________________________________________________________________________\n",
            "conv2_block2_1_relu (Activation (None, 56, 56, 64)   0           conv2_block2_1_bn[0][0]          \n",
            "__________________________________________________________________________________________________\n",
            "conv2_block2_2_pad (ZeroPadding (None, 58, 58, 64)   0           conv2_block2_1_relu[0][0]        \n",
            "__________________________________________________________________________________________________\n",
            "conv2_block2_2_conv (Conv2D)    (None, 56, 56, 64)   36864       conv2_block2_2_pad[0][0]         \n",
            "__________________________________________________________________________________________________\n",
            "conv2_block2_2_bn (BatchNormali (None, 56, 56, 64)   256         conv2_block2_2_conv[0][0]        \n",
            "__________________________________________________________________________________________________\n",
            "conv2_block2_2_relu (Activation (None, 56, 56, 64)   0           conv2_block2_2_bn[0][0]          \n",
            "__________________________________________________________________________________________________\n",
            "conv2_block2_3_conv (Conv2D)    (None, 56, 56, 256)  16640       conv2_block2_2_relu[0][0]        \n",
            "__________________________________________________________________________________________________\n",
            "conv2_block2_out (Add)          (None, 56, 56, 256)  0           conv2_block1_out[0][0]           \n",
            "                                                                 conv2_block2_3_conv[0][0]        \n",
            "__________________________________________________________________________________________________\n",
            "conv2_block3_preact_bn (BatchNo (None, 56, 56, 256)  1024        conv2_block2_out[0][0]           \n",
            "__________________________________________________________________________________________________\n",
            "conv2_block3_preact_relu (Activ (None, 56, 56, 256)  0           conv2_block3_preact_bn[0][0]     \n",
            "__________________________________________________________________________________________________\n",
            "conv2_block3_1_conv (Conv2D)    (None, 56, 56, 64)   16384       conv2_block3_preact_relu[0][0]   \n",
            "__________________________________________________________________________________________________\n",
            "conv2_block3_1_bn (BatchNormali (None, 56, 56, 64)   256         conv2_block3_1_conv[0][0]        \n",
            "__________________________________________________________________________________________________\n",
            "conv2_block3_1_relu (Activation (None, 56, 56, 64)   0           conv2_block3_1_bn[0][0]          \n",
            "__________________________________________________________________________________________________\n",
            "conv2_block3_2_pad (ZeroPadding (None, 58, 58, 64)   0           conv2_block3_1_relu[0][0]        \n",
            "__________________________________________________________________________________________________\n",
            "conv2_block3_2_conv (Conv2D)    (None, 28, 28, 64)   36864       conv2_block3_2_pad[0][0]         \n",
            "__________________________________________________________________________________________________\n",
            "conv2_block3_2_bn (BatchNormali (None, 28, 28, 64)   256         conv2_block3_2_conv[0][0]        \n",
            "__________________________________________________________________________________________________\n",
            "conv2_block3_2_relu (Activation (None, 28, 28, 64)   0           conv2_block3_2_bn[0][0]          \n",
            "__________________________________________________________________________________________________\n",
            "max_pooling2d_18 (MaxPooling2D) (None, 28, 28, 256)  0           conv2_block2_out[0][0]           \n",
            "__________________________________________________________________________________________________\n",
            "conv2_block3_3_conv (Conv2D)    (None, 28, 28, 256)  16640       conv2_block3_2_relu[0][0]        \n",
            "__________________________________________________________________________________________________\n",
            "conv2_block3_out (Add)          (None, 28, 28, 256)  0           max_pooling2d_18[0][0]           \n",
            "                                                                 conv2_block3_3_conv[0][0]        \n",
            "__________________________________________________________________________________________________\n",
            "conv3_block1_preact_bn (BatchNo (None, 28, 28, 256)  1024        conv2_block3_out[0][0]           \n",
            "__________________________________________________________________________________________________\n",
            "conv3_block1_preact_relu (Activ (None, 28, 28, 256)  0           conv3_block1_preact_bn[0][0]     \n",
            "__________________________________________________________________________________________________\n",
            "conv3_block1_1_conv (Conv2D)    (None, 28, 28, 128)  32768       conv3_block1_preact_relu[0][0]   \n",
            "__________________________________________________________________________________________________\n",
            "conv3_block1_1_bn (BatchNormali (None, 28, 28, 128)  512         conv3_block1_1_conv[0][0]        \n",
            "__________________________________________________________________________________________________\n",
            "conv3_block1_1_relu (Activation (None, 28, 28, 128)  0           conv3_block1_1_bn[0][0]          \n",
            "__________________________________________________________________________________________________\n",
            "conv3_block1_2_pad (ZeroPadding (None, 30, 30, 128)  0           conv3_block1_1_relu[0][0]        \n",
            "__________________________________________________________________________________________________\n",
            "conv3_block1_2_conv (Conv2D)    (None, 28, 28, 128)  147456      conv3_block1_2_pad[0][0]         \n",
            "__________________________________________________________________________________________________\n",
            "conv3_block1_2_bn (BatchNormali (None, 28, 28, 128)  512         conv3_block1_2_conv[0][0]        \n",
            "__________________________________________________________________________________________________\n",
            "conv3_block1_2_relu (Activation (None, 28, 28, 128)  0           conv3_block1_2_bn[0][0]          \n",
            "__________________________________________________________________________________________________\n",
            "conv3_block1_0_conv (Conv2D)    (None, 28, 28, 512)  131584      conv3_block1_preact_relu[0][0]   \n",
            "__________________________________________________________________________________________________\n",
            "conv3_block1_3_conv (Conv2D)    (None, 28, 28, 512)  66048       conv3_block1_2_relu[0][0]        \n",
            "__________________________________________________________________________________________________\n",
            "conv3_block1_out (Add)          (None, 28, 28, 512)  0           conv3_block1_0_conv[0][0]        \n",
            "                                                                 conv3_block1_3_conv[0][0]        \n",
            "__________________________________________________________________________________________________\n",
            "conv3_block2_preact_bn (BatchNo (None, 28, 28, 512)  2048        conv3_block1_out[0][0]           \n",
            "__________________________________________________________________________________________________\n",
            "conv3_block2_preact_relu (Activ (None, 28, 28, 512)  0           conv3_block2_preact_bn[0][0]     \n",
            "__________________________________________________________________________________________________\n",
            "conv3_block2_1_conv (Conv2D)    (None, 28, 28, 128)  65536       conv3_block2_preact_relu[0][0]   \n",
            "__________________________________________________________________________________________________\n",
            "conv3_block2_1_bn (BatchNormali (None, 28, 28, 128)  512         conv3_block2_1_conv[0][0]        \n",
            "__________________________________________________________________________________________________\n",
            "conv3_block2_1_relu (Activation (None, 28, 28, 128)  0           conv3_block2_1_bn[0][0]          \n",
            "__________________________________________________________________________________________________\n",
            "conv3_block2_2_pad (ZeroPadding (None, 30, 30, 128)  0           conv3_block2_1_relu[0][0]        \n",
            "__________________________________________________________________________________________________\n",
            "conv3_block2_2_conv (Conv2D)    (None, 28, 28, 128)  147456      conv3_block2_2_pad[0][0]         \n",
            "__________________________________________________________________________________________________\n",
            "conv3_block2_2_bn (BatchNormali (None, 28, 28, 128)  512         conv3_block2_2_conv[0][0]        \n",
            "__________________________________________________________________________________________________\n",
            "conv3_block2_2_relu (Activation (None, 28, 28, 128)  0           conv3_block2_2_bn[0][0]          \n",
            "__________________________________________________________________________________________________\n",
            "conv3_block2_3_conv (Conv2D)    (None, 28, 28, 512)  66048       conv3_block2_2_relu[0][0]        \n",
            "__________________________________________________________________________________________________\n",
            "conv3_block2_out (Add)          (None, 28, 28, 512)  0           conv3_block1_out[0][0]           \n",
            "                                                                 conv3_block2_3_conv[0][0]        \n",
            "__________________________________________________________________________________________________\n",
            "conv3_block3_preact_bn (BatchNo (None, 28, 28, 512)  2048        conv3_block2_out[0][0]           \n",
            "__________________________________________________________________________________________________\n",
            "conv3_block3_preact_relu (Activ (None, 28, 28, 512)  0           conv3_block3_preact_bn[0][0]     \n",
            "__________________________________________________________________________________________________\n",
            "conv3_block3_1_conv (Conv2D)    (None, 28, 28, 128)  65536       conv3_block3_preact_relu[0][0]   \n",
            "__________________________________________________________________________________________________\n",
            "conv3_block3_1_bn (BatchNormali (None, 28, 28, 128)  512         conv3_block3_1_conv[0][0]        \n",
            "__________________________________________________________________________________________________\n",
            "conv3_block3_1_relu (Activation (None, 28, 28, 128)  0           conv3_block3_1_bn[0][0]          \n",
            "__________________________________________________________________________________________________\n",
            "conv3_block3_2_pad (ZeroPadding (None, 30, 30, 128)  0           conv3_block3_1_relu[0][0]        \n",
            "__________________________________________________________________________________________________\n",
            "conv3_block3_2_conv (Conv2D)    (None, 28, 28, 128)  147456      conv3_block3_2_pad[0][0]         \n",
            "__________________________________________________________________________________________________\n",
            "conv3_block3_2_bn (BatchNormali (None, 28, 28, 128)  512         conv3_block3_2_conv[0][0]        \n",
            "__________________________________________________________________________________________________\n",
            "conv3_block3_2_relu (Activation (None, 28, 28, 128)  0           conv3_block3_2_bn[0][0]          \n",
            "__________________________________________________________________________________________________\n",
            "conv3_block3_3_conv (Conv2D)    (None, 28, 28, 512)  66048       conv3_block3_2_relu[0][0]        \n",
            "__________________________________________________________________________________________________\n",
            "conv3_block3_out (Add)          (None, 28, 28, 512)  0           conv3_block2_out[0][0]           \n",
            "                                                                 conv3_block3_3_conv[0][0]        \n",
            "__________________________________________________________________________________________________\n",
            "conv3_block4_preact_bn (BatchNo (None, 28, 28, 512)  2048        conv3_block3_out[0][0]           \n",
            "__________________________________________________________________________________________________\n",
            "conv3_block4_preact_relu (Activ (None, 28, 28, 512)  0           conv3_block4_preact_bn[0][0]     \n",
            "__________________________________________________________________________________________________\n",
            "conv3_block4_1_conv (Conv2D)    (None, 28, 28, 128)  65536       conv3_block4_preact_relu[0][0]   \n",
            "__________________________________________________________________________________________________\n",
            "conv3_block4_1_bn (BatchNormali (None, 28, 28, 128)  512         conv3_block4_1_conv[0][0]        \n",
            "__________________________________________________________________________________________________\n",
            "conv3_block4_1_relu (Activation (None, 28, 28, 128)  0           conv3_block4_1_bn[0][0]          \n",
            "__________________________________________________________________________________________________\n",
            "conv3_block4_2_pad (ZeroPadding (None, 30, 30, 128)  0           conv3_block4_1_relu[0][0]        \n",
            "__________________________________________________________________________________________________\n",
            "conv3_block4_2_conv (Conv2D)    (None, 14, 14, 128)  147456      conv3_block4_2_pad[0][0]         \n",
            "__________________________________________________________________________________________________\n",
            "conv3_block4_2_bn (BatchNormali (None, 14, 14, 128)  512         conv3_block4_2_conv[0][0]        \n",
            "__________________________________________________________________________________________________\n",
            "conv3_block4_2_relu (Activation (None, 14, 14, 128)  0           conv3_block4_2_bn[0][0]          \n",
            "__________________________________________________________________________________________________\n",
            "max_pooling2d_19 (MaxPooling2D) (None, 14, 14, 512)  0           conv3_block3_out[0][0]           \n",
            "__________________________________________________________________________________________________\n",
            "conv3_block4_3_conv (Conv2D)    (None, 14, 14, 512)  66048       conv3_block4_2_relu[0][0]        \n",
            "__________________________________________________________________________________________________\n",
            "conv3_block4_out (Add)          (None, 14, 14, 512)  0           max_pooling2d_19[0][0]           \n",
            "                                                                 conv3_block4_3_conv[0][0]        \n",
            "__________________________________________________________________________________________________\n",
            "conv4_block1_preact_bn (BatchNo (None, 14, 14, 512)  2048        conv3_block4_out[0][0]           \n",
            "__________________________________________________________________________________________________\n",
            "conv4_block1_preact_relu (Activ (None, 14, 14, 512)  0           conv4_block1_preact_bn[0][0]     \n",
            "__________________________________________________________________________________________________\n",
            "conv4_block1_1_conv (Conv2D)    (None, 14, 14, 256)  131072      conv4_block1_preact_relu[0][0]   \n",
            "__________________________________________________________________________________________________\n",
            "conv4_block1_1_bn (BatchNormali (None, 14, 14, 256)  1024        conv4_block1_1_conv[0][0]        \n",
            "__________________________________________________________________________________________________\n",
            "conv4_block1_1_relu (Activation (None, 14, 14, 256)  0           conv4_block1_1_bn[0][0]          \n",
            "__________________________________________________________________________________________________\n",
            "conv4_block1_2_pad (ZeroPadding (None, 16, 16, 256)  0           conv4_block1_1_relu[0][0]        \n",
            "__________________________________________________________________________________________________\n",
            "conv4_block1_2_conv (Conv2D)    (None, 14, 14, 256)  589824      conv4_block1_2_pad[0][0]         \n",
            "__________________________________________________________________________________________________\n",
            "conv4_block1_2_bn (BatchNormali (None, 14, 14, 256)  1024        conv4_block1_2_conv[0][0]        \n",
            "__________________________________________________________________________________________________\n",
            "conv4_block1_2_relu (Activation (None, 14, 14, 256)  0           conv4_block1_2_bn[0][0]          \n",
            "__________________________________________________________________________________________________\n",
            "conv4_block1_0_conv (Conv2D)    (None, 14, 14, 1024) 525312      conv4_block1_preact_relu[0][0]   \n",
            "__________________________________________________________________________________________________\n",
            "conv4_block1_3_conv (Conv2D)    (None, 14, 14, 1024) 263168      conv4_block1_2_relu[0][0]        \n",
            "__________________________________________________________________________________________________\n",
            "conv4_block1_out (Add)          (None, 14, 14, 1024) 0           conv4_block1_0_conv[0][0]        \n",
            "                                                                 conv4_block1_3_conv[0][0]        \n",
            "__________________________________________________________________________________________________\n",
            "conv4_block2_preact_bn (BatchNo (None, 14, 14, 1024) 4096        conv4_block1_out[0][0]           \n",
            "__________________________________________________________________________________________________\n",
            "conv4_block2_preact_relu (Activ (None, 14, 14, 1024) 0           conv4_block2_preact_bn[0][0]     \n",
            "__________________________________________________________________________________________________\n",
            "conv4_block2_1_conv (Conv2D)    (None, 14, 14, 256)  262144      conv4_block2_preact_relu[0][0]   \n",
            "__________________________________________________________________________________________________\n",
            "conv4_block2_1_bn (BatchNormali (None, 14, 14, 256)  1024        conv4_block2_1_conv[0][0]        \n",
            "__________________________________________________________________________________________________\n",
            "conv4_block2_1_relu (Activation (None, 14, 14, 256)  0           conv4_block2_1_bn[0][0]          \n",
            "__________________________________________________________________________________________________\n",
            "conv4_block2_2_pad (ZeroPadding (None, 16, 16, 256)  0           conv4_block2_1_relu[0][0]        \n",
            "__________________________________________________________________________________________________\n",
            "conv4_block2_2_conv (Conv2D)    (None, 14, 14, 256)  589824      conv4_block2_2_pad[0][0]         \n",
            "__________________________________________________________________________________________________\n",
            "conv4_block2_2_bn (BatchNormali (None, 14, 14, 256)  1024        conv4_block2_2_conv[0][0]        \n",
            "__________________________________________________________________________________________________\n",
            "conv4_block2_2_relu (Activation (None, 14, 14, 256)  0           conv4_block2_2_bn[0][0]          \n",
            "__________________________________________________________________________________________________\n",
            "conv4_block2_3_conv (Conv2D)    (None, 14, 14, 1024) 263168      conv4_block2_2_relu[0][0]        \n",
            "__________________________________________________________________________________________________\n",
            "conv4_block2_out (Add)          (None, 14, 14, 1024) 0           conv4_block1_out[0][0]           \n",
            "                                                                 conv4_block2_3_conv[0][0]        \n",
            "__________________________________________________________________________________________________\n",
            "conv4_block3_preact_bn (BatchNo (None, 14, 14, 1024) 4096        conv4_block2_out[0][0]           \n",
            "__________________________________________________________________________________________________\n",
            "conv4_block3_preact_relu (Activ (None, 14, 14, 1024) 0           conv4_block3_preact_bn[0][0]     \n",
            "__________________________________________________________________________________________________\n",
            "conv4_block3_1_conv (Conv2D)    (None, 14, 14, 256)  262144      conv4_block3_preact_relu[0][0]   \n",
            "__________________________________________________________________________________________________\n",
            "conv4_block3_1_bn (BatchNormali (None, 14, 14, 256)  1024        conv4_block3_1_conv[0][0]        \n",
            "__________________________________________________________________________________________________\n",
            "conv4_block3_1_relu (Activation (None, 14, 14, 256)  0           conv4_block3_1_bn[0][0]          \n",
            "__________________________________________________________________________________________________\n",
            "conv4_block3_2_pad (ZeroPadding (None, 16, 16, 256)  0           conv4_block3_1_relu[0][0]        \n",
            "__________________________________________________________________________________________________\n",
            "conv4_block3_2_conv (Conv2D)    (None, 14, 14, 256)  589824      conv4_block3_2_pad[0][0]         \n",
            "__________________________________________________________________________________________________\n",
            "conv4_block3_2_bn (BatchNormali (None, 14, 14, 256)  1024        conv4_block3_2_conv[0][0]        \n",
            "__________________________________________________________________________________________________\n",
            "conv4_block3_2_relu (Activation (None, 14, 14, 256)  0           conv4_block3_2_bn[0][0]          \n",
            "__________________________________________________________________________________________________\n",
            "conv4_block3_3_conv (Conv2D)    (None, 14, 14, 1024) 263168      conv4_block3_2_relu[0][0]        \n",
            "__________________________________________________________________________________________________\n",
            "conv4_block3_out (Add)          (None, 14, 14, 1024) 0           conv4_block2_out[0][0]           \n",
            "                                                                 conv4_block3_3_conv[0][0]        \n",
            "__________________________________________________________________________________________________\n",
            "conv4_block4_preact_bn (BatchNo (None, 14, 14, 1024) 4096        conv4_block3_out[0][0]           \n",
            "__________________________________________________________________________________________________\n",
            "conv4_block4_preact_relu (Activ (None, 14, 14, 1024) 0           conv4_block4_preact_bn[0][0]     \n",
            "__________________________________________________________________________________________________\n",
            "conv4_block4_1_conv (Conv2D)    (None, 14, 14, 256)  262144      conv4_block4_preact_relu[0][0]   \n",
            "__________________________________________________________________________________________________\n",
            "conv4_block4_1_bn (BatchNormali (None, 14, 14, 256)  1024        conv4_block4_1_conv[0][0]        \n",
            "__________________________________________________________________________________________________\n",
            "conv4_block4_1_relu (Activation (None, 14, 14, 256)  0           conv4_block4_1_bn[0][0]          \n",
            "__________________________________________________________________________________________________\n",
            "conv4_block4_2_pad (ZeroPadding (None, 16, 16, 256)  0           conv4_block4_1_relu[0][0]        \n",
            "__________________________________________________________________________________________________\n",
            "conv4_block4_2_conv (Conv2D)    (None, 14, 14, 256)  589824      conv4_block4_2_pad[0][0]         \n",
            "__________________________________________________________________________________________________\n",
            "conv4_block4_2_bn (BatchNormali (None, 14, 14, 256)  1024        conv4_block4_2_conv[0][0]        \n",
            "__________________________________________________________________________________________________\n",
            "conv4_block4_2_relu (Activation (None, 14, 14, 256)  0           conv4_block4_2_bn[0][0]          \n",
            "__________________________________________________________________________________________________\n",
            "conv4_block4_3_conv (Conv2D)    (None, 14, 14, 1024) 263168      conv4_block4_2_relu[0][0]        \n",
            "__________________________________________________________________________________________________\n",
            "conv4_block4_out (Add)          (None, 14, 14, 1024) 0           conv4_block3_out[0][0]           \n",
            "                                                                 conv4_block4_3_conv[0][0]        \n",
            "__________________________________________________________________________________________________\n",
            "conv4_block5_preact_bn (BatchNo (None, 14, 14, 1024) 4096        conv4_block4_out[0][0]           \n",
            "__________________________________________________________________________________________________\n",
            "conv4_block5_preact_relu (Activ (None, 14, 14, 1024) 0           conv4_block5_preact_bn[0][0]     \n",
            "__________________________________________________________________________________________________\n",
            "conv4_block5_1_conv (Conv2D)    (None, 14, 14, 256)  262144      conv4_block5_preact_relu[0][0]   \n",
            "__________________________________________________________________________________________________\n",
            "conv4_block5_1_bn (BatchNormali (None, 14, 14, 256)  1024        conv4_block5_1_conv[0][0]        \n",
            "__________________________________________________________________________________________________\n",
            "conv4_block5_1_relu (Activation (None, 14, 14, 256)  0           conv4_block5_1_bn[0][0]          \n",
            "__________________________________________________________________________________________________\n",
            "conv4_block5_2_pad (ZeroPadding (None, 16, 16, 256)  0           conv4_block5_1_relu[0][0]        \n",
            "__________________________________________________________________________________________________\n",
            "conv4_block5_2_conv (Conv2D)    (None, 14, 14, 256)  589824      conv4_block5_2_pad[0][0]         \n",
            "__________________________________________________________________________________________________\n",
            "conv4_block5_2_bn (BatchNormali (None, 14, 14, 256)  1024        conv4_block5_2_conv[0][0]        \n",
            "__________________________________________________________________________________________________\n",
            "conv4_block5_2_relu (Activation (None, 14, 14, 256)  0           conv4_block5_2_bn[0][0]          \n",
            "__________________________________________________________________________________________________\n",
            "conv4_block5_3_conv (Conv2D)    (None, 14, 14, 1024) 263168      conv4_block5_2_relu[0][0]        \n",
            "__________________________________________________________________________________________________\n",
            "conv4_block5_out (Add)          (None, 14, 14, 1024) 0           conv4_block4_out[0][0]           \n",
            "                                                                 conv4_block5_3_conv[0][0]        \n",
            "__________________________________________________________________________________________________\n",
            "conv4_block6_preact_bn (BatchNo (None, 14, 14, 1024) 4096        conv4_block5_out[0][0]           \n",
            "__________________________________________________________________________________________________\n",
            "conv4_block6_preact_relu (Activ (None, 14, 14, 1024) 0           conv4_block6_preact_bn[0][0]     \n",
            "__________________________________________________________________________________________________\n",
            "conv4_block6_1_conv (Conv2D)    (None, 14, 14, 256)  262144      conv4_block6_preact_relu[0][0]   \n",
            "__________________________________________________________________________________________________\n",
            "conv4_block6_1_bn (BatchNormali (None, 14, 14, 256)  1024        conv4_block6_1_conv[0][0]        \n",
            "__________________________________________________________________________________________________\n",
            "conv4_block6_1_relu (Activation (None, 14, 14, 256)  0           conv4_block6_1_bn[0][0]          \n",
            "__________________________________________________________________________________________________\n",
            "conv4_block6_2_pad (ZeroPadding (None, 16, 16, 256)  0           conv4_block6_1_relu[0][0]        \n",
            "__________________________________________________________________________________________________\n",
            "conv4_block6_2_conv (Conv2D)    (None, 7, 7, 256)    589824      conv4_block6_2_pad[0][0]         \n",
            "__________________________________________________________________________________________________\n",
            "conv4_block6_2_bn (BatchNormali (None, 7, 7, 256)    1024        conv4_block6_2_conv[0][0]        \n",
            "__________________________________________________________________________________________________\n",
            "conv4_block6_2_relu (Activation (None, 7, 7, 256)    0           conv4_block6_2_bn[0][0]          \n",
            "__________________________________________________________________________________________________\n",
            "max_pooling2d_20 (MaxPooling2D) (None, 7, 7, 1024)   0           conv4_block5_out[0][0]           \n",
            "__________________________________________________________________________________________________\n",
            "conv4_block6_3_conv (Conv2D)    (None, 7, 7, 1024)   263168      conv4_block6_2_relu[0][0]        \n",
            "__________________________________________________________________________________________________\n",
            "conv4_block6_out (Add)          (None, 7, 7, 1024)   0           max_pooling2d_20[0][0]           \n",
            "                                                                 conv4_block6_3_conv[0][0]        \n",
            "__________________________________________________________________________________________________\n",
            "conv5_block1_preact_bn (BatchNo (None, 7, 7, 1024)   4096        conv4_block6_out[0][0]           \n",
            "__________________________________________________________________________________________________\n",
            "conv5_block1_preact_relu (Activ (None, 7, 7, 1024)   0           conv5_block1_preact_bn[0][0]     \n",
            "__________________________________________________________________________________________________\n",
            "conv5_block1_1_conv (Conv2D)    (None, 7, 7, 512)    524288      conv5_block1_preact_relu[0][0]   \n",
            "__________________________________________________________________________________________________\n",
            "conv5_block1_1_bn (BatchNormali (None, 7, 7, 512)    2048        conv5_block1_1_conv[0][0]        \n",
            "__________________________________________________________________________________________________\n",
            "conv5_block1_1_relu (Activation (None, 7, 7, 512)    0           conv5_block1_1_bn[0][0]          \n",
            "__________________________________________________________________________________________________\n",
            "conv5_block1_2_pad (ZeroPadding (None, 9, 9, 512)    0           conv5_block1_1_relu[0][0]        \n",
            "__________________________________________________________________________________________________\n",
            "conv5_block1_2_conv (Conv2D)    (None, 7, 7, 512)    2359296     conv5_block1_2_pad[0][0]         \n",
            "__________________________________________________________________________________________________\n",
            "conv5_block1_2_bn (BatchNormali (None, 7, 7, 512)    2048        conv5_block1_2_conv[0][0]        \n",
            "__________________________________________________________________________________________________\n",
            "conv5_block1_2_relu (Activation (None, 7, 7, 512)    0           conv5_block1_2_bn[0][0]          \n",
            "__________________________________________________________________________________________________\n",
            "conv5_block1_0_conv (Conv2D)    (None, 7, 7, 2048)   2099200     conv5_block1_preact_relu[0][0]   \n",
            "__________________________________________________________________________________________________\n",
            "conv5_block1_3_conv (Conv2D)    (None, 7, 7, 2048)   1050624     conv5_block1_2_relu[0][0]        \n",
            "__________________________________________________________________________________________________\n",
            "conv5_block1_out (Add)          (None, 7, 7, 2048)   0           conv5_block1_0_conv[0][0]        \n",
            "                                                                 conv5_block1_3_conv[0][0]        \n",
            "__________________________________________________________________________________________________\n",
            "conv5_block2_preact_bn (BatchNo (None, 7, 7, 2048)   8192        conv5_block1_out[0][0]           \n",
            "__________________________________________________________________________________________________\n",
            "conv5_block2_preact_relu (Activ (None, 7, 7, 2048)   0           conv5_block2_preact_bn[0][0]     \n",
            "__________________________________________________________________________________________________\n",
            "conv5_block2_1_conv (Conv2D)    (None, 7, 7, 512)    1048576     conv5_block2_preact_relu[0][0]   \n",
            "__________________________________________________________________________________________________\n",
            "conv5_block2_1_bn (BatchNormali (None, 7, 7, 512)    2048        conv5_block2_1_conv[0][0]        \n",
            "__________________________________________________________________________________________________\n",
            "conv5_block2_1_relu (Activation (None, 7, 7, 512)    0           conv5_block2_1_bn[0][0]          \n",
            "__________________________________________________________________________________________________\n",
            "conv5_block2_2_pad (ZeroPadding (None, 9, 9, 512)    0           conv5_block2_1_relu[0][0]        \n",
            "__________________________________________________________________________________________________\n",
            "conv5_block2_2_conv (Conv2D)    (None, 7, 7, 512)    2359296     conv5_block2_2_pad[0][0]         \n",
            "__________________________________________________________________________________________________\n",
            "conv5_block2_2_bn (BatchNormali (None, 7, 7, 512)    2048        conv5_block2_2_conv[0][0]        \n",
            "__________________________________________________________________________________________________\n",
            "conv5_block2_2_relu (Activation (None, 7, 7, 512)    0           conv5_block2_2_bn[0][0]          \n",
            "__________________________________________________________________________________________________\n",
            "conv5_block2_3_conv (Conv2D)    (None, 7, 7, 2048)   1050624     conv5_block2_2_relu[0][0]        \n",
            "__________________________________________________________________________________________________\n",
            "conv5_block2_out (Add)          (None, 7, 7, 2048)   0           conv5_block1_out[0][0]           \n",
            "                                                                 conv5_block2_3_conv[0][0]        \n",
            "__________________________________________________________________________________________________\n",
            "conv5_block3_preact_bn (BatchNo (None, 7, 7, 2048)   8192        conv5_block2_out[0][0]           \n",
            "__________________________________________________________________________________________________\n",
            "conv5_block3_preact_relu (Activ (None, 7, 7, 2048)   0           conv5_block3_preact_bn[0][0]     \n",
            "__________________________________________________________________________________________________\n",
            "conv5_block3_1_conv (Conv2D)    (None, 7, 7, 512)    1048576     conv5_block3_preact_relu[0][0]   \n",
            "__________________________________________________________________________________________________\n",
            "conv5_block3_1_bn (BatchNormali (None, 7, 7, 512)    2048        conv5_block3_1_conv[0][0]        \n",
            "__________________________________________________________________________________________________\n",
            "conv5_block3_1_relu (Activation (None, 7, 7, 512)    0           conv5_block3_1_bn[0][0]          \n",
            "__________________________________________________________________________________________________\n",
            "conv5_block3_2_pad (ZeroPadding (None, 9, 9, 512)    0           conv5_block3_1_relu[0][0]        \n",
            "__________________________________________________________________________________________________\n",
            "conv5_block3_2_conv (Conv2D)    (None, 7, 7, 512)    2359296     conv5_block3_2_pad[0][0]         \n",
            "__________________________________________________________________________________________________\n",
            "conv5_block3_2_bn (BatchNormali (None, 7, 7, 512)    2048        conv5_block3_2_conv[0][0]        \n",
            "__________________________________________________________________________________________________\n",
            "conv5_block3_2_relu (Activation (None, 7, 7, 512)    0           conv5_block3_2_bn[0][0]          \n",
            "__________________________________________________________________________________________________\n",
            "conv5_block3_3_conv (Conv2D)    (None, 7, 7, 2048)   1050624     conv5_block3_2_relu[0][0]        \n",
            "__________________________________________________________________________________________________\n",
            "conv5_block3_out (Add)          (None, 7, 7, 2048)   0           conv5_block2_out[0][0]           \n",
            "                                                                 conv5_block3_3_conv[0][0]        \n",
            "__________________________________________________________________________________________________\n",
            "post_bn (BatchNormalization)    (None, 7, 7, 2048)   8192        conv5_block3_out[0][0]           \n",
            "__________________________________________________________________________________________________\n",
            "post_relu (Activation)          (None, 7, 7, 2048)   0           post_bn[0][0]                    \n",
            "__________________________________________________________________________________________________\n",
            "avg_pool (GlobalAveragePooling2 (None, 2048)         0           post_relu[0][0]                  \n",
            "==================================================================================================\n",
            "Total params: 23,564,800\n",
            "Trainable params: 0\n",
            "Non-trainable params: 23,564,800\n",
            "__________________________________________________________________________________________________\n"
          ],
          "name": "stdout"
        }
      ]
    },
    {
      "cell_type": "code",
      "metadata": {
        "colab_type": "code",
        "id": "uf5aIOPAFu0w",
        "colab": {
          "base_uri": "https://localhost:8080/",
          "height": 225
        },
        "outputId": "e9b03518-5eec-479d-e4e1-1e30ea4907c5"
      },
      "source": [
        "optimizer = Adam(lr=1e-4)\n",
        "model.compile(optimizer=optimizer,loss='sparse_categorical_crossentropy', metrics=['accuracy'])\n",
        "model.summary()"
      ],
      "execution_count": null,
      "outputs": [
        {
          "output_type": "stream",
          "text": [
            "Model: \"sequential_6\"\n",
            "_________________________________________________________________\n",
            "Layer (type)                 Output Shape              Param #   \n",
            "=================================================================\n",
            "resnet50v2 (Model)           (None, 2048)              23564800  \n",
            "_________________________________________________________________\n",
            "dense_6 (Dense)              (None, 102)               208998    \n",
            "=================================================================\n",
            "Total params: 23,773,798\n",
            "Trainable params: 208,998\n",
            "Non-trainable params: 23,564,800\n",
            "_________________________________________________________________\n"
          ],
          "name": "stdout"
        }
      ]
    },
    {
      "cell_type": "code",
      "metadata": {
        "colab_type": "code",
        "id": "_5N0-X6QFu02",
        "colab": {
          "base_uri": "https://localhost:8080/",
          "height": 1000
        },
        "outputId": "ffb70c83-1fb7-4e39-b9e6-c7a19a9fdc90"
      },
      "source": [
        "history = model_trainer.train_model(model, train_ds, val_ds, epochs=30)"
      ],
      "execution_count": null,
      "outputs": [
        {
          "output_type": "stream",
          "text": [
            "Batch size: 16\n",
            "Training dataset size: 6551 - Training steps per epoch: 409\n",
            "Validation dataset size: 1228 - Validation steps per epoch: 76\n",
            "Epoch 1/30\n",
            "409/409 [==============================] - 54s 132ms/step - loss: 3.8180 - accuracy: 0.1840 - val_loss: 2.9462 - val_accuracy: 0.3586\n",
            "Epoch 2/30\n",
            "409/409 [==============================] - 51s 125ms/step - loss: 2.3214 - accuracy: 0.5144 - val_loss: 2.0540 - val_accuracy: 0.5987\n",
            "Epoch 3/30\n",
            "409/409 [==============================] - 51s 126ms/step - loss: 1.6578 - accuracy: 0.6887 - val_loss: 1.5924 - val_accuracy: 0.6949\n",
            "Epoch 4/30\n",
            "409/409 [==============================] - 70s 171ms/step - loss: 1.2803 - accuracy: 0.7660 - val_loss: 1.3157 - val_accuracy: 0.7541\n",
            "Epoch 5/30\n",
            "409/409 [==============================] - 70s 170ms/step - loss: 1.0539 - accuracy: 0.8116 - val_loss: 1.1407 - val_accuracy: 0.7722\n",
            "Epoch 6/30\n",
            "409/409 [==============================] - 69s 168ms/step - loss: 0.8867 - accuracy: 0.8421 - val_loss: 1.0170 - val_accuracy: 0.8100\n",
            "Epoch 7/30\n",
            "409/409 [==============================] - 68s 166ms/step - loss: 0.7907 - accuracy: 0.8542 - val_loss: 0.9231 - val_accuracy: 0.8224\n",
            "Epoch 8/30\n",
            "409/409 [==============================] - 67s 163ms/step - loss: 0.6861 - accuracy: 0.8785 - val_loss: 0.8446 - val_accuracy: 0.8322\n",
            "Epoch 9/30\n",
            "409/409 [==============================] - 61s 150ms/step - loss: 0.6186 - accuracy: 0.8903 - val_loss: 0.7912 - val_accuracy: 0.8413\n",
            "Epoch 10/30\n",
            "409/409 [==============================] - 53s 131ms/step - loss: 0.5512 - accuracy: 0.9062 - val_loss: 0.7407 - val_accuracy: 0.8462\n",
            "Epoch 11/30\n",
            "409/409 [==============================] - 53s 129ms/step - loss: 0.5182 - accuracy: 0.9115 - val_loss: 0.6948 - val_accuracy: 0.8487\n",
            "Epoch 12/30\n",
            "409/409 [==============================] - 52s 128ms/step - loss: 0.4636 - accuracy: 0.9186 - val_loss: 0.6644 - val_accuracy: 0.8561\n",
            "Epoch 13/30\n",
            "409/409 [==============================] - 53s 129ms/step - loss: 0.4286 - accuracy: 0.9260 - val_loss: 0.6273 - val_accuracy: 0.8610\n",
            "Epoch 14/30\n",
            "409/409 [==============================] - 53s 129ms/step - loss: 0.3980 - accuracy: 0.9303 - val_loss: 0.6063 - val_accuracy: 0.8651\n",
            "Epoch 15/30\n",
            "409/409 [==============================] - 53s 130ms/step - loss: 0.3671 - accuracy: 0.9389 - val_loss: 0.5797 - val_accuracy: 0.8701\n",
            "Epoch 16/30\n",
            "409/409 [==============================] - 54s 131ms/step - loss: 0.3421 - accuracy: 0.9422 - val_loss: 0.5622 - val_accuracy: 0.8750\n",
            "Epoch 17/30\n",
            "409/409 [==============================] - 54s 131ms/step - loss: 0.3198 - accuracy: 0.9477 - val_loss: 0.5467 - val_accuracy: 0.8734\n",
            "Epoch 18/30\n",
            "409/409 [==============================] - 54s 131ms/step - loss: 0.2990 - accuracy: 0.9503 - val_loss: 0.5305 - val_accuracy: 0.8783\n",
            "Epoch 19/30\n",
            "409/409 [==============================] - 54s 132ms/step - loss: 0.2786 - accuracy: 0.9571 - val_loss: 0.5155 - val_accuracy: 0.8742\n",
            "Epoch 20/30\n",
            "409/409 [==============================] - 54s 131ms/step - loss: 0.2609 - accuracy: 0.9580 - val_loss: 0.5040 - val_accuracy: 0.8783\n",
            "Epoch 21/30\n",
            "409/409 [==============================] - 54s 131ms/step - loss: 0.2443 - accuracy: 0.9635 - val_loss: 0.4922 - val_accuracy: 0.8857\n",
            "Epoch 22/30\n",
            "409/409 [==============================] - 54s 131ms/step - loss: 0.2331 - accuracy: 0.9623 - val_loss: 0.4809 - val_accuracy: 0.8890\n",
            "Epoch 23/30\n",
            "409/409 [==============================] - 54s 131ms/step - loss: 0.2186 - accuracy: 0.9668 - val_loss: 0.4710 - val_accuracy: 0.8906\n",
            "Epoch 24/30\n",
            "409/409 [==============================] - 54s 132ms/step - loss: 0.2064 - accuracy: 0.9704 - val_loss: 0.4620 - val_accuracy: 0.8914\n",
            "Epoch 25/30\n",
            "409/409 [==============================] - 54s 132ms/step - loss: 0.1962 - accuracy: 0.9720 - val_loss: 0.4531 - val_accuracy: 0.8931\n",
            "Epoch 26/30\n",
            "409/409 [==============================] - 54s 132ms/step - loss: 0.1858 - accuracy: 0.9730 - val_loss: 0.4422 - val_accuracy: 0.8906\n",
            "Epoch 27/30\n",
            "409/409 [==============================] - 54s 132ms/step - loss: 0.1766 - accuracy: 0.9771 - val_loss: 0.4346 - val_accuracy: 0.8964\n",
            "Epoch 28/30\n",
            "409/409 [==============================] - 54s 132ms/step - loss: 0.1671 - accuracy: 0.9756 - val_loss: 0.4305 - val_accuracy: 0.8956\n",
            "Epoch 29/30\n",
            "409/409 [==============================] - 54s 132ms/step - loss: 0.1576 - accuracy: 0.9792 - val_loss: 0.4291 - val_accuracy: 0.8972\n",
            "Epoch 30/30\n",
            "409/409 [==============================] - 54s 132ms/step - loss: 0.1546 - accuracy: 0.9795 - val_loss: 0.4202 - val_accuracy: 0.9005\n"
          ],
          "name": "stdout"
        }
      ]
    },
    {
      "cell_type": "code",
      "metadata": {
        "colab_type": "code",
        "id": "nBW_6zeqFu07",
        "colab": {}
      },
      "source": [
        "save_model_weights(model, 'resnet50v2_fe_aug')"
      ],
      "execution_count": null,
      "outputs": []
    },
    {
      "cell_type": "code",
      "metadata": {
        "colab_type": "code",
        "id": "4WXJALAUFu1A",
        "colab": {
          "base_uri": "https://localhost:8080/",
          "height": 390
        },
        "outputId": "89a5f2e6-cd67-4c18-e6cf-ea5ac88b829d"
      },
      "source": [
        "plot_curves(history)"
      ],
      "execution_count": null,
      "outputs": [
        {
          "output_type": "display_data",
          "data": {
            "image/png": "[encoded data removed]",
            "text/plain": [
              "<Figure size 1296x432 with 2 Axes>"
            ]
          },
          "metadata": {
            "tags": [],
            "needs_background": "light"
          }
        }
      ]
    },
    {
      "cell_type": "code",
      "metadata": {
        "colab_type": "code",
        "id": "mT1o7YiFFu1F",
        "colab": {
          "base_uri": "https://localhost:8080/",
          "height": 159
        },
        "outputId": "685125a6-d9d7-4762-abbe-aa1a85c6c3c0"
      },
      "source": [
        "show_scores(model, test_ds)"
      ],
      "execution_count": null,
      "outputs": [
        {
          "output_type": "stream",
          "text": [
            "/usr/local/lib/python3.6/dist-packages/sklearn/metrics/_classification.py:1272: UndefinedMetricWarning: Precision is ill-defined and being set to 0.0 in labels with no predicted samples. Use `zero_division` parameter to control this behavior.\n",
            "  _warn_prf(average, modifier, msg_start, len(result))\n"
          ],
          "name": "stderr"
        },
        {
          "output_type": "stream",
          "text": [
            "|Average prediction time: 19.41 ms\n",
            "|Average Type |Prec |Rec |F1\n",
            "|--- |--- |--- |---\n",
            "|Micro|0.89|0.89|0.89\n",
            "|Macro|0.87|0.88|0.86\n"
          ],
          "name": "stdout"
        }
      ]
    },
    {
      "cell_type": "markdown",
      "metadata": {
        "colab_type": "text",
        "id": "VepB6ZObhXpe"
      },
      "source": [
        "### Fine-tuning **with** data augmentation\n"
      ]
    },
    {
      "cell_type": "code",
      "metadata": {
        "colab_type": "code",
        "id": "-ZuV2W6thXpk",
        "colab": {}
      },
      "source": [
        "train_ds = np_to_dataset(X_train, y_train, training=True, augmentation=True, batch_size=BATCH_SIZE)\n",
        "val_ds = np_to_dataset(X_val, y_val, training=False, batch_size=BATCH_SIZE)\n",
        "test_ds = np_to_dataset(X_test, y_test, training=False, batch_size=1)"
      ],
      "execution_count": null,
      "outputs": []
    },
    {
      "cell_type": "code",
      "metadata": {
        "colab_type": "code",
        "id": "sW3DaarDhXpy",
        "colab": {}
      },
      "source": [
        "model = create_resnet50v2_model()\n",
        "load_model_weights(model, 'resnet50v2_fe_aug')"
      ],
      "execution_count": null,
      "outputs": []
    },
    {
      "cell_type": "code",
      "metadata": {
        "colab_type": "code",
        "id": "1gxU3N68hXp7",
        "colab": {
          "base_uri": "https://localhost:8080/",
          "height": 225
        },
        "outputId": "cbb19ed6-ad37-4c1c-dc0d-34c9439b5a78"
      },
      "source": [
        "model.summary()"
      ],
      "execution_count": null,
      "outputs": [
        {
          "output_type": "stream",
          "text": [
            "Model: \"sequential_7\"\n",
            "_________________________________________________________________\n",
            "Layer (type)                 Output Shape              Param #   \n",
            "=================================================================\n",
            "resnet50v2 (Model)           (None, 2048)              23564800  \n",
            "_________________________________________________________________\n",
            "dense_7 (Dense)              (None, 102)               208998    \n",
            "=================================================================\n",
            "Total params: 23,773,798\n",
            "Trainable params: 23,728,358\n",
            "Non-trainable params: 45,440\n",
            "_________________________________________________________________\n"
          ],
          "name": "stdout"
        }
      ]
    },
    {
      "cell_type": "markdown",
      "metadata": {
        "colab_type": "text",
        "id": "Eo0GjuW9hXqC"
      },
      "source": [
        "Unfreeze block conv_5 and post_bn layer of the convolutional base, as well as the classifier"
      ]
    },
    {
      "cell_type": "code",
      "metadata": {
        "colab_type": "code",
        "id": "akv148KFhXqE",
        "colab": {}
      },
      "source": [
        "conv_base = model.get_layer('resnet50v2')\n",
        "classifier = model.get_layer('dense_7')\n",
        "\n",
        "# Freeze convolutional base\n",
        "freeze_model(conv_base)\n",
        "\n",
        "# Unfreeze the last few layers of the convolutional base\n",
        "for layer in conv_base.layers:\n",
        "  if layer.name.startswith('conv5_block3') or layer.name.startswith('post'):\n",
        "    layer.trainable = True"
      ],
      "execution_count": null,
      "outputs": []
    },
    {
      "cell_type": "code",
      "metadata": {
        "colab_type": "code",
        "id": "HSRUaA59hXqK",
        "colab": {
          "base_uri": "https://localhost:8080/",
          "height": 225
        },
        "outputId": "8411866c-51fc-4ff3-c902-e50037752b1e"
      },
      "source": [
        "# Compile with lower learning rate\n",
        "optimizer = Adam(lr=1e-5)\n",
        "model.compile(optimizer=optimizer,loss='sparse_categorical_crossentropy', metrics=['accuracy'])\n",
        "model.summary()"
      ],
      "execution_count": null,
      "outputs": [
        {
          "output_type": "stream",
          "text": [
            "Model: \"sequential_7\"\n",
            "_________________________________________________________________\n",
            "Layer (type)                 Output Shape              Param #   \n",
            "=================================================================\n",
            "resnet50v2 (Model)           (None, 2048)              23564800  \n",
            "_________________________________________________________________\n",
            "dense_7 (Dense)              (None, 102)               208998    \n",
            "=================================================================\n",
            "Total params: 23,773,798\n",
            "Trainable params: 4,677,734\n",
            "Non-trainable params: 19,096,064\n",
            "_________________________________________________________________\n"
          ],
          "name": "stdout"
        }
      ]
    },
    {
      "cell_type": "code",
      "metadata": {
        "colab_type": "code",
        "id": "mxubDMSFhXqR",
        "colab": {
          "base_uri": "https://localhost:8080/",
          "height": 694
        },
        "outputId": "3d063796-ccb2-443a-e64b-e6811d6f21f0"
      },
      "source": [
        "history = model_trainer.train_model(model, train_ds, val_ds, epochs=100)"
      ],
      "execution_count": null,
      "outputs": [
        {
          "output_type": "stream",
          "text": [
            "Batch size: 16\n",
            "Training dataset size: 6551 - Training steps per epoch: 409\n",
            "Validation dataset size: 1228 - Validation steps per epoch: 76\n",
            "Epoch 1/100\n",
            "409/409 [==============================] - 61s 149ms/step - loss: 0.3313 - accuracy: 0.9134 - val_loss: 0.3010 - val_accuracy: 0.9186\n",
            "Epoch 2/100\n",
            "409/409 [==============================] - 58s 142ms/step - loss: 0.1064 - accuracy: 0.9754 - val_loss: 0.2503 - val_accuracy: 0.9326\n",
            "Epoch 3/100\n",
            "409/409 [==============================] - 58s 143ms/step - loss: 0.0628 - accuracy: 0.9879 - val_loss: 0.2160 - val_accuracy: 0.9391\n",
            "Epoch 4/100\n",
            "409/409 [==============================] - 76s 186ms/step - loss: 0.0440 - accuracy: 0.9911 - val_loss: 0.2214 - val_accuracy: 0.9408\n",
            "Epoch 5/100\n",
            "409/409 [==============================] - 76s 186ms/step - loss: 0.0322 - accuracy: 0.9942 - val_loss: 0.2101 - val_accuracy: 0.9383\n",
            "Epoch 6/100\n",
            "409/409 [==============================] - 76s 185ms/step - loss: 0.0248 - accuracy: 0.9963 - val_loss: 0.2414 - val_accuracy: 0.9342\n",
            "Epoch 7/100\n",
            "409/409 [==============================] - 74s 182ms/step - loss: 0.0228 - accuracy: 0.9950 - val_loss: 0.2288 - val_accuracy: 0.9350\n",
            "Epoch 8/100\n",
            "409/409 [==============================] - 73s 178ms/step - loss: 0.0176 - accuracy: 0.9979 - val_loss: 0.1958 - val_accuracy: 0.9408\n",
            "Epoch 9/100\n",
            "409/409 [==============================] - 65s 159ms/step - loss: 0.0145 - accuracy: 0.9979 - val_loss: 0.2180 - val_accuracy: 0.9449\n",
            "Epoch 10/100\n",
            "409/409 [==============================] - 60s 146ms/step - loss: 0.0181 - accuracy: 0.9950 - val_loss: 0.1975 - val_accuracy: 0.9482\n",
            "Epoch 11/100\n",
            "409/409 [==============================] - 60s 146ms/step - loss: 0.0146 - accuracy: 0.9972 - val_loss: 0.2198 - val_accuracy: 0.9416\n",
            "Epoch 12/100\n",
            "409/409 [==============================] - 60s 146ms/step - loss: 0.0134 - accuracy: 0.9976 - val_loss: 0.2055 - val_accuracy: 0.9449\n",
            "Epoch 13/100\n",
            "409/409 [==============================] - 60s 146ms/step - loss: 0.0111 - accuracy: 0.9988 - val_loss: 0.2268 - val_accuracy: 0.9400\n",
            "Epoch 14/100\n",
            "409/409 [==============================] - 60s 146ms/step - loss: 0.0072 - accuracy: 0.9989 - val_loss: 0.2162 - val_accuracy: 0.9457\n",
            "Epoch 15/100\n",
            "409/409 [==============================] - 60s 146ms/step - loss: 0.0082 - accuracy: 0.9989 - val_loss: 0.2079 - val_accuracy: 0.9515\n",
            "Epoch 16/100\n",
            "409/409 [==============================] - 60s 146ms/step - loss: 0.0112 - accuracy: 0.9974 - val_loss: 0.2359 - val_accuracy: 0.9449\n",
            "Epoch 17/100\n",
            "409/409 [==============================] - 60s 146ms/step - loss: 0.0090 - accuracy: 0.9985 - val_loss: 0.2092 - val_accuracy: 0.9548\n",
            "Epoch 18/100\n",
            "409/409 [==============================] - 60s 146ms/step - loss: 0.0074 - accuracy: 0.9991 - val_loss: 0.2187 - val_accuracy: 0.9449\n"
          ],
          "name": "stdout"
        }
      ]
    },
    {
      "cell_type": "code",
      "metadata": {
        "colab_type": "code",
        "id": "rz98_QqNhXqY",
        "colab": {}
      },
      "source": [
        "save_model_weights(model, 'resnet50v2_ft_aug')"
      ],
      "execution_count": null,
      "outputs": []
    },
    {
      "cell_type": "code",
      "metadata": {
        "colab_type": "code",
        "id": "xJBuJo-vhXqg",
        "colab": {
          "base_uri": "https://localhost:8080/",
          "height": 390
        },
        "outputId": "0a343472-1c67-413a-b83f-951e77ad54a8"
      },
      "source": [
        "plot_curves(history)"
      ],
      "execution_count": null,
      "outputs": [
        {
          "output_type": "display_data",
          "data": {
            "image/png": "[encoded data removed]",
            "text/plain": [
              "<Figure size 1296x432 with 2 Axes>"
            ]
          },
          "metadata": {
            "tags": [],
            "needs_background": "light"
          }
        }
      ]
    },
    {
      "cell_type": "code",
      "metadata": {
        "colab_type": "code",
        "id": "MAY_-NkXhXqn",
        "colab": {
          "base_uri": "https://localhost:8080/",
          "height": 159
        },
        "outputId": "72f3f52c-1e2d-4ac0-9822-53c76bb232f1"
      },
      "source": [
        "show_scores(model, test_ds)"
      ],
      "execution_count": null,
      "outputs": [
        {
          "output_type": "stream",
          "text": [
            "/usr/local/lib/python3.6/dist-packages/sklearn/metrics/_classification.py:1272: UndefinedMetricWarning: Precision is ill-defined and being set to 0.0 in labels with no predicted samples. Use `zero_division` parameter to control this behavior.\n",
            "  _warn_prf(average, modifier, msg_start, len(result))\n"
          ],
          "name": "stderr"
        },
        {
          "output_type": "stream",
          "text": [
            "|Average prediction time: 19.31 ms\n",
            "|Average Type |Prec |Rec |F1\n",
            "|--- |--- |--- |---\n",
            "|Micro|0.93|0.93|0.93\n",
            "|Macro|0.93|0.93|0.92\n"
          ],
          "name": "stdout"
        }
      ]
    },
    {
      "cell_type": "markdown",
      "metadata": {
        "id": "ERccJNi1WW3R",
        "colab_type": "text"
      },
      "source": [
        "## Medium training set"
      ]
    },
    {
      "cell_type": "code",
      "metadata": {
        "colab_type": "code",
        "id": "3tuWQum6Xuns",
        "colab": {}
      },
      "source": [
        "X_train, X_test, labels_train, labels_test = train_test_split(images, labels, train_size=0.40, stratify=labels, random_state=SEED)\n",
        "X_val, X_test, labels_val, labels_test = train_test_split(X_test, labels_test, train_size=0.50, stratify=labels_test, random_state=SEED)"
      ],
      "execution_count": null,
      "outputs": []
    },
    {
      "cell_type": "code",
      "metadata": {
        "colab_type": "code",
        "id": "ijkeuvV-XuoC",
        "colab": {}
      },
      "source": [
        "y_train = encoder.encode(labels_train)\n",
        "y_val = encoder.encode(labels_val)\n",
        "y_test = encoder.encode(labels_test)"
      ],
      "execution_count": null,
      "outputs": []
    },
    {
      "cell_type": "code",
      "metadata": {
        "colab_type": "code",
        "id": "3B8eJAw-XuoL",
        "colab": {
          "base_uri": "https://localhost:8080/",
          "height": 69
        },
        "outputId": "26aacfd6-fcd7-4747-f73b-999043e48462"
      },
      "source": [
        "print(f'Train size: {X_train.shape} - {round((len(X_train) * 100)/len(images), 2)}%')\n",
        "print(f'Val size: {X_val.shape} - {round((len(X_val) * 100)/len(images), 2)}%')\n",
        "print(f'Test size: {X_test.shape} - {round((len(X_test) * 100)/len(images), 2)}%')"
      ],
      "execution_count": null,
      "outputs": [
        {
          "output_type": "stream",
          "text": [
            "Train size: (3275,) - 39.99%\n",
            "Val size: (2457,) - 30.0%\n",
            "Test size: (2457,) - 30.0%\n"
          ],
          "name": "stdout"
        }
      ]
    },
    {
      "cell_type": "code",
      "metadata": {
        "id": "-jGDq5Z_5ZBX",
        "colab_type": "code",
        "colab": {}
      },
      "source": [
        "model_trainer = ModelTrainer(len(X_train), len(X_val), BATCH_SIZE)"
      ],
      "execution_count": null,
      "outputs": []
    },
    {
      "cell_type": "markdown",
      "metadata": {
        "colab_type": "text",
        "id": "ikgF1hc2XUND"
      },
      "source": [
        "### Feature extraction **without** data augmentation"
      ]
    },
    {
      "cell_type": "code",
      "metadata": {
        "colab_type": "code",
        "id": "HyUlubUxXUNL",
        "colab": {}
      },
      "source": [
        "train_ds = np_to_dataset(X_train, y_train, training=True, augmentation=False, batch_size=BATCH_SIZE)\n",
        "val_ds = np_to_dataset(X_val, y_val, training=False, batch_size=BATCH_SIZE)\n",
        "test_ds = np_to_dataset(X_test, y_test, training=False, batch_size=1)"
      ],
      "execution_count": null,
      "outputs": []
    },
    {
      "cell_type": "code",
      "metadata": {
        "colab_type": "code",
        "id": "pbzP8TMbXUNa",
        "colab": {
          "base_uri": "https://localhost:8080/",
          "height": 52
        },
        "outputId": "d2aff1be-b7c5-47f1-d63d-4ed4461c60ec"
      },
      "source": [
        "model = create_resnet50v2_model()"
      ],
      "execution_count": null,
      "outputs": [
        {
          "output_type": "stream",
          "text": [
            "Downloading data from https://storage.googleapis.com/tensorflow/keras-applications/resnet/resnet50v2_weights_tf_dim_ordering_tf_kernels_notop.h5\n",
            "94674944/94668760 [==============================] - 1s 0us/step\n"
          ],
          "name": "stdout"
        }
      ]
    },
    {
      "cell_type": "code",
      "metadata": {
        "colab_type": "code",
        "id": "HkIvtDjhXUNj",
        "colab": {
          "base_uri": "https://localhost:8080/",
          "height": 1000
        },
        "outputId": "67c2911a-edd7-46bf-aa19-a2139f3b6753"
      },
      "source": [
        "conv_base = model.get_layer('resnet50v2')\n",
        "freeze_model(conv_base)\n",
        "\n",
        "conv_base.summary()"
      ],
      "execution_count": null,
      "outputs": [
        {
          "output_type": "stream",
          "text": [
            "Model: \"resnet50v2\"\n",
            "__________________________________________________________________________________________________\n",
            "Layer (type)                    Output Shape         Param #     Connected to                     \n",
            "==================================================================================================\n",
            "input_1 (InputLayer)            [(None, 224, 224, 3) 0                                            \n",
            "__________________________________________________________________________________________________\n",
            "conv1_pad (ZeroPadding2D)       (None, 230, 230, 3)  0           input_1[0][0]                    \n",
            "__________________________________________________________________________________________________\n",
            "conv1_conv (Conv2D)             (None, 112, 112, 64) 9472        conv1_pad[0][0]                  \n",
            "__________________________________________________________________________________________________\n",
            "pool1_pad (ZeroPadding2D)       (None, 114, 114, 64) 0           conv1_conv[0][0]                 \n",
            "__________________________________________________________________________________________________\n",
            "pool1_pool (MaxPooling2D)       (None, 56, 56, 64)   0           pool1_pad[0][0]                  \n",
            "__________________________________________________________________________________________________\n",
            "conv2_block1_preact_bn (BatchNo (None, 56, 56, 64)   256         pool1_pool[0][0]                 \n",
            "__________________________________________________________________________________________________\n",
            "conv2_block1_preact_relu (Activ (None, 56, 56, 64)   0           conv2_block1_preact_bn[0][0]     \n",
            "__________________________________________________________________________________________________\n",
            "conv2_block1_1_conv (Conv2D)    (None, 56, 56, 64)   4096        conv2_block1_preact_relu[0][0]   \n",
            "__________________________________________________________________________________________________\n",
            "conv2_block1_1_bn (BatchNormali (None, 56, 56, 64)   256         conv2_block1_1_conv[0][0]        \n",
            "__________________________________________________________________________________________________\n",
            "conv2_block1_1_relu (Activation (None, 56, 56, 64)   0           conv2_block1_1_bn[0][0]          \n",
            "__________________________________________________________________________________________________\n",
            "conv2_block1_2_pad (ZeroPadding (None, 58, 58, 64)   0           conv2_block1_1_relu[0][0]        \n",
            "__________________________________________________________________________________________________\n",
            "conv2_block1_2_conv (Conv2D)    (None, 56, 56, 64)   36864       conv2_block1_2_pad[0][0]         \n",
            "__________________________________________________________________________________________________\n",
            "conv2_block1_2_bn (BatchNormali (None, 56, 56, 64)   256         conv2_block1_2_conv[0][0]        \n",
            "__________________________________________________________________________________________________\n",
            "conv2_block1_2_relu (Activation (None, 56, 56, 64)   0           conv2_block1_2_bn[0][0]          \n",
            "__________________________________________________________________________________________________\n",
            "conv2_block1_0_conv (Conv2D)    (None, 56, 56, 256)  16640       conv2_block1_preact_relu[0][0]   \n",
            "__________________________________________________________________________________________________\n",
            "conv2_block1_3_conv (Conv2D)    (None, 56, 56, 256)  16640       conv2_block1_2_relu[0][0]        \n",
            "__________________________________________________________________________________________________\n",
            "conv2_block1_out (Add)          (None, 56, 56, 256)  0           conv2_block1_0_conv[0][0]        \n",
            "                                                                 conv2_block1_3_conv[0][0]        \n",
            "__________________________________________________________________________________________________\n",
            "conv2_block2_preact_bn (BatchNo (None, 56, 56, 256)  1024        conv2_block1_out[0][0]           \n",
            "__________________________________________________________________________________________________\n",
            "conv2_block2_preact_relu (Activ (None, 56, 56, 256)  0           conv2_block2_preact_bn[0][0]     \n",
            "__________________________________________________________________________________________________\n",
            "conv2_block2_1_conv (Conv2D)    (None, 56, 56, 64)   16384       conv2_block2_preact_relu[0][0]   \n",
            "__________________________________________________________________________________________________\n",
            "conv2_block2_1_bn (BatchNormali (None, 56, 56, 64)   256         conv2_block2_1_conv[0][0]        \n",
            "__________________________________________________________________________________________________\n",
            "conv2_block2_1_relu (Activation (None, 56, 56, 64)   0           conv2_block2_1_bn[0][0]          \n",
            "__________________________________________________________________________________________________\n",
            "conv2_block2_2_pad (ZeroPadding (None, 58, 58, 64)   0           conv2_block2_1_relu[0][0]        \n",
            "__________________________________________________________________________________________________\n",
            "conv2_block2_2_conv (Conv2D)    (None, 56, 56, 64)   36864       conv2_block2_2_pad[0][0]         \n",
            "__________________________________________________________________________________________________\n",
            "conv2_block2_2_bn (BatchNormali (None, 56, 56, 64)   256         conv2_block2_2_conv[0][0]        \n",
            "__________________________________________________________________________________________________\n",
            "conv2_block2_2_relu (Activation (None, 56, 56, 64)   0           conv2_block2_2_bn[0][0]          \n",
            "__________________________________________________________________________________________________\n",
            "conv2_block2_3_conv (Conv2D)    (None, 56, 56, 256)  16640       conv2_block2_2_relu[0][0]        \n",
            "__________________________________________________________________________________________________\n",
            "conv2_block2_out (Add)          (None, 56, 56, 256)  0           conv2_block1_out[0][0]           \n",
            "                                                                 conv2_block2_3_conv[0][0]        \n",
            "__________________________________________________________________________________________________\n",
            "conv2_block3_preact_bn (BatchNo (None, 56, 56, 256)  1024        conv2_block2_out[0][0]           \n",
            "__________________________________________________________________________________________________\n",
            "conv2_block3_preact_relu (Activ (None, 56, 56, 256)  0           conv2_block3_preact_bn[0][0]     \n",
            "__________________________________________________________________________________________________\n",
            "conv2_block3_1_conv (Conv2D)    (None, 56, 56, 64)   16384       conv2_block3_preact_relu[0][0]   \n",
            "__________________________________________________________________________________________________\n",
            "conv2_block3_1_bn (BatchNormali (None, 56, 56, 64)   256         conv2_block3_1_conv[0][0]        \n",
            "__________________________________________________________________________________________________\n",
            "conv2_block3_1_relu (Activation (None, 56, 56, 64)   0           conv2_block3_1_bn[0][0]          \n",
            "__________________________________________________________________________________________________\n",
            "conv2_block3_2_pad (ZeroPadding (None, 58, 58, 64)   0           conv2_block3_1_relu[0][0]        \n",
            "__________________________________________________________________________________________________\n",
            "conv2_block3_2_conv (Conv2D)    (None, 28, 28, 64)   36864       conv2_block3_2_pad[0][0]         \n",
            "__________________________________________________________________________________________________\n",
            "conv2_block3_2_bn (BatchNormali (None, 28, 28, 64)   256         conv2_block3_2_conv[0][0]        \n",
            "__________________________________________________________________________________________________\n",
            "conv2_block3_2_relu (Activation (None, 28, 28, 64)   0           conv2_block3_2_bn[0][0]          \n",
            "__________________________________________________________________________________________________\n",
            "max_pooling2d (MaxPooling2D)    (None, 28, 28, 256)  0           conv2_block2_out[0][0]           \n",
            "__________________________________________________________________________________________________\n",
            "conv2_block3_3_conv (Conv2D)    (None, 28, 28, 256)  16640       conv2_block3_2_relu[0][0]        \n",
            "__________________________________________________________________________________________________\n",
            "conv2_block3_out (Add)          (None, 28, 28, 256)  0           max_pooling2d[0][0]              \n",
            "                                                                 conv2_block3_3_conv[0][0]        \n",
            "__________________________________________________________________________________________________\n",
            "conv3_block1_preact_bn (BatchNo (None, 28, 28, 256)  1024        conv2_block3_out[0][0]           \n",
            "__________________________________________________________________________________________________\n",
            "conv3_block1_preact_relu (Activ (None, 28, 28, 256)  0           conv3_block1_preact_bn[0][0]     \n",
            "__________________________________________________________________________________________________\n",
            "conv3_block1_1_conv (Conv2D)    (None, 28, 28, 128)  32768       conv3_block1_preact_relu[0][0]   \n",
            "__________________________________________________________________________________________________\n",
            "conv3_block1_1_bn (BatchNormali (None, 28, 28, 128)  512         conv3_block1_1_conv[0][0]        \n",
            "__________________________________________________________________________________________________\n",
            "conv3_block1_1_relu (Activation (None, 28, 28, 128)  0           conv3_block1_1_bn[0][0]          \n",
            "__________________________________________________________________________________________________\n",
            "conv3_block1_2_pad (ZeroPadding (None, 30, 30, 128)  0           conv3_block1_1_relu[0][0]        \n",
            "__________________________________________________________________________________________________\n",
            "conv3_block1_2_conv (Conv2D)    (None, 28, 28, 128)  147456      conv3_block1_2_pad[0][0]         \n",
            "__________________________________________________________________________________________________\n",
            "conv3_block1_2_bn (BatchNormali (None, 28, 28, 128)  512         conv3_block1_2_conv[0][0]        \n",
            "__________________________________________________________________________________________________\n",
            "conv3_block1_2_relu (Activation (None, 28, 28, 128)  0           conv3_block1_2_bn[0][0]          \n",
            "__________________________________________________________________________________________________\n",
            "conv3_block1_0_conv (Conv2D)    (None, 28, 28, 512)  131584      conv3_block1_preact_relu[0][0]   \n",
            "__________________________________________________________________________________________________\n",
            "conv3_block1_3_conv (Conv2D)    (None, 28, 28, 512)  66048       conv3_block1_2_relu[0][0]        \n",
            "__________________________________________________________________________________________________\n",
            "conv3_block1_out (Add)          (None, 28, 28, 512)  0           conv3_block1_0_conv[0][0]        \n",
            "                                                                 conv3_block1_3_conv[0][0]        \n",
            "__________________________________________________________________________________________________\n",
            "conv3_block2_preact_bn (BatchNo (None, 28, 28, 512)  2048        conv3_block1_out[0][0]           \n",
            "__________________________________________________________________________________________________\n",
            "conv3_block2_preact_relu (Activ (None, 28, 28, 512)  0           conv3_block2_preact_bn[0][0]     \n",
            "__________________________________________________________________________________________________\n",
            "conv3_block2_1_conv (Conv2D)    (None, 28, 28, 128)  65536       conv3_block2_preact_relu[0][0]   \n",
            "__________________________________________________________________________________________________\n",
            "conv3_block2_1_bn (BatchNormali (None, 28, 28, 128)  512         conv3_block2_1_conv[0][0]        \n",
            "__________________________________________________________________________________________________\n",
            "conv3_block2_1_relu (Activation (None, 28, 28, 128)  0           conv3_block2_1_bn[0][0]          \n",
            "__________________________________________________________________________________________________\n",
            "conv3_block2_2_pad (ZeroPadding (None, 30, 30, 128)  0           conv3_block2_1_relu[0][0]        \n",
            "__________________________________________________________________________________________________\n",
            "conv3_block2_2_conv (Conv2D)    (None, 28, 28, 128)  147456      conv3_block2_2_pad[0][0]         \n",
            "__________________________________________________________________________________________________\n",
            "conv3_block2_2_bn (BatchNormali (None, 28, 28, 128)  512         conv3_block2_2_conv[0][0]        \n",
            "__________________________________________________________________________________________________\n",
            "conv3_block2_2_relu (Activation (None, 28, 28, 128)  0           conv3_block2_2_bn[0][0]          \n",
            "__________________________________________________________________________________________________\n",
            "conv3_block2_3_conv (Conv2D)    (None, 28, 28, 512)  66048       conv3_block2_2_relu[0][0]        \n",
            "__________________________________________________________________________________________________\n",
            "conv3_block2_out (Add)          (None, 28, 28, 512)  0           conv3_block1_out[0][0]           \n",
            "                                                                 conv3_block2_3_conv[0][0]        \n",
            "__________________________________________________________________________________________________\n",
            "conv3_block3_preact_bn (BatchNo (None, 28, 28, 512)  2048        conv3_block2_out[0][0]           \n",
            "__________________________________________________________________________________________________\n",
            "conv3_block3_preact_relu (Activ (None, 28, 28, 512)  0           conv3_block3_preact_bn[0][0]     \n",
            "__________________________________________________________________________________________________\n",
            "conv3_block3_1_conv (Conv2D)    (None, 28, 28, 128)  65536       conv3_block3_preact_relu[0][0]   \n",
            "__________________________________________________________________________________________________\n",
            "conv3_block3_1_bn (BatchNormali (None, 28, 28, 128)  512         conv3_block3_1_conv[0][0]        \n",
            "__________________________________________________________________________________________________\n",
            "conv3_block3_1_relu (Activation (None, 28, 28, 128)  0           conv3_block3_1_bn[0][0]          \n",
            "__________________________________________________________________________________________________\n",
            "conv3_block3_2_pad (ZeroPadding (None, 30, 30, 128)  0           conv3_block3_1_relu[0][0]        \n",
            "__________________________________________________________________________________________________\n",
            "conv3_block3_2_conv (Conv2D)    (None, 28, 28, 128)  147456      conv3_block3_2_pad[0][0]         \n",
            "__________________________________________________________________________________________________\n",
            "conv3_block3_2_bn (BatchNormali (None, 28, 28, 128)  512         conv3_block3_2_conv[0][0]        \n",
            "__________________________________________________________________________________________________\n",
            "conv3_block3_2_relu (Activation (None, 28, 28, 128)  0           conv3_block3_2_bn[0][0]          \n",
            "__________________________________________________________________________________________________\n",
            "conv3_block3_3_conv (Conv2D)    (None, 28, 28, 512)  66048       conv3_block3_2_relu[0][0]        \n",
            "__________________________________________________________________________________________________\n",
            "conv3_block3_out (Add)          (None, 28, 28, 512)  0           conv3_block2_out[0][0]           \n",
            "                                                                 conv3_block3_3_conv[0][0]        \n",
            "__________________________________________________________________________________________________\n",
            "conv3_block4_preact_bn (BatchNo (None, 28, 28, 512)  2048        conv3_block3_out[0][0]           \n",
            "__________________________________________________________________________________________________\n",
            "conv3_block4_preact_relu (Activ (None, 28, 28, 512)  0           conv3_block4_preact_bn[0][0]     \n",
            "__________________________________________________________________________________________________\n",
            "conv3_block4_1_conv (Conv2D)    (None, 28, 28, 128)  65536       conv3_block4_preact_relu[0][0]   \n",
            "__________________________________________________________________________________________________\n",
            "conv3_block4_1_bn (BatchNormali (None, 28, 28, 128)  512         conv3_block4_1_conv[0][0]        \n",
            "__________________________________________________________________________________________________\n",
            "conv3_block4_1_relu (Activation (None, 28, 28, 128)  0           conv3_block4_1_bn[0][0]          \n",
            "__________________________________________________________________________________________________\n",
            "conv3_block4_2_pad (ZeroPadding (None, 30, 30, 128)  0           conv3_block4_1_relu[0][0]        \n",
            "__________________________________________________________________________________________________\n",
            "conv3_block4_2_conv (Conv2D)    (None, 14, 14, 128)  147456      conv3_block4_2_pad[0][0]         \n",
            "__________________________________________________________________________________________________\n",
            "conv3_block4_2_bn (BatchNormali (None, 14, 14, 128)  512         conv3_block4_2_conv[0][0]        \n",
            "__________________________________________________________________________________________________\n",
            "conv3_block4_2_relu (Activation (None, 14, 14, 128)  0           conv3_block4_2_bn[0][0]          \n",
            "__________________________________________________________________________________________________\n",
            "max_pooling2d_1 (MaxPooling2D)  (None, 14, 14, 512)  0           conv3_block3_out[0][0]           \n",
            "__________________________________________________________________________________________________\n",
            "conv3_block4_3_conv (Conv2D)    (None, 14, 14, 512)  66048       conv3_block4_2_relu[0][0]        \n",
            "__________________________________________________________________________________________________\n",
            "conv3_block4_out (Add)          (None, 14, 14, 512)  0           max_pooling2d_1[0][0]            \n",
            "                                                                 conv3_block4_3_conv[0][0]        \n",
            "__________________________________________________________________________________________________\n",
            "conv4_block1_preact_bn (BatchNo (None, 14, 14, 512)  2048        conv3_block4_out[0][0]           \n",
            "__________________________________________________________________________________________________\n",
            "conv4_block1_preact_relu (Activ (None, 14, 14, 512)  0           conv4_block1_preact_bn[0][0]     \n",
            "__________________________________________________________________________________________________\n",
            "conv4_block1_1_conv (Conv2D)    (None, 14, 14, 256)  131072      conv4_block1_preact_relu[0][0]   \n",
            "__________________________________________________________________________________________________\n",
            "conv4_block1_1_bn (BatchNormali (None, 14, 14, 256)  1024        conv4_block1_1_conv[0][0]        \n",
            "__________________________________________________________________________________________________\n",
            "conv4_block1_1_relu (Activation (None, 14, 14, 256)  0           conv4_block1_1_bn[0][0]          \n",
            "__________________________________________________________________________________________________\n",
            "conv4_block1_2_pad (ZeroPadding (None, 16, 16, 256)  0           conv4_block1_1_relu[0][0]        \n",
            "__________________________________________________________________________________________________\n",
            "conv4_block1_2_conv (Conv2D)    (None, 14, 14, 256)  589824      conv4_block1_2_pad[0][0]         \n",
            "__________________________________________________________________________________________________\n",
            "conv4_block1_2_bn (BatchNormali (None, 14, 14, 256)  1024        conv4_block1_2_conv[0][0]        \n",
            "__________________________________________________________________________________________________\n",
            "conv4_block1_2_relu (Activation (None, 14, 14, 256)  0           conv4_block1_2_bn[0][0]          \n",
            "__________________________________________________________________________________________________\n",
            "conv4_block1_0_conv (Conv2D)    (None, 14, 14, 1024) 525312      conv4_block1_preact_relu[0][0]   \n",
            "__________________________________________________________________________________________________\n",
            "conv4_block1_3_conv (Conv2D)    (None, 14, 14, 1024) 263168      conv4_block1_2_relu[0][0]        \n",
            "__________________________________________________________________________________________________\n",
            "conv4_block1_out (Add)          (None, 14, 14, 1024) 0           conv4_block1_0_conv[0][0]        \n",
            "                                                                 conv4_block1_3_conv[0][0]        \n",
            "__________________________________________________________________________________________________\n",
            "conv4_block2_preact_bn (BatchNo (None, 14, 14, 1024) 4096        conv4_block1_out[0][0]           \n",
            "__________________________________________________________________________________________________\n",
            "conv4_block2_preact_relu (Activ (None, 14, 14, 1024) 0           conv4_block2_preact_bn[0][0]     \n",
            "__________________________________________________________________________________________________\n",
            "conv4_block2_1_conv (Conv2D)    (None, 14, 14, 256)  262144      conv4_block2_preact_relu[0][0]   \n",
            "__________________________________________________________________________________________________\n",
            "conv4_block2_1_bn (BatchNormali (None, 14, 14, 256)  1024        conv4_block2_1_conv[0][0]        \n",
            "__________________________________________________________________________________________________\n",
            "conv4_block2_1_relu (Activation (None, 14, 14, 256)  0           conv4_block2_1_bn[0][0]          \n",
            "__________________________________________________________________________________________________\n",
            "conv4_block2_2_pad (ZeroPadding (None, 16, 16, 256)  0           conv4_block2_1_relu[0][0]        \n",
            "__________________________________________________________________________________________________\n",
            "conv4_block2_2_conv (Conv2D)    (None, 14, 14, 256)  589824      conv4_block2_2_pad[0][0]         \n",
            "__________________________________________________________________________________________________\n",
            "conv4_block2_2_bn (BatchNormali (None, 14, 14, 256)  1024        conv4_block2_2_conv[0][0]        \n",
            "__________________________________________________________________________________________________\n",
            "conv4_block2_2_relu (Activation (None, 14, 14, 256)  0           conv4_block2_2_bn[0][0]          \n",
            "__________________________________________________________________________________________________\n",
            "conv4_block2_3_conv (Conv2D)    (None, 14, 14, 1024) 263168      conv4_block2_2_relu[0][0]        \n",
            "__________________________________________________________________________________________________\n",
            "conv4_block2_out (Add)          (None, 14, 14, 1024) 0           conv4_block1_out[0][0]           \n",
            "                                                                 conv4_block2_3_conv[0][0]        \n",
            "__________________________________________________________________________________________________\n",
            "conv4_block3_preact_bn (BatchNo (None, 14, 14, 1024) 4096        conv4_block2_out[0][0]           \n",
            "__________________________________________________________________________________________________\n",
            "conv4_block3_preact_relu (Activ (None, 14, 14, 1024) 0           conv4_block3_preact_bn[0][0]     \n",
            "__________________________________________________________________________________________________\n",
            "conv4_block3_1_conv (Conv2D)    (None, 14, 14, 256)  262144      conv4_block3_preact_relu[0][0]   \n",
            "__________________________________________________________________________________________________\n",
            "conv4_block3_1_bn (BatchNormali (None, 14, 14, 256)  1024        conv4_block3_1_conv[0][0]        \n",
            "__________________________________________________________________________________________________\n",
            "conv4_block3_1_relu (Activation (None, 14, 14, 256)  0           conv4_block3_1_bn[0][0]          \n",
            "__________________________________________________________________________________________________\n",
            "conv4_block3_2_pad (ZeroPadding (None, 16, 16, 256)  0           conv4_block3_1_relu[0][0]        \n",
            "__________________________________________________________________________________________________\n",
            "conv4_block3_2_conv (Conv2D)    (None, 14, 14, 256)  589824      conv4_block3_2_pad[0][0]         \n",
            "__________________________________________________________________________________________________\n",
            "conv4_block3_2_bn (BatchNormali (None, 14, 14, 256)  1024        conv4_block3_2_conv[0][0]        \n",
            "__________________________________________________________________________________________________\n",
            "conv4_block3_2_relu (Activation (None, 14, 14, 256)  0           conv4_block3_2_bn[0][0]          \n",
            "__________________________________________________________________________________________________\n",
            "conv4_block3_3_conv (Conv2D)    (None, 14, 14, 1024) 263168      conv4_block3_2_relu[0][0]        \n",
            "__________________________________________________________________________________________________\n",
            "conv4_block3_out (Add)          (None, 14, 14, 1024) 0           conv4_block2_out[0][0]           \n",
            "                                                                 conv4_block3_3_conv[0][0]        \n",
            "__________________________________________________________________________________________________\n",
            "conv4_block4_preact_bn (BatchNo (None, 14, 14, 1024) 4096        conv4_block3_out[0][0]           \n",
            "__________________________________________________________________________________________________\n",
            "conv4_block4_preact_relu (Activ (None, 14, 14, 1024) 0           conv4_block4_preact_bn[0][0]     \n",
            "__________________________________________________________________________________________________\n",
            "conv4_block4_1_conv (Conv2D)    (None, 14, 14, 256)  262144      conv4_block4_preact_relu[0][0]   \n",
            "__________________________________________________________________________________________________\n",
            "conv4_block4_1_bn (BatchNormali (None, 14, 14, 256)  1024        conv4_block4_1_conv[0][0]        \n",
            "__________________________________________________________________________________________________\n",
            "conv4_block4_1_relu (Activation (None, 14, 14, 256)  0           conv4_block4_1_bn[0][0]          \n",
            "__________________________________________________________________________________________________\n",
            "conv4_block4_2_pad (ZeroPadding (None, 16, 16, 256)  0           conv4_block4_1_relu[0][0]        \n",
            "__________________________________________________________________________________________________\n",
            "conv4_block4_2_conv (Conv2D)    (None, 14, 14, 256)  589824      conv4_block4_2_pad[0][0]         \n",
            "__________________________________________________________________________________________________\n",
            "conv4_block4_2_bn (BatchNormali (None, 14, 14, 256)  1024        conv4_block4_2_conv[0][0]        \n",
            "__________________________________________________________________________________________________\n",
            "conv4_block4_2_relu (Activation (None, 14, 14, 256)  0           conv4_block4_2_bn[0][0]          \n",
            "__________________________________________________________________________________________________\n",
            "conv4_block4_3_conv (Conv2D)    (None, 14, 14, 1024) 263168      conv4_block4_2_relu[0][0]        \n",
            "__________________________________________________________________________________________________\n",
            "conv4_block4_out (Add)          (None, 14, 14, 1024) 0           conv4_block3_out[0][0]           \n",
            "                                                                 conv4_block4_3_conv[0][0]        \n",
            "__________________________________________________________________________________________________\n",
            "conv4_block5_preact_bn (BatchNo (None, 14, 14, 1024) 4096        conv4_block4_out[0][0]           \n",
            "__________________________________________________________________________________________________\n",
            "conv4_block5_preact_relu (Activ (None, 14, 14, 1024) 0           conv4_block5_preact_bn[0][0]     \n",
            "__________________________________________________________________________________________________\n",
            "conv4_block5_1_conv (Conv2D)    (None, 14, 14, 256)  262144      conv4_block5_preact_relu[0][0]   \n",
            "__________________________________________________________________________________________________\n",
            "conv4_block5_1_bn (BatchNormali (None, 14, 14, 256)  1024        conv4_block5_1_conv[0][0]        \n",
            "__________________________________________________________________________________________________\n",
            "conv4_block5_1_relu (Activation (None, 14, 14, 256)  0           conv4_block5_1_bn[0][0]          \n",
            "__________________________________________________________________________________________________\n",
            "conv4_block5_2_pad (ZeroPadding (None, 16, 16, 256)  0           conv4_block5_1_relu[0][0]        \n",
            "__________________________________________________________________________________________________\n",
            "conv4_block5_2_conv (Conv2D)    (None, 14, 14, 256)  589824      conv4_block5_2_pad[0][0]         \n",
            "__________________________________________________________________________________________________\n",
            "conv4_block5_2_bn (BatchNormali (None, 14, 14, 256)  1024        conv4_block5_2_conv[0][0]        \n",
            "__________________________________________________________________________________________________\n",
            "conv4_block5_2_relu (Activation (None, 14, 14, 256)  0           conv4_block5_2_bn[0][0]          \n",
            "__________________________________________________________________________________________________\n",
            "conv4_block5_3_conv (Conv2D)    (None, 14, 14, 1024) 263168      conv4_block5_2_relu[0][0]        \n",
            "__________________________________________________________________________________________________\n",
            "conv4_block5_out (Add)          (None, 14, 14, 1024) 0           conv4_block4_out[0][0]           \n",
            "                                                                 conv4_block5_3_conv[0][0]        \n",
            "__________________________________________________________________________________________________\n",
            "conv4_block6_preact_bn (BatchNo (None, 14, 14, 1024) 4096        conv4_block5_out[0][0]           \n",
            "__________________________________________________________________________________________________\n",
            "conv4_block6_preact_relu (Activ (None, 14, 14, 1024) 0           conv4_block6_preact_bn[0][0]     \n",
            "__________________________________________________________________________________________________\n",
            "conv4_block6_1_conv (Conv2D)    (None, 14, 14, 256)  262144      conv4_block6_preact_relu[0][0]   \n",
            "__________________________________________________________________________________________________\n",
            "conv4_block6_1_bn (BatchNormali (None, 14, 14, 256)  1024        conv4_block6_1_conv[0][0]        \n",
            "__________________________________________________________________________________________________\n",
            "conv4_block6_1_relu (Activation (None, 14, 14, 256)  0           conv4_block6_1_bn[0][0]          \n",
            "__________________________________________________________________________________________________\n",
            "conv4_block6_2_pad (ZeroPadding (None, 16, 16, 256)  0           conv4_block6_1_relu[0][0]        \n",
            "__________________________________________________________________________________________________\n",
            "conv4_block6_2_conv (Conv2D)    (None, 7, 7, 256)    589824      conv4_block6_2_pad[0][0]         \n",
            "__________________________________________________________________________________________________\n",
            "conv4_block6_2_bn (BatchNormali (None, 7, 7, 256)    1024        conv4_block6_2_conv[0][0]        \n",
            "__________________________________________________________________________________________________\n",
            "conv4_block6_2_relu (Activation (None, 7, 7, 256)    0           conv4_block6_2_bn[0][0]          \n",
            "__________________________________________________________________________________________________\n",
            "max_pooling2d_2 (MaxPooling2D)  (None, 7, 7, 1024)   0           conv4_block5_out[0][0]           \n",
            "__________________________________________________________________________________________________\n",
            "conv4_block6_3_conv (Conv2D)    (None, 7, 7, 1024)   263168      conv4_block6_2_relu[0][0]        \n",
            "__________________________________________________________________________________________________\n",
            "conv4_block6_out (Add)          (None, 7, 7, 1024)   0           max_pooling2d_2[0][0]            \n",
            "                                                                 conv4_block6_3_conv[0][0]        \n",
            "__________________________________________________________________________________________________\n",
            "conv5_block1_preact_bn (BatchNo (None, 7, 7, 1024)   4096        conv4_block6_out[0][0]           \n",
            "__________________________________________________________________________________________________\n",
            "conv5_block1_preact_relu (Activ (None, 7, 7, 1024)   0           conv5_block1_preact_bn[0][0]     \n",
            "__________________________________________________________________________________________________\n",
            "conv5_block1_1_conv (Conv2D)    (None, 7, 7, 512)    524288      conv5_block1_preact_relu[0][0]   \n",
            "__________________________________________________________________________________________________\n",
            "conv5_block1_1_bn (BatchNormali (None, 7, 7, 512)    2048        conv5_block1_1_conv[0][0]        \n",
            "__________________________________________________________________________________________________\n",
            "conv5_block1_1_relu (Activation (None, 7, 7, 512)    0           conv5_block1_1_bn[0][0]          \n",
            "__________________________________________________________________________________________________\n",
            "conv5_block1_2_pad (ZeroPadding (None, 9, 9, 512)    0           conv5_block1_1_relu[0][0]        \n",
            "__________________________________________________________________________________________________\n",
            "conv5_block1_2_conv (Conv2D)    (None, 7, 7, 512)    2359296     conv5_block1_2_pad[0][0]         \n",
            "__________________________________________________________________________________________________\n",
            "conv5_block1_2_bn (BatchNormali (None, 7, 7, 512)    2048        conv5_block1_2_conv[0][0]        \n",
            "__________________________________________________________________________________________________\n",
            "conv5_block1_2_relu (Activation (None, 7, 7, 512)    0           conv5_block1_2_bn[0][0]          \n",
            "__________________________________________________________________________________________________\n",
            "conv5_block1_0_conv (Conv2D)    (None, 7, 7, 2048)   2099200     conv5_block1_preact_relu[0][0]   \n",
            "__________________________________________________________________________________________________\n",
            "conv5_block1_3_conv (Conv2D)    (None, 7, 7, 2048)   1050624     conv5_block1_2_relu[0][0]        \n",
            "__________________________________________________________________________________________________\n",
            "conv5_block1_out (Add)          (None, 7, 7, 2048)   0           conv5_block1_0_conv[0][0]        \n",
            "                                                                 conv5_block1_3_conv[0][0]        \n",
            "__________________________________________________________________________________________________\n",
            "conv5_block2_preact_bn (BatchNo (None, 7, 7, 2048)   8192        conv5_block1_out[0][0]           \n",
            "__________________________________________________________________________________________________\n",
            "conv5_block2_preact_relu (Activ (None, 7, 7, 2048)   0           conv5_block2_preact_bn[0][0]     \n",
            "__________________________________________________________________________________________________\n",
            "conv5_block2_1_conv (Conv2D)    (None, 7, 7, 512)    1048576     conv5_block2_preact_relu[0][0]   \n",
            "__________________________________________________________________________________________________\n",
            "conv5_block2_1_bn (BatchNormali (None, 7, 7, 512)    2048        conv5_block2_1_conv[0][0]        \n",
            "__________________________________________________________________________________________________\n",
            "conv5_block2_1_relu (Activation (None, 7, 7, 512)    0           conv5_block2_1_bn[0][0]          \n",
            "__________________________________________________________________________________________________\n",
            "conv5_block2_2_pad (ZeroPadding (None, 9, 9, 512)    0           conv5_block2_1_relu[0][0]        \n",
            "__________________________________________________________________________________________________\n",
            "conv5_block2_2_conv (Conv2D)    (None, 7, 7, 512)    2359296     conv5_block2_2_pad[0][0]         \n",
            "__________________________________________________________________________________________________\n",
            "conv5_block2_2_bn (BatchNormali (None, 7, 7, 512)    2048        conv5_block2_2_conv[0][0]        \n",
            "__________________________________________________________________________________________________\n",
            "conv5_block2_2_relu (Activation (None, 7, 7, 512)    0           conv5_block2_2_bn[0][0]          \n",
            "__________________________________________________________________________________________________\n",
            "conv5_block2_3_conv (Conv2D)    (None, 7, 7, 2048)   1050624     conv5_block2_2_relu[0][0]        \n",
            "__________________________________________________________________________________________________\n",
            "conv5_block2_out (Add)          (None, 7, 7, 2048)   0           conv5_block1_out[0][0]           \n",
            "                                                                 conv5_block2_3_conv[0][0]        \n",
            "__________________________________________________________________________________________________\n",
            "conv5_block3_preact_bn (BatchNo (None, 7, 7, 2048)   8192        conv5_block2_out[0][0]           \n",
            "__________________________________________________________________________________________________\n",
            "conv5_block3_preact_relu (Activ (None, 7, 7, 2048)   0           conv5_block3_preact_bn[0][0]     \n",
            "__________________________________________________________________________________________________\n",
            "conv5_block3_1_conv (Conv2D)    (None, 7, 7, 512)    1048576     conv5_block3_preact_relu[0][0]   \n",
            "__________________________________________________________________________________________________\n",
            "conv5_block3_1_bn (BatchNormali (None, 7, 7, 512)    2048        conv5_block3_1_conv[0][0]        \n",
            "__________________________________________________________________________________________________\n",
            "conv5_block3_1_relu (Activation (None, 7, 7, 512)    0           conv5_block3_1_bn[0][0]          \n",
            "__________________________________________________________________________________________________\n",
            "conv5_block3_2_pad (ZeroPadding (None, 9, 9, 512)    0           conv5_block3_1_relu[0][0]        \n",
            "__________________________________________________________________________________________________\n",
            "conv5_block3_2_conv (Conv2D)    (None, 7, 7, 512)    2359296     conv5_block3_2_pad[0][0]         \n",
            "__________________________________________________________________________________________________\n",
            "conv5_block3_2_bn (BatchNormali (None, 7, 7, 512)    2048        conv5_block3_2_conv[0][0]        \n",
            "__________________________________________________________________________________________________\n",
            "conv5_block3_2_relu (Activation (None, 7, 7, 512)    0           conv5_block3_2_bn[0][0]          \n",
            "__________________________________________________________________________________________________\n",
            "conv5_block3_3_conv (Conv2D)    (None, 7, 7, 2048)   1050624     conv5_block3_2_relu[0][0]        \n",
            "__________________________________________________________________________________________________\n",
            "conv5_block3_out (Add)          (None, 7, 7, 2048)   0           conv5_block2_out[0][0]           \n",
            "                                                                 conv5_block3_3_conv[0][0]        \n",
            "__________________________________________________________________________________________________\n",
            "post_bn (BatchNormalization)    (None, 7, 7, 2048)   8192        conv5_block3_out[0][0]           \n",
            "__________________________________________________________________________________________________\n",
            "post_relu (Activation)          (None, 7, 7, 2048)   0           post_bn[0][0]                    \n",
            "__________________________________________________________________________________________________\n",
            "avg_pool (GlobalAveragePooling2 (None, 2048)         0           post_relu[0][0]                  \n",
            "==================================================================================================\n",
            "Total params: 23,564,800\n",
            "Trainable params: 0\n",
            "Non-trainable params: 23,564,800\n",
            "__________________________________________________________________________________________________\n"
          ],
          "name": "stdout"
        }
      ]
    },
    {
      "cell_type": "code",
      "metadata": {
        "colab_type": "code",
        "id": "fISHSIS7XUNq",
        "colab": {
          "base_uri": "https://localhost:8080/",
          "height": 225
        },
        "outputId": "dc85928b-ac50-43ba-fecc-d841e1d0a281"
      },
      "source": [
        "optimizer = Adam(lr=1e-4)\n",
        "model.compile(optimizer=optimizer,loss='sparse_categorical_crossentropy', metrics=['accuracy'])\n",
        "model.summary()"
      ],
      "execution_count": null,
      "outputs": [
        {
          "output_type": "stream",
          "text": [
            "Model: \"sequential\"\n",
            "_________________________________________________________________\n",
            "Layer (type)                 Output Shape              Param #   \n",
            "=================================================================\n",
            "resnet50v2 (Model)           (None, 2048)              23564800  \n",
            "_________________________________________________________________\n",
            "dense (Dense)                (None, 102)               208998    \n",
            "=================================================================\n",
            "Total params: 23,773,798\n",
            "Trainable params: 208,998\n",
            "Non-trainable params: 23,564,800\n",
            "_________________________________________________________________\n"
          ],
          "name": "stdout"
        }
      ]
    },
    {
      "cell_type": "code",
      "metadata": {
        "colab_type": "code",
        "id": "Kzhq4UPlXUNx",
        "colab": {
          "base_uri": "https://localhost:8080/",
          "height": 1000
        },
        "outputId": "d30af6ff-6dde-43de-dabf-41076cf1bec1"
      },
      "source": [
        "history = model_trainer.train_model(model, train_ds, val_ds, epochs=30)"
      ],
      "execution_count": null,
      "outputs": [
        {
          "output_type": "stream",
          "text": [
            "Batch size: 16\n",
            "Training dataset size: 3275 - Training steps per epoch: 204\n",
            "Validation dataset size: 2457 - Validation steps per epoch: 153\n",
            "Epoch 1/30\n",
            "204/204 [==============================] - 18s 88ms/step - loss: 4.2803 - accuracy: 0.0904 - val_loss: 3.5715 - val_accuracy: 0.2075\n",
            "Epoch 2/30\n",
            "204/204 [==============================] - 11s 56ms/step - loss: 3.0380 - accuracy: 0.3410 - val_loss: 2.7395 - val_accuracy: 0.4122\n",
            "Epoch 3/30\n",
            "204/204 [==============================] - 11s 56ms/step - loss: 2.2804 - accuracy: 0.5463 - val_loss: 2.2096 - val_accuracy: 0.5445\n",
            "Epoch 4/30\n",
            "204/204 [==============================] - 11s 56ms/step - loss: 1.7805 - accuracy: 0.6697 - val_loss: 1.8541 - val_accuracy: 0.6209\n",
            "Epoch 5/30\n",
            "204/204 [==============================] - 11s 55ms/step - loss: 1.4362 - accuracy: 0.7635 - val_loss: 1.6066 - val_accuracy: 0.6765\n",
            "Epoch 6/30\n",
            "204/204 [==============================] - 11s 56ms/step - loss: 1.1965 - accuracy: 0.8192 - val_loss: 1.4278 - val_accuracy: 0.7145\n",
            "Epoch 7/30\n",
            "204/204 [==============================] - 11s 56ms/step - loss: 1.0140 - accuracy: 0.8539 - val_loss: 1.2911 - val_accuracy: 0.7475\n",
            "Epoch 8/30\n",
            "204/204 [==============================] - 11s 56ms/step - loss: 0.8738 - accuracy: 0.8833 - val_loss: 1.1861 - val_accuracy: 0.7667\n",
            "Epoch 9/30\n",
            "204/204 [==============================] - 12s 56ms/step - loss: 0.7656 - accuracy: 0.9050 - val_loss: 1.0993 - val_accuracy: 0.7802\n",
            "Epoch 10/30\n",
            "204/204 [==============================] - 12s 56ms/step - loss: 0.6691 - accuracy: 0.9216 - val_loss: 1.0293 - val_accuracy: 0.7937\n",
            "Epoch 11/30\n",
            "204/204 [==============================] - 11s 56ms/step - loss: 0.6045 - accuracy: 0.9286 - val_loss: 0.9726 - val_accuracy: 0.8039\n",
            "Epoch 12/30\n",
            "204/204 [==============================] - 11s 56ms/step - loss: 0.5351 - accuracy: 0.9427 - val_loss: 0.9226 - val_accuracy: 0.8100\n",
            "Epoch 13/30\n",
            "204/204 [==============================] - 12s 57ms/step - loss: 0.4813 - accuracy: 0.9504 - val_loss: 0.8788 - val_accuracy: 0.8158\n",
            "Epoch 14/30\n",
            "204/204 [==============================] - 11s 56ms/step - loss: 0.4385 - accuracy: 0.9556 - val_loss: 0.8420 - val_accuracy: 0.8223\n",
            "Epoch 15/30\n",
            "204/204 [==============================] - 11s 56ms/step - loss: 0.3951 - accuracy: 0.9660 - val_loss: 0.8103 - val_accuracy: 0.8248\n",
            "Epoch 16/30\n",
            "204/204 [==============================] - 11s 56ms/step - loss: 0.3580 - accuracy: 0.9700 - val_loss: 0.7821 - val_accuracy: 0.8276\n",
            "Epoch 17/30\n",
            "204/204 [==============================] - 11s 56ms/step - loss: 0.3365 - accuracy: 0.9709 - val_loss: 0.7555 - val_accuracy: 0.8333\n",
            "Epoch 18/30\n",
            "204/204 [==============================] - 11s 56ms/step - loss: 0.3004 - accuracy: 0.9786 - val_loss: 0.7335 - val_accuracy: 0.8366\n",
            "Epoch 19/30\n",
            "204/204 [==============================] - 11s 56ms/step - loss: 0.2724 - accuracy: 0.9816 - val_loss: 0.7132 - val_accuracy: 0.8391\n",
            "Epoch 20/30\n",
            "204/204 [==============================] - 11s 56ms/step - loss: 0.2540 - accuracy: 0.9847 - val_loss: 0.6922 - val_accuracy: 0.8440\n",
            "Epoch 21/30\n",
            "204/204 [==============================] - 11s 55ms/step - loss: 0.2303 - accuracy: 0.9868 - val_loss: 0.6765 - val_accuracy: 0.8427\n",
            "Epoch 22/30\n",
            "204/204 [==============================] - 11s 56ms/step - loss: 0.2153 - accuracy: 0.9884 - val_loss: 0.6606 - val_accuracy: 0.8480\n",
            "Epoch 23/30\n",
            "204/204 [==============================] - 11s 55ms/step - loss: 0.1981 - accuracy: 0.9893 - val_loss: 0.6474 - val_accuracy: 0.8509\n",
            "Epoch 24/30\n",
            "204/204 [==============================] - 11s 55ms/step - loss: 0.1820 - accuracy: 0.9920 - val_loss: 0.6344 - val_accuracy: 0.8497\n",
            "Epoch 25/30\n",
            "204/204 [==============================] - 11s 56ms/step - loss: 0.1660 - accuracy: 0.9948 - val_loss: 0.6223 - val_accuracy: 0.8501\n",
            "Epoch 26/30\n",
            "204/204 [==============================] - 11s 55ms/step - loss: 0.1573 - accuracy: 0.9942 - val_loss: 0.6098 - val_accuracy: 0.8550\n",
            "Epoch 27/30\n",
            "204/204 [==============================] - 11s 55ms/step - loss: 0.1441 - accuracy: 0.9948 - val_loss: 0.5997 - val_accuracy: 0.8587\n",
            "Epoch 28/30\n",
            "204/204 [==============================] - 11s 55ms/step - loss: 0.1315 - accuracy: 0.9963 - val_loss: 0.5919 - val_accuracy: 0.8558\n",
            "Epoch 29/30\n",
            "204/204 [==============================] - 11s 56ms/step - loss: 0.1209 - accuracy: 0.9972 - val_loss: 0.5812 - val_accuracy: 0.8570\n",
            "Epoch 30/30\n",
            "204/204 [==============================] - 11s 56ms/step - loss: 0.1140 - accuracy: 0.9969 - val_loss: 0.5734 - val_accuracy: 0.8615\n"
          ],
          "name": "stdout"
        }
      ]
    },
    {
      "cell_type": "code",
      "metadata": {
        "colab_type": "code",
        "id": "dgxhRGXCXUN2",
        "colab": {}
      },
      "source": [
        "save_model_weights(model, 'resnet50v2_fe')"
      ],
      "execution_count": null,
      "outputs": []
    },
    {
      "cell_type": "code",
      "metadata": {
        "colab_type": "code",
        "id": "UWCkTocgXUN8",
        "colab": {
          "base_uri": "https://localhost:8080/",
          "height": 390
        },
        "outputId": "19eda0a3-f7cd-4ba5-c6ab-df85e5be83ae"
      },
      "source": [
        "plot_curves(history)"
      ],
      "execution_count": null,
      "outputs": [
        {
          "output_type": "display_data",
          "data": {
            "image/png": "[encoded data removed]",
            "text/plain": [
              "<Figure size 1296x432 with 2 Axes>"
            ]
          },
          "metadata": {
            "tags": [],
            "needs_background": "light"
          }
        }
      ]
    },
    {
      "cell_type": "code",
      "metadata": {
        "colab_type": "code",
        "id": "lnORAKuKXUOC",
        "colab": {
          "base_uri": "https://localhost:8080/",
          "height": 104
        },
        "outputId": "4586a06f-dee2-4335-ebda-f1368747618a"
      },
      "source": [
        "show_scores(model, test_ds)"
      ],
      "execution_count": null,
      "outputs": [
        {
          "output_type": "stream",
          "text": [
            "|Average prediction time: 8.30 ms\n",
            "|Average Type |Prec |Rec |F1\n",
            "|--- |--- |--- |---\n",
            "|Micro|0.83|0.83|0.83\n",
            "|Macro|0.86|0.80|0.82\n"
          ],
          "name": "stdout"
        }
      ]
    },
    {
      "cell_type": "markdown",
      "metadata": {
        "colab_type": "text",
        "id": "xvm4aevGXUOO"
      },
      "source": [
        "### Fine-tuning **without** data augmentation"
      ]
    },
    {
      "cell_type": "code",
      "metadata": {
        "colab_type": "code",
        "id": "kaKN2NO-XUOO",
        "colab": {}
      },
      "source": [
        "train_ds = np_to_dataset(X_train, y_train, training=True, augmentation=False, batch_size=BATCH_SIZE)\n",
        "val_ds = np_to_dataset(X_val, y_val, training=False, batch_size=BATCH_SIZE)\n",
        "test_ds = np_to_dataset(X_test, y_test, training=False, batch_size=1)"
      ],
      "execution_count": null,
      "outputs": []
    },
    {
      "cell_type": "code",
      "metadata": {
        "colab_type": "code",
        "id": "UxBc1w4PXUOT",
        "colab": {}
      },
      "source": [
        "model = create_resnet50v2_model()\n",
        "load_model_weights(model, 'resnet50v2_fe')"
      ],
      "execution_count": null,
      "outputs": []
    },
    {
      "cell_type": "code",
      "metadata": {
        "colab_type": "code",
        "id": "VvXlZOj8XUOY",
        "colab": {
          "base_uri": "https://localhost:8080/",
          "height": 225
        },
        "outputId": "7ff40b73-a949-413b-908e-36b2b035b2e7"
      },
      "source": [
        "model.summary()"
      ],
      "execution_count": null,
      "outputs": [
        {
          "output_type": "stream",
          "text": [
            "Model: \"sequential_1\"\n",
            "_________________________________________________________________\n",
            "Layer (type)                 Output Shape              Param #   \n",
            "=================================================================\n",
            "resnet50v2 (Model)           (None, 2048)              23564800  \n",
            "_________________________________________________________________\n",
            "dense_1 (Dense)              (None, 102)               208998    \n",
            "=================================================================\n",
            "Total params: 23,773,798\n",
            "Trainable params: 23,728,358\n",
            "Non-trainable params: 45,440\n",
            "_________________________________________________________________\n"
          ],
          "name": "stdout"
        }
      ]
    },
    {
      "cell_type": "markdown",
      "metadata": {
        "colab_type": "text",
        "id": "PWHJypqQXUOc"
      },
      "source": [
        "Unfreeze block conv_5 and post_bn layer of the convolutional base, as well as the classifier"
      ]
    },
    {
      "cell_type": "code",
      "metadata": {
        "colab_type": "code",
        "id": "19wYMY9mXUOc",
        "colab": {}
      },
      "source": [
        "conv_base = model.get_layer('resnet50v2')\n",
        "classifier = model.get_layer('dense_1')\n",
        "\n",
        "# Freeze convolutional base\n",
        "freeze_model(conv_base)\n",
        "\n",
        "# Unfreeze the last few layers of the convolutional base\n",
        "for layer in conv_base.layers:\n",
        "  if layer.name.startswith('conv5_block3') or layer.name.startswith('post'):\n",
        "    layer.trainable = True"
      ],
      "execution_count": null,
      "outputs": []
    },
    {
      "cell_type": "code",
      "metadata": {
        "colab_type": "code",
        "id": "16bb_bHnXUOi",
        "colab": {
          "base_uri": "https://localhost:8080/",
          "height": 225
        },
        "outputId": "fc80077e-374f-433c-8e80-7ead597bc3de"
      },
      "source": [
        "# Compile with lower learning rate\n",
        "optimizer = Adam(lr=1e-5)\n",
        "model.compile(optimizer=optimizer,loss='sparse_categorical_crossentropy', metrics=['accuracy'])\n",
        "model.summary()"
      ],
      "execution_count": null,
      "outputs": [
        {
          "output_type": "stream",
          "text": [
            "Model: \"sequential_1\"\n",
            "_________________________________________________________________\n",
            "Layer (type)                 Output Shape              Param #   \n",
            "=================================================================\n",
            "resnet50v2 (Model)           (None, 2048)              23564800  \n",
            "_________________________________________________________________\n",
            "dense_1 (Dense)              (None, 102)               208998    \n",
            "=================================================================\n",
            "Total params: 23,773,798\n",
            "Trainable params: 4,677,734\n",
            "Non-trainable params: 19,096,064\n",
            "_________________________________________________________________\n"
          ],
          "name": "stdout"
        }
      ]
    },
    {
      "cell_type": "code",
      "metadata": {
        "colab_type": "code",
        "id": "-7fWrjczXUOm",
        "colab": {
          "base_uri": "https://localhost:8080/",
          "height": 1000
        },
        "outputId": "ab5c91e5-9e14-4468-f3ba-4a1180a9dc58"
      },
      "source": [
        "history = model_trainer.train_model(model, train_ds, val_ds, epochs=100)"
      ],
      "execution_count": null,
      "outputs": [
        {
          "output_type": "stream",
          "text": [
            "Batch size: 16\n",
            "Training dataset size: 3275 - Training steps per epoch: 204\n",
            "Validation dataset size: 2457 - Validation steps per epoch: 153\n",
            "Epoch 1/100\n",
            "204/204 [==============================] - 18s 90ms/step - loss: 0.3324 - accuracy: 0.9280 - val_loss: 0.4408 - val_accuracy: 0.8832\n",
            "Epoch 2/100\n",
            "204/204 [==============================] - 17s 85ms/step - loss: 0.0264 - accuracy: 0.9985 - val_loss: 0.3499 - val_accuracy: 0.9016\n",
            "Epoch 3/100\n",
            "204/204 [==============================] - 12s 60ms/step - loss: 0.0103 - accuracy: 0.9997 - val_loss: 0.3360 - val_accuracy: 0.9077\n",
            "Epoch 4/100\n",
            "204/204 [==============================] - 12s 60ms/step - loss: 0.0058 - accuracy: 1.0000 - val_loss: 0.3259 - val_accuracy: 0.9122\n",
            "Epoch 5/100\n",
            "204/204 [==============================] - 12s 60ms/step - loss: 0.0045 - accuracy: 1.0000 - val_loss: 0.3267 - val_accuracy: 0.9134\n",
            "Epoch 6/100\n",
            "204/204 [==============================] - 12s 59ms/step - loss: 0.0030 - accuracy: 1.0000 - val_loss: 0.3288 - val_accuracy: 0.9081\n",
            "Epoch 7/100\n",
            "204/204 [==============================] - 12s 60ms/step - loss: 0.0026 - accuracy: 1.0000 - val_loss: 0.3223 - val_accuracy: 0.9134\n",
            "Epoch 8/100\n",
            "204/204 [==============================] - 12s 59ms/step - loss: 0.0027 - accuracy: 1.0000 - val_loss: 0.3236 - val_accuracy: 0.9105\n",
            "Epoch 9/100\n",
            "204/204 [==============================] - 12s 60ms/step - loss: 0.0020 - accuracy: 1.0000 - val_loss: 0.3168 - val_accuracy: 0.9126\n",
            "Epoch 10/100\n",
            "204/204 [==============================] - 12s 61ms/step - loss: 0.0017 - accuracy: 1.0000 - val_loss: 0.3147 - val_accuracy: 0.9138\n",
            "Epoch 11/100\n",
            "204/204 [==============================] - 12s 60ms/step - loss: 0.0014 - accuracy: 1.0000 - val_loss: 0.3192 - val_accuracy: 0.9154\n",
            "Epoch 12/100\n",
            "204/204 [==============================] - 12s 60ms/step - loss: 0.0012 - accuracy: 1.0000 - val_loss: 0.3219 - val_accuracy: 0.9126\n",
            "Epoch 13/100\n",
            "204/204 [==============================] - 12s 60ms/step - loss: 0.0011 - accuracy: 1.0000 - val_loss: 0.3158 - val_accuracy: 0.9142\n",
            "Epoch 14/100\n",
            "204/204 [==============================] - 12s 60ms/step - loss: 0.0010 - accuracy: 1.0000 - val_loss: 0.3151 - val_accuracy: 0.9158\n",
            "Epoch 15/100\n",
            "204/204 [==============================] - 12s 60ms/step - loss: 8.3698e-04 - accuracy: 1.0000 - val_loss: 0.3135 - val_accuracy: 0.9146\n",
            "Epoch 16/100\n",
            "204/204 [==============================] - 12s 60ms/step - loss: 6.8242e-04 - accuracy: 1.0000 - val_loss: 0.3162 - val_accuracy: 0.9158\n",
            "Epoch 17/100\n",
            "204/204 [==============================] - 12s 60ms/step - loss: 5.8326e-04 - accuracy: 1.0000 - val_loss: 0.3184 - val_accuracy: 0.9142\n",
            "Epoch 18/100\n",
            "204/204 [==============================] - 12s 59ms/step - loss: 5.9898e-04 - accuracy: 1.0000 - val_loss: 0.3198 - val_accuracy: 0.9154\n",
            "Epoch 19/100\n",
            "204/204 [==============================] - 12s 59ms/step - loss: 4.9001e-04 - accuracy: 1.0000 - val_loss: 0.3216 - val_accuracy: 0.9146\n",
            "Epoch 20/100\n",
            "204/204 [==============================] - 12s 59ms/step - loss: 8.8487e-04 - accuracy: 1.0000 - val_loss: 0.3279 - val_accuracy: 0.9093\n",
            "Epoch 21/100\n",
            "204/204 [==============================] - 12s 59ms/step - loss: 5.2927e-04 - accuracy: 1.0000 - val_loss: 0.3196 - val_accuracy: 0.9146\n",
            "Epoch 22/100\n",
            "204/204 [==============================] - 12s 59ms/step - loss: 3.8471e-04 - accuracy: 1.0000 - val_loss: 0.3165 - val_accuracy: 0.9187\n",
            "Epoch 23/100\n",
            "204/204 [==============================] - 12s 59ms/step - loss: 5.5736e-04 - accuracy: 1.0000 - val_loss: 0.3214 - val_accuracy: 0.9142\n",
            "Epoch 24/100\n",
            "204/204 [==============================] - 12s 60ms/step - loss: 4.0843e-04 - accuracy: 1.0000 - val_loss: 0.3068 - val_accuracy: 0.9158\n",
            "Epoch 25/100\n",
            "204/204 [==============================] - 12s 59ms/step - loss: 2.6742e-04 - accuracy: 1.0000 - val_loss: 0.3076 - val_accuracy: 0.9183\n",
            "Epoch 26/100\n",
            "204/204 [==============================] - 12s 59ms/step - loss: 2.6689e-04 - accuracy: 1.0000 - val_loss: 0.3039 - val_accuracy: 0.9158\n",
            "Epoch 27/100\n",
            "204/204 [==============================] - 12s 59ms/step - loss: 2.2605e-04 - accuracy: 1.0000 - val_loss: 0.3167 - val_accuracy: 0.9142\n",
            "Epoch 28/100\n",
            "204/204 [==============================] - 12s 60ms/step - loss: 1.9753e-04 - accuracy: 1.0000 - val_loss: 0.3138 - val_accuracy: 0.9146\n",
            "Epoch 29/100\n",
            "204/204 [==============================] - 12s 60ms/step - loss: 1.8313e-04 - accuracy: 1.0000 - val_loss: 0.3148 - val_accuracy: 0.9150\n",
            "Epoch 30/100\n",
            "204/204 [==============================] - 12s 59ms/step - loss: 1.5861e-04 - accuracy: 1.0000 - val_loss: 0.3149 - val_accuracy: 0.9150\n",
            "Epoch 31/100\n",
            "204/204 [==============================] - 12s 59ms/step - loss: 1.7238e-04 - accuracy: 1.0000 - val_loss: 0.3235 - val_accuracy: 0.9158\n",
            "Epoch 32/100\n",
            "204/204 [==============================] - 12s 59ms/step - loss: 1.4116e-04 - accuracy: 1.0000 - val_loss: 0.3159 - val_accuracy: 0.9171\n",
            "Epoch 33/100\n",
            "204/204 [==============================] - 12s 59ms/step - loss: 1.8675e-04 - accuracy: 1.0000 - val_loss: 0.3150 - val_accuracy: 0.9146\n",
            "Epoch 34/100\n",
            "204/204 [==============================] - 12s 59ms/step - loss: 1.3514e-04 - accuracy: 1.0000 - val_loss: 0.3108 - val_accuracy: 0.9167\n",
            "Epoch 35/100\n",
            "204/204 [==============================] - 12s 59ms/step - loss: 0.0028 - accuracy: 0.9991 - val_loss: 0.4759 - val_accuracy: 0.8730\n",
            "Epoch 36/100\n",
            "204/204 [==============================] - 12s 60ms/step - loss: 0.0317 - accuracy: 0.9936 - val_loss: 0.4267 - val_accuracy: 0.8897\n"
          ],
          "name": "stdout"
        }
      ]
    },
    {
      "cell_type": "code",
      "metadata": {
        "colab_type": "code",
        "id": "Tt0kd5McXUOs",
        "colab": {}
      },
      "source": [
        "save_model_weights(model, 'resnet50v2_ft')"
      ],
      "execution_count": null,
      "outputs": []
    },
    {
      "cell_type": "code",
      "metadata": {
        "colab_type": "code",
        "id": "tm0ybh-gXUOy",
        "colab": {
          "base_uri": "https://localhost:8080/",
          "height": 390
        },
        "outputId": "57142f8b-6f1f-44b7-b845-a2c07ffa9430"
      },
      "source": [
        "plot_curves(history)"
      ],
      "execution_count": null,
      "outputs": [
        {
          "output_type": "display_data",
          "data": {
            "image/png": "[encoded data removed]",
            "text/plain": [
              "<Figure size 1296x432 with 2 Axes>"
            ]
          },
          "metadata": {
            "tags": [],
            "needs_background": "light"
          }
        }
      ]
    },
    {
      "cell_type": "code",
      "metadata": {
        "colab_type": "code",
        "id": "iZAqu1cOXUO2",
        "colab": {
          "base_uri": "https://localhost:8080/",
          "height": 104
        },
        "outputId": "bb89b633-c964-4a6a-cc8d-fc329a722be6"
      },
      "source": [
        "show_scores(model, test_ds)"
      ],
      "execution_count": null,
      "outputs": [
        {
          "output_type": "stream",
          "text": [
            "|Average prediction time: 8.10 ms\n",
            "|Average Type |Prec |Rec |F1\n",
            "|--- |--- |--- |---\n",
            "|Micro|0.91|0.91|0.91\n",
            "|Macro|0.91|0.89|0.90\n"
          ],
          "name": "stdout"
        }
      ]
    },
    {
      "cell_type": "markdown",
      "metadata": {
        "colab_type": "text",
        "id": "dTWzVvVyXUO6"
      },
      "source": [
        "### Feature extraction **with** Data Augmentation"
      ]
    },
    {
      "cell_type": "code",
      "metadata": {
        "colab_type": "code",
        "id": "BvnZr6ruXUO7",
        "colab": {}
      },
      "source": [
        "train_ds = np_to_dataset(X_train, y_train, training=True, augmentation=True, batch_size=BATCH_SIZE)\n",
        "val_ds = np_to_dataset(X_val, y_val, training=False, batch_size=BATCH_SIZE)\n",
        "test_ds = np_to_dataset(X_test, y_test, training=False, batch_size=1)"
      ],
      "execution_count": null,
      "outputs": []
    },
    {
      "cell_type": "code",
      "metadata": {
        "colab_type": "code",
        "id": "M88IXk0sXUO-",
        "colab": {}
      },
      "source": [
        "model = create_resnet50v2_model()"
      ],
      "execution_count": null,
      "outputs": []
    },
    {
      "cell_type": "code",
      "metadata": {
        "colab_type": "code",
        "id": "PuOr19-0XUPC",
        "colab": {
          "base_uri": "https://localhost:8080/",
          "height": 1000
        },
        "outputId": "298ab121-72c8-4353-853d-8e92ee48ac39"
      },
      "source": [
        "conv_base = model.get_layer('resnet50v2')\n",
        "freeze_model(conv_base)\n",
        "\n",
        "conv_base.summary()"
      ],
      "execution_count": null,
      "outputs": [
        {
          "output_type": "stream",
          "text": [
            "Model: \"resnet50v2\"\n",
            "__________________________________________________________________________________________________\n",
            "Layer (type)                    Output Shape         Param #     Connected to                     \n",
            "==================================================================================================\n",
            "input_3 (InputLayer)            [(None, 224, 224, 3) 0                                            \n",
            "__________________________________________________________________________________________________\n",
            "conv1_pad (ZeroPadding2D)       (None, 230, 230, 3)  0           input_3[0][0]                    \n",
            "__________________________________________________________________________________________________\n",
            "conv1_conv (Conv2D)             (None, 112, 112, 64) 9472        conv1_pad[0][0]                  \n",
            "__________________________________________________________________________________________________\n",
            "pool1_pad (ZeroPadding2D)       (None, 114, 114, 64) 0           conv1_conv[0][0]                 \n",
            "__________________________________________________________________________________________________\n",
            "pool1_pool (MaxPooling2D)       (None, 56, 56, 64)   0           pool1_pad[0][0]                  \n",
            "__________________________________________________________________________________________________\n",
            "conv2_block1_preact_bn (BatchNo (None, 56, 56, 64)   256         pool1_pool[0][0]                 \n",
            "__________________________________________________________________________________________________\n",
            "conv2_block1_preact_relu (Activ (None, 56, 56, 64)   0           conv2_block1_preact_bn[0][0]     \n",
            "__________________________________________________________________________________________________\n",
            "conv2_block1_1_conv (Conv2D)    (None, 56, 56, 64)   4096        conv2_block1_preact_relu[0][0]   \n",
            "__________________________________________________________________________________________________\n",
            "conv2_block1_1_bn (BatchNormali (None, 56, 56, 64)   256         conv2_block1_1_conv[0][0]        \n",
            "__________________________________________________________________________________________________\n",
            "conv2_block1_1_relu (Activation (None, 56, 56, 64)   0           conv2_block1_1_bn[0][0]          \n",
            "__________________________________________________________________________________________________\n",
            "conv2_block1_2_pad (ZeroPadding (None, 58, 58, 64)   0           conv2_block1_1_relu[0][0]        \n",
            "__________________________________________________________________________________________________\n",
            "conv2_block1_2_conv (Conv2D)    (None, 56, 56, 64)   36864       conv2_block1_2_pad[0][0]         \n",
            "__________________________________________________________________________________________________\n",
            "conv2_block1_2_bn (BatchNormali (None, 56, 56, 64)   256         conv2_block1_2_conv[0][0]        \n",
            "__________________________________________________________________________________________________\n",
            "conv2_block1_2_relu (Activation (None, 56, 56, 64)   0           conv2_block1_2_bn[0][0]          \n",
            "__________________________________________________________________________________________________\n",
            "conv2_block1_0_conv (Conv2D)    (None, 56, 56, 256)  16640       conv2_block1_preact_relu[0][0]   \n",
            "__________________________________________________________________________________________________\n",
            "conv2_block1_3_conv (Conv2D)    (None, 56, 56, 256)  16640       conv2_block1_2_relu[0][0]        \n",
            "__________________________________________________________________________________________________\n",
            "conv2_block1_out (Add)          (None, 56, 56, 256)  0           conv2_block1_0_conv[0][0]        \n",
            "                                                                 conv2_block1_3_conv[0][0]        \n",
            "__________________________________________________________________________________________________\n",
            "conv2_block2_preact_bn (BatchNo (None, 56, 56, 256)  1024        conv2_block1_out[0][0]           \n",
            "__________________________________________________________________________________________________\n",
            "conv2_block2_preact_relu (Activ (None, 56, 56, 256)  0           conv2_block2_preact_bn[0][0]     \n",
            "__________________________________________________________________________________________________\n",
            "conv2_block2_1_conv (Conv2D)    (None, 56, 56, 64)   16384       conv2_block2_preact_relu[0][0]   \n",
            "__________________________________________________________________________________________________\n",
            "conv2_block2_1_bn (BatchNormali (None, 56, 56, 64)   256         conv2_block2_1_conv[0][0]        \n",
            "__________________________________________________________________________________________________\n",
            "conv2_block2_1_relu (Activation (None, 56, 56, 64)   0           conv2_block2_1_bn[0][0]          \n",
            "__________________________________________________________________________________________________\n",
            "conv2_block2_2_pad (ZeroPadding (None, 58, 58, 64)   0           conv2_block2_1_relu[0][0]        \n",
            "__________________________________________________________________________________________________\n",
            "conv2_block2_2_conv (Conv2D)    (None, 56, 56, 64)   36864       conv2_block2_2_pad[0][0]         \n",
            "__________________________________________________________________________________________________\n",
            "conv2_block2_2_bn (BatchNormali (None, 56, 56, 64)   256         conv2_block2_2_conv[0][0]        \n",
            "__________________________________________________________________________________________________\n",
            "conv2_block2_2_relu (Activation (None, 56, 56, 64)   0           conv2_block2_2_bn[0][0]          \n",
            "__________________________________________________________________________________________________\n",
            "conv2_block2_3_conv (Conv2D)    (None, 56, 56, 256)  16640       conv2_block2_2_relu[0][0]        \n",
            "__________________________________________________________________________________________________\n",
            "conv2_block2_out (Add)          (None, 56, 56, 256)  0           conv2_block1_out[0][0]           \n",
            "                                                                 conv2_block2_3_conv[0][0]        \n",
            "__________________________________________________________________________________________________\n",
            "conv2_block3_preact_bn (BatchNo (None, 56, 56, 256)  1024        conv2_block2_out[0][0]           \n",
            "__________________________________________________________________________________________________\n",
            "conv2_block3_preact_relu (Activ (None, 56, 56, 256)  0           conv2_block3_preact_bn[0][0]     \n",
            "__________________________________________________________________________________________________\n",
            "conv2_block3_1_conv (Conv2D)    (None, 56, 56, 64)   16384       conv2_block3_preact_relu[0][0]   \n",
            "__________________________________________________________________________________________________\n",
            "conv2_block3_1_bn (BatchNormali (None, 56, 56, 64)   256         conv2_block3_1_conv[0][0]        \n",
            "__________________________________________________________________________________________________\n",
            "conv2_block3_1_relu (Activation (None, 56, 56, 64)   0           conv2_block3_1_bn[0][0]          \n",
            "__________________________________________________________________________________________________\n",
            "conv2_block3_2_pad (ZeroPadding (None, 58, 58, 64)   0           conv2_block3_1_relu[0][0]        \n",
            "__________________________________________________________________________________________________\n",
            "conv2_block3_2_conv (Conv2D)    (None, 28, 28, 64)   36864       conv2_block3_2_pad[0][0]         \n",
            "__________________________________________________________________________________________________\n",
            "conv2_block3_2_bn (BatchNormali (None, 28, 28, 64)   256         conv2_block3_2_conv[0][0]        \n",
            "__________________________________________________________________________________________________\n",
            "conv2_block3_2_relu (Activation (None, 28, 28, 64)   0           conv2_block3_2_bn[0][0]          \n",
            "__________________________________________________________________________________________________\n",
            "max_pooling2d_6 (MaxPooling2D)  (None, 28, 28, 256)  0           conv2_block2_out[0][0]           \n",
            "__________________________________________________________________________________________________\n",
            "conv2_block3_3_conv (Conv2D)    (None, 28, 28, 256)  16640       conv2_block3_2_relu[0][0]        \n",
            "__________________________________________________________________________________________________\n",
            "conv2_block3_out (Add)          (None, 28, 28, 256)  0           max_pooling2d_6[0][0]            \n",
            "                                                                 conv2_block3_3_conv[0][0]        \n",
            "__________________________________________________________________________________________________\n",
            "conv3_block1_preact_bn (BatchNo (None, 28, 28, 256)  1024        conv2_block3_out[0][0]           \n",
            "__________________________________________________________________________________________________\n",
            "conv3_block1_preact_relu (Activ (None, 28, 28, 256)  0           conv3_block1_preact_bn[0][0]     \n",
            "__________________________________________________________________________________________________\n",
            "conv3_block1_1_conv (Conv2D)    (None, 28, 28, 128)  32768       conv3_block1_preact_relu[0][0]   \n",
            "__________________________________________________________________________________________________\n",
            "conv3_block1_1_bn (BatchNormali (None, 28, 28, 128)  512         conv3_block1_1_conv[0][0]        \n",
            "__________________________________________________________________________________________________\n",
            "conv3_block1_1_relu (Activation (None, 28, 28, 128)  0           conv3_block1_1_bn[0][0]          \n",
            "__________________________________________________________________________________________________\n",
            "conv3_block1_2_pad (ZeroPadding (None, 30, 30, 128)  0           conv3_block1_1_relu[0][0]        \n",
            "__________________________________________________________________________________________________\n",
            "conv3_block1_2_conv (Conv2D)    (None, 28, 28, 128)  147456      conv3_block1_2_pad[0][0]         \n",
            "__________________________________________________________________________________________________\n",
            "conv3_block1_2_bn (BatchNormali (None, 28, 28, 128)  512         conv3_block1_2_conv[0][0]        \n",
            "__________________________________________________________________________________________________\n",
            "conv3_block1_2_relu (Activation (None, 28, 28, 128)  0           conv3_block1_2_bn[0][0]          \n",
            "__________________________________________________________________________________________________\n",
            "conv3_block1_0_conv (Conv2D)    (None, 28, 28, 512)  131584      conv3_block1_preact_relu[0][0]   \n",
            "__________________________________________________________________________________________________\n",
            "conv3_block1_3_conv (Conv2D)    (None, 28, 28, 512)  66048       conv3_block1_2_relu[0][0]        \n",
            "__________________________________________________________________________________________________\n",
            "conv3_block1_out (Add)          (None, 28, 28, 512)  0           conv3_block1_0_conv[0][0]        \n",
            "                                                                 conv3_block1_3_conv[0][0]        \n",
            "__________________________________________________________________________________________________\n",
            "conv3_block2_preact_bn (BatchNo (None, 28, 28, 512)  2048        conv3_block1_out[0][0]           \n",
            "__________________________________________________________________________________________________\n",
            "conv3_block2_preact_relu (Activ (None, 28, 28, 512)  0           conv3_block2_preact_bn[0][0]     \n",
            "__________________________________________________________________________________________________\n",
            "conv3_block2_1_conv (Conv2D)    (None, 28, 28, 128)  65536       conv3_block2_preact_relu[0][0]   \n",
            "__________________________________________________________________________________________________\n",
            "conv3_block2_1_bn (BatchNormali (None, 28, 28, 128)  512         conv3_block2_1_conv[0][0]        \n",
            "__________________________________________________________________________________________________\n",
            "conv3_block2_1_relu (Activation (None, 28, 28, 128)  0           conv3_block2_1_bn[0][0]          \n",
            "__________________________________________________________________________________________________\n",
            "conv3_block2_2_pad (ZeroPadding (None, 30, 30, 128)  0           conv3_block2_1_relu[0][0]        \n",
            "__________________________________________________________________________________________________\n",
            "conv3_block2_2_conv (Conv2D)    (None, 28, 28, 128)  147456      conv3_block2_2_pad[0][0]         \n",
            "__________________________________________________________________________________________________\n",
            "conv3_block2_2_bn (BatchNormali (None, 28, 28, 128)  512         conv3_block2_2_conv[0][0]        \n",
            "__________________________________________________________________________________________________\n",
            "conv3_block2_2_relu (Activation (None, 28, 28, 128)  0           conv3_block2_2_bn[0][0]          \n",
            "__________________________________________________________________________________________________\n",
            "conv3_block2_3_conv (Conv2D)    (None, 28, 28, 512)  66048       conv3_block2_2_relu[0][0]        \n",
            "__________________________________________________________________________________________________\n",
            "conv3_block2_out (Add)          (None, 28, 28, 512)  0           conv3_block1_out[0][0]           \n",
            "                                                                 conv3_block2_3_conv[0][0]        \n",
            "__________________________________________________________________________________________________\n",
            "conv3_block3_preact_bn (BatchNo (None, 28, 28, 512)  2048        conv3_block2_out[0][0]           \n",
            "__________________________________________________________________________________________________\n",
            "conv3_block3_preact_relu (Activ (None, 28, 28, 512)  0           conv3_block3_preact_bn[0][0]     \n",
            "__________________________________________________________________________________________________\n",
            "conv3_block3_1_conv (Conv2D)    (None, 28, 28, 128)  65536       conv3_block3_preact_relu[0][0]   \n",
            "__________________________________________________________________________________________________\n",
            "conv3_block3_1_bn (BatchNormali (None, 28, 28, 128)  512         conv3_block3_1_conv[0][0]        \n",
            "__________________________________________________________________________________________________\n",
            "conv3_block3_1_relu (Activation (None, 28, 28, 128)  0           conv3_block3_1_bn[0][0]          \n",
            "__________________________________________________________________________________________________\n",
            "conv3_block3_2_pad (ZeroPadding (None, 30, 30, 128)  0           conv3_block3_1_relu[0][0]        \n",
            "__________________________________________________________________________________________________\n",
            "conv3_block3_2_conv (Conv2D)    (None, 28, 28, 128)  147456      conv3_block3_2_pad[0][0]         \n",
            "__________________________________________________________________________________________________\n",
            "conv3_block3_2_bn (BatchNormali (None, 28, 28, 128)  512         conv3_block3_2_conv[0][0]        \n",
            "__________________________________________________________________________________________________\n",
            "conv3_block3_2_relu (Activation (None, 28, 28, 128)  0           conv3_block3_2_bn[0][0]          \n",
            "__________________________________________________________________________________________________\n",
            "conv3_block3_3_conv (Conv2D)    (None, 28, 28, 512)  66048       conv3_block3_2_relu[0][0]        \n",
            "__________________________________________________________________________________________________\n",
            "conv3_block3_out (Add)          (None, 28, 28, 512)  0           conv3_block2_out[0][0]           \n",
            "                                                                 conv3_block3_3_conv[0][0]        \n",
            "__________________________________________________________________________________________________\n",
            "conv3_block4_preact_bn (BatchNo (None, 28, 28, 512)  2048        conv3_block3_out[0][0]           \n",
            "__________________________________________________________________________________________________\n",
            "conv3_block4_preact_relu (Activ (None, 28, 28, 512)  0           conv3_block4_preact_bn[0][0]     \n",
            "__________________________________________________________________________________________________\n",
            "conv3_block4_1_conv (Conv2D)    (None, 28, 28, 128)  65536       conv3_block4_preact_relu[0][0]   \n",
            "__________________________________________________________________________________________________\n",
            "conv3_block4_1_bn (BatchNormali (None, 28, 28, 128)  512         conv3_block4_1_conv[0][0]        \n",
            "__________________________________________________________________________________________________\n",
            "conv3_block4_1_relu (Activation (None, 28, 28, 128)  0           conv3_block4_1_bn[0][0]          \n",
            "__________________________________________________________________________________________________\n",
            "conv3_block4_2_pad (ZeroPadding (None, 30, 30, 128)  0           conv3_block4_1_relu[0][0]        \n",
            "__________________________________________________________________________________________________\n",
            "conv3_block4_2_conv (Conv2D)    (None, 14, 14, 128)  147456      conv3_block4_2_pad[0][0]         \n",
            "__________________________________________________________________________________________________\n",
            "conv3_block4_2_bn (BatchNormali (None, 14, 14, 128)  512         conv3_block4_2_conv[0][0]        \n",
            "__________________________________________________________________________________________________\n",
            "conv3_block4_2_relu (Activation (None, 14, 14, 128)  0           conv3_block4_2_bn[0][0]          \n",
            "__________________________________________________________________________________________________\n",
            "max_pooling2d_7 (MaxPooling2D)  (None, 14, 14, 512)  0           conv3_block3_out[0][0]           \n",
            "__________________________________________________________________________________________________\n",
            "conv3_block4_3_conv (Conv2D)    (None, 14, 14, 512)  66048       conv3_block4_2_relu[0][0]        \n",
            "__________________________________________________________________________________________________\n",
            "conv3_block4_out (Add)          (None, 14, 14, 512)  0           max_pooling2d_7[0][0]            \n",
            "                                                                 conv3_block4_3_conv[0][0]        \n",
            "__________________________________________________________________________________________________\n",
            "conv4_block1_preact_bn (BatchNo (None, 14, 14, 512)  2048        conv3_block4_out[0][0]           \n",
            "__________________________________________________________________________________________________\n",
            "conv4_block1_preact_relu (Activ (None, 14, 14, 512)  0           conv4_block1_preact_bn[0][0]     \n",
            "__________________________________________________________________________________________________\n",
            "conv4_block1_1_conv (Conv2D)    (None, 14, 14, 256)  131072      conv4_block1_preact_relu[0][0]   \n",
            "__________________________________________________________________________________________________\n",
            "conv4_block1_1_bn (BatchNormali (None, 14, 14, 256)  1024        conv4_block1_1_conv[0][0]        \n",
            "__________________________________________________________________________________________________\n",
            "conv4_block1_1_relu (Activation (None, 14, 14, 256)  0           conv4_block1_1_bn[0][0]          \n",
            "__________________________________________________________________________________________________\n",
            "conv4_block1_2_pad (ZeroPadding (None, 16, 16, 256)  0           conv4_block1_1_relu[0][0]        \n",
            "__________________________________________________________________________________________________\n",
            "conv4_block1_2_conv (Conv2D)    (None, 14, 14, 256)  589824      conv4_block1_2_pad[0][0]         \n",
            "__________________________________________________________________________________________________\n",
            "conv4_block1_2_bn (BatchNormali (None, 14, 14, 256)  1024        conv4_block1_2_conv[0][0]        \n",
            "__________________________________________________________________________________________________\n",
            "conv4_block1_2_relu (Activation (None, 14, 14, 256)  0           conv4_block1_2_bn[0][0]          \n",
            "__________________________________________________________________________________________________\n",
            "conv4_block1_0_conv (Conv2D)    (None, 14, 14, 1024) 525312      conv4_block1_preact_relu[0][0]   \n",
            "__________________________________________________________________________________________________\n",
            "conv4_block1_3_conv (Conv2D)    (None, 14, 14, 1024) 263168      conv4_block1_2_relu[0][0]        \n",
            "__________________________________________________________________________________________________\n",
            "conv4_block1_out (Add)          (None, 14, 14, 1024) 0           conv4_block1_0_conv[0][0]        \n",
            "                                                                 conv4_block1_3_conv[0][0]        \n",
            "__________________________________________________________________________________________________\n",
            "conv4_block2_preact_bn (BatchNo (None, 14, 14, 1024) 4096        conv4_block1_out[0][0]           \n",
            "__________________________________________________________________________________________________\n",
            "conv4_block2_preact_relu (Activ (None, 14, 14, 1024) 0           conv4_block2_preact_bn[0][0]     \n",
            "__________________________________________________________________________________________________\n",
            "conv4_block2_1_conv (Conv2D)    (None, 14, 14, 256)  262144      conv4_block2_preact_relu[0][0]   \n",
            "__________________________________________________________________________________________________\n",
            "conv4_block2_1_bn (BatchNormali (None, 14, 14, 256)  1024        conv4_block2_1_conv[0][0]        \n",
            "__________________________________________________________________________________________________\n",
            "conv4_block2_1_relu (Activation (None, 14, 14, 256)  0           conv4_block2_1_bn[0][0]          \n",
            "__________________________________________________________________________________________________\n",
            "conv4_block2_2_pad (ZeroPadding (None, 16, 16, 256)  0           conv4_block2_1_relu[0][0]        \n",
            "__________________________________________________________________________________________________\n",
            "conv4_block2_2_conv (Conv2D)    (None, 14, 14, 256)  589824      conv4_block2_2_pad[0][0]         \n",
            "__________________________________________________________________________________________________\n",
            "conv4_block2_2_bn (BatchNormali (None, 14, 14, 256)  1024        conv4_block2_2_conv[0][0]        \n",
            "__________________________________________________________________________________________________\n",
            "conv4_block2_2_relu (Activation (None, 14, 14, 256)  0           conv4_block2_2_bn[0][0]          \n",
            "__________________________________________________________________________________________________\n",
            "conv4_block2_3_conv (Conv2D)    (None, 14, 14, 1024) 263168      conv4_block2_2_relu[0][0]        \n",
            "__________________________________________________________________________________________________\n",
            "conv4_block2_out (Add)          (None, 14, 14, 1024) 0           conv4_block1_out[0][0]           \n",
            "                                                                 conv4_block2_3_conv[0][0]        \n",
            "__________________________________________________________________________________________________\n",
            "conv4_block3_preact_bn (BatchNo (None, 14, 14, 1024) 4096        conv4_block2_out[0][0]           \n",
            "__________________________________________________________________________________________________\n",
            "conv4_block3_preact_relu (Activ (None, 14, 14, 1024) 0           conv4_block3_preact_bn[0][0]     \n",
            "__________________________________________________________________________________________________\n",
            "conv4_block3_1_conv (Conv2D)    (None, 14, 14, 256)  262144      conv4_block3_preact_relu[0][0]   \n",
            "__________________________________________________________________________________________________\n",
            "conv4_block3_1_bn (BatchNormali (None, 14, 14, 256)  1024        conv4_block3_1_conv[0][0]        \n",
            "__________________________________________________________________________________________________\n",
            "conv4_block3_1_relu (Activation (None, 14, 14, 256)  0           conv4_block3_1_bn[0][0]          \n",
            "__________________________________________________________________________________________________\n",
            "conv4_block3_2_pad (ZeroPadding (None, 16, 16, 256)  0           conv4_block3_1_relu[0][0]        \n",
            "__________________________________________________________________________________________________\n",
            "conv4_block3_2_conv (Conv2D)    (None, 14, 14, 256)  589824      conv4_block3_2_pad[0][0]         \n",
            "__________________________________________________________________________________________________\n",
            "conv4_block3_2_bn (BatchNormali (None, 14, 14, 256)  1024        conv4_block3_2_conv[0][0]        \n",
            "__________________________________________________________________________________________________\n",
            "conv4_block3_2_relu (Activation (None, 14, 14, 256)  0           conv4_block3_2_bn[0][0]          \n",
            "__________________________________________________________________________________________________\n",
            "conv4_block3_3_conv (Conv2D)    (None, 14, 14, 1024) 263168      conv4_block3_2_relu[0][0]        \n",
            "__________________________________________________________________________________________________\n",
            "conv4_block3_out (Add)          (None, 14, 14, 1024) 0           conv4_block2_out[0][0]           \n",
            "                                                                 conv4_block3_3_conv[0][0]        \n",
            "__________________________________________________________________________________________________\n",
            "conv4_block4_preact_bn (BatchNo (None, 14, 14, 1024) 4096        conv4_block3_out[0][0]           \n",
            "__________________________________________________________________________________________________\n",
            "conv4_block4_preact_relu (Activ (None, 14, 14, 1024) 0           conv4_block4_preact_bn[0][0]     \n",
            "__________________________________________________________________________________________________\n",
            "conv4_block4_1_conv (Conv2D)    (None, 14, 14, 256)  262144      conv4_block4_preact_relu[0][0]   \n",
            "__________________________________________________________________________________________________\n",
            "conv4_block4_1_bn (BatchNormali (None, 14, 14, 256)  1024        conv4_block4_1_conv[0][0]        \n",
            "__________________________________________________________________________________________________\n",
            "conv4_block4_1_relu (Activation (None, 14, 14, 256)  0           conv4_block4_1_bn[0][0]          \n",
            "__________________________________________________________________________________________________\n",
            "conv4_block4_2_pad (ZeroPadding (None, 16, 16, 256)  0           conv4_block4_1_relu[0][0]        \n",
            "__________________________________________________________________________________________________\n",
            "conv4_block4_2_conv (Conv2D)    (None, 14, 14, 256)  589824      conv4_block4_2_pad[0][0]         \n",
            "__________________________________________________________________________________________________\n",
            "conv4_block4_2_bn (BatchNormali (None, 14, 14, 256)  1024        conv4_block4_2_conv[0][0]        \n",
            "__________________________________________________________________________________________________\n",
            "conv4_block4_2_relu (Activation (None, 14, 14, 256)  0           conv4_block4_2_bn[0][0]          \n",
            "__________________________________________________________________________________________________\n",
            "conv4_block4_3_conv (Conv2D)    (None, 14, 14, 1024) 263168      conv4_block4_2_relu[0][0]        \n",
            "__________________________________________________________________________________________________\n",
            "conv4_block4_out (Add)          (None, 14, 14, 1024) 0           conv4_block3_out[0][0]           \n",
            "                                                                 conv4_block4_3_conv[0][0]        \n",
            "__________________________________________________________________________________________________\n",
            "conv4_block5_preact_bn (BatchNo (None, 14, 14, 1024) 4096        conv4_block4_out[0][0]           \n",
            "__________________________________________________________________________________________________\n",
            "conv4_block5_preact_relu (Activ (None, 14, 14, 1024) 0           conv4_block5_preact_bn[0][0]     \n",
            "__________________________________________________________________________________________________\n",
            "conv4_block5_1_conv (Conv2D)    (None, 14, 14, 256)  262144      conv4_block5_preact_relu[0][0]   \n",
            "__________________________________________________________________________________________________\n",
            "conv4_block5_1_bn (BatchNormali (None, 14, 14, 256)  1024        conv4_block5_1_conv[0][0]        \n",
            "__________________________________________________________________________________________________\n",
            "conv4_block5_1_relu (Activation (None, 14, 14, 256)  0           conv4_block5_1_bn[0][0]          \n",
            "__________________________________________________________________________________________________\n",
            "conv4_block5_2_pad (ZeroPadding (None, 16, 16, 256)  0           conv4_block5_1_relu[0][0]        \n",
            "__________________________________________________________________________________________________\n",
            "conv4_block5_2_conv (Conv2D)    (None, 14, 14, 256)  589824      conv4_block5_2_pad[0][0]         \n",
            "__________________________________________________________________________________________________\n",
            "conv4_block5_2_bn (BatchNormali (None, 14, 14, 256)  1024        conv4_block5_2_conv[0][0]        \n",
            "__________________________________________________________________________________________________\n",
            "conv4_block5_2_relu (Activation (None, 14, 14, 256)  0           conv4_block5_2_bn[0][0]          \n",
            "__________________________________________________________________________________________________\n",
            "conv4_block5_3_conv (Conv2D)    (None, 14, 14, 1024) 263168      conv4_block5_2_relu[0][0]        \n",
            "__________________________________________________________________________________________________\n",
            "conv4_block5_out (Add)          (None, 14, 14, 1024) 0           conv4_block4_out[0][0]           \n",
            "                                                                 conv4_block5_3_conv[0][0]        \n",
            "__________________________________________________________________________________________________\n",
            "conv4_block6_preact_bn (BatchNo (None, 14, 14, 1024) 4096        conv4_block5_out[0][0]           \n",
            "__________________________________________________________________________________________________\n",
            "conv4_block6_preact_relu (Activ (None, 14, 14, 1024) 0           conv4_block6_preact_bn[0][0]     \n",
            "__________________________________________________________________________________________________\n",
            "conv4_block6_1_conv (Conv2D)    (None, 14, 14, 256)  262144      conv4_block6_preact_relu[0][0]   \n",
            "__________________________________________________________________________________________________\n",
            "conv4_block6_1_bn (BatchNormali (None, 14, 14, 256)  1024        conv4_block6_1_conv[0][0]        \n",
            "__________________________________________________________________________________________________\n",
            "conv4_block6_1_relu (Activation (None, 14, 14, 256)  0           conv4_block6_1_bn[0][0]          \n",
            "__________________________________________________________________________________________________\n",
            "conv4_block6_2_pad (ZeroPadding (None, 16, 16, 256)  0           conv4_block6_1_relu[0][0]        \n",
            "__________________________________________________________________________________________________\n",
            "conv4_block6_2_conv (Conv2D)    (None, 7, 7, 256)    589824      conv4_block6_2_pad[0][0]         \n",
            "__________________________________________________________________________________________________\n",
            "conv4_block6_2_bn (BatchNormali (None, 7, 7, 256)    1024        conv4_block6_2_conv[0][0]        \n",
            "__________________________________________________________________________________________________\n",
            "conv4_block6_2_relu (Activation (None, 7, 7, 256)    0           conv4_block6_2_bn[0][0]          \n",
            "__________________________________________________________________________________________________\n",
            "max_pooling2d_8 (MaxPooling2D)  (None, 7, 7, 1024)   0           conv4_block5_out[0][0]           \n",
            "__________________________________________________________________________________________________\n",
            "conv4_block6_3_conv (Conv2D)    (None, 7, 7, 1024)   263168      conv4_block6_2_relu[0][0]        \n",
            "__________________________________________________________________________________________________\n",
            "conv4_block6_out (Add)          (None, 7, 7, 1024)   0           max_pooling2d_8[0][0]            \n",
            "                                                                 conv4_block6_3_conv[0][0]        \n",
            "__________________________________________________________________________________________________\n",
            "conv5_block1_preact_bn (BatchNo (None, 7, 7, 1024)   4096        conv4_block6_out[0][0]           \n",
            "__________________________________________________________________________________________________\n",
            "conv5_block1_preact_relu (Activ (None, 7, 7, 1024)   0           conv5_block1_preact_bn[0][0]     \n",
            "__________________________________________________________________________________________________\n",
            "conv5_block1_1_conv (Conv2D)    (None, 7, 7, 512)    524288      conv5_block1_preact_relu[0][0]   \n",
            "__________________________________________________________________________________________________\n",
            "conv5_block1_1_bn (BatchNormali (None, 7, 7, 512)    2048        conv5_block1_1_conv[0][0]        \n",
            "__________________________________________________________________________________________________\n",
            "conv5_block1_1_relu (Activation (None, 7, 7, 512)    0           conv5_block1_1_bn[0][0]          \n",
            "__________________________________________________________________________________________________\n",
            "conv5_block1_2_pad (ZeroPadding (None, 9, 9, 512)    0           conv5_block1_1_relu[0][0]        \n",
            "__________________________________________________________________________________________________\n",
            "conv5_block1_2_conv (Conv2D)    (None, 7, 7, 512)    2359296     conv5_block1_2_pad[0][0]         \n",
            "__________________________________________________________________________________________________\n",
            "conv5_block1_2_bn (BatchNormali (None, 7, 7, 512)    2048        conv5_block1_2_conv[0][0]        \n",
            "__________________________________________________________________________________________________\n",
            "conv5_block1_2_relu (Activation (None, 7, 7, 512)    0           conv5_block1_2_bn[0][0]          \n",
            "__________________________________________________________________________________________________\n",
            "conv5_block1_0_conv (Conv2D)    (None, 7, 7, 2048)   2099200     conv5_block1_preact_relu[0][0]   \n",
            "__________________________________________________________________________________________________\n",
            "conv5_block1_3_conv (Conv2D)    (None, 7, 7, 2048)   1050624     conv5_block1_2_relu[0][0]        \n",
            "__________________________________________________________________________________________________\n",
            "conv5_block1_out (Add)          (None, 7, 7, 2048)   0           conv5_block1_0_conv[0][0]        \n",
            "                                                                 conv5_block1_3_conv[0][0]        \n",
            "__________________________________________________________________________________________________\n",
            "conv5_block2_preact_bn (BatchNo (None, 7, 7, 2048)   8192        conv5_block1_out[0][0]           \n",
            "__________________________________________________________________________________________________\n",
            "conv5_block2_preact_relu (Activ (None, 7, 7, 2048)   0           conv5_block2_preact_bn[0][0]     \n",
            "__________________________________________________________________________________________________\n",
            "conv5_block2_1_conv (Conv2D)    (None, 7, 7, 512)    1048576     conv5_block2_preact_relu[0][0]   \n",
            "__________________________________________________________________________________________________\n",
            "conv5_block2_1_bn (BatchNormali (None, 7, 7, 512)    2048        conv5_block2_1_conv[0][0]        \n",
            "__________________________________________________________________________________________________\n",
            "conv5_block2_1_relu (Activation (None, 7, 7, 512)    0           conv5_block2_1_bn[0][0]          \n",
            "__________________________________________________________________________________________________\n",
            "conv5_block2_2_pad (ZeroPadding (None, 9, 9, 512)    0           conv5_block2_1_relu[0][0]        \n",
            "__________________________________________________________________________________________________\n",
            "conv5_block2_2_conv (Conv2D)    (None, 7, 7, 512)    2359296     conv5_block2_2_pad[0][0]         \n",
            "__________________________________________________________________________________________________\n",
            "conv5_block2_2_bn (BatchNormali (None, 7, 7, 512)    2048        conv5_block2_2_conv[0][0]        \n",
            "__________________________________________________________________________________________________\n",
            "conv5_block2_2_relu (Activation (None, 7, 7, 512)    0           conv5_block2_2_bn[0][0]          \n",
            "__________________________________________________________________________________________________\n",
            "conv5_block2_3_conv (Conv2D)    (None, 7, 7, 2048)   1050624     conv5_block2_2_relu[0][0]        \n",
            "__________________________________________________________________________________________________\n",
            "conv5_block2_out (Add)          (None, 7, 7, 2048)   0           conv5_block1_out[0][0]           \n",
            "                                                                 conv5_block2_3_conv[0][0]        \n",
            "__________________________________________________________________________________________________\n",
            "conv5_block3_preact_bn (BatchNo (None, 7, 7, 2048)   8192        conv5_block2_out[0][0]           \n",
            "__________________________________________________________________________________________________\n",
            "conv5_block3_preact_relu (Activ (None, 7, 7, 2048)   0           conv5_block3_preact_bn[0][0]     \n",
            "__________________________________________________________________________________________________\n",
            "conv5_block3_1_conv (Conv2D)    (None, 7, 7, 512)    1048576     conv5_block3_preact_relu[0][0]   \n",
            "__________________________________________________________________________________________________\n",
            "conv5_block3_1_bn (BatchNormali (None, 7, 7, 512)    2048        conv5_block3_1_conv[0][0]        \n",
            "__________________________________________________________________________________________________\n",
            "conv5_block3_1_relu (Activation (None, 7, 7, 512)    0           conv5_block3_1_bn[0][0]          \n",
            "__________________________________________________________________________________________________\n",
            "conv5_block3_2_pad (ZeroPadding (None, 9, 9, 512)    0           conv5_block3_1_relu[0][0]        \n",
            "__________________________________________________________________________________________________\n",
            "conv5_block3_2_conv (Conv2D)    (None, 7, 7, 512)    2359296     conv5_block3_2_pad[0][0]         \n",
            "__________________________________________________________________________________________________\n",
            "conv5_block3_2_bn (BatchNormali (None, 7, 7, 512)    2048        conv5_block3_2_conv[0][0]        \n",
            "__________________________________________________________________________________________________\n",
            "conv5_block3_2_relu (Activation (None, 7, 7, 512)    0           conv5_block3_2_bn[0][0]          \n",
            "__________________________________________________________________________________________________\n",
            "conv5_block3_3_conv (Conv2D)    (None, 7, 7, 2048)   1050624     conv5_block3_2_relu[0][0]        \n",
            "__________________________________________________________________________________________________\n",
            "conv5_block3_out (Add)          (None, 7, 7, 2048)   0           conv5_block2_out[0][0]           \n",
            "                                                                 conv5_block3_3_conv[0][0]        \n",
            "__________________________________________________________________________________________________\n",
            "post_bn (BatchNormalization)    (None, 7, 7, 2048)   8192        conv5_block3_out[0][0]           \n",
            "__________________________________________________________________________________________________\n",
            "post_relu (Activation)          (None, 7, 7, 2048)   0           post_bn[0][0]                    \n",
            "__________________________________________________________________________________________________\n",
            "avg_pool (GlobalAveragePooling2 (None, 2048)         0           post_relu[0][0]                  \n",
            "==================================================================================================\n",
            "Total params: 23,564,800\n",
            "Trainable params: 0\n",
            "Non-trainable params: 23,564,800\n",
            "__________________________________________________________________________________________________\n"
          ],
          "name": "stdout"
        }
      ]
    },
    {
      "cell_type": "code",
      "metadata": {
        "colab_type": "code",
        "id": "UBs1b9DWXUPF",
        "colab": {
          "base_uri": "https://localhost:8080/",
          "height": 225
        },
        "outputId": "7f356483-affd-409c-e753-420b316fd934"
      },
      "source": [
        "optimizer = Adam(lr=1e-4)\n",
        "model.compile(optimizer=optimizer,loss='sparse_categorical_crossentropy', metrics=['accuracy'])\n",
        "model.summary()"
      ],
      "execution_count": null,
      "outputs": [
        {
          "output_type": "stream",
          "text": [
            "Model: \"sequential_2\"\n",
            "_________________________________________________________________\n",
            "Layer (type)                 Output Shape              Param #   \n",
            "=================================================================\n",
            "resnet50v2 (Model)           (None, 2048)              23564800  \n",
            "_________________________________________________________________\n",
            "dense_2 (Dense)              (None, 102)               208998    \n",
            "=================================================================\n",
            "Total params: 23,773,798\n",
            "Trainable params: 208,998\n",
            "Non-trainable params: 23,564,800\n",
            "_________________________________________________________________\n"
          ],
          "name": "stdout"
        }
      ]
    },
    {
      "cell_type": "code",
      "metadata": {
        "colab_type": "code",
        "id": "nJ-7R5mLXUPJ",
        "colab": {
          "base_uri": "https://localhost:8080/",
          "height": 1000
        },
        "outputId": "533d0ca9-4691-4c3f-ce27-20c79b4d672b"
      },
      "source": [
        "history = model_trainer.train_model(model, train_ds, val_ds, epochs=30)"
      ],
      "execution_count": null,
      "outputs": [
        {
          "output_type": "stream",
          "text": [
            "Batch size: 16\n",
            "Training dataset size: 3275 - Training steps per epoch: 204\n",
            "Validation dataset size: 2457 - Validation steps per epoch: 153\n",
            "Epoch 1/30\n",
            "204/204 [==============================] - 17s 82ms/step - loss: 4.3303 - accuracy: 0.0913 - val_loss: 3.5966 - val_accuracy: 0.1957\n",
            "Epoch 2/30\n",
            "204/204 [==============================] - 11s 55ms/step - loss: 3.1569 - accuracy: 0.2840 - val_loss: 2.8151 - val_accuracy: 0.3897\n",
            "Epoch 3/30\n",
            "204/204 [==============================] - 11s 55ms/step - loss: 2.4277 - accuracy: 0.4822 - val_loss: 2.3019 - val_accuracy: 0.5204\n",
            "Epoch 4/30\n",
            "204/204 [==============================] - 11s 55ms/step - loss: 1.9726 - accuracy: 0.6143 - val_loss: 1.9587 - val_accuracy: 0.6021\n",
            "Epoch 5/30\n",
            "204/204 [==============================] - 11s 55ms/step - loss: 1.6418 - accuracy: 0.7047 - val_loss: 1.7118 - val_accuracy: 0.6417\n",
            "Epoch 6/30\n",
            "204/204 [==============================] - 11s 54ms/step - loss: 1.4027 - accuracy: 0.7555 - val_loss: 1.5324 - val_accuracy: 0.6863\n",
            "Epoch 7/30\n",
            "204/204 [==============================] - 11s 55ms/step - loss: 1.2163 - accuracy: 0.7972 - val_loss: 1.3924 - val_accuracy: 0.7141\n",
            "Epoch 8/30\n",
            "204/204 [==============================] - 11s 55ms/step - loss: 1.0863 - accuracy: 0.8183 - val_loss: 1.2826 - val_accuracy: 0.7377\n",
            "Epoch 9/30\n",
            "204/204 [==============================] - 11s 55ms/step - loss: 0.9610 - accuracy: 0.8487 - val_loss: 1.1869 - val_accuracy: 0.7541\n",
            "Epoch 10/30\n",
            "204/204 [==============================] - 11s 54ms/step - loss: 0.8697 - accuracy: 0.8563 - val_loss: 1.1126 - val_accuracy: 0.7790\n",
            "Epoch 11/30\n",
            "204/204 [==============================] - 11s 54ms/step - loss: 0.7970 - accuracy: 0.8802 - val_loss: 1.0495 - val_accuracy: 0.7880\n",
            "Epoch 12/30\n",
            "204/204 [==============================] - 11s 54ms/step - loss: 0.7256 - accuracy: 0.8906 - val_loss: 0.9928 - val_accuracy: 0.7978\n",
            "Epoch 13/30\n",
            "204/204 [==============================] - 11s 54ms/step - loss: 0.6755 - accuracy: 0.9013 - val_loss: 0.9469 - val_accuracy: 0.8076\n",
            "Epoch 14/30\n",
            "204/204 [==============================] - 11s 55ms/step - loss: 0.6151 - accuracy: 0.9075 - val_loss: 0.9037 - val_accuracy: 0.8150\n",
            "Epoch 15/30\n",
            "204/204 [==============================] - 11s 55ms/step - loss: 0.5780 - accuracy: 0.9124 - val_loss: 0.8676 - val_accuracy: 0.8182\n",
            "Epoch 16/30\n",
            "204/204 [==============================] - 11s 55ms/step - loss: 0.5339 - accuracy: 0.9188 - val_loss: 0.8371 - val_accuracy: 0.8231\n",
            "Epoch 17/30\n",
            "204/204 [==============================] - 11s 55ms/step - loss: 0.4854 - accuracy: 0.9372 - val_loss: 0.8069 - val_accuracy: 0.8292\n",
            "Epoch 18/30\n",
            "204/204 [==============================] - 11s 55ms/step - loss: 0.4715 - accuracy: 0.9301 - val_loss: 0.7803 - val_accuracy: 0.8333\n",
            "Epoch 19/30\n",
            "204/204 [==============================] - 11s 55ms/step - loss: 0.4351 - accuracy: 0.9415 - val_loss: 0.7563 - val_accuracy: 0.8407\n",
            "Epoch 20/30\n",
            "204/204 [==============================] - 11s 55ms/step - loss: 0.4218 - accuracy: 0.9409 - val_loss: 0.7328 - val_accuracy: 0.8435\n",
            "Epoch 21/30\n",
            "204/204 [==============================] - 11s 55ms/step - loss: 0.3920 - accuracy: 0.9479 - val_loss: 0.7158 - val_accuracy: 0.8435\n",
            "Epoch 22/30\n",
            "204/204 [==============================] - 11s 55ms/step - loss: 0.3589 - accuracy: 0.9547 - val_loss: 0.6976 - val_accuracy: 0.8431\n",
            "Epoch 23/30\n",
            "204/204 [==============================] - 11s 55ms/step - loss: 0.3468 - accuracy: 0.9525 - val_loss: 0.6792 - val_accuracy: 0.8525\n",
            "Epoch 24/30\n",
            "204/204 [==============================] - 11s 55ms/step - loss: 0.3266 - accuracy: 0.9593 - val_loss: 0.6652 - val_accuracy: 0.8489\n",
            "Epoch 25/30\n",
            "204/204 [==============================] - 11s 55ms/step - loss: 0.3065 - accuracy: 0.9645 - val_loss: 0.6517 - val_accuracy: 0.8554\n",
            "Epoch 26/30\n",
            "204/204 [==============================] - 11s 54ms/step - loss: 0.2914 - accuracy: 0.9660 - val_loss: 0.6364 - val_accuracy: 0.8546\n",
            "Epoch 27/30\n",
            "204/204 [==============================] - 11s 54ms/step - loss: 0.2739 - accuracy: 0.9663 - val_loss: 0.6234 - val_accuracy: 0.8570\n",
            "Epoch 28/30\n",
            "204/204 [==============================] - 11s 54ms/step - loss: 0.2668 - accuracy: 0.9700 - val_loss: 0.6134 - val_accuracy: 0.8566\n",
            "Epoch 29/30\n",
            "204/204 [==============================] - 11s 54ms/step - loss: 0.2556 - accuracy: 0.9706 - val_loss: 0.6019 - val_accuracy: 0.8599\n",
            "Epoch 30/30\n",
            "204/204 [==============================] - 11s 55ms/step - loss: 0.2366 - accuracy: 0.9758 - val_loss: 0.5916 - val_accuracy: 0.8615\n"
          ],
          "name": "stdout"
        }
      ]
    },
    {
      "cell_type": "code",
      "metadata": {
        "colab_type": "code",
        "id": "pHF8meIfXUPN",
        "colab": {}
      },
      "source": [
        "save_model_weights(model, 'resnet50v2_fe_aug')"
      ],
      "execution_count": null,
      "outputs": []
    },
    {
      "cell_type": "code",
      "metadata": {
        "colab_type": "code",
        "id": "hvZc3jZWXUPQ",
        "colab": {
          "base_uri": "https://localhost:8080/",
          "height": 390
        },
        "outputId": "a722afab-ab1d-49c0-cfbd-8064a49d47d0"
      },
      "source": [
        "plot_curves(history)"
      ],
      "execution_count": null,
      "outputs": [
        {
          "output_type": "display_data",
          "data": {
            "image/png": "[encoded data removed]",
            "text/plain": [
              "<Figure size 1296x432 with 2 Axes>"
            ]
          },
          "metadata": {
            "tags": [],
            "needs_background": "light"
          }
        }
      ]
    },
    {
      "cell_type": "code",
      "metadata": {
        "colab_type": "code",
        "id": "yZYaQTAQXUPT",
        "colab": {
          "base_uri": "https://localhost:8080/",
          "height": 104
        },
        "outputId": "a0da68e2-6d7f-4c52-ccab-f9fd97fa237b"
      },
      "source": [
        "show_scores(model, test_ds)"
      ],
      "execution_count": null,
      "outputs": [
        {
          "output_type": "stream",
          "text": [
            "|Average prediction time: 8.06 ms\n",
            "|Average Type |Prec |Rec |F1\n",
            "|--- |--- |--- |---\n",
            "|Micro|0.84|0.84|0.84\n",
            "|Macro|0.85|0.82|0.83\n"
          ],
          "name": "stdout"
        }
      ]
    },
    {
      "cell_type": "markdown",
      "metadata": {
        "colab_type": "text",
        "id": "_rYFRuewXUPX"
      },
      "source": [
        "### Fine-tuning **with** data augmentation\n"
      ]
    },
    {
      "cell_type": "code",
      "metadata": {
        "colab_type": "code",
        "id": "3JXj7D2PXUPY",
        "colab": {}
      },
      "source": [
        "train_ds = np_to_dataset(X_train, y_train, training=True, augmentation=True, batch_size=BATCH_SIZE)\n",
        "val_ds = np_to_dataset(X_val, y_val, training=False, batch_size=BATCH_SIZE)\n",
        "test_ds = np_to_dataset(X_test, y_test, training=False, batch_size=1)"
      ],
      "execution_count": null,
      "outputs": []
    },
    {
      "cell_type": "code",
      "metadata": {
        "colab_type": "code",
        "id": "1SQuJ8GqXUPc",
        "colab": {}
      },
      "source": [
        "model = create_resnet50v2_model()\n",
        "load_model_weights(model, 'resnet50v2_fe_aug')"
      ],
      "execution_count": null,
      "outputs": []
    },
    {
      "cell_type": "code",
      "metadata": {
        "colab_type": "code",
        "id": "_dNmZvxyXUPe",
        "colab": {
          "base_uri": "https://localhost:8080/",
          "height": 225
        },
        "outputId": "2b1bf2d3-f438-4805-8d46-a43809a75aad"
      },
      "source": [
        "model.summary()"
      ],
      "execution_count": null,
      "outputs": [
        {
          "output_type": "stream",
          "text": [
            "Model: \"sequential_3\"\n",
            "_________________________________________________________________\n",
            "Layer (type)                 Output Shape              Param #   \n",
            "=================================================================\n",
            "resnet50v2 (Model)           (None, 2048)              23564800  \n",
            "_________________________________________________________________\n",
            "dense_3 (Dense)              (None, 102)               208998    \n",
            "=================================================================\n",
            "Total params: 23,773,798\n",
            "Trainable params: 23,728,358\n",
            "Non-trainable params: 45,440\n",
            "_________________________________________________________________\n"
          ],
          "name": "stdout"
        }
      ]
    },
    {
      "cell_type": "markdown",
      "metadata": {
        "colab_type": "text",
        "id": "DooSvO07XUPh"
      },
      "source": [
        "Unfreeze block conv_5 and post_bn layer of the convolutional base, as well as the classifier"
      ]
    },
    {
      "cell_type": "code",
      "metadata": {
        "colab_type": "code",
        "id": "oPIrK0SJXUPh",
        "colab": {}
      },
      "source": [
        "conv_base = model.get_layer('resnet50v2')\n",
        "classifier = model.get_layer('dense_3')\n",
        "\n",
        "# Freeze convolutional base\n",
        "freeze_model(conv_base)\n",
        "\n",
        "# Unfreeze the last few layers of the convolutional base\n",
        "for layer in conv_base.layers:\n",
        "  if layer.name.startswith('conv5_block3') or layer.name.startswith('post'):\n",
        "    layer.trainable = True"
      ],
      "execution_count": null,
      "outputs": []
    },
    {
      "cell_type": "code",
      "metadata": {
        "colab_type": "code",
        "id": "DeG_vZhHXUPk",
        "colab": {
          "base_uri": "https://localhost:8080/",
          "height": 225
        },
        "outputId": "50c87fbd-38a4-403f-8ac6-d09e9585203e"
      },
      "source": [
        "# Compile with lower learning rate\n",
        "optimizer = Adam(lr=1e-5)\n",
        "model.compile(optimizer=optimizer,loss='sparse_categorical_crossentropy', metrics=['accuracy'])\n",
        "model.summary()"
      ],
      "execution_count": null,
      "outputs": [
        {
          "output_type": "stream",
          "text": [
            "Model: \"sequential_3\"\n",
            "_________________________________________________________________\n",
            "Layer (type)                 Output Shape              Param #   \n",
            "=================================================================\n",
            "resnet50v2 (Model)           (None, 2048)              23564800  \n",
            "_________________________________________________________________\n",
            "dense_3 (Dense)              (None, 102)               208998    \n",
            "=================================================================\n",
            "Total params: 23,773,798\n",
            "Trainable params: 4,677,734\n",
            "Non-trainable params: 19,096,064\n",
            "_________________________________________________________________\n"
          ],
          "name": "stdout"
        }
      ]
    },
    {
      "cell_type": "code",
      "metadata": {
        "colab_type": "code",
        "id": "M-n2h58_XUPv",
        "colab": {
          "base_uri": "https://localhost:8080/",
          "height": 1000
        },
        "outputId": "411aa0f6-60f1-421f-9917-e142fa92c5e9"
      },
      "source": [
        "history = model_trainer.train_model(model, train_ds, val_ds, epochs=100)"
      ],
      "execution_count": null,
      "outputs": [
        {
          "output_type": "stream",
          "text": [
            "Batch size: 16\n",
            "Training dataset size: 3275 - Training steps per epoch: 204\n",
            "Validation dataset size: 2457 - Validation steps per epoch: 153\n",
            "Epoch 1/100\n",
            "204/204 [==============================] - 18s 88ms/step - loss: 0.4812 - accuracy: 0.8790 - val_loss: 0.4764 - val_accuracy: 0.8668\n",
            "Epoch 2/100\n",
            "204/204 [==============================] - 12s 60ms/step - loss: 0.1345 - accuracy: 0.9761 - val_loss: 0.3670 - val_accuracy: 0.8942\n",
            "Epoch 3/100\n",
            "204/204 [==============================] - 12s 59ms/step - loss: 0.0728 - accuracy: 0.9871 - val_loss: 0.3236 - val_accuracy: 0.9069\n",
            "Epoch 4/100\n",
            "204/204 [==============================] - 12s 59ms/step - loss: 0.0514 - accuracy: 0.9899 - val_loss: 0.3380 - val_accuracy: 0.9003\n",
            "Epoch 5/100\n",
            "204/204 [==============================] - 12s 59ms/step - loss: 0.0301 - accuracy: 0.9972 - val_loss: 0.3262 - val_accuracy: 0.9105\n",
            "Epoch 6/100\n",
            "204/204 [==============================] - 12s 58ms/step - loss: 0.0340 - accuracy: 0.9942 - val_loss: 0.3272 - val_accuracy: 0.9081\n",
            "Epoch 7/100\n",
            "204/204 [==============================] - 12s 59ms/step - loss: 0.0175 - accuracy: 0.9988 - val_loss: 0.3196 - val_accuracy: 0.9101\n",
            "Epoch 8/100\n",
            "204/204 [==============================] - 12s 59ms/step - loss: 0.0128 - accuracy: 0.9991 - val_loss: 0.3158 - val_accuracy: 0.9122\n",
            "Epoch 9/100\n",
            "204/204 [==============================] - 12s 59ms/step - loss: 0.0150 - accuracy: 0.9975 - val_loss: 0.3113 - val_accuracy: 0.9105\n",
            "Epoch 10/100\n",
            "204/204 [==============================] - 12s 58ms/step - loss: 0.0131 - accuracy: 0.9982 - val_loss: 0.3306 - val_accuracy: 0.9081\n",
            "Epoch 11/100\n",
            "204/204 [==============================] - 12s 58ms/step - loss: 0.0138 - accuracy: 0.9979 - val_loss: 0.3115 - val_accuracy: 0.9142\n",
            "Epoch 12/100\n",
            "204/204 [==============================] - 12s 59ms/step - loss: 0.0159 - accuracy: 0.9975 - val_loss: 0.3013 - val_accuracy: 0.9150\n",
            "Epoch 13/100\n",
            "204/204 [==============================] - 12s 58ms/step - loss: 0.0104 - accuracy: 0.9994 - val_loss: 0.3114 - val_accuracy: 0.9126\n",
            "Epoch 14/100\n",
            "204/204 [==============================] - 12s 59ms/step - loss: 0.0070 - accuracy: 0.9994 - val_loss: 0.3003 - val_accuracy: 0.9158\n",
            "Epoch 15/100\n",
            "204/204 [==============================] - 12s 59ms/step - loss: 0.0060 - accuracy: 1.0000 - val_loss: 0.2962 - val_accuracy: 0.9191\n",
            "Epoch 16/100\n",
            "204/204 [==============================] - 12s 58ms/step - loss: 0.0039 - accuracy: 1.0000 - val_loss: 0.2984 - val_accuracy: 0.9179\n",
            "Epoch 17/100\n",
            "204/204 [==============================] - 12s 58ms/step - loss: 0.0069 - accuracy: 0.9991 - val_loss: 0.3068 - val_accuracy: 0.9167\n",
            "Epoch 18/100\n",
            "204/204 [==============================] - 12s 58ms/step - loss: 0.0088 - accuracy: 0.9988 - val_loss: 0.3024 - val_accuracy: 0.9187\n",
            "Epoch 19/100\n",
            "204/204 [==============================] - 12s 58ms/step - loss: 0.0062 - accuracy: 0.9994 - val_loss: 0.2971 - val_accuracy: 0.9203\n",
            "Epoch 20/100\n",
            "204/204 [==============================] - 12s 58ms/step - loss: 0.0058 - accuracy: 0.9994 - val_loss: 0.3034 - val_accuracy: 0.9163\n",
            "Epoch 21/100\n",
            "204/204 [==============================] - 12s 59ms/step - loss: 0.0041 - accuracy: 1.0000 - val_loss: 0.2882 - val_accuracy: 0.9261\n",
            "Epoch 22/100\n",
            "204/204 [==============================] - 12s 58ms/step - loss: 0.0042 - accuracy: 0.9994 - val_loss: 0.3135 - val_accuracy: 0.9158\n",
            "Epoch 23/100\n",
            "204/204 [==============================] - 12s 58ms/step - loss: 0.0031 - accuracy: 0.9997 - val_loss: 0.3235 - val_accuracy: 0.9175\n",
            "Epoch 24/100\n",
            "204/204 [==============================] - 12s 58ms/step - loss: 0.0050 - accuracy: 0.9988 - val_loss: 0.3232 - val_accuracy: 0.9171\n",
            "Epoch 25/100\n",
            "204/204 [==============================] - 12s 58ms/step - loss: 0.0035 - accuracy: 0.9994 - val_loss: 0.3224 - val_accuracy: 0.9122\n",
            "Epoch 26/100\n",
            "204/204 [==============================] - 12s 58ms/step - loss: 0.0043 - accuracy: 0.9994 - val_loss: 0.3235 - val_accuracy: 0.9175\n",
            "Epoch 27/100\n",
            "204/204 [==============================] - 12s 58ms/step - loss: 0.0041 - accuracy: 0.9994 - val_loss: 0.3298 - val_accuracy: 0.9163\n",
            "Epoch 28/100\n",
            "204/204 [==============================] - 12s 58ms/step - loss: 0.0045 - accuracy: 0.9994 - val_loss: 0.3072 - val_accuracy: 0.9212\n",
            "Epoch 29/100\n",
            "204/204 [==============================] - 12s 58ms/step - loss: 0.0065 - accuracy: 0.9979 - val_loss: 0.4341 - val_accuracy: 0.8917\n",
            "Epoch 30/100\n",
            "204/204 [==============================] - 12s 58ms/step - loss: 0.0111 - accuracy: 0.9975 - val_loss: 0.3682 - val_accuracy: 0.9016\n",
            "Epoch 31/100\n",
            "204/204 [==============================] - 12s 59ms/step - loss: 0.0074 - accuracy: 0.9991 - val_loss: 0.3529 - val_accuracy: 0.9085\n"
          ],
          "name": "stdout"
        }
      ]
    },
    {
      "cell_type": "code",
      "metadata": {
        "colab_type": "code",
        "id": "ZYnFMelcXUPx",
        "colab": {}
      },
      "source": [
        "save_model_weights(model, 'resnet50v2_ft_aug')"
      ],
      "execution_count": null,
      "outputs": []
    },
    {
      "cell_type": "code",
      "metadata": {
        "colab_type": "code",
        "id": "2LOHQZTfXUP0",
        "colab": {
          "base_uri": "https://localhost:8080/",
          "height": 390
        },
        "outputId": "6efaf9f1-b201-455b-d3fd-ab73e46b474d"
      },
      "source": [
        "plot_curves(history)"
      ],
      "execution_count": null,
      "outputs": [
        {
          "output_type": "display_data",
          "data": {
            "image/png": "[encoded data removed]",
            "text/plain": [
              "<Figure size 1296x432 with 2 Axes>"
            ]
          },
          "metadata": {
            "tags": [],
            "needs_background": "light"
          }
        }
      ]
    },
    {
      "cell_type": "code",
      "metadata": {
        "colab_type": "code",
        "id": "Yj2BNaQ8XUP2",
        "colab": {
          "base_uri": "https://localhost:8080/",
          "height": 104
        },
        "outputId": "a7b7866d-d9cf-4bc3-9a54-d4c5d744b68c"
      },
      "source": [
        "show_scores(model, test_ds)"
      ],
      "execution_count": null,
      "outputs": [
        {
          "output_type": "stream",
          "text": [
            "|Average prediction time: 8.04 ms\n",
            "|Average Type |Prec |Rec |F1\n",
            "|--- |--- |--- |---\n",
            "|Micro|0.92|0.92|0.92\n",
            "|Macro|0.92|0.91|0.91\n"
          ],
          "name": "stdout"
        }
      ]
    },
    {
      "cell_type": "markdown",
      "metadata": {
        "colab_type": "text",
        "id": "I4tiUkBsbLS_"
      },
      "source": [
        "## Small training set"
      ]
    },
    {
      "cell_type": "code",
      "metadata": {
        "colab_type": "code",
        "id": "yjD-IZyNbLTe",
        "colab": {}
      },
      "source": [
        "X_train, X_test, labels_train, labels_test = train_test_split(images, labels, train_size=0.10, random_state=SEED, stratify=labels)\n",
        "X_val, X_test, labels_val, labels_test = train_test_split(X_test, labels_test, train_size=0.333, random_state=SEED, stratify=labels_test)"
      ],
      "execution_count": null,
      "outputs": []
    },
    {
      "cell_type": "code",
      "metadata": {
        "colab_type": "code",
        "id": "UP5Equy6bLUA",
        "colab": {}
      },
      "source": [
        "y_train = encoder.encode(labels_train)\n",
        "y_val = encoder.encode(labels_val)\n",
        "y_test = encoder.encode(labels_test)"
      ],
      "execution_count": null,
      "outputs": []
    },
    {
      "cell_type": "code",
      "metadata": {
        "colab_type": "code",
        "id": "zyVb_LPNbLUX",
        "colab": {
          "base_uri": "https://localhost:8080/",
          "height": 69
        },
        "outputId": "74447e1e-65e0-4115-c223-c81a88c00ce2"
      },
      "source": [
        "print(f'Train size: {X_train.shape} - {round((len(X_train) * 100)/len(images), 2)}%')\n",
        "print(f'Val size: {X_val.shape} - {round((len(X_val) * 100)/len(images), 2)}%')\n",
        "print(f'Test size: {X_test.shape} - {round((len(X_test) * 100)/len(images), 2)}%')"
      ],
      "execution_count": null,
      "outputs": [
        {
          "output_type": "stream",
          "text": [
            "Train size: (818,) - 9.99%\n",
            "Val size: (2454,) - 29.97%\n",
            "Test size: (4917,) - 60.04%\n"
          ],
          "name": "stdout"
        }
      ]
    },
    {
      "cell_type": "code",
      "metadata": {
        "colab_type": "code",
        "id": "3ZHqCN1ZbLUq",
        "colab": {}
      },
      "source": [
        "model_trainer = ModelTrainer(len(X_train), len(X_val), BATCH_SIZE)"
      ],
      "execution_count": null,
      "outputs": []
    },
    {
      "cell_type": "markdown",
      "metadata": {
        "colab_type": "text",
        "id": "miqfrArxbLU2"
      },
      "source": [
        "### Feature extraction **without** data augmentation"
      ]
    },
    {
      "cell_type": "code",
      "metadata": {
        "colab_type": "code",
        "id": "iAkpmKcPbLU4",
        "colab": {}
      },
      "source": [
        "train_ds = np_to_dataset(X_train, y_train, training=True, augmentation=False, batch_size=BATCH_SIZE)\n",
        "val_ds = np_to_dataset(X_val, y_val, training=False, batch_size=BATCH_SIZE)\n",
        "test_ds = np_to_dataset(X_test, y_test, training=False, batch_size=1)"
      ],
      "execution_count": null,
      "outputs": []
    },
    {
      "cell_type": "code",
      "metadata": {
        "colab_type": "code",
        "id": "geDoLt6NbLVA",
        "colab": {
          "base_uri": "https://localhost:8080/",
          "height": 52
        },
        "outputId": "ff92e355-cd27-4637-a4a5-4f62017695c4"
      },
      "source": [
        "model = create_resnet50v2_model()"
      ],
      "execution_count": null,
      "outputs": [
        {
          "output_type": "stream",
          "text": [
            "Downloading data from https://storage.googleapis.com/tensorflow/keras-applications/resnet/resnet50v2_weights_tf_dim_ordering_tf_kernels_notop.h5\n",
            "94674944/94668760 [==============================] - 1s 0us/step\n"
          ],
          "name": "stdout"
        }
      ]
    },
    {
      "cell_type": "code",
      "metadata": {
        "colab_type": "code",
        "id": "i3XN9xmfbLVG",
        "colab": {
          "base_uri": "https://localhost:8080/",
          "height": 1000
        },
        "outputId": "8de6bb47-c0ca-4711-8508-d7ed887b52bc"
      },
      "source": [
        "conv_base = model.get_layer('resnet50v2')\n",
        "freeze_model(conv_base)\n",
        "\n",
        "conv_base.summary()"
      ],
      "execution_count": null,
      "outputs": [
        {
          "output_type": "stream",
          "text": [
            "Model: \"resnet50v2\"\n",
            "__________________________________________________________________________________________________\n",
            "Layer (type)                    Output Shape         Param #     Connected to                     \n",
            "==================================================================================================\n",
            "input_1 (InputLayer)            [(None, 224, 224, 3) 0                                            \n",
            "__________________________________________________________________________________________________\n",
            "conv1_pad (ZeroPadding2D)       (None, 230, 230, 3)  0           input_1[0][0]                    \n",
            "__________________________________________________________________________________________________\n",
            "conv1_conv (Conv2D)             (None, 112, 112, 64) 9472        conv1_pad[0][0]                  \n",
            "__________________________________________________________________________________________________\n",
            "pool1_pad (ZeroPadding2D)       (None, 114, 114, 64) 0           conv1_conv[0][0]                 \n",
            "__________________________________________________________________________________________________\n",
            "pool1_pool (MaxPooling2D)       (None, 56, 56, 64)   0           pool1_pad[0][0]                  \n",
            "__________________________________________________________________________________________________\n",
            "conv2_block1_preact_bn (BatchNo (None, 56, 56, 64)   256         pool1_pool[0][0]                 \n",
            "__________________________________________________________________________________________________\n",
            "conv2_block1_preact_relu (Activ (None, 56, 56, 64)   0           conv2_block1_preact_bn[0][0]     \n",
            "__________________________________________________________________________________________________\n",
            "conv2_block1_1_conv (Conv2D)    (None, 56, 56, 64)   4096        conv2_block1_preact_relu[0][0]   \n",
            "__________________________________________________________________________________________________\n",
            "conv2_block1_1_bn (BatchNormali (None, 56, 56, 64)   256         conv2_block1_1_conv[0][0]        \n",
            "__________________________________________________________________________________________________\n",
            "conv2_block1_1_relu (Activation (None, 56, 56, 64)   0           conv2_block1_1_bn[0][0]          \n",
            "__________________________________________________________________________________________________\n",
            "conv2_block1_2_pad (ZeroPadding (None, 58, 58, 64)   0           conv2_block1_1_relu[0][0]        \n",
            "__________________________________________________________________________________________________\n",
            "conv2_block1_2_conv (Conv2D)    (None, 56, 56, 64)   36864       conv2_block1_2_pad[0][0]         \n",
            "__________________________________________________________________________________________________\n",
            "conv2_block1_2_bn (BatchNormali (None, 56, 56, 64)   256         conv2_block1_2_conv[0][0]        \n",
            "__________________________________________________________________________________________________\n",
            "conv2_block1_2_relu (Activation (None, 56, 56, 64)   0           conv2_block1_2_bn[0][0]          \n",
            "__________________________________________________________________________________________________\n",
            "conv2_block1_0_conv (Conv2D)    (None, 56, 56, 256)  16640       conv2_block1_preact_relu[0][0]   \n",
            "__________________________________________________________________________________________________\n",
            "conv2_block1_3_conv (Conv2D)    (None, 56, 56, 256)  16640       conv2_block1_2_relu[0][0]        \n",
            "__________________________________________________________________________________________________\n",
            "conv2_block1_out (Add)          (None, 56, 56, 256)  0           conv2_block1_0_conv[0][0]        \n",
            "                                                                 conv2_block1_3_conv[0][0]        \n",
            "__________________________________________________________________________________________________\n",
            "conv2_block2_preact_bn (BatchNo (None, 56, 56, 256)  1024        conv2_block1_out[0][0]           \n",
            "__________________________________________________________________________________________________\n",
            "conv2_block2_preact_relu (Activ (None, 56, 56, 256)  0           conv2_block2_preact_bn[0][0]     \n",
            "__________________________________________________________________________________________________\n",
            "conv2_block2_1_conv (Conv2D)    (None, 56, 56, 64)   16384       conv2_block2_preact_relu[0][0]   \n",
            "__________________________________________________________________________________________________\n",
            "conv2_block2_1_bn (BatchNormali (None, 56, 56, 64)   256         conv2_block2_1_conv[0][0]        \n",
            "__________________________________________________________________________________________________\n",
            "conv2_block2_1_relu (Activation (None, 56, 56, 64)   0           conv2_block2_1_bn[0][0]          \n",
            "__________________________________________________________________________________________________\n",
            "conv2_block2_2_pad (ZeroPadding (None, 58, 58, 64)   0           conv2_block2_1_relu[0][0]        \n",
            "__________________________________________________________________________________________________\n",
            "conv2_block2_2_conv (Conv2D)    (None, 56, 56, 64)   36864       conv2_block2_2_pad[0][0]         \n",
            "__________________________________________________________________________________________________\n",
            "conv2_block2_2_bn (BatchNormali (None, 56, 56, 64)   256         conv2_block2_2_conv[0][0]        \n",
            "__________________________________________________________________________________________________\n",
            "conv2_block2_2_relu (Activation (None, 56, 56, 64)   0           conv2_block2_2_bn[0][0]          \n",
            "__________________________________________________________________________________________________\n",
            "conv2_block2_3_conv (Conv2D)    (None, 56, 56, 256)  16640       conv2_block2_2_relu[0][0]        \n",
            "__________________________________________________________________________________________________\n",
            "conv2_block2_out (Add)          (None, 56, 56, 256)  0           conv2_block1_out[0][0]           \n",
            "                                                                 conv2_block2_3_conv[0][0]        \n",
            "__________________________________________________________________________________________________\n",
            "conv2_block3_preact_bn (BatchNo (None, 56, 56, 256)  1024        conv2_block2_out[0][0]           \n",
            "__________________________________________________________________________________________________\n",
            "conv2_block3_preact_relu (Activ (None, 56, 56, 256)  0           conv2_block3_preact_bn[0][0]     \n",
            "__________________________________________________________________________________________________\n",
            "conv2_block3_1_conv (Conv2D)    (None, 56, 56, 64)   16384       conv2_block3_preact_relu[0][0]   \n",
            "__________________________________________________________________________________________________\n",
            "conv2_block3_1_bn (BatchNormali (None, 56, 56, 64)   256         conv2_block3_1_conv[0][0]        \n",
            "__________________________________________________________________________________________________\n",
            "conv2_block3_1_relu (Activation (None, 56, 56, 64)   0           conv2_block3_1_bn[0][0]          \n",
            "__________________________________________________________________________________________________\n",
            "conv2_block3_2_pad (ZeroPadding (None, 58, 58, 64)   0           conv2_block3_1_relu[0][0]        \n",
            "__________________________________________________________________________________________________\n",
            "conv2_block3_2_conv (Conv2D)    (None, 28, 28, 64)   36864       conv2_block3_2_pad[0][0]         \n",
            "__________________________________________________________________________________________________\n",
            "conv2_block3_2_bn (BatchNormali (None, 28, 28, 64)   256         conv2_block3_2_conv[0][0]        \n",
            "__________________________________________________________________________________________________\n",
            "conv2_block3_2_relu (Activation (None, 28, 28, 64)   0           conv2_block3_2_bn[0][0]          \n",
            "__________________________________________________________________________________________________\n",
            "max_pooling2d (MaxPooling2D)    (None, 28, 28, 256)  0           conv2_block2_out[0][0]           \n",
            "__________________________________________________________________________________________________\n",
            "conv2_block3_3_conv (Conv2D)    (None, 28, 28, 256)  16640       conv2_block3_2_relu[0][0]        \n",
            "__________________________________________________________________________________________________\n",
            "conv2_block3_out (Add)          (None, 28, 28, 256)  0           max_pooling2d[0][0]              \n",
            "                                                                 conv2_block3_3_conv[0][0]        \n",
            "__________________________________________________________________________________________________\n",
            "conv3_block1_preact_bn (BatchNo (None, 28, 28, 256)  1024        conv2_block3_out[0][0]           \n",
            "__________________________________________________________________________________________________\n",
            "conv3_block1_preact_relu (Activ (None, 28, 28, 256)  0           conv3_block1_preact_bn[0][0]     \n",
            "__________________________________________________________________________________________________\n",
            "conv3_block1_1_conv (Conv2D)    (None, 28, 28, 128)  32768       conv3_block1_preact_relu[0][0]   \n",
            "__________________________________________________________________________________________________\n",
            "conv3_block1_1_bn (BatchNormali (None, 28, 28, 128)  512         conv3_block1_1_conv[0][0]        \n",
            "__________________________________________________________________________________________________\n",
            "conv3_block1_1_relu (Activation (None, 28, 28, 128)  0           conv3_block1_1_bn[0][0]          \n",
            "__________________________________________________________________________________________________\n",
            "conv3_block1_2_pad (ZeroPadding (None, 30, 30, 128)  0           conv3_block1_1_relu[0][0]        \n",
            "__________________________________________________________________________________________________\n",
            "conv3_block1_2_conv (Conv2D)    (None, 28, 28, 128)  147456      conv3_block1_2_pad[0][0]         \n",
            "__________________________________________________________________________________________________\n",
            "conv3_block1_2_bn (BatchNormali (None, 28, 28, 128)  512         conv3_block1_2_conv[0][0]        \n",
            "__________________________________________________________________________________________________\n",
            "conv3_block1_2_relu (Activation (None, 28, 28, 128)  0           conv3_block1_2_bn[0][0]          \n",
            "__________________________________________________________________________________________________\n",
            "conv3_block1_0_conv (Conv2D)    (None, 28, 28, 512)  131584      conv3_block1_preact_relu[0][0]   \n",
            "__________________________________________________________________________________________________\n",
            "conv3_block1_3_conv (Conv2D)    (None, 28, 28, 512)  66048       conv3_block1_2_relu[0][0]        \n",
            "__________________________________________________________________________________________________\n",
            "conv3_block1_out (Add)          (None, 28, 28, 512)  0           conv3_block1_0_conv[0][0]        \n",
            "                                                                 conv3_block1_3_conv[0][0]        \n",
            "__________________________________________________________________________________________________\n",
            "conv3_block2_preact_bn (BatchNo (None, 28, 28, 512)  2048        conv3_block1_out[0][0]           \n",
            "__________________________________________________________________________________________________\n",
            "conv3_block2_preact_relu (Activ (None, 28, 28, 512)  0           conv3_block2_preact_bn[0][0]     \n",
            "__________________________________________________________________________________________________\n",
            "conv3_block2_1_conv (Conv2D)    (None, 28, 28, 128)  65536       conv3_block2_preact_relu[0][0]   \n",
            "__________________________________________________________________________________________________\n",
            "conv3_block2_1_bn (BatchNormali (None, 28, 28, 128)  512         conv3_block2_1_conv[0][0]        \n",
            "__________________________________________________________________________________________________\n",
            "conv3_block2_1_relu (Activation (None, 28, 28, 128)  0           conv3_block2_1_bn[0][0]          \n",
            "__________________________________________________________________________________________________\n",
            "conv3_block2_2_pad (ZeroPadding (None, 30, 30, 128)  0           conv3_block2_1_relu[0][0]        \n",
            "__________________________________________________________________________________________________\n",
            "conv3_block2_2_conv (Conv2D)    (None, 28, 28, 128)  147456      conv3_block2_2_pad[0][0]         \n",
            "__________________________________________________________________________________________________\n",
            "conv3_block2_2_bn (BatchNormali (None, 28, 28, 128)  512         conv3_block2_2_conv[0][0]        \n",
            "__________________________________________________________________________________________________\n",
            "conv3_block2_2_relu (Activation (None, 28, 28, 128)  0           conv3_block2_2_bn[0][0]          \n",
            "__________________________________________________________________________________________________\n",
            "conv3_block2_3_conv (Conv2D)    (None, 28, 28, 512)  66048       conv3_block2_2_relu[0][0]        \n",
            "__________________________________________________________________________________________________\n",
            "conv3_block2_out (Add)          (None, 28, 28, 512)  0           conv3_block1_out[0][0]           \n",
            "                                                                 conv3_block2_3_conv[0][0]        \n",
            "__________________________________________________________________________________________________\n",
            "conv3_block3_preact_bn (BatchNo (None, 28, 28, 512)  2048        conv3_block2_out[0][0]           \n",
            "__________________________________________________________________________________________________\n",
            "conv3_block3_preact_relu (Activ (None, 28, 28, 512)  0           conv3_block3_preact_bn[0][0]     \n",
            "__________________________________________________________________________________________________\n",
            "conv3_block3_1_conv (Conv2D)    (None, 28, 28, 128)  65536       conv3_block3_preact_relu[0][0]   \n",
            "__________________________________________________________________________________________________\n",
            "conv3_block3_1_bn (BatchNormali (None, 28, 28, 128)  512         conv3_block3_1_conv[0][0]        \n",
            "__________________________________________________________________________________________________\n",
            "conv3_block3_1_relu (Activation (None, 28, 28, 128)  0           conv3_block3_1_bn[0][0]          \n",
            "__________________________________________________________________________________________________\n",
            "conv3_block3_2_pad (ZeroPadding (None, 30, 30, 128)  0           conv3_block3_1_relu[0][0]        \n",
            "__________________________________________________________________________________________________\n",
            "conv3_block3_2_conv (Conv2D)    (None, 28, 28, 128)  147456      conv3_block3_2_pad[0][0]         \n",
            "__________________________________________________________________________________________________\n",
            "conv3_block3_2_bn (BatchNormali (None, 28, 28, 128)  512         conv3_block3_2_conv[0][0]        \n",
            "__________________________________________________________________________________________________\n",
            "conv3_block3_2_relu (Activation (None, 28, 28, 128)  0           conv3_block3_2_bn[0][0]          \n",
            "__________________________________________________________________________________________________\n",
            "conv3_block3_3_conv (Conv2D)    (None, 28, 28, 512)  66048       conv3_block3_2_relu[0][0]        \n",
            "__________________________________________________________________________________________________\n",
            "conv3_block3_out (Add)          (None, 28, 28, 512)  0           conv3_block2_out[0][0]           \n",
            "                                                                 conv3_block3_3_conv[0][0]        \n",
            "__________________________________________________________________________________________________\n",
            "conv3_block4_preact_bn (BatchNo (None, 28, 28, 512)  2048        conv3_block3_out[0][0]           \n",
            "__________________________________________________________________________________________________\n",
            "conv3_block4_preact_relu (Activ (None, 28, 28, 512)  0           conv3_block4_preact_bn[0][0]     \n",
            "__________________________________________________________________________________________________\n",
            "conv3_block4_1_conv (Conv2D)    (None, 28, 28, 128)  65536       conv3_block4_preact_relu[0][0]   \n",
            "__________________________________________________________________________________________________\n",
            "conv3_block4_1_bn (BatchNormali (None, 28, 28, 128)  512         conv3_block4_1_conv[0][0]        \n",
            "__________________________________________________________________________________________________\n",
            "conv3_block4_1_relu (Activation (None, 28, 28, 128)  0           conv3_block4_1_bn[0][0]          \n",
            "__________________________________________________________________________________________________\n",
            "conv3_block4_2_pad (ZeroPadding (None, 30, 30, 128)  0           conv3_block4_1_relu[0][0]        \n",
            "__________________________________________________________________________________________________\n",
            "conv3_block4_2_conv (Conv2D)    (None, 14, 14, 128)  147456      conv3_block4_2_pad[0][0]         \n",
            "__________________________________________________________________________________________________\n",
            "conv3_block4_2_bn (BatchNormali (None, 14, 14, 128)  512         conv3_block4_2_conv[0][0]        \n",
            "__________________________________________________________________________________________________\n",
            "conv3_block4_2_relu (Activation (None, 14, 14, 128)  0           conv3_block4_2_bn[0][0]          \n",
            "__________________________________________________________________________________________________\n",
            "max_pooling2d_1 (MaxPooling2D)  (None, 14, 14, 512)  0           conv3_block3_out[0][0]           \n",
            "__________________________________________________________________________________________________\n",
            "conv3_block4_3_conv (Conv2D)    (None, 14, 14, 512)  66048       conv3_block4_2_relu[0][0]        \n",
            "__________________________________________________________________________________________________\n",
            "conv3_block4_out (Add)          (None, 14, 14, 512)  0           max_pooling2d_1[0][0]            \n",
            "                                                                 conv3_block4_3_conv[0][0]        \n",
            "__________________________________________________________________________________________________\n",
            "conv4_block1_preact_bn (BatchNo (None, 14, 14, 512)  2048        conv3_block4_out[0][0]           \n",
            "__________________________________________________________________________________________________\n",
            "conv4_block1_preact_relu (Activ (None, 14, 14, 512)  0           conv4_block1_preact_bn[0][0]     \n",
            "__________________________________________________________________________________________________\n",
            "conv4_block1_1_conv (Conv2D)    (None, 14, 14, 256)  131072      conv4_block1_preact_relu[0][0]   \n",
            "__________________________________________________________________________________________________\n",
            "conv4_block1_1_bn (BatchNormali (None, 14, 14, 256)  1024        conv4_block1_1_conv[0][0]        \n",
            "__________________________________________________________________________________________________\n",
            "conv4_block1_1_relu (Activation (None, 14, 14, 256)  0           conv4_block1_1_bn[0][0]          \n",
            "__________________________________________________________________________________________________\n",
            "conv4_block1_2_pad (ZeroPadding (None, 16, 16, 256)  0           conv4_block1_1_relu[0][0]        \n",
            "__________________________________________________________________________________________________\n",
            "conv4_block1_2_conv (Conv2D)    (None, 14, 14, 256)  589824      conv4_block1_2_pad[0][0]         \n",
            "__________________________________________________________________________________________________\n",
            "conv4_block1_2_bn (BatchNormali (None, 14, 14, 256)  1024        conv4_block1_2_conv[0][0]        \n",
            "__________________________________________________________________________________________________\n",
            "conv4_block1_2_relu (Activation (None, 14, 14, 256)  0           conv4_block1_2_bn[0][0]          \n",
            "__________________________________________________________________________________________________\n",
            "conv4_block1_0_conv (Conv2D)    (None, 14, 14, 1024) 525312      conv4_block1_preact_relu[0][0]   \n",
            "__________________________________________________________________________________________________\n",
            "conv4_block1_3_conv (Conv2D)    (None, 14, 14, 1024) 263168      conv4_block1_2_relu[0][0]        \n",
            "__________________________________________________________________________________________________\n",
            "conv4_block1_out (Add)          (None, 14, 14, 1024) 0           conv4_block1_0_conv[0][0]        \n",
            "                                                                 conv4_block1_3_conv[0][0]        \n",
            "__________________________________________________________________________________________________\n",
            "conv4_block2_preact_bn (BatchNo (None, 14, 14, 1024) 4096        conv4_block1_out[0][0]           \n",
            "__________________________________________________________________________________________________\n",
            "conv4_block2_preact_relu (Activ (None, 14, 14, 1024) 0           conv4_block2_preact_bn[0][0]     \n",
            "__________________________________________________________________________________________________\n",
            "conv4_block2_1_conv (Conv2D)    (None, 14, 14, 256)  262144      conv4_block2_preact_relu[0][0]   \n",
            "__________________________________________________________________________________________________\n",
            "conv4_block2_1_bn (BatchNormali (None, 14, 14, 256)  1024        conv4_block2_1_conv[0][0]        \n",
            "__________________________________________________________________________________________________\n",
            "conv4_block2_1_relu (Activation (None, 14, 14, 256)  0           conv4_block2_1_bn[0][0]          \n",
            "__________________________________________________________________________________________________\n",
            "conv4_block2_2_pad (ZeroPadding (None, 16, 16, 256)  0           conv4_block2_1_relu[0][0]        \n",
            "__________________________________________________________________________________________________\n",
            "conv4_block2_2_conv (Conv2D)    (None, 14, 14, 256)  589824      conv4_block2_2_pad[0][0]         \n",
            "__________________________________________________________________________________________________\n",
            "conv4_block2_2_bn (BatchNormali (None, 14, 14, 256)  1024        conv4_block2_2_conv[0][0]        \n",
            "__________________________________________________________________________________________________\n",
            "conv4_block2_2_relu (Activation (None, 14, 14, 256)  0           conv4_block2_2_bn[0][0]          \n",
            "__________________________________________________________________________________________________\n",
            "conv4_block2_3_conv (Conv2D)    (None, 14, 14, 1024) 263168      conv4_block2_2_relu[0][0]        \n",
            "__________________________________________________________________________________________________\n",
            "conv4_block2_out (Add)          (None, 14, 14, 1024) 0           conv4_block1_out[0][0]           \n",
            "                                                                 conv4_block2_3_conv[0][0]        \n",
            "__________________________________________________________________________________________________\n",
            "conv4_block3_preact_bn (BatchNo (None, 14, 14, 1024) 4096        conv4_block2_out[0][0]           \n",
            "__________________________________________________________________________________________________\n",
            "conv4_block3_preact_relu (Activ (None, 14, 14, 1024) 0           conv4_block3_preact_bn[0][0]     \n",
            "__________________________________________________________________________________________________\n",
            "conv4_block3_1_conv (Conv2D)    (None, 14, 14, 256)  262144      conv4_block3_preact_relu[0][0]   \n",
            "__________________________________________________________________________________________________\n",
            "conv4_block3_1_bn (BatchNormali (None, 14, 14, 256)  1024        conv4_block3_1_conv[0][0]        \n",
            "__________________________________________________________________________________________________\n",
            "conv4_block3_1_relu (Activation (None, 14, 14, 256)  0           conv4_block3_1_bn[0][0]          \n",
            "__________________________________________________________________________________________________\n",
            "conv4_block3_2_pad (ZeroPadding (None, 16, 16, 256)  0           conv4_block3_1_relu[0][0]        \n",
            "__________________________________________________________________________________________________\n",
            "conv4_block3_2_conv (Conv2D)    (None, 14, 14, 256)  589824      conv4_block3_2_pad[0][0]         \n",
            "__________________________________________________________________________________________________\n",
            "conv4_block3_2_bn (BatchNormali (None, 14, 14, 256)  1024        conv4_block3_2_conv[0][0]        \n",
            "__________________________________________________________________________________________________\n",
            "conv4_block3_2_relu (Activation (None, 14, 14, 256)  0           conv4_block3_2_bn[0][0]          \n",
            "__________________________________________________________________________________________________\n",
            "conv4_block3_3_conv (Conv2D)    (None, 14, 14, 1024) 263168      conv4_block3_2_relu[0][0]        \n",
            "__________________________________________________________________________________________________\n",
            "conv4_block3_out (Add)          (None, 14, 14, 1024) 0           conv4_block2_out[0][0]           \n",
            "                                                                 conv4_block3_3_conv[0][0]        \n",
            "__________________________________________________________________________________________________\n",
            "conv4_block4_preact_bn (BatchNo (None, 14, 14, 1024) 4096        conv4_block3_out[0][0]           \n",
            "__________________________________________________________________________________________________\n",
            "conv4_block4_preact_relu (Activ (None, 14, 14, 1024) 0           conv4_block4_preact_bn[0][0]     \n",
            "__________________________________________________________________________________________________\n",
            "conv4_block4_1_conv (Conv2D)    (None, 14, 14, 256)  262144      conv4_block4_preact_relu[0][0]   \n",
            "__________________________________________________________________________________________________\n",
            "conv4_block4_1_bn (BatchNormali (None, 14, 14, 256)  1024        conv4_block4_1_conv[0][0]        \n",
            "__________________________________________________________________________________________________\n",
            "conv4_block4_1_relu (Activation (None, 14, 14, 256)  0           conv4_block4_1_bn[0][0]          \n",
            "__________________________________________________________________________________________________\n",
            "conv4_block4_2_pad (ZeroPadding (None, 16, 16, 256)  0           conv4_block4_1_relu[0][0]        \n",
            "__________________________________________________________________________________________________\n",
            "conv4_block4_2_conv (Conv2D)    (None, 14, 14, 256)  589824      conv4_block4_2_pad[0][0]         \n",
            "__________________________________________________________________________________________________\n",
            "conv4_block4_2_bn (BatchNormali (None, 14, 14, 256)  1024        conv4_block4_2_conv[0][0]        \n",
            "__________________________________________________________________________________________________\n",
            "conv4_block4_2_relu (Activation (None, 14, 14, 256)  0           conv4_block4_2_bn[0][0]          \n",
            "__________________________________________________________________________________________________\n",
            "conv4_block4_3_conv (Conv2D)    (None, 14, 14, 1024) 263168      conv4_block4_2_relu[0][0]        \n",
            "__________________________________________________________________________________________________\n",
            "conv4_block4_out (Add)          (None, 14, 14, 1024) 0           conv4_block3_out[0][0]           \n",
            "                                                                 conv4_block4_3_conv[0][0]        \n",
            "__________________________________________________________________________________________________\n",
            "conv4_block5_preact_bn (BatchNo (None, 14, 14, 1024) 4096        conv4_block4_out[0][0]           \n",
            "__________________________________________________________________________________________________\n",
            "conv4_block5_preact_relu (Activ (None, 14, 14, 1024) 0           conv4_block5_preact_bn[0][0]     \n",
            "__________________________________________________________________________________________________\n",
            "conv4_block5_1_conv (Conv2D)    (None, 14, 14, 256)  262144      conv4_block5_preact_relu[0][0]   \n",
            "__________________________________________________________________________________________________\n",
            "conv4_block5_1_bn (BatchNormali (None, 14, 14, 256)  1024        conv4_block5_1_conv[0][0]        \n",
            "__________________________________________________________________________________________________\n",
            "conv4_block5_1_relu (Activation (None, 14, 14, 256)  0           conv4_block5_1_bn[0][0]          \n",
            "__________________________________________________________________________________________________\n",
            "conv4_block5_2_pad (ZeroPadding (None, 16, 16, 256)  0           conv4_block5_1_relu[0][0]        \n",
            "__________________________________________________________________________________________________\n",
            "conv4_block5_2_conv (Conv2D)    (None, 14, 14, 256)  589824      conv4_block5_2_pad[0][0]         \n",
            "__________________________________________________________________________________________________\n",
            "conv4_block5_2_bn (BatchNormali (None, 14, 14, 256)  1024        conv4_block5_2_conv[0][0]        \n",
            "__________________________________________________________________________________________________\n",
            "conv4_block5_2_relu (Activation (None, 14, 14, 256)  0           conv4_block5_2_bn[0][0]          \n",
            "__________________________________________________________________________________________________\n",
            "conv4_block5_3_conv (Conv2D)    (None, 14, 14, 1024) 263168      conv4_block5_2_relu[0][0]        \n",
            "__________________________________________________________________________________________________\n",
            "conv4_block5_out (Add)          (None, 14, 14, 1024) 0           conv4_block4_out[0][0]           \n",
            "                                                                 conv4_block5_3_conv[0][0]        \n",
            "__________________________________________________________________________________________________\n",
            "conv4_block6_preact_bn (BatchNo (None, 14, 14, 1024) 4096        conv4_block5_out[0][0]           \n",
            "__________________________________________________________________________________________________\n",
            "conv4_block6_preact_relu (Activ (None, 14, 14, 1024) 0           conv4_block6_preact_bn[0][0]     \n",
            "__________________________________________________________________________________________________\n",
            "conv4_block6_1_conv (Conv2D)    (None, 14, 14, 256)  262144      conv4_block6_preact_relu[0][0]   \n",
            "__________________________________________________________________________________________________\n",
            "conv4_block6_1_bn (BatchNormali (None, 14, 14, 256)  1024        conv4_block6_1_conv[0][0]        \n",
            "__________________________________________________________________________________________________\n",
            "conv4_block6_1_relu (Activation (None, 14, 14, 256)  0           conv4_block6_1_bn[0][0]          \n",
            "__________________________________________________________________________________________________\n",
            "conv4_block6_2_pad (ZeroPadding (None, 16, 16, 256)  0           conv4_block6_1_relu[0][0]        \n",
            "__________________________________________________________________________________________________\n",
            "conv4_block6_2_conv (Conv2D)    (None, 7, 7, 256)    589824      conv4_block6_2_pad[0][0]         \n",
            "__________________________________________________________________________________________________\n",
            "conv4_block6_2_bn (BatchNormali (None, 7, 7, 256)    1024        conv4_block6_2_conv[0][0]        \n",
            "__________________________________________________________________________________________________\n",
            "conv4_block6_2_relu (Activation (None, 7, 7, 256)    0           conv4_block6_2_bn[0][0]          \n",
            "__________________________________________________________________________________________________\n",
            "max_pooling2d_2 (MaxPooling2D)  (None, 7, 7, 1024)   0           conv4_block5_out[0][0]           \n",
            "__________________________________________________________________________________________________\n",
            "conv4_block6_3_conv (Conv2D)    (None, 7, 7, 1024)   263168      conv4_block6_2_relu[0][0]        \n",
            "__________________________________________________________________________________________________\n",
            "conv4_block6_out (Add)          (None, 7, 7, 1024)   0           max_pooling2d_2[0][0]            \n",
            "                                                                 conv4_block6_3_conv[0][0]        \n",
            "__________________________________________________________________________________________________\n",
            "conv5_block1_preact_bn (BatchNo (None, 7, 7, 1024)   4096        conv4_block6_out[0][0]           \n",
            "__________________________________________________________________________________________________\n",
            "conv5_block1_preact_relu (Activ (None, 7, 7, 1024)   0           conv5_block1_preact_bn[0][0]     \n",
            "__________________________________________________________________________________________________\n",
            "conv5_block1_1_conv (Conv2D)    (None, 7, 7, 512)    524288      conv5_block1_preact_relu[0][0]   \n",
            "__________________________________________________________________________________________________\n",
            "conv5_block1_1_bn (BatchNormali (None, 7, 7, 512)    2048        conv5_block1_1_conv[0][0]        \n",
            "__________________________________________________________________________________________________\n",
            "conv5_block1_1_relu (Activation (None, 7, 7, 512)    0           conv5_block1_1_bn[0][0]          \n",
            "__________________________________________________________________________________________________\n",
            "conv5_block1_2_pad (ZeroPadding (None, 9, 9, 512)    0           conv5_block1_1_relu[0][0]        \n",
            "__________________________________________________________________________________________________\n",
            "conv5_block1_2_conv (Conv2D)    (None, 7, 7, 512)    2359296     conv5_block1_2_pad[0][0]         \n",
            "__________________________________________________________________________________________________\n",
            "conv5_block1_2_bn (BatchNormali (None, 7, 7, 512)    2048        conv5_block1_2_conv[0][0]        \n",
            "__________________________________________________________________________________________________\n",
            "conv5_block1_2_relu (Activation (None, 7, 7, 512)    0           conv5_block1_2_bn[0][0]          \n",
            "__________________________________________________________________________________________________\n",
            "conv5_block1_0_conv (Conv2D)    (None, 7, 7, 2048)   2099200     conv5_block1_preact_relu[0][0]   \n",
            "__________________________________________________________________________________________________\n",
            "conv5_block1_3_conv (Conv2D)    (None, 7, 7, 2048)   1050624     conv5_block1_2_relu[0][0]        \n",
            "__________________________________________________________________________________________________\n",
            "conv5_block1_out (Add)          (None, 7, 7, 2048)   0           conv5_block1_0_conv[0][0]        \n",
            "                                                                 conv5_block1_3_conv[0][0]        \n",
            "__________________________________________________________________________________________________\n",
            "conv5_block2_preact_bn (BatchNo (None, 7, 7, 2048)   8192        conv5_block1_out[0][0]           \n",
            "__________________________________________________________________________________________________\n",
            "conv5_block2_preact_relu (Activ (None, 7, 7, 2048)   0           conv5_block2_preact_bn[0][0]     \n",
            "__________________________________________________________________________________________________\n",
            "conv5_block2_1_conv (Conv2D)    (None, 7, 7, 512)    1048576     conv5_block2_preact_relu[0][0]   \n",
            "__________________________________________________________________________________________________\n",
            "conv5_block2_1_bn (BatchNormali (None, 7, 7, 512)    2048        conv5_block2_1_conv[0][0]        \n",
            "__________________________________________________________________________________________________\n",
            "conv5_block2_1_relu (Activation (None, 7, 7, 512)    0           conv5_block2_1_bn[0][0]          \n",
            "__________________________________________________________________________________________________\n",
            "conv5_block2_2_pad (ZeroPadding (None, 9, 9, 512)    0           conv5_block2_1_relu[0][0]        \n",
            "__________________________________________________________________________________________________\n",
            "conv5_block2_2_conv (Conv2D)    (None, 7, 7, 512)    2359296     conv5_block2_2_pad[0][0]         \n",
            "__________________________________________________________________________________________________\n",
            "conv5_block2_2_bn (BatchNormali (None, 7, 7, 512)    2048        conv5_block2_2_conv[0][0]        \n",
            "__________________________________________________________________________________________________\n",
            "conv5_block2_2_relu (Activation (None, 7, 7, 512)    0           conv5_block2_2_bn[0][0]          \n",
            "__________________________________________________________________________________________________\n",
            "conv5_block2_3_conv (Conv2D)    (None, 7, 7, 2048)   1050624     conv5_block2_2_relu[0][0]        \n",
            "__________________________________________________________________________________________________\n",
            "conv5_block2_out (Add)          (None, 7, 7, 2048)   0           conv5_block1_out[0][0]           \n",
            "                                                                 conv5_block2_3_conv[0][0]        \n",
            "__________________________________________________________________________________________________\n",
            "conv5_block3_preact_bn (BatchNo (None, 7, 7, 2048)   8192        conv5_block2_out[0][0]           \n",
            "__________________________________________________________________________________________________\n",
            "conv5_block3_preact_relu (Activ (None, 7, 7, 2048)   0           conv5_block3_preact_bn[0][0]     \n",
            "__________________________________________________________________________________________________\n",
            "conv5_block3_1_conv (Conv2D)    (None, 7, 7, 512)    1048576     conv5_block3_preact_relu[0][0]   \n",
            "__________________________________________________________________________________________________\n",
            "conv5_block3_1_bn (BatchNormali (None, 7, 7, 512)    2048        conv5_block3_1_conv[0][0]        \n",
            "__________________________________________________________________________________________________\n",
            "conv5_block3_1_relu (Activation (None, 7, 7, 512)    0           conv5_block3_1_bn[0][0]          \n",
            "__________________________________________________________________________________________________\n",
            "conv5_block3_2_pad (ZeroPadding (None, 9, 9, 512)    0           conv5_block3_1_relu[0][0]        \n",
            "__________________________________________________________________________________________________\n",
            "conv5_block3_2_conv (Conv2D)    (None, 7, 7, 512)    2359296     conv5_block3_2_pad[0][0]         \n",
            "__________________________________________________________________________________________________\n",
            "conv5_block3_2_bn (BatchNormali (None, 7, 7, 512)    2048        conv5_block3_2_conv[0][0]        \n",
            "__________________________________________________________________________________________________\n",
            "conv5_block3_2_relu (Activation (None, 7, 7, 512)    0           conv5_block3_2_bn[0][0]          \n",
            "__________________________________________________________________________________________________\n",
            "conv5_block3_3_conv (Conv2D)    (None, 7, 7, 2048)   1050624     conv5_block3_2_relu[0][0]        \n",
            "__________________________________________________________________________________________________\n",
            "conv5_block3_out (Add)          (None, 7, 7, 2048)   0           conv5_block2_out[0][0]           \n",
            "                                                                 conv5_block3_3_conv[0][0]        \n",
            "__________________________________________________________________________________________________\n",
            "post_bn (BatchNormalization)    (None, 7, 7, 2048)   8192        conv5_block3_out[0][0]           \n",
            "__________________________________________________________________________________________________\n",
            "post_relu (Activation)          (None, 7, 7, 2048)   0           post_bn[0][0]                    \n",
            "__________________________________________________________________________________________________\n",
            "avg_pool (GlobalAveragePooling2 (None, 2048)         0           post_relu[0][0]                  \n",
            "==================================================================================================\n",
            "Total params: 23,564,800\n",
            "Trainable params: 0\n",
            "Non-trainable params: 23,564,800\n",
            "__________________________________________________________________________________________________\n"
          ],
          "name": "stdout"
        }
      ]
    },
    {
      "cell_type": "code",
      "metadata": {
        "colab_type": "code",
        "id": "24ecaykdbLVO",
        "colab": {
          "base_uri": "https://localhost:8080/",
          "height": 225
        },
        "outputId": "a42f84fd-92c7-4afb-b1ee-f84d9791f941"
      },
      "source": [
        "optimizer = Adam(lr=1e-4)\n",
        "model.compile(optimizer=optimizer,loss='sparse_categorical_crossentropy', metrics=['accuracy'])\n",
        "model.summary()"
      ],
      "execution_count": null,
      "outputs": [
        {
          "output_type": "stream",
          "text": [
            "Model: \"sequential\"\n",
            "_________________________________________________________________\n",
            "Layer (type)                 Output Shape              Param #   \n",
            "=================================================================\n",
            "resnet50v2 (Model)           (None, 2048)              23564800  \n",
            "_________________________________________________________________\n",
            "dense (Dense)                (None, 102)               208998    \n",
            "=================================================================\n",
            "Total params: 23,773,798\n",
            "Trainable params: 208,998\n",
            "Non-trainable params: 23,564,800\n",
            "_________________________________________________________________\n"
          ],
          "name": "stdout"
        }
      ]
    },
    {
      "cell_type": "code",
      "metadata": {
        "colab_type": "code",
        "id": "dpeObEr6bLVV",
        "colab": {
          "base_uri": "https://localhost:8080/",
          "height": 1000
        },
        "outputId": "77684980-c98d-4cdd-db33-ae106eaa5c36"
      },
      "source": [
        "history = model_trainer.train_model(model, train_ds, val_ds, epochs=30)"
      ],
      "execution_count": null,
      "outputs": [
        {
          "output_type": "stream",
          "text": [
            "Batch size: 16\n",
            "Training dataset size: 818 - Training steps per epoch: 51\n",
            "Validation dataset size: 2454 - Validation steps per epoch: 153\n",
            "Epoch 1/30\n",
            "51/51 [==============================] - 12s 231ms/step - loss: 4.8861 - accuracy: 0.0257 - val_loss: 4.5056 - val_accuracy: 0.0560\n",
            "Epoch 2/30\n",
            "51/51 [==============================] - 9s 181ms/step - loss: 4.2052 - accuracy: 0.0748 - val_loss: 4.0834 - val_accuracy: 0.1127\n",
            "Epoch 3/30\n",
            "51/51 [==============================] - 9s 183ms/step - loss: 3.7221 - accuracy: 0.1630 - val_loss: 3.7509 - val_accuracy: 0.1724\n",
            "Epoch 4/30\n",
            "51/51 [==============================] - 9s 183ms/step - loss: 3.3004 - accuracy: 0.2598 - val_loss: 3.4663 - val_accuracy: 0.2292\n",
            "Epoch 5/30\n",
            "51/51 [==============================] - 9s 185ms/step - loss: 2.9388 - accuracy: 0.3542 - val_loss: 3.2196 - val_accuracy: 0.2745\n",
            "Epoch 6/30\n",
            "51/51 [==============================] - 9s 186ms/step - loss: 2.6188 - accuracy: 0.4657 - val_loss: 3.0052 - val_accuracy: 0.3280\n",
            "Epoch 7/30\n",
            "51/51 [==============================] - 10s 187ms/step - loss: 2.3308 - accuracy: 0.5576 - val_loss: 2.8178 - val_accuracy: 0.3734\n",
            "Epoch 8/30\n",
            "51/51 [==============================] - 10s 189ms/step - loss: 2.0983 - accuracy: 0.6544 - val_loss: 2.6572 - val_accuracy: 0.4199\n",
            "Epoch 9/30\n",
            "51/51 [==============================] - 10s 191ms/step - loss: 1.8673 - accuracy: 0.7414 - val_loss: 2.5146 - val_accuracy: 0.4608\n",
            "Epoch 10/30\n",
            "51/51 [==============================] - 10s 190ms/step - loss: 1.7005 - accuracy: 0.7990 - val_loss: 2.3901 - val_accuracy: 0.4914\n",
            "Epoch 11/30\n",
            "51/51 [==============================] - 10s 191ms/step - loss: 1.5118 - accuracy: 0.8529 - val_loss: 2.2808 - val_accuracy: 0.5155\n",
            "Epoch 12/30\n",
            "51/51 [==============================] - 10s 190ms/step - loss: 1.3932 - accuracy: 0.8689 - val_loss: 2.1847 - val_accuracy: 0.5392\n",
            "Epoch 13/30\n",
            "51/51 [==============================] - 10s 188ms/step - loss: 1.2653 - accuracy: 0.8946 - val_loss: 2.0998 - val_accuracy: 0.5596\n",
            "Epoch 14/30\n",
            "51/51 [==============================] - 10s 189ms/step - loss: 1.1429 - accuracy: 0.9093 - val_loss: 2.0231 - val_accuracy: 0.5788\n",
            "Epoch 15/30\n",
            "51/51 [==============================] - 10s 188ms/step - loss: 1.0574 - accuracy: 0.9240 - val_loss: 1.9554 - val_accuracy: 0.5895\n",
            "Epoch 16/30\n",
            "51/51 [==============================] - 10s 188ms/step - loss: 0.9726 - accuracy: 0.9412 - val_loss: 1.8936 - val_accuracy: 0.6005\n",
            "Epoch 17/30\n",
            "51/51 [==============================] - 10s 188ms/step - loss: 0.9030 - accuracy: 0.9400 - val_loss: 1.8389 - val_accuracy: 0.6144\n",
            "Epoch 18/30\n",
            "51/51 [==============================] - 10s 189ms/step - loss: 0.8197 - accuracy: 0.9571 - val_loss: 1.7895 - val_accuracy: 0.6250\n",
            "Epoch 19/30\n",
            "51/51 [==============================] - 10s 189ms/step - loss: 0.7570 - accuracy: 0.9657 - val_loss: 1.7441 - val_accuracy: 0.6340\n",
            "Epoch 20/30\n",
            "51/51 [==============================] - 10s 190ms/step - loss: 0.7215 - accuracy: 0.9706 - val_loss: 1.7028 - val_accuracy: 0.6373\n",
            "Epoch 21/30\n",
            "51/51 [==============================] - 10s 189ms/step - loss: 0.6545 - accuracy: 0.9706 - val_loss: 1.6675 - val_accuracy: 0.6422\n",
            "Epoch 22/30\n",
            "51/51 [==============================] - 10s 189ms/step - loss: 0.6361 - accuracy: 0.9755 - val_loss: 1.6317 - val_accuracy: 0.6491\n",
            "Epoch 23/30\n",
            "51/51 [==============================] - 10s 189ms/step - loss: 0.5739 - accuracy: 0.9779 - val_loss: 1.6010 - val_accuracy: 0.6532\n",
            "Epoch 24/30\n",
            "51/51 [==============================] - 10s 189ms/step - loss: 0.5336 - accuracy: 0.9828 - val_loss: 1.5719 - val_accuracy: 0.6589\n",
            "Epoch 25/30\n",
            "51/51 [==============================] - 10s 189ms/step - loss: 0.5166 - accuracy: 0.9816 - val_loss: 1.5435 - val_accuracy: 0.6638\n",
            "Epoch 26/30\n",
            "51/51 [==============================] - 10s 189ms/step - loss: 0.4752 - accuracy: 0.9828 - val_loss: 1.5183 - val_accuracy: 0.6695\n",
            "Epoch 27/30\n",
            "51/51 [==============================] - 10s 189ms/step - loss: 0.4507 - accuracy: 0.9877 - val_loss: 1.4960 - val_accuracy: 0.6736\n",
            "Epoch 28/30\n",
            "51/51 [==============================] - 10s 189ms/step - loss: 0.4263 - accuracy: 0.9890 - val_loss: 1.4753 - val_accuracy: 0.6748\n",
            "Epoch 29/30\n",
            "51/51 [==============================] - 10s 189ms/step - loss: 0.4020 - accuracy: 0.9877 - val_loss: 1.4546 - val_accuracy: 0.6793\n",
            "Epoch 30/30\n",
            "51/51 [==============================] - 10s 189ms/step - loss: 0.3832 - accuracy: 0.9914 - val_loss: 1.4362 - val_accuracy: 0.6761\n"
          ],
          "name": "stdout"
        }
      ]
    },
    {
      "cell_type": "code",
      "metadata": {
        "colab_type": "code",
        "id": "TDImLxd5bLVb",
        "colab": {}
      },
      "source": [
        "save_model_weights(model, 'resnet50v2_fe')"
      ],
      "execution_count": null,
      "outputs": []
    },
    {
      "cell_type": "code",
      "metadata": {
        "colab_type": "code",
        "id": "OYD0JZNDbLVh",
        "colab": {
          "base_uri": "https://localhost:8080/",
          "height": 390
        },
        "outputId": "b8f125d8-e4cc-43f2-e285-b10ede1200cd"
      },
      "source": [
        "plot_curves(history)"
      ],
      "execution_count": null,
      "outputs": [
        {
          "output_type": "display_data",
          "data": {
            "image/png": "[encoded data removed]",
            "text/plain": [
              "<Figure size 1296x432 with 2 Axes>"
            ]
          },
          "metadata": {
            "tags": [],
            "needs_background": "light"
          }
        }
      ]
    },
    {
      "cell_type": "code",
      "metadata": {
        "colab_type": "code",
        "id": "dFogXJ0lbLVo",
        "colab": {
          "base_uri": "https://localhost:8080/",
          "height": 104
        },
        "outputId": "ed849062-0e76-4403-b8ce-c0d989149b02"
      },
      "source": [
        "show_scores(model, test_ds)"
      ],
      "execution_count": null,
      "outputs": [
        {
          "output_type": "stream",
          "text": [
            "|Average prediction time: 7.01 ms\n",
            "|Average Type |Prec |Rec |F1\n",
            "|--- |--- |--- |---\n",
            "|Micro|0.68|0.68|0.68\n",
            "|Macro|0.73|0.62|0.64\n"
          ],
          "name": "stdout"
        }
      ]
    },
    {
      "cell_type": "markdown",
      "metadata": {
        "colab_type": "text",
        "id": "3PPRSt3-bLVw"
      },
      "source": [
        "### Fine-tuning **without** data augmentation"
      ]
    },
    {
      "cell_type": "code",
      "metadata": {
        "colab_type": "code",
        "id": "GEs_EQaVbLVx",
        "colab": {}
      },
      "source": [
        "train_ds = np_to_dataset(X_train, y_train, training=True, augmentation=False, batch_size=BATCH_SIZE)\n",
        "val_ds = np_to_dataset(X_val, y_val, training=False, batch_size=BATCH_SIZE)\n",
        "test_ds = np_to_dataset(X_test, y_test, training=False, batch_size=1)"
      ],
      "execution_count": null,
      "outputs": []
    },
    {
      "cell_type": "code",
      "metadata": {
        "colab_type": "code",
        "id": "h63-HYWibLV5",
        "colab": {}
      },
      "source": [
        "model = create_resnet50v2_model()\n",
        "load_model_weights(model, 'resnet50v2_fe')"
      ],
      "execution_count": null,
      "outputs": []
    },
    {
      "cell_type": "code",
      "metadata": {
        "colab_type": "code",
        "id": "y-k-noYSbLV_",
        "colab": {
          "base_uri": "https://localhost:8080/",
          "height": 225
        },
        "outputId": "36f7dde8-5e79-4284-e832-9049989824df"
      },
      "source": [
        "model.summary()"
      ],
      "execution_count": null,
      "outputs": [
        {
          "output_type": "stream",
          "text": [
            "Model: \"sequential_1\"\n",
            "_________________________________________________________________\n",
            "Layer (type)                 Output Shape              Param #   \n",
            "=================================================================\n",
            "resnet50v2 (Model)           (None, 2048)              23564800  \n",
            "_________________________________________________________________\n",
            "dense_1 (Dense)              (None, 102)               208998    \n",
            "=================================================================\n",
            "Total params: 23,773,798\n",
            "Trainable params: 23,728,358\n",
            "Non-trainable params: 45,440\n",
            "_________________________________________________________________\n"
          ],
          "name": "stdout"
        }
      ]
    },
    {
      "cell_type": "markdown",
      "metadata": {
        "colab_type": "text",
        "id": "2E5lRVmGbLWE"
      },
      "source": [
        "Unfreeze block conv_5 and post_bn layer of the convolutional base, as well as the classifier"
      ]
    },
    {
      "cell_type": "code",
      "metadata": {
        "colab_type": "code",
        "id": "B_ChFhHgbLWG",
        "colab": {}
      },
      "source": [
        "conv_base = model.get_layer('resnet50v2')\n",
        "classifier = model.get_layer('dense_1')\n",
        "\n",
        "# Freeze convolutional base\n",
        "freeze_model(conv_base)\n",
        "\n",
        "# Unfreeze the last few layers of the convolutional base\n",
        "for layer in conv_base.layers:\n",
        "  if layer.name.startswith('conv5_block3') or layer.name.startswith('post'):\n",
        "    layer.trainable = True"
      ],
      "execution_count": null,
      "outputs": []
    },
    {
      "cell_type": "code",
      "metadata": {
        "colab_type": "code",
        "id": "srvLisTabLWM",
        "colab": {
          "base_uri": "https://localhost:8080/",
          "height": 225
        },
        "outputId": "6c8fe2b6-74eb-44e8-90cf-82f63ae5dd8c"
      },
      "source": [
        "# Compile with lower learning rate\n",
        "optimizer = Adam(lr=1e-5)\n",
        "model.compile(optimizer=optimizer,loss='sparse_categorical_crossentropy', metrics=['accuracy'])\n",
        "model.summary()"
      ],
      "execution_count": null,
      "outputs": [
        {
          "output_type": "stream",
          "text": [
            "Model: \"sequential_1\"\n",
            "_________________________________________________________________\n",
            "Layer (type)                 Output Shape              Param #   \n",
            "=================================================================\n",
            "resnet50v2 (Model)           (None, 2048)              23564800  \n",
            "_________________________________________________________________\n",
            "dense_1 (Dense)              (None, 102)               208998    \n",
            "=================================================================\n",
            "Total params: 23,773,798\n",
            "Trainable params: 4,677,734\n",
            "Non-trainable params: 19,096,064\n",
            "_________________________________________________________________\n"
          ],
          "name": "stdout"
        }
      ]
    },
    {
      "cell_type": "code",
      "metadata": {
        "colab_type": "code",
        "id": "cktFl_qqbLWQ",
        "colab": {
          "base_uri": "https://localhost:8080/",
          "height": 1000
        },
        "outputId": "aaefeb5d-7848-4a6a-a247-e1d943581cba"
      },
      "source": [
        "history = model_trainer.train_model(model, train_ds, val_ds, epochs=100)"
      ],
      "execution_count": null,
      "outputs": [
        {
          "output_type": "stream",
          "text": [
            "Batch size: 16\n",
            "Training dataset size: 818 - Training steps per epoch: 51\n",
            "Validation dataset size: 2454 - Validation steps per epoch: 153\n",
            "Epoch 1/100\n",
            "51/51 [==============================] - 12s 240ms/step - loss: 0.7869 - accuracy: 0.8591 - val_loss: 1.2760 - val_accuracy: 0.6712\n",
            "Epoch 2/100\n",
            "51/51 [==============================] - 10s 198ms/step - loss: 0.0463 - accuracy: 1.0000 - val_loss: 0.9834 - val_accuracy: 0.7357\n",
            "Epoch 3/100\n",
            "51/51 [==============================] - 10s 199ms/step - loss: 0.0159 - accuracy: 1.0000 - val_loss: 0.8825 - val_accuracy: 0.7688\n",
            "Epoch 4/100\n",
            "51/51 [==============================] - 10s 200ms/step - loss: 0.0102 - accuracy: 1.0000 - val_loss: 0.8651 - val_accuracy: 0.7729\n",
            "Epoch 5/100\n",
            "51/51 [==============================] - 10s 196ms/step - loss: 0.0085 - accuracy: 1.0000 - val_loss: 0.8669 - val_accuracy: 0.7704\n",
            "Epoch 6/100\n",
            "51/51 [==============================] - 10s 197ms/step - loss: 0.0069 - accuracy: 1.0000 - val_loss: 0.8645 - val_accuracy: 0.7761\n",
            "Epoch 7/100\n",
            "51/51 [==============================] - 10s 197ms/step - loss: 0.0054 - accuracy: 1.0000 - val_loss: 0.8615 - val_accuracy: 0.7766\n",
            "Epoch 8/100\n",
            "51/51 [==============================] - 10s 194ms/step - loss: 0.0045 - accuracy: 1.0000 - val_loss: 0.8689 - val_accuracy: 0.7737\n",
            "Epoch 9/100\n",
            "51/51 [==============================] - 10s 194ms/step - loss: 0.0039 - accuracy: 1.0000 - val_loss: 0.8669 - val_accuracy: 0.7753\n",
            "Epoch 10/100\n",
            "51/51 [==============================] - 10s 194ms/step - loss: 0.0038 - accuracy: 1.0000 - val_loss: 0.8621 - val_accuracy: 0.7753\n",
            "Epoch 11/100\n",
            "51/51 [==============================] - 10s 197ms/step - loss: 0.0033 - accuracy: 1.0000 - val_loss: 0.8575 - val_accuracy: 0.7778\n",
            "Epoch 12/100\n",
            "51/51 [==============================] - 10s 198ms/step - loss: 0.0029 - accuracy: 1.0000 - val_loss: 0.8574 - val_accuracy: 0.7782\n",
            "Epoch 13/100\n",
            "51/51 [==============================] - 10s 198ms/step - loss: 0.0026 - accuracy: 1.0000 - val_loss: 0.8552 - val_accuracy: 0.7778\n",
            "Epoch 14/100\n",
            "51/51 [==============================] - 10s 197ms/step - loss: 0.0028 - accuracy: 1.0000 - val_loss: 0.8522 - val_accuracy: 0.7778\n",
            "Epoch 15/100\n",
            "51/51 [==============================] - 10s 198ms/step - loss: 0.0021 - accuracy: 1.0000 - val_loss: 0.8491 - val_accuracy: 0.7790\n",
            "Epoch 16/100\n",
            "51/51 [==============================] - 10s 197ms/step - loss: 0.0026 - accuracy: 1.0000 - val_loss: 0.8488 - val_accuracy: 0.7806\n",
            "Epoch 17/100\n",
            "51/51 [==============================] - 10s 195ms/step - loss: 0.0022 - accuracy: 1.0000 - val_loss: 0.8507 - val_accuracy: 0.7790\n",
            "Epoch 18/100\n",
            "51/51 [==============================] - 10s 197ms/step - loss: 0.0019 - accuracy: 1.0000 - val_loss: 0.8466 - val_accuracy: 0.7766\n",
            "Epoch 19/100\n",
            "51/51 [==============================] - 10s 196ms/step - loss: 0.0017 - accuracy: 1.0000 - val_loss: 0.8432 - val_accuracy: 0.7810\n",
            "Epoch 20/100\n",
            "51/51 [==============================] - 10s 195ms/step - loss: 0.0017 - accuracy: 1.0000 - val_loss: 0.8433 - val_accuracy: 0.7806\n",
            "Epoch 21/100\n",
            "51/51 [==============================] - 10s 197ms/step - loss: 0.0016 - accuracy: 1.0000 - val_loss: 0.8398 - val_accuracy: 0.7823\n",
            "Epoch 22/100\n",
            "51/51 [==============================] - 10s 197ms/step - loss: 0.0017 - accuracy: 1.0000 - val_loss: 0.8348 - val_accuracy: 0.7823\n",
            "Epoch 23/100\n",
            "51/51 [==============================] - 10s 195ms/step - loss: 0.0012 - accuracy: 1.0000 - val_loss: 0.8350 - val_accuracy: 0.7831\n",
            "Epoch 24/100\n",
            "51/51 [==============================] - 10s 196ms/step - loss: 0.0015 - accuracy: 1.0000 - val_loss: 0.8367 - val_accuracy: 0.7831\n",
            "Epoch 25/100\n",
            "51/51 [==============================] - 10s 196ms/step - loss: 0.0012 - accuracy: 1.0000 - val_loss: 0.8347 - val_accuracy: 0.7827\n",
            "Epoch 26/100\n",
            "51/51 [==============================] - 10s 196ms/step - loss: 0.0011 - accuracy: 1.0000 - val_loss: 0.8324 - val_accuracy: 0.7835\n",
            "Epoch 27/100\n",
            "51/51 [==============================] - 10s 196ms/step - loss: 0.0012 - accuracy: 1.0000 - val_loss: 0.8299 - val_accuracy: 0.7843\n",
            "Epoch 28/100\n",
            "51/51 [==============================] - 10s 193ms/step - loss: 0.0011 - accuracy: 1.0000 - val_loss: 0.8305 - val_accuracy: 0.7847\n",
            "Epoch 29/100\n",
            "51/51 [==============================] - 10s 193ms/step - loss: 8.7087e-04 - accuracy: 1.0000 - val_loss: 0.8312 - val_accuracy: 0.7827\n",
            "Epoch 30/100\n",
            "51/51 [==============================] - 10s 197ms/step - loss: 9.7756e-04 - accuracy: 1.0000 - val_loss: 0.8291 - val_accuracy: 0.7831\n",
            "Epoch 31/100\n",
            "51/51 [==============================] - 10s 195ms/step - loss: 8.9255e-04 - accuracy: 1.0000 - val_loss: 0.8283 - val_accuracy: 0.7835\n",
            "Epoch 32/100\n",
            "51/51 [==============================] - 10s 195ms/step - loss: 0.0010 - accuracy: 1.0000 - val_loss: 0.8268 - val_accuracy: 0.7843\n",
            "Epoch 33/100\n",
            "51/51 [==============================] - 10s 195ms/step - loss: 8.2968e-04 - accuracy: 1.0000 - val_loss: 0.8261 - val_accuracy: 0.7843\n",
            "Epoch 34/100\n",
            "51/51 [==============================] - 10s 192ms/step - loss: 9.0930e-04 - accuracy: 1.0000 - val_loss: 0.8273 - val_accuracy: 0.7827\n",
            "Epoch 35/100\n",
            "51/51 [==============================] - 10s 193ms/step - loss: 8.3293e-04 - accuracy: 1.0000 - val_loss: 0.8271 - val_accuracy: 0.7847\n",
            "Epoch 36/100\n",
            "51/51 [==============================] - 10s 193ms/step - loss: 9.8800e-04 - accuracy: 1.0000 - val_loss: 0.8294 - val_accuracy: 0.7843\n",
            "Epoch 37/100\n",
            "51/51 [==============================] - 10s 194ms/step - loss: 8.2070e-04 - accuracy: 1.0000 - val_loss: 0.8287 - val_accuracy: 0.7855\n",
            "Epoch 38/100\n",
            "51/51 [==============================] - 10s 195ms/step - loss: 6.7427e-04 - accuracy: 1.0000 - val_loss: 0.8260 - val_accuracy: 0.7851\n",
            "Epoch 39/100\n",
            "51/51 [==============================] - 10s 195ms/step - loss: 5.8752e-04 - accuracy: 1.0000 - val_loss: 0.8258 - val_accuracy: 0.7851\n",
            "Epoch 40/100\n",
            "51/51 [==============================] - 10s 193ms/step - loss: 6.0638e-04 - accuracy: 1.0000 - val_loss: 0.8272 - val_accuracy: 0.7851\n",
            "Epoch 41/100\n",
            "51/51 [==============================] - 10s 195ms/step - loss: 5.4586e-04 - accuracy: 1.0000 - val_loss: 0.8255 - val_accuracy: 0.7880\n",
            "Epoch 42/100\n",
            "51/51 [==============================] - 10s 193ms/step - loss: 7.5173e-04 - accuracy: 1.0000 - val_loss: 0.8274 - val_accuracy: 0.7892\n",
            "Epoch 43/100\n",
            "51/51 [==============================] - 10s 193ms/step - loss: 5.8980e-04 - accuracy: 1.0000 - val_loss: 0.8262 - val_accuracy: 0.7892\n",
            "Epoch 44/100\n",
            "51/51 [==============================] - 10s 196ms/step - loss: 4.7597e-04 - accuracy: 1.0000 - val_loss: 0.8244 - val_accuracy: 0.7892\n",
            "Epoch 45/100\n",
            "51/51 [==============================] - 10s 195ms/step - loss: 4.9738e-04 - accuracy: 1.0000 - val_loss: 0.8241 - val_accuracy: 0.7896\n",
            "Epoch 46/100\n",
            "51/51 [==============================] - 10s 196ms/step - loss: 4.7808e-04 - accuracy: 1.0000 - val_loss: 0.8216 - val_accuracy: 0.7888\n",
            "Epoch 47/100\n",
            "51/51 [==============================] - 10s 195ms/step - loss: 5.0377e-04 - accuracy: 1.0000 - val_loss: 0.8216 - val_accuracy: 0.7892\n",
            "Epoch 48/100\n",
            "51/51 [==============================] - 10s 193ms/step - loss: 6.0510e-04 - accuracy: 1.0000 - val_loss: 0.8226 - val_accuracy: 0.7868\n",
            "Epoch 49/100\n",
            "51/51 [==============================] - 10s 193ms/step - loss: 4.8472e-04 - accuracy: 1.0000 - val_loss: 0.8223 - val_accuracy: 0.7892\n",
            "Epoch 50/100\n",
            "51/51 [==============================] - 10s 194ms/step - loss: 4.3812e-04 - accuracy: 1.0000 - val_loss: 0.8188 - val_accuracy: 0.7888\n",
            "Epoch 51/100\n",
            "51/51 [==============================] - 10s 195ms/step - loss: 3.9427e-04 - accuracy: 1.0000 - val_loss: 0.8171 - val_accuracy: 0.7917\n",
            "Epoch 52/100\n",
            "51/51 [==============================] - 10s 192ms/step - loss: 6.6012e-04 - accuracy: 1.0000 - val_loss: 0.8203 - val_accuracy: 0.7900\n",
            "Epoch 53/100\n",
            "51/51 [==============================] - 10s 192ms/step - loss: 3.5676e-04 - accuracy: 1.0000 - val_loss: 0.8216 - val_accuracy: 0.7892\n",
            "Epoch 54/100\n",
            "51/51 [==============================] - 10s 192ms/step - loss: 3.6447e-04 - accuracy: 1.0000 - val_loss: 0.8191 - val_accuracy: 0.7896\n",
            "Epoch 55/100\n",
            "51/51 [==============================] - 10s 192ms/step - loss: 3.3492e-04 - accuracy: 1.0000 - val_loss: 0.8192 - val_accuracy: 0.7917\n",
            "Epoch 56/100\n",
            "51/51 [==============================] - 10s 194ms/step - loss: 3.8864e-04 - accuracy: 1.0000 - val_loss: 0.8153 - val_accuracy: 0.7900\n",
            "Epoch 57/100\n",
            "51/51 [==============================] - 10s 192ms/step - loss: 2.9063e-04 - accuracy: 1.0000 - val_loss: 0.8172 - val_accuracy: 0.7925\n",
            "Epoch 58/100\n",
            "51/51 [==============================] - 10s 192ms/step - loss: 3.4146e-04 - accuracy: 1.0000 - val_loss: 0.8158 - val_accuracy: 0.7917\n",
            "Epoch 59/100\n",
            "51/51 [==============================] - 10s 195ms/step - loss: 2.7219e-04 - accuracy: 1.0000 - val_loss: 0.8153 - val_accuracy: 0.7913\n",
            "Epoch 60/100\n",
            "51/51 [==============================] - 10s 195ms/step - loss: 2.8507e-04 - accuracy: 1.0000 - val_loss: 0.8151 - val_accuracy: 0.7913\n",
            "Epoch 61/100\n",
            "51/51 [==============================] - 10s 194ms/step - loss: 2.8700e-04 - accuracy: 1.0000 - val_loss: 0.8154 - val_accuracy: 0.7892\n",
            "Epoch 62/100\n",
            "51/51 [==============================] - 10s 194ms/step - loss: 3.2831e-04 - accuracy: 1.0000 - val_loss: 0.8154 - val_accuracy: 0.7896\n",
            "Epoch 63/100\n",
            "51/51 [==============================] - 10s 193ms/step - loss: 3.2117e-04 - accuracy: 1.0000 - val_loss: 0.8174 - val_accuracy: 0.7884\n",
            "Epoch 64/100\n",
            "51/51 [==============================] - 10s 193ms/step - loss: 2.9892e-04 - accuracy: 1.0000 - val_loss: 0.8175 - val_accuracy: 0.7896\n",
            "Epoch 65/100\n",
            "51/51 [==============================] - 10s 192ms/step - loss: 2.4253e-04 - accuracy: 1.0000 - val_loss: 0.8152 - val_accuracy: 0.7884\n",
            "Epoch 66/100\n",
            "51/51 [==============================] - 10s 193ms/step - loss: 2.9700e-04 - accuracy: 1.0000 - val_loss: 0.8153 - val_accuracy: 0.7888\n",
            "Epoch 67/100\n",
            "51/51 [==============================] - 10s 195ms/step - loss: 2.2504e-04 - accuracy: 1.0000 - val_loss: 0.8136 - val_accuracy: 0.7917\n",
            "Epoch 68/100\n",
            "51/51 [==============================] - 10s 196ms/step - loss: 2.2124e-04 - accuracy: 1.0000 - val_loss: 0.8129 - val_accuracy: 0.7908\n",
            "Epoch 69/100\n",
            "51/51 [==============================] - 10s 196ms/step - loss: 1.9043e-04 - accuracy: 1.0000 - val_loss: 0.8121 - val_accuracy: 0.7908\n",
            "Epoch 70/100\n",
            "51/51 [==============================] - 10s 195ms/step - loss: 2.1672e-04 - accuracy: 1.0000 - val_loss: 0.8113 - val_accuracy: 0.7892\n",
            "Epoch 71/100\n",
            "51/51 [==============================] - 10s 193ms/step - loss: 2.1798e-04 - accuracy: 1.0000 - val_loss: 0.8118 - val_accuracy: 0.7892\n",
            "Epoch 72/100\n",
            "51/51 [==============================] - 10s 193ms/step - loss: 1.7795e-04 - accuracy: 1.0000 - val_loss: 0.8116 - val_accuracy: 0.7896\n",
            "Epoch 73/100\n",
            "51/51 [==============================] - 10s 195ms/step - loss: 1.6565e-04 - accuracy: 1.0000 - val_loss: 0.8099 - val_accuracy: 0.7884\n",
            "Epoch 74/100\n",
            "51/51 [==============================] - 10s 193ms/step - loss: 1.7732e-04 - accuracy: 1.0000 - val_loss: 0.8100 - val_accuracy: 0.7884\n",
            "Epoch 75/100\n",
            "51/51 [==============================] - 10s 193ms/step - loss: 1.5929e-04 - accuracy: 1.0000 - val_loss: 0.8117 - val_accuracy: 0.7900\n",
            "Epoch 76/100\n",
            "51/51 [==============================] - 10s 192ms/step - loss: 1.7099e-04 - accuracy: 1.0000 - val_loss: 0.8101 - val_accuracy: 0.7892\n",
            "Epoch 77/100\n",
            "51/51 [==============================] - 10s 195ms/step - loss: 1.9740e-04 - accuracy: 1.0000 - val_loss: 0.8081 - val_accuracy: 0.7896\n",
            "Epoch 78/100\n",
            "51/51 [==============================] - 10s 195ms/step - loss: 1.5692e-04 - accuracy: 1.0000 - val_loss: 0.8067 - val_accuracy: 0.7896\n",
            "Epoch 79/100\n",
            "51/51 [==============================] - 10s 193ms/step - loss: 1.7203e-04 - accuracy: 1.0000 - val_loss: 0.8071 - val_accuracy: 0.7892\n",
            "Epoch 80/100\n",
            "51/51 [==============================] - 10s 192ms/step - loss: 1.6514e-04 - accuracy: 1.0000 - val_loss: 0.8102 - val_accuracy: 0.7904\n",
            "Epoch 81/100\n",
            "51/51 [==============================] - 10s 193ms/step - loss: 1.5926e-04 - accuracy: 1.0000 - val_loss: 0.8094 - val_accuracy: 0.7904\n",
            "Epoch 82/100\n",
            "51/51 [==============================] - 10s 194ms/step - loss: 1.4949e-04 - accuracy: 1.0000 - val_loss: 0.8093 - val_accuracy: 0.7908\n",
            "Epoch 83/100\n",
            "51/51 [==============================] - 10s 192ms/step - loss: 1.4912e-04 - accuracy: 1.0000 - val_loss: 0.8092 - val_accuracy: 0.7917\n",
            "Epoch 84/100\n",
            "51/51 [==============================] - 10s 192ms/step - loss: 2.1807e-04 - accuracy: 1.0000 - val_loss: 0.8101 - val_accuracy: 0.7921\n",
            "Epoch 85/100\n",
            "51/51 [==============================] - 10s 194ms/step - loss: 1.7651e-04 - accuracy: 1.0000 - val_loss: 0.8122 - val_accuracy: 0.7933\n",
            "Epoch 86/100\n",
            "51/51 [==============================] - 10s 192ms/step - loss: 1.6915e-04 - accuracy: 1.0000 - val_loss: 0.8134 - val_accuracy: 0.7929\n",
            "Epoch 87/100\n",
            "51/51 [==============================] - 10s 193ms/step - loss: 1.1123e-04 - accuracy: 1.0000 - val_loss: 0.8136 - val_accuracy: 0.7929\n",
            "Epoch 88/100\n",
            "51/51 [==============================] - 10s 194ms/step - loss: 1.3637e-04 - accuracy: 1.0000 - val_loss: 0.8147 - val_accuracy: 0.7941\n"
          ],
          "name": "stdout"
        }
      ]
    },
    {
      "cell_type": "code",
      "metadata": {
        "colab_type": "code",
        "id": "_QlFxgwCbLWW",
        "colab": {}
      },
      "source": [
        "save_model_weights(model, 'resnet50v2_ft')"
      ],
      "execution_count": null,
      "outputs": []
    },
    {
      "cell_type": "code",
      "metadata": {
        "colab_type": "code",
        "id": "YkdA7EzWbLWb",
        "colab": {
          "base_uri": "https://localhost:8080/",
          "height": 390
        },
        "outputId": "fd250e64-9925-4cb3-cf5e-8f04a7184c6c"
      },
      "source": [
        "plot_curves(history)"
      ],
      "execution_count": null,
      "outputs": [
        {
          "output_type": "display_data",
          "data": {
            "image/png": "[encoded data removed]",
            "text/plain": [
              "<Figure size 1296x432 with 2 Axes>"
            ]
          },
          "metadata": {
            "tags": [],
            "needs_background": "light"
          }
        }
      ]
    },
    {
      "cell_type": "code",
      "metadata": {
        "colab_type": "code",
        "id": "Fdj9yQK2bLWg",
        "colab": {
          "base_uri": "https://localhost:8080/",
          "height": 104
        },
        "outputId": "20e7de11-ff6e-47f5-d29a-75e38bd35d4b"
      },
      "source": [
        "show_scores(model, test_ds)"
      ],
      "execution_count": null,
      "outputs": [
        {
          "output_type": "stream",
          "text": [
            "|Average prediction time: 6.93 ms\n",
            "|Average Type |Prec |Rec |F1\n",
            "|--- |--- |--- |---\n",
            "|Micro|0.79|0.79|0.79\n",
            "|Macro|0.81|0.75|0.77\n"
          ],
          "name": "stdout"
        }
      ]
    },
    {
      "cell_type": "markdown",
      "metadata": {
        "colab_type": "text",
        "id": "1BxhL4LcbLWn"
      },
      "source": [
        "### Feature extraction **with** Data Augmentation"
      ]
    },
    {
      "cell_type": "code",
      "metadata": {
        "colab_type": "code",
        "id": "Npf_SXmIbLWn",
        "colab": {}
      },
      "source": [
        "train_ds = np_to_dataset(X_train, y_train, training=True, augmentation=True, batch_size=BATCH_SIZE)\n",
        "val_ds = np_to_dataset(X_val, y_val, training=False, batch_size=BATCH_SIZE)\n",
        "test_ds = np_to_dataset(X_test, y_test, training=False, batch_size=1)"
      ],
      "execution_count": null,
      "outputs": []
    },
    {
      "cell_type": "code",
      "metadata": {
        "colab_type": "code",
        "id": "zGDJSpuDbLWr",
        "colab": {}
      },
      "source": [
        "model = create_resnet50v2_model()"
      ],
      "execution_count": null,
      "outputs": []
    },
    {
      "cell_type": "code",
      "metadata": {
        "colab_type": "code",
        "id": "Tua0C92vbLWw",
        "colab": {
          "base_uri": "https://localhost:8080/",
          "height": 1000
        },
        "outputId": "399371b3-33ba-4ff6-ea30-85ef38ac1f52"
      },
      "source": [
        "conv_base = model.get_layer('resnet50v2')\n",
        "freeze_model(conv_base)\n",
        "\n",
        "conv_base.summary()"
      ],
      "execution_count": null,
      "outputs": [
        {
          "output_type": "stream",
          "text": [
            "Model: \"resnet50v2\"\n",
            "__________________________________________________________________________________________________\n",
            "Layer (type)                    Output Shape         Param #     Connected to                     \n",
            "==================================================================================================\n",
            "input_3 (InputLayer)            [(None, 224, 224, 3) 0                                            \n",
            "__________________________________________________________________________________________________\n",
            "conv1_pad (ZeroPadding2D)       (None, 230, 230, 3)  0           input_3[0][0]                    \n",
            "__________________________________________________________________________________________________\n",
            "conv1_conv (Conv2D)             (None, 112, 112, 64) 9472        conv1_pad[0][0]                  \n",
            "__________________________________________________________________________________________________\n",
            "pool1_pad (ZeroPadding2D)       (None, 114, 114, 64) 0           conv1_conv[0][0]                 \n",
            "__________________________________________________________________________________________________\n",
            "pool1_pool (MaxPooling2D)       (None, 56, 56, 64)   0           pool1_pad[0][0]                  \n",
            "__________________________________________________________________________________________________\n",
            "conv2_block1_preact_bn (BatchNo (None, 56, 56, 64)   256         pool1_pool[0][0]                 \n",
            "__________________________________________________________________________________________________\n",
            "conv2_block1_preact_relu (Activ (None, 56, 56, 64)   0           conv2_block1_preact_bn[0][0]     \n",
            "__________________________________________________________________________________________________\n",
            "conv2_block1_1_conv (Conv2D)    (None, 56, 56, 64)   4096        conv2_block1_preact_relu[0][0]   \n",
            "__________________________________________________________________________________________________\n",
            "conv2_block1_1_bn (BatchNormali (None, 56, 56, 64)   256         conv2_block1_1_conv[0][0]        \n",
            "__________________________________________________________________________________________________\n",
            "conv2_block1_1_relu (Activation (None, 56, 56, 64)   0           conv2_block1_1_bn[0][0]          \n",
            "__________________________________________________________________________________________________\n",
            "conv2_block1_2_pad (ZeroPadding (None, 58, 58, 64)   0           conv2_block1_1_relu[0][0]        \n",
            "__________________________________________________________________________________________________\n",
            "conv2_block1_2_conv (Conv2D)    (None, 56, 56, 64)   36864       conv2_block1_2_pad[0][0]         \n",
            "__________________________________________________________________________________________________\n",
            "conv2_block1_2_bn (BatchNormali (None, 56, 56, 64)   256         conv2_block1_2_conv[0][0]        \n",
            "__________________________________________________________________________________________________\n",
            "conv2_block1_2_relu (Activation (None, 56, 56, 64)   0           conv2_block1_2_bn[0][0]          \n",
            "__________________________________________________________________________________________________\n",
            "conv2_block1_0_conv (Conv2D)    (None, 56, 56, 256)  16640       conv2_block1_preact_relu[0][0]   \n",
            "__________________________________________________________________________________________________\n",
            "conv2_block1_3_conv (Conv2D)    (None, 56, 56, 256)  16640       conv2_block1_2_relu[0][0]        \n",
            "__________________________________________________________________________________________________\n",
            "conv2_block1_out (Add)          (None, 56, 56, 256)  0           conv2_block1_0_conv[0][0]        \n",
            "                                                                 conv2_block1_3_conv[0][0]        \n",
            "__________________________________________________________________________________________________\n",
            "conv2_block2_preact_bn (BatchNo (None, 56, 56, 256)  1024        conv2_block1_out[0][0]           \n",
            "__________________________________________________________________________________________________\n",
            "conv2_block2_preact_relu (Activ (None, 56, 56, 256)  0           conv2_block2_preact_bn[0][0]     \n",
            "__________________________________________________________________________________________________\n",
            "conv2_block2_1_conv (Conv2D)    (None, 56, 56, 64)   16384       conv2_block2_preact_relu[0][0]   \n",
            "__________________________________________________________________________________________________\n",
            "conv2_block2_1_bn (BatchNormali (None, 56, 56, 64)   256         conv2_block2_1_conv[0][0]        \n",
            "__________________________________________________________________________________________________\n",
            "conv2_block2_1_relu (Activation (None, 56, 56, 64)   0           conv2_block2_1_bn[0][0]          \n",
            "__________________________________________________________________________________________________\n",
            "conv2_block2_2_pad (ZeroPadding (None, 58, 58, 64)   0           conv2_block2_1_relu[0][0]        \n",
            "__________________________________________________________________________________________________\n",
            "conv2_block2_2_conv (Conv2D)    (None, 56, 56, 64)   36864       conv2_block2_2_pad[0][0]         \n",
            "__________________________________________________________________________________________________\n",
            "conv2_block2_2_bn (BatchNormali (None, 56, 56, 64)   256         conv2_block2_2_conv[0][0]        \n",
            "__________________________________________________________________________________________________\n",
            "conv2_block2_2_relu (Activation (None, 56, 56, 64)   0           conv2_block2_2_bn[0][0]          \n",
            "__________________________________________________________________________________________________\n",
            "conv2_block2_3_conv (Conv2D)    (None, 56, 56, 256)  16640       conv2_block2_2_relu[0][0]        \n",
            "__________________________________________________________________________________________________\n",
            "conv2_block2_out (Add)          (None, 56, 56, 256)  0           conv2_block1_out[0][0]           \n",
            "                                                                 conv2_block2_3_conv[0][0]        \n",
            "__________________________________________________________________________________________________\n",
            "conv2_block3_preact_bn (BatchNo (None, 56, 56, 256)  1024        conv2_block2_out[0][0]           \n",
            "__________________________________________________________________________________________________\n",
            "conv2_block3_preact_relu (Activ (None, 56, 56, 256)  0           conv2_block3_preact_bn[0][0]     \n",
            "__________________________________________________________________________________________________\n",
            "conv2_block3_1_conv (Conv2D)    (None, 56, 56, 64)   16384       conv2_block3_preact_relu[0][0]   \n",
            "__________________________________________________________________________________________________\n",
            "conv2_block3_1_bn (BatchNormali (None, 56, 56, 64)   256         conv2_block3_1_conv[0][0]        \n",
            "__________________________________________________________________________________________________\n",
            "conv2_block3_1_relu (Activation (None, 56, 56, 64)   0           conv2_block3_1_bn[0][0]          \n",
            "__________________________________________________________________________________________________\n",
            "conv2_block3_2_pad (ZeroPadding (None, 58, 58, 64)   0           conv2_block3_1_relu[0][0]        \n",
            "__________________________________________________________________________________________________\n",
            "conv2_block3_2_conv (Conv2D)    (None, 28, 28, 64)   36864       conv2_block3_2_pad[0][0]         \n",
            "__________________________________________________________________________________________________\n",
            "conv2_block3_2_bn (BatchNormali (None, 28, 28, 64)   256         conv2_block3_2_conv[0][0]        \n",
            "__________________________________________________________________________________________________\n",
            "conv2_block3_2_relu (Activation (None, 28, 28, 64)   0           conv2_block3_2_bn[0][0]          \n",
            "__________________________________________________________________________________________________\n",
            "max_pooling2d_6 (MaxPooling2D)  (None, 28, 28, 256)  0           conv2_block2_out[0][0]           \n",
            "__________________________________________________________________________________________________\n",
            "conv2_block3_3_conv (Conv2D)    (None, 28, 28, 256)  16640       conv2_block3_2_relu[0][0]        \n",
            "__________________________________________________________________________________________________\n",
            "conv2_block3_out (Add)          (None, 28, 28, 256)  0           max_pooling2d_6[0][0]            \n",
            "                                                                 conv2_block3_3_conv[0][0]        \n",
            "__________________________________________________________________________________________________\n",
            "conv3_block1_preact_bn (BatchNo (None, 28, 28, 256)  1024        conv2_block3_out[0][0]           \n",
            "__________________________________________________________________________________________________\n",
            "conv3_block1_preact_relu (Activ (None, 28, 28, 256)  0           conv3_block1_preact_bn[0][0]     \n",
            "__________________________________________________________________________________________________\n",
            "conv3_block1_1_conv (Conv2D)    (None, 28, 28, 128)  32768       conv3_block1_preact_relu[0][0]   \n",
            "__________________________________________________________________________________________________\n",
            "conv3_block1_1_bn (BatchNormali (None, 28, 28, 128)  512         conv3_block1_1_conv[0][0]        \n",
            "__________________________________________________________________________________________________\n",
            "conv3_block1_1_relu (Activation (None, 28, 28, 128)  0           conv3_block1_1_bn[0][0]          \n",
            "__________________________________________________________________________________________________\n",
            "conv3_block1_2_pad (ZeroPadding (None, 30, 30, 128)  0           conv3_block1_1_relu[0][0]        \n",
            "__________________________________________________________________________________________________\n",
            "conv3_block1_2_conv (Conv2D)    (None, 28, 28, 128)  147456      conv3_block1_2_pad[0][0]         \n",
            "__________________________________________________________________________________________________\n",
            "conv3_block1_2_bn (BatchNormali (None, 28, 28, 128)  512         conv3_block1_2_conv[0][0]        \n",
            "__________________________________________________________________________________________________\n",
            "conv3_block1_2_relu (Activation (None, 28, 28, 128)  0           conv3_block1_2_bn[0][0]          \n",
            "__________________________________________________________________________________________________\n",
            "conv3_block1_0_conv (Conv2D)    (None, 28, 28, 512)  131584      conv3_block1_preact_relu[0][0]   \n",
            "__________________________________________________________________________________________________\n",
            "conv3_block1_3_conv (Conv2D)    (None, 28, 28, 512)  66048       conv3_block1_2_relu[0][0]        \n",
            "__________________________________________________________________________________________________\n",
            "conv3_block1_out (Add)          (None, 28, 28, 512)  0           conv3_block1_0_conv[0][0]        \n",
            "                                                                 conv3_block1_3_conv[0][0]        \n",
            "__________________________________________________________________________________________________\n",
            "conv3_block2_preact_bn (BatchNo (None, 28, 28, 512)  2048        conv3_block1_out[0][0]           \n",
            "__________________________________________________________________________________________________\n",
            "conv3_block2_preact_relu (Activ (None, 28, 28, 512)  0           conv3_block2_preact_bn[0][0]     \n",
            "__________________________________________________________________________________________________\n",
            "conv3_block2_1_conv (Conv2D)    (None, 28, 28, 128)  65536       conv3_block2_preact_relu[0][0]   \n",
            "__________________________________________________________________________________________________\n",
            "conv3_block2_1_bn (BatchNormali (None, 28, 28, 128)  512         conv3_block2_1_conv[0][0]        \n",
            "__________________________________________________________________________________________________\n",
            "conv3_block2_1_relu (Activation (None, 28, 28, 128)  0           conv3_block2_1_bn[0][0]          \n",
            "__________________________________________________________________________________________________\n",
            "conv3_block2_2_pad (ZeroPadding (None, 30, 30, 128)  0           conv3_block2_1_relu[0][0]        \n",
            "__________________________________________________________________________________________________\n",
            "conv3_block2_2_conv (Conv2D)    (None, 28, 28, 128)  147456      conv3_block2_2_pad[0][0]         \n",
            "__________________________________________________________________________________________________\n",
            "conv3_block2_2_bn (BatchNormali (None, 28, 28, 128)  512         conv3_block2_2_conv[0][0]        \n",
            "__________________________________________________________________________________________________\n",
            "conv3_block2_2_relu (Activation (None, 28, 28, 128)  0           conv3_block2_2_bn[0][0]          \n",
            "__________________________________________________________________________________________________\n",
            "conv3_block2_3_conv (Conv2D)    (None, 28, 28, 512)  66048       conv3_block2_2_relu[0][0]        \n",
            "__________________________________________________________________________________________________\n",
            "conv3_block2_out (Add)          (None, 28, 28, 512)  0           conv3_block1_out[0][0]           \n",
            "                                                                 conv3_block2_3_conv[0][0]        \n",
            "__________________________________________________________________________________________________\n",
            "conv3_block3_preact_bn (BatchNo (None, 28, 28, 512)  2048        conv3_block2_out[0][0]           \n",
            "__________________________________________________________________________________________________\n",
            "conv3_block3_preact_relu (Activ (None, 28, 28, 512)  0           conv3_block3_preact_bn[0][0]     \n",
            "__________________________________________________________________________________________________\n",
            "conv3_block3_1_conv (Conv2D)    (None, 28, 28, 128)  65536       conv3_block3_preact_relu[0][0]   \n",
            "__________________________________________________________________________________________________\n",
            "conv3_block3_1_bn (BatchNormali (None, 28, 28, 128)  512         conv3_block3_1_conv[0][0]        \n",
            "__________________________________________________________________________________________________\n",
            "conv3_block3_1_relu (Activation (None, 28, 28, 128)  0           conv3_block3_1_bn[0][0]          \n",
            "__________________________________________________________________________________________________\n",
            "conv3_block3_2_pad (ZeroPadding (None, 30, 30, 128)  0           conv3_block3_1_relu[0][0]        \n",
            "__________________________________________________________________________________________________\n",
            "conv3_block3_2_conv (Conv2D)    (None, 28, 28, 128)  147456      conv3_block3_2_pad[0][0]         \n",
            "__________________________________________________________________________________________________\n",
            "conv3_block3_2_bn (BatchNormali (None, 28, 28, 128)  512         conv3_block3_2_conv[0][0]        \n",
            "__________________________________________________________________________________________________\n",
            "conv3_block3_2_relu (Activation (None, 28, 28, 128)  0           conv3_block3_2_bn[0][0]          \n",
            "__________________________________________________________________________________________________\n",
            "conv3_block3_3_conv (Conv2D)    (None, 28, 28, 512)  66048       conv3_block3_2_relu[0][0]        \n",
            "__________________________________________________________________________________________________\n",
            "conv3_block3_out (Add)          (None, 28, 28, 512)  0           conv3_block2_out[0][0]           \n",
            "                                                                 conv3_block3_3_conv[0][0]        \n",
            "__________________________________________________________________________________________________\n",
            "conv3_block4_preact_bn (BatchNo (None, 28, 28, 512)  2048        conv3_block3_out[0][0]           \n",
            "__________________________________________________________________________________________________\n",
            "conv3_block4_preact_relu (Activ (None, 28, 28, 512)  0           conv3_block4_preact_bn[0][0]     \n",
            "__________________________________________________________________________________________________\n",
            "conv3_block4_1_conv (Conv2D)    (None, 28, 28, 128)  65536       conv3_block4_preact_relu[0][0]   \n",
            "__________________________________________________________________________________________________\n",
            "conv3_block4_1_bn (BatchNormali (None, 28, 28, 128)  512         conv3_block4_1_conv[0][0]        \n",
            "__________________________________________________________________________________________________\n",
            "conv3_block4_1_relu (Activation (None, 28, 28, 128)  0           conv3_block4_1_bn[0][0]          \n",
            "__________________________________________________________________________________________________\n",
            "conv3_block4_2_pad (ZeroPadding (None, 30, 30, 128)  0           conv3_block4_1_relu[0][0]        \n",
            "__________________________________________________________________________________________________\n",
            "conv3_block4_2_conv (Conv2D)    (None, 14, 14, 128)  147456      conv3_block4_2_pad[0][0]         \n",
            "__________________________________________________________________________________________________\n",
            "conv3_block4_2_bn (BatchNormali (None, 14, 14, 128)  512         conv3_block4_2_conv[0][0]        \n",
            "__________________________________________________________________________________________________\n",
            "conv3_block4_2_relu (Activation (None, 14, 14, 128)  0           conv3_block4_2_bn[0][0]          \n",
            "__________________________________________________________________________________________________\n",
            "max_pooling2d_7 (MaxPooling2D)  (None, 14, 14, 512)  0           conv3_block3_out[0][0]           \n",
            "__________________________________________________________________________________________________\n",
            "conv3_block4_3_conv (Conv2D)    (None, 14, 14, 512)  66048       conv3_block4_2_relu[0][0]        \n",
            "__________________________________________________________________________________________________\n",
            "conv3_block4_out (Add)          (None, 14, 14, 512)  0           max_pooling2d_7[0][0]            \n",
            "                                                                 conv3_block4_3_conv[0][0]        \n",
            "__________________________________________________________________________________________________\n",
            "conv4_block1_preact_bn (BatchNo (None, 14, 14, 512)  2048        conv3_block4_out[0][0]           \n",
            "__________________________________________________________________________________________________\n",
            "conv4_block1_preact_relu (Activ (None, 14, 14, 512)  0           conv4_block1_preact_bn[0][0]     \n",
            "__________________________________________________________________________________________________\n",
            "conv4_block1_1_conv (Conv2D)    (None, 14, 14, 256)  131072      conv4_block1_preact_relu[0][0]   \n",
            "__________________________________________________________________________________________________\n",
            "conv4_block1_1_bn (BatchNormali (None, 14, 14, 256)  1024        conv4_block1_1_conv[0][0]        \n",
            "__________________________________________________________________________________________________\n",
            "conv4_block1_1_relu (Activation (None, 14, 14, 256)  0           conv4_block1_1_bn[0][0]          \n",
            "__________________________________________________________________________________________________\n",
            "conv4_block1_2_pad (ZeroPadding (None, 16, 16, 256)  0           conv4_block1_1_relu[0][0]        \n",
            "__________________________________________________________________________________________________\n",
            "conv4_block1_2_conv (Conv2D)    (None, 14, 14, 256)  589824      conv4_block1_2_pad[0][0]         \n",
            "__________________________________________________________________________________________________\n",
            "conv4_block1_2_bn (BatchNormali (None, 14, 14, 256)  1024        conv4_block1_2_conv[0][0]        \n",
            "__________________________________________________________________________________________________\n",
            "conv4_block1_2_relu (Activation (None, 14, 14, 256)  0           conv4_block1_2_bn[0][0]          \n",
            "__________________________________________________________________________________________________\n",
            "conv4_block1_0_conv (Conv2D)    (None, 14, 14, 1024) 525312      conv4_block1_preact_relu[0][0]   \n",
            "__________________________________________________________________________________________________\n",
            "conv4_block1_3_conv (Conv2D)    (None, 14, 14, 1024) 263168      conv4_block1_2_relu[0][0]        \n",
            "__________________________________________________________________________________________________\n",
            "conv4_block1_out (Add)          (None, 14, 14, 1024) 0           conv4_block1_0_conv[0][0]        \n",
            "                                                                 conv4_block1_3_conv[0][0]        \n",
            "__________________________________________________________________________________________________\n",
            "conv4_block2_preact_bn (BatchNo (None, 14, 14, 1024) 4096        conv4_block1_out[0][0]           \n",
            "__________________________________________________________________________________________________\n",
            "conv4_block2_preact_relu (Activ (None, 14, 14, 1024) 0           conv4_block2_preact_bn[0][0]     \n",
            "__________________________________________________________________________________________________\n",
            "conv4_block2_1_conv (Conv2D)    (None, 14, 14, 256)  262144      conv4_block2_preact_relu[0][0]   \n",
            "__________________________________________________________________________________________________\n",
            "conv4_block2_1_bn (BatchNormali (None, 14, 14, 256)  1024        conv4_block2_1_conv[0][0]        \n",
            "__________________________________________________________________________________________________\n",
            "conv4_block2_1_relu (Activation (None, 14, 14, 256)  0           conv4_block2_1_bn[0][0]          \n",
            "__________________________________________________________________________________________________\n",
            "conv4_block2_2_pad (ZeroPadding (None, 16, 16, 256)  0           conv4_block2_1_relu[0][0]        \n",
            "__________________________________________________________________________________________________\n",
            "conv4_block2_2_conv (Conv2D)    (None, 14, 14, 256)  589824      conv4_block2_2_pad[0][0]         \n",
            "__________________________________________________________________________________________________\n",
            "conv4_block2_2_bn (BatchNormali (None, 14, 14, 256)  1024        conv4_block2_2_conv[0][0]        \n",
            "__________________________________________________________________________________________________\n",
            "conv4_block2_2_relu (Activation (None, 14, 14, 256)  0           conv4_block2_2_bn[0][0]          \n",
            "__________________________________________________________________________________________________\n",
            "conv4_block2_3_conv (Conv2D)    (None, 14, 14, 1024) 263168      conv4_block2_2_relu[0][0]        \n",
            "__________________________________________________________________________________________________\n",
            "conv4_block2_out (Add)          (None, 14, 14, 1024) 0           conv4_block1_out[0][0]           \n",
            "                                                                 conv4_block2_3_conv[0][0]        \n",
            "__________________________________________________________________________________________________\n",
            "conv4_block3_preact_bn (BatchNo (None, 14, 14, 1024) 4096        conv4_block2_out[0][0]           \n",
            "__________________________________________________________________________________________________\n",
            "conv4_block3_preact_relu (Activ (None, 14, 14, 1024) 0           conv4_block3_preact_bn[0][0]     \n",
            "__________________________________________________________________________________________________\n",
            "conv4_block3_1_conv (Conv2D)    (None, 14, 14, 256)  262144      conv4_block3_preact_relu[0][0]   \n",
            "__________________________________________________________________________________________________\n",
            "conv4_block3_1_bn (BatchNormali (None, 14, 14, 256)  1024        conv4_block3_1_conv[0][0]        \n",
            "__________________________________________________________________________________________________\n",
            "conv4_block3_1_relu (Activation (None, 14, 14, 256)  0           conv4_block3_1_bn[0][0]          \n",
            "__________________________________________________________________________________________________\n",
            "conv4_block3_2_pad (ZeroPadding (None, 16, 16, 256)  0           conv4_block3_1_relu[0][0]        \n",
            "__________________________________________________________________________________________________\n",
            "conv4_block3_2_conv (Conv2D)    (None, 14, 14, 256)  589824      conv4_block3_2_pad[0][0]         \n",
            "__________________________________________________________________________________________________\n",
            "conv4_block3_2_bn (BatchNormali (None, 14, 14, 256)  1024        conv4_block3_2_conv[0][0]        \n",
            "__________________________________________________________________________________________________\n",
            "conv4_block3_2_relu (Activation (None, 14, 14, 256)  0           conv4_block3_2_bn[0][0]          \n",
            "__________________________________________________________________________________________________\n",
            "conv4_block3_3_conv (Conv2D)    (None, 14, 14, 1024) 263168      conv4_block3_2_relu[0][0]        \n",
            "__________________________________________________________________________________________________\n",
            "conv4_block3_out (Add)          (None, 14, 14, 1024) 0           conv4_block2_out[0][0]           \n",
            "                                                                 conv4_block3_3_conv[0][0]        \n",
            "__________________________________________________________________________________________________\n",
            "conv4_block4_preact_bn (BatchNo (None, 14, 14, 1024) 4096        conv4_block3_out[0][0]           \n",
            "__________________________________________________________________________________________________\n",
            "conv4_block4_preact_relu (Activ (None, 14, 14, 1024) 0           conv4_block4_preact_bn[0][0]     \n",
            "__________________________________________________________________________________________________\n",
            "conv4_block4_1_conv (Conv2D)    (None, 14, 14, 256)  262144      conv4_block4_preact_relu[0][0]   \n",
            "__________________________________________________________________________________________________\n",
            "conv4_block4_1_bn (BatchNormali (None, 14, 14, 256)  1024        conv4_block4_1_conv[0][0]        \n",
            "__________________________________________________________________________________________________\n",
            "conv4_block4_1_relu (Activation (None, 14, 14, 256)  0           conv4_block4_1_bn[0][0]          \n",
            "__________________________________________________________________________________________________\n",
            "conv4_block4_2_pad (ZeroPadding (None, 16, 16, 256)  0           conv4_block4_1_relu[0][0]        \n",
            "__________________________________________________________________________________________________\n",
            "conv4_block4_2_conv (Conv2D)    (None, 14, 14, 256)  589824      conv4_block4_2_pad[0][0]         \n",
            "__________________________________________________________________________________________________\n",
            "conv4_block4_2_bn (BatchNormali (None, 14, 14, 256)  1024        conv4_block4_2_conv[0][0]        \n",
            "__________________________________________________________________________________________________\n",
            "conv4_block4_2_relu (Activation (None, 14, 14, 256)  0           conv4_block4_2_bn[0][0]          \n",
            "__________________________________________________________________________________________________\n",
            "conv4_block4_3_conv (Conv2D)    (None, 14, 14, 1024) 263168      conv4_block4_2_relu[0][0]        \n",
            "__________________________________________________________________________________________________\n",
            "conv4_block4_out (Add)          (None, 14, 14, 1024) 0           conv4_block3_out[0][0]           \n",
            "                                                                 conv4_block4_3_conv[0][0]        \n",
            "__________________________________________________________________________________________________\n",
            "conv4_block5_preact_bn (BatchNo (None, 14, 14, 1024) 4096        conv4_block4_out[0][0]           \n",
            "__________________________________________________________________________________________________\n",
            "conv4_block5_preact_relu (Activ (None, 14, 14, 1024) 0           conv4_block5_preact_bn[0][0]     \n",
            "__________________________________________________________________________________________________\n",
            "conv4_block5_1_conv (Conv2D)    (None, 14, 14, 256)  262144      conv4_block5_preact_relu[0][0]   \n",
            "__________________________________________________________________________________________________\n",
            "conv4_block5_1_bn (BatchNormali (None, 14, 14, 256)  1024        conv4_block5_1_conv[0][0]        \n",
            "__________________________________________________________________________________________________\n",
            "conv4_block5_1_relu (Activation (None, 14, 14, 256)  0           conv4_block5_1_bn[0][0]          \n",
            "__________________________________________________________________________________________________\n",
            "conv4_block5_2_pad (ZeroPadding (None, 16, 16, 256)  0           conv4_block5_1_relu[0][0]        \n",
            "__________________________________________________________________________________________________\n",
            "conv4_block5_2_conv (Conv2D)    (None, 14, 14, 256)  589824      conv4_block5_2_pad[0][0]         \n",
            "__________________________________________________________________________________________________\n",
            "conv4_block5_2_bn (BatchNormali (None, 14, 14, 256)  1024        conv4_block5_2_conv[0][0]        \n",
            "__________________________________________________________________________________________________\n",
            "conv4_block5_2_relu (Activation (None, 14, 14, 256)  0           conv4_block5_2_bn[0][0]          \n",
            "__________________________________________________________________________________________________\n",
            "conv4_block5_3_conv (Conv2D)    (None, 14, 14, 1024) 263168      conv4_block5_2_relu[0][0]        \n",
            "__________________________________________________________________________________________________\n",
            "conv4_block5_out (Add)          (None, 14, 14, 1024) 0           conv4_block4_out[0][0]           \n",
            "                                                                 conv4_block5_3_conv[0][0]        \n",
            "__________________________________________________________________________________________________\n",
            "conv4_block6_preact_bn (BatchNo (None, 14, 14, 1024) 4096        conv4_block5_out[0][0]           \n",
            "__________________________________________________________________________________________________\n",
            "conv4_block6_preact_relu (Activ (None, 14, 14, 1024) 0           conv4_block6_preact_bn[0][0]     \n",
            "__________________________________________________________________________________________________\n",
            "conv4_block6_1_conv (Conv2D)    (None, 14, 14, 256)  262144      conv4_block6_preact_relu[0][0]   \n",
            "__________________________________________________________________________________________________\n",
            "conv4_block6_1_bn (BatchNormali (None, 14, 14, 256)  1024        conv4_block6_1_conv[0][0]        \n",
            "__________________________________________________________________________________________________\n",
            "conv4_block6_1_relu (Activation (None, 14, 14, 256)  0           conv4_block6_1_bn[0][0]          \n",
            "__________________________________________________________________________________________________\n",
            "conv4_block6_2_pad (ZeroPadding (None, 16, 16, 256)  0           conv4_block6_1_relu[0][0]        \n",
            "__________________________________________________________________________________________________\n",
            "conv4_block6_2_conv (Conv2D)    (None, 7, 7, 256)    589824      conv4_block6_2_pad[0][0]         \n",
            "__________________________________________________________________________________________________\n",
            "conv4_block6_2_bn (BatchNormali (None, 7, 7, 256)    1024        conv4_block6_2_conv[0][0]        \n",
            "__________________________________________________________________________________________________\n",
            "conv4_block6_2_relu (Activation (None, 7, 7, 256)    0           conv4_block6_2_bn[0][0]          \n",
            "__________________________________________________________________________________________________\n",
            "max_pooling2d_8 (MaxPooling2D)  (None, 7, 7, 1024)   0           conv4_block5_out[0][0]           \n",
            "__________________________________________________________________________________________________\n",
            "conv4_block6_3_conv (Conv2D)    (None, 7, 7, 1024)   263168      conv4_block6_2_relu[0][0]        \n",
            "__________________________________________________________________________________________________\n",
            "conv4_block6_out (Add)          (None, 7, 7, 1024)   0           max_pooling2d_8[0][0]            \n",
            "                                                                 conv4_block6_3_conv[0][0]        \n",
            "__________________________________________________________________________________________________\n",
            "conv5_block1_preact_bn (BatchNo (None, 7, 7, 1024)   4096        conv4_block6_out[0][0]           \n",
            "__________________________________________________________________________________________________\n",
            "conv5_block1_preact_relu (Activ (None, 7, 7, 1024)   0           conv5_block1_preact_bn[0][0]     \n",
            "__________________________________________________________________________________________________\n",
            "conv5_block1_1_conv (Conv2D)    (None, 7, 7, 512)    524288      conv5_block1_preact_relu[0][0]   \n",
            "__________________________________________________________________________________________________\n",
            "conv5_block1_1_bn (BatchNormali (None, 7, 7, 512)    2048        conv5_block1_1_conv[0][0]        \n",
            "__________________________________________________________________________________________________\n",
            "conv5_block1_1_relu (Activation (None, 7, 7, 512)    0           conv5_block1_1_bn[0][0]          \n",
            "__________________________________________________________________________________________________\n",
            "conv5_block1_2_pad (ZeroPadding (None, 9, 9, 512)    0           conv5_block1_1_relu[0][0]        \n",
            "__________________________________________________________________________________________________\n",
            "conv5_block1_2_conv (Conv2D)    (None, 7, 7, 512)    2359296     conv5_block1_2_pad[0][0]         \n",
            "__________________________________________________________________________________________________\n",
            "conv5_block1_2_bn (BatchNormali (None, 7, 7, 512)    2048        conv5_block1_2_conv[0][0]        \n",
            "__________________________________________________________________________________________________\n",
            "conv5_block1_2_relu (Activation (None, 7, 7, 512)    0           conv5_block1_2_bn[0][0]          \n",
            "__________________________________________________________________________________________________\n",
            "conv5_block1_0_conv (Conv2D)    (None, 7, 7, 2048)   2099200     conv5_block1_preact_relu[0][0]   \n",
            "__________________________________________________________________________________________________\n",
            "conv5_block1_3_conv (Conv2D)    (None, 7, 7, 2048)   1050624     conv5_block1_2_relu[0][0]        \n",
            "__________________________________________________________________________________________________\n",
            "conv5_block1_out (Add)          (None, 7, 7, 2048)   0           conv5_block1_0_conv[0][0]        \n",
            "                                                                 conv5_block1_3_conv[0][0]        \n",
            "__________________________________________________________________________________________________\n",
            "conv5_block2_preact_bn (BatchNo (None, 7, 7, 2048)   8192        conv5_block1_out[0][0]           \n",
            "__________________________________________________________________________________________________\n",
            "conv5_block2_preact_relu (Activ (None, 7, 7, 2048)   0           conv5_block2_preact_bn[0][0]     \n",
            "__________________________________________________________________________________________________\n",
            "conv5_block2_1_conv (Conv2D)    (None, 7, 7, 512)    1048576     conv5_block2_preact_relu[0][0]   \n",
            "__________________________________________________________________________________________________\n",
            "conv5_block2_1_bn (BatchNormali (None, 7, 7, 512)    2048        conv5_block2_1_conv[0][0]        \n",
            "__________________________________________________________________________________________________\n",
            "conv5_block2_1_relu (Activation (None, 7, 7, 512)    0           conv5_block2_1_bn[0][0]          \n",
            "__________________________________________________________________________________________________\n",
            "conv5_block2_2_pad (ZeroPadding (None, 9, 9, 512)    0           conv5_block2_1_relu[0][0]        \n",
            "__________________________________________________________________________________________________\n",
            "conv5_block2_2_conv (Conv2D)    (None, 7, 7, 512)    2359296     conv5_block2_2_pad[0][0]         \n",
            "__________________________________________________________________________________________________\n",
            "conv5_block2_2_bn (BatchNormali (None, 7, 7, 512)    2048        conv5_block2_2_conv[0][0]        \n",
            "__________________________________________________________________________________________________\n",
            "conv5_block2_2_relu (Activation (None, 7, 7, 512)    0           conv5_block2_2_bn[0][0]          \n",
            "__________________________________________________________________________________________________\n",
            "conv5_block2_3_conv (Conv2D)    (None, 7, 7, 2048)   1050624     conv5_block2_2_relu[0][0]        \n",
            "__________________________________________________________________________________________________\n",
            "conv5_block2_out (Add)          (None, 7, 7, 2048)   0           conv5_block1_out[0][0]           \n",
            "                                                                 conv5_block2_3_conv[0][0]        \n",
            "__________________________________________________________________________________________________\n",
            "conv5_block3_preact_bn (BatchNo (None, 7, 7, 2048)   8192        conv5_block2_out[0][0]           \n",
            "__________________________________________________________________________________________________\n",
            "conv5_block3_preact_relu (Activ (None, 7, 7, 2048)   0           conv5_block3_preact_bn[0][0]     \n",
            "__________________________________________________________________________________________________\n",
            "conv5_block3_1_conv (Conv2D)    (None, 7, 7, 512)    1048576     conv5_block3_preact_relu[0][0]   \n",
            "__________________________________________________________________________________________________\n",
            "conv5_block3_1_bn (BatchNormali (None, 7, 7, 512)    2048        conv5_block3_1_conv[0][0]        \n",
            "__________________________________________________________________________________________________\n",
            "conv5_block3_1_relu (Activation (None, 7, 7, 512)    0           conv5_block3_1_bn[0][0]          \n",
            "__________________________________________________________________________________________________\n",
            "conv5_block3_2_pad (ZeroPadding (None, 9, 9, 512)    0           conv5_block3_1_relu[0][0]        \n",
            "__________________________________________________________________________________________________\n",
            "conv5_block3_2_conv (Conv2D)    (None, 7, 7, 512)    2359296     conv5_block3_2_pad[0][0]         \n",
            "__________________________________________________________________________________________________\n",
            "conv5_block3_2_bn (BatchNormali (None, 7, 7, 512)    2048        conv5_block3_2_conv[0][0]        \n",
            "__________________________________________________________________________________________________\n",
            "conv5_block3_2_relu (Activation (None, 7, 7, 512)    0           conv5_block3_2_bn[0][0]          \n",
            "__________________________________________________________________________________________________\n",
            "conv5_block3_3_conv (Conv2D)    (None, 7, 7, 2048)   1050624     conv5_block3_2_relu[0][0]        \n",
            "__________________________________________________________________________________________________\n",
            "conv5_block3_out (Add)          (None, 7, 7, 2048)   0           conv5_block2_out[0][0]           \n",
            "                                                                 conv5_block3_3_conv[0][0]        \n",
            "__________________________________________________________________________________________________\n",
            "post_bn (BatchNormalization)    (None, 7, 7, 2048)   8192        conv5_block3_out[0][0]           \n",
            "__________________________________________________________________________________________________\n",
            "post_relu (Activation)          (None, 7, 7, 2048)   0           post_bn[0][0]                    \n",
            "__________________________________________________________________________________________________\n",
            "avg_pool (GlobalAveragePooling2 (None, 2048)         0           post_relu[0][0]                  \n",
            "==================================================================================================\n",
            "Total params: 23,564,800\n",
            "Trainable params: 0\n",
            "Non-trainable params: 23,564,800\n",
            "__________________________________________________________________________________________________\n"
          ],
          "name": "stdout"
        }
      ]
    },
    {
      "cell_type": "code",
      "metadata": {
        "colab_type": "code",
        "id": "5_mseANrbLW2",
        "colab": {
          "base_uri": "https://localhost:8080/",
          "height": 225
        },
        "outputId": "0067b23b-8c8f-44f8-dd42-2b64eb94af41"
      },
      "source": [
        "optimizer = Adam(lr=1e-4)\n",
        "model.compile(optimizer=optimizer,loss='sparse_categorical_crossentropy', metrics=['accuracy'])\n",
        "model.summary()"
      ],
      "execution_count": null,
      "outputs": [
        {
          "output_type": "stream",
          "text": [
            "Model: \"sequential_2\"\n",
            "_________________________________________________________________\n",
            "Layer (type)                 Output Shape              Param #   \n",
            "=================================================================\n",
            "resnet50v2 (Model)           (None, 2048)              23564800  \n",
            "_________________________________________________________________\n",
            "dense_2 (Dense)              (None, 102)               208998    \n",
            "=================================================================\n",
            "Total params: 23,773,798\n",
            "Trainable params: 208,998\n",
            "Non-trainable params: 23,564,800\n",
            "_________________________________________________________________\n"
          ],
          "name": "stdout"
        }
      ]
    },
    {
      "cell_type": "code",
      "metadata": {
        "colab_type": "code",
        "id": "7lj8WcKTbLW6",
        "colab": {
          "base_uri": "https://localhost:8080/",
          "height": 1000
        },
        "outputId": "5a6ba8ea-8a3c-4368-c480-10e3f21aad62"
      },
      "source": [
        "history = model_trainer.train_model(model, train_ds, val_ds, epochs=30)"
      ],
      "execution_count": null,
      "outputs": [
        {
          "output_type": "stream",
          "text": [
            "Batch size: 16\n",
            "Training dataset size: 818 - Training steps per epoch: 51\n",
            "Validation dataset size: 2454 - Validation steps per epoch: 153\n",
            "Epoch 1/30\n",
            "51/51 [==============================] - 11s 223ms/step - loss: 5.1618 - accuracy: 0.0282 - val_loss: 4.7602 - val_accuracy: 0.0486\n",
            "Epoch 2/30\n",
            "51/51 [==============================] - 9s 184ms/step - loss: 4.4966 - accuracy: 0.0637 - val_loss: 4.3408 - val_accuracy: 0.0760\n",
            "Epoch 3/30\n",
            "51/51 [==============================] - 9s 185ms/step - loss: 4.0454 - accuracy: 0.1189 - val_loss: 4.0055 - val_accuracy: 0.1189\n",
            "Epoch 4/30\n",
            "51/51 [==============================] - 10s 186ms/step - loss: 3.6337 - accuracy: 0.1949 - val_loss: 3.7214 - val_accuracy: 0.1712\n",
            "Epoch 5/30\n",
            "51/51 [==============================] - 10s 188ms/step - loss: 3.3015 - accuracy: 0.2659 - val_loss: 3.4684 - val_accuracy: 0.2259\n",
            "Epoch 6/30\n",
            "51/51 [==============================] - 10s 188ms/step - loss: 3.0296 - accuracy: 0.3419 - val_loss: 3.2471 - val_accuracy: 0.2815\n",
            "Epoch 7/30\n",
            "51/51 [==============================] - 10s 187ms/step - loss: 2.7484 - accuracy: 0.4056 - val_loss: 3.0500 - val_accuracy: 0.3346\n",
            "Epoch 8/30\n",
            "51/51 [==============================] - 9s 185ms/step - loss: 2.5142 - accuracy: 0.5086 - val_loss: 2.8780 - val_accuracy: 0.3717\n",
            "Epoch 9/30\n",
            "51/51 [==============================] - 9s 185ms/step - loss: 2.2827 - accuracy: 0.5637 - val_loss: 2.7238 - val_accuracy: 0.4105\n",
            "Epoch 10/30\n",
            "51/51 [==============================] - 9s 185ms/step - loss: 2.1307 - accuracy: 0.6066 - val_loss: 2.5894 - val_accuracy: 0.4489\n",
            "Epoch 11/30\n",
            "51/51 [==============================] - 9s 185ms/step - loss: 1.9757 - accuracy: 0.6716 - val_loss: 2.4686 - val_accuracy: 0.4767\n",
            "Epoch 12/30\n",
            "51/51 [==============================] - 9s 184ms/step - loss: 1.8018 - accuracy: 0.7169 - val_loss: 2.3642 - val_accuracy: 0.5025\n",
            "Epoch 13/30\n",
            "51/51 [==============================] - 9s 186ms/step - loss: 1.6498 - accuracy: 0.7537 - val_loss: 2.2689 - val_accuracy: 0.5278\n",
            "Epoch 14/30\n",
            "51/51 [==============================] - 9s 186ms/step - loss: 1.5624 - accuracy: 0.7806 - val_loss: 2.1815 - val_accuracy: 0.5498\n",
            "Epoch 15/30\n",
            "51/51 [==============================] - 9s 186ms/step - loss: 1.4750 - accuracy: 0.7978 - val_loss: 2.1047 - val_accuracy: 0.5678\n",
            "Epoch 16/30\n",
            "51/51 [==============================] - 9s 186ms/step - loss: 1.3392 - accuracy: 0.8419 - val_loss: 2.0337 - val_accuracy: 0.5850\n",
            "Epoch 17/30\n",
            "51/51 [==============================] - 10s 188ms/step - loss: 1.2834 - accuracy: 0.8333 - val_loss: 1.9699 - val_accuracy: 0.5927\n",
            "Epoch 18/30\n",
            "51/51 [==============================] - 9s 186ms/step - loss: 1.1812 - accuracy: 0.8762 - val_loss: 1.9107 - val_accuracy: 0.6091\n",
            "Epoch 19/30\n",
            "51/51 [==============================] - 9s 186ms/step - loss: 1.1259 - accuracy: 0.8787 - val_loss: 1.8585 - val_accuracy: 0.6160\n",
            "Epoch 20/30\n",
            "51/51 [==============================] - 9s 185ms/step - loss: 1.0488 - accuracy: 0.8971 - val_loss: 1.8086 - val_accuracy: 0.6291\n",
            "Epoch 21/30\n",
            "51/51 [==============================] - 9s 186ms/step - loss: 1.0241 - accuracy: 0.8958 - val_loss: 1.7637 - val_accuracy: 0.6340\n",
            "Epoch 22/30\n",
            "51/51 [==============================] - 9s 185ms/step - loss: 0.9367 - accuracy: 0.9154 - val_loss: 1.7234 - val_accuracy: 0.6405\n",
            "Epoch 23/30\n",
            "51/51 [==============================] - 9s 186ms/step - loss: 0.9095 - accuracy: 0.9105 - val_loss: 1.6844 - val_accuracy: 0.6487\n",
            "Epoch 24/30\n",
            "51/51 [==============================] - 9s 185ms/step - loss: 0.8277 - accuracy: 0.9326 - val_loss: 1.6482 - val_accuracy: 0.6540\n",
            "Epoch 25/30\n",
            "51/51 [==============================] - 9s 186ms/step - loss: 0.8123 - accuracy: 0.9436 - val_loss: 1.6169 - val_accuracy: 0.6589\n",
            "Epoch 26/30\n",
            "51/51 [==============================] - 9s 186ms/step - loss: 0.7539 - accuracy: 0.9461 - val_loss: 1.5865 - val_accuracy: 0.6614\n",
            "Epoch 27/30\n",
            "51/51 [==============================] - 9s 186ms/step - loss: 0.7366 - accuracy: 0.9412 - val_loss: 1.5565 - val_accuracy: 0.6703\n",
            "Epoch 28/30\n",
            "51/51 [==============================] - 9s 185ms/step - loss: 0.6934 - accuracy: 0.9583 - val_loss: 1.5265 - val_accuracy: 0.6769\n",
            "Epoch 29/30\n",
            "51/51 [==============================] - 9s 186ms/step - loss: 0.6625 - accuracy: 0.9596 - val_loss: 1.5033 - val_accuracy: 0.6744\n",
            "Epoch 30/30\n",
            "51/51 [==============================] - 9s 186ms/step - loss: 0.6481 - accuracy: 0.9510 - val_loss: 1.4804 - val_accuracy: 0.6871\n"
          ],
          "name": "stdout"
        }
      ]
    },
    {
      "cell_type": "code",
      "metadata": {
        "colab_type": "code",
        "id": "e9JS_otWbLXA",
        "colab": {}
      },
      "source": [
        "save_model_weights(model, 'resnet50v2_fe_aug')"
      ],
      "execution_count": null,
      "outputs": []
    },
    {
      "cell_type": "code",
      "metadata": {
        "colab_type": "code",
        "id": "rNuYVgilbLXE",
        "colab": {
          "base_uri": "https://localhost:8080/",
          "height": 390
        },
        "outputId": "0187eaf1-9186-4f04-efa8-ef9d1b964af4"
      },
      "source": [
        "plot_curves(history)"
      ],
      "execution_count": null,
      "outputs": [
        {
          "output_type": "display_data",
          "data": {
            "image/png": "[encoded data removed]",
            "text/plain": [
              "<Figure size 1296x432 with 2 Axes>"
            ]
          },
          "metadata": {
            "tags": [],
            "needs_background": "light"
          }
        }
      ]
    },
    {
      "cell_type": "code",
      "metadata": {
        "colab_type": "code",
        "id": "t-COFWw8bLXI",
        "colab": {
          "base_uri": "https://localhost:8080/",
          "height": 104
        },
        "outputId": "3f75d7ee-773a-418c-8108-4e4fc3a56c61"
      },
      "source": [
        "show_scores(model, test_ds)"
      ],
      "execution_count": null,
      "outputs": [
        {
          "output_type": "stream",
          "text": [
            "|Average prediction time: 6.91 ms\n",
            "|Average Type |Prec |Rec |F1\n",
            "|--- |--- |--- |---\n",
            "|Micro|0.68|0.68|0.68\n",
            "|Macro|0.72|0.63|0.64\n"
          ],
          "name": "stdout"
        }
      ]
    },
    {
      "cell_type": "markdown",
      "metadata": {
        "colab_type": "text",
        "id": "mJzt9bkCbLXM"
      },
      "source": [
        "### Fine-tuning **with** data augmentation\n"
      ]
    },
    {
      "cell_type": "code",
      "metadata": {
        "colab_type": "code",
        "id": "DuqB1TCabLXN",
        "colab": {}
      },
      "source": [
        "train_ds = np_to_dataset(X_train, y_train, training=True, augmentation=True, batch_size=BATCH_SIZE)\n",
        "val_ds = np_to_dataset(X_val, y_val, training=False, batch_size=BATCH_SIZE)\n",
        "test_ds = np_to_dataset(X_test, y_test, training=False, batch_size=1)"
      ],
      "execution_count": null,
      "outputs": []
    },
    {
      "cell_type": "code",
      "metadata": {
        "colab_type": "code",
        "id": "DxlW3oJlbLXR",
        "colab": {}
      },
      "source": [
        "model = create_resnet50v2_model()\n",
        "load_model_weights(model, 'resnet50v2_fe_aug')"
      ],
      "execution_count": null,
      "outputs": []
    },
    {
      "cell_type": "code",
      "metadata": {
        "colab_type": "code",
        "id": "eUO-1UOsbLXU",
        "colab": {
          "base_uri": "https://localhost:8080/",
          "height": 225
        },
        "outputId": "6b0ffa83-42f4-48ad-9085-08130dc4c923"
      },
      "source": [
        "model.summary()"
      ],
      "execution_count": null,
      "outputs": [
        {
          "output_type": "stream",
          "text": [
            "Model: \"sequential_3\"\n",
            "_________________________________________________________________\n",
            "Layer (type)                 Output Shape              Param #   \n",
            "=================================================================\n",
            "resnet50v2 (Model)           (None, 2048)              23564800  \n",
            "_________________________________________________________________\n",
            "dense_3 (Dense)              (None, 102)               208998    \n",
            "=================================================================\n",
            "Total params: 23,773,798\n",
            "Trainable params: 23,728,358\n",
            "Non-trainable params: 45,440\n",
            "_________________________________________________________________\n"
          ],
          "name": "stdout"
        }
      ]
    },
    {
      "cell_type": "markdown",
      "metadata": {
        "colab_type": "text",
        "id": "xFPzinClbLXY"
      },
      "source": [
        "Unfreeze block conv_5 and post_bn layer of the convolutional base, as well as the classifier"
      ]
    },
    {
      "cell_type": "code",
      "metadata": {
        "colab_type": "code",
        "id": "ocB5aF1EbLXZ",
        "colab": {}
      },
      "source": [
        "conv_base = model.get_layer('resnet50v2')\n",
        "classifier = model.get_layer('dense_3')\n",
        "\n",
        "# Freeze convolutional base\n",
        "freeze_model(conv_base)\n",
        "\n",
        "# Unfreeze the last few layers of the convolutional base\n",
        "for layer in conv_base.layers:\n",
        "  if layer.name.startswith('conv5_block3') or layer.name.startswith('post'):\n",
        "    layer.trainable = True"
      ],
      "execution_count": null,
      "outputs": []
    },
    {
      "cell_type": "code",
      "metadata": {
        "colab_type": "code",
        "id": "EUQncqsqbLXd",
        "colab": {
          "base_uri": "https://localhost:8080/",
          "height": 225
        },
        "outputId": "e40398c7-39a5-4158-8e08-5d2afd9e88a9"
      },
      "source": [
        "# Compile with lower learning rate\n",
        "optimizer = Adam(lr=1e-5)\n",
        "model.compile(optimizer=optimizer,loss='sparse_categorical_crossentropy', metrics=['accuracy'])\n",
        "model.summary()"
      ],
      "execution_count": null,
      "outputs": [
        {
          "output_type": "stream",
          "text": [
            "Model: \"sequential_3\"\n",
            "_________________________________________________________________\n",
            "Layer (type)                 Output Shape              Param #   \n",
            "=================================================================\n",
            "resnet50v2 (Model)           (None, 2048)              23564800  \n",
            "_________________________________________________________________\n",
            "dense_3 (Dense)              (None, 102)               208998    \n",
            "=================================================================\n",
            "Total params: 23,773,798\n",
            "Trainable params: 4,677,734\n",
            "Non-trainable params: 19,096,064\n",
            "_________________________________________________________________\n"
          ],
          "name": "stdout"
        }
      ]
    },
    {
      "cell_type": "code",
      "metadata": {
        "colab_type": "code",
        "id": "-PdZ69tRbLXg",
        "colab": {
          "base_uri": "https://localhost:8080/",
          "height": 1000
        },
        "outputId": "2533b895-46b7-4445-d973-30ea7397257c"
      },
      "source": [
        "history = model_trainer.train_model(model, train_ds, val_ds, epochs=100)"
      ],
      "execution_count": null,
      "outputs": [
        {
          "output_type": "stream",
          "text": [
            "Batch size: 16\n",
            "Training dataset size: 818 - Training steps per epoch: 51\n",
            "Validation dataset size: 2454 - Validation steps per epoch: 153\n",
            "Epoch 1/100\n",
            "51/51 [==============================] - 12s 240ms/step - loss: 1.0518 - accuracy: 0.7819 - val_loss: 1.4180 - val_accuracy: 0.6430\n",
            "Epoch 2/100\n",
            "51/51 [==============================] - 10s 194ms/step - loss: 0.2638 - accuracy: 0.9559 - val_loss: 0.9504 - val_accuracy: 0.7390\n",
            "Epoch 3/100\n",
            "51/51 [==============================] - 10s 195ms/step - loss: 0.1269 - accuracy: 0.9828 - val_loss: 0.8434 - val_accuracy: 0.7717\n",
            "Epoch 4/100\n",
            "51/51 [==============================] - 10s 196ms/step - loss: 0.0789 - accuracy: 0.9914 - val_loss: 0.8099 - val_accuracy: 0.7831\n",
            "Epoch 5/100\n",
            "51/51 [==============================] - 10s 196ms/step - loss: 0.0546 - accuracy: 0.9975 - val_loss: 0.7855 - val_accuracy: 0.7941\n",
            "Epoch 6/100\n",
            "51/51 [==============================] - 10s 195ms/step - loss: 0.0411 - accuracy: 0.9975 - val_loss: 0.7631 - val_accuracy: 0.7941\n",
            "Epoch 7/100\n",
            "51/51 [==============================] - 10s 194ms/step - loss: 0.0330 - accuracy: 0.9988 - val_loss: 0.7606 - val_accuracy: 0.8002\n",
            "Epoch 8/100\n",
            "51/51 [==============================] - 10s 193ms/step - loss: 0.0202 - accuracy: 1.0000 - val_loss: 0.7473 - val_accuracy: 0.8039\n",
            "Epoch 9/100\n",
            "51/51 [==============================] - 10s 194ms/step - loss: 0.0166 - accuracy: 1.0000 - val_loss: 0.7348 - val_accuracy: 0.8092\n",
            "Epoch 10/100\n",
            "51/51 [==============================] - 10s 190ms/step - loss: 0.0137 - accuracy: 1.0000 - val_loss: 0.7348 - val_accuracy: 0.8064\n",
            "Epoch 11/100\n",
            "51/51 [==============================] - 10s 192ms/step - loss: 0.0108 - accuracy: 1.0000 - val_loss: 0.7331 - val_accuracy: 0.8117\n",
            "Epoch 12/100\n",
            "51/51 [==============================] - 10s 194ms/step - loss: 0.0103 - accuracy: 1.0000 - val_loss: 0.7266 - val_accuracy: 0.8113\n",
            "Epoch 13/100\n",
            "51/51 [==============================] - 10s 194ms/step - loss: 0.0098 - accuracy: 1.0000 - val_loss: 0.7236 - val_accuracy: 0.8109\n",
            "Epoch 14/100\n",
            "51/51 [==============================] - 10s 193ms/step - loss: 0.0087 - accuracy: 1.0000 - val_loss: 0.7323 - val_accuracy: 0.8064\n",
            "Epoch 15/100\n",
            "51/51 [==============================] - 10s 193ms/step - loss: 0.0091 - accuracy: 0.9988 - val_loss: 0.7402 - val_accuracy: 0.8064\n",
            "Epoch 16/100\n",
            "51/51 [==============================] - 10s 192ms/step - loss: 0.0082 - accuracy: 1.0000 - val_loss: 0.7390 - val_accuracy: 0.8084\n",
            "Epoch 17/100\n",
            "51/51 [==============================] - 10s 192ms/step - loss: 0.0068 - accuracy: 1.0000 - val_loss: 0.7289 - val_accuracy: 0.8068\n",
            "Epoch 18/100\n",
            "51/51 [==============================] - 10s 195ms/step - loss: 0.0066 - accuracy: 1.0000 - val_loss: 0.7158 - val_accuracy: 0.8133\n",
            "Epoch 19/100\n",
            "51/51 [==============================] - 10s 194ms/step - loss: 0.0062 - accuracy: 1.0000 - val_loss: 0.7146 - val_accuracy: 0.8158\n",
            "Epoch 20/100\n",
            "51/51 [==============================] - 10s 192ms/step - loss: 0.0057 - accuracy: 1.0000 - val_loss: 0.7167 - val_accuracy: 0.8129\n",
            "Epoch 21/100\n",
            "51/51 [==============================] - 10s 194ms/step - loss: 0.0048 - accuracy: 1.0000 - val_loss: 0.7086 - val_accuracy: 0.8158\n",
            "Epoch 22/100\n",
            "51/51 [==============================] - 10s 195ms/step - loss: 0.0044 - accuracy: 1.0000 - val_loss: 0.7071 - val_accuracy: 0.8154\n",
            "Epoch 23/100\n",
            "51/51 [==============================] - 10s 195ms/step - loss: 0.0039 - accuracy: 1.0000 - val_loss: 0.7066 - val_accuracy: 0.8174\n",
            "Epoch 24/100\n",
            "51/51 [==============================] - 10s 192ms/step - loss: 0.0032 - accuracy: 1.0000 - val_loss: 0.7087 - val_accuracy: 0.8121\n",
            "Epoch 25/100\n",
            "51/51 [==============================] - 10s 192ms/step - loss: 0.0039 - accuracy: 1.0000 - val_loss: 0.7091 - val_accuracy: 0.8145\n",
            "Epoch 26/100\n",
            "51/51 [==============================] - 10s 191ms/step - loss: 0.0033 - accuracy: 1.0000 - val_loss: 0.7085 - val_accuracy: 0.8162\n",
            "Epoch 27/100\n",
            "51/51 [==============================] - 10s 192ms/step - loss: 0.0039 - accuracy: 1.0000 - val_loss: 0.7190 - val_accuracy: 0.8105\n",
            "Epoch 28/100\n",
            "51/51 [==============================] - 10s 191ms/step - loss: 0.0026 - accuracy: 1.0000 - val_loss: 0.7126 - val_accuracy: 0.8166\n",
            "Epoch 29/100\n",
            "51/51 [==============================] - 10s 192ms/step - loss: 0.0038 - accuracy: 1.0000 - val_loss: 0.7175 - val_accuracy: 0.8141\n",
            "Epoch 30/100\n",
            "51/51 [==============================] - 10s 192ms/step - loss: 0.0059 - accuracy: 0.9975 - val_loss: 0.7162 - val_accuracy: 0.8150\n",
            "Epoch 31/100\n",
            "51/51 [==============================] - 10s 191ms/step - loss: 0.0035 - accuracy: 1.0000 - val_loss: 0.7111 - val_accuracy: 0.8141\n",
            "Epoch 32/100\n",
            "51/51 [==============================] - 10s 192ms/step - loss: 0.0026 - accuracy: 1.0000 - val_loss: 0.7176 - val_accuracy: 0.8109\n",
            "Epoch 33/100\n",
            "51/51 [==============================] - 10s 193ms/step - loss: 0.0024 - accuracy: 1.0000 - val_loss: 0.7245 - val_accuracy: 0.8100\n"
          ],
          "name": "stdout"
        }
      ]
    },
    {
      "cell_type": "code",
      "metadata": {
        "colab_type": "code",
        "id": "ntpU3YoubLXm",
        "colab": {}
      },
      "source": [
        "save_model_weights(model, 'resnet50v2_ft_aug')"
      ],
      "execution_count": null,
      "outputs": []
    },
    {
      "cell_type": "code",
      "metadata": {
        "colab_type": "code",
        "id": "Z5QhuV9EbLXq",
        "colab": {
          "base_uri": "https://localhost:8080/",
          "height": 390
        },
        "outputId": "61ccfc85-961d-4ca6-dfc2-9ac1a9051b51"
      },
      "source": [
        "plot_curves(history)"
      ],
      "execution_count": null,
      "outputs": [
        {
          "output_type": "display_data",
          "data": {
            "image/png": "[encoded data removed]",
            "text/plain": [
              "<Figure size 1296x432 with 2 Axes>"
            ]
          },
          "metadata": {
            "tags": [],
            "needs_background": "light"
          }
        }
      ]
    },
    {
      "cell_type": "code",
      "metadata": {
        "colab_type": "code",
        "id": "iCLp6IbhbLXs",
        "colab": {
          "base_uri": "https://localhost:8080/",
          "height": 104
        },
        "outputId": "958a1b76-0189-46d1-b0f0-eebba8b031f6"
      },
      "source": [
        "show_scores(model, test_ds)"
      ],
      "execution_count": null,
      "outputs": [
        {
          "output_type": "stream",
          "text": [
            "|Average prediction time: 6.92 ms\n",
            "|Average Type |Prec |Rec |F1\n",
            "|--- |--- |--- |---\n",
            "|Micro|0.81|0.81|0.81\n",
            "|Macro|0.82|0.78|0.79\n"
          ],
          "name": "stdout"
        }
      ]
    }
  ]
}